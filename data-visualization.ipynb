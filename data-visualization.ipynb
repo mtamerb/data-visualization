{
 "cells": [
  {
   "cell_type": "code",
   "execution_count": 1,
   "id": "8637024d",
   "metadata": {
    "execution": {
     "iopub.execute_input": "2023-07-30T14:57:20.288268Z",
     "iopub.status.busy": "2023-07-30T14:57:20.287807Z",
     "iopub.status.idle": "2023-07-30T14:57:20.293025Z",
     "shell.execute_reply": "2023-07-30T14:57:20.292128Z"
    },
    "papermill": {
     "duration": 0.029597,
     "end_time": "2023-07-30T14:57:20.296144",
     "exception": false,
     "start_time": "2023-07-30T14:57:20.266547",
     "status": "completed"
    },
    "tags": []
   },
   "outputs": [],
   "source": [
    "# https://www.kaggle.com/datasets/shivam2503/diamonds "
   ]
  },
  {
   "cell_type": "code",
   "execution_count": 2,
   "id": "67294209",
   "metadata": {
    "_cell_guid": "b1076dfc-b9ad-4769-8c92-a6c4dae69d19",
    "_uuid": "8f2839f25d086af736a60e9eeb907d3b93b6e0e5",
    "execution": {
     "iopub.execute_input": "2023-07-30T14:57:20.335816Z",
     "iopub.status.busy": "2023-07-30T14:57:20.335489Z",
     "iopub.status.idle": "2023-07-30T14:57:20.339644Z",
     "shell.execute_reply": "2023-07-30T14:57:20.338663Z"
    },
    "papermill": {
     "duration": 0.026365,
     "end_time": "2023-07-30T14:57:20.341759",
     "exception": false,
     "start_time": "2023-07-30T14:57:20.315394",
     "status": "completed"
    },
    "tags": []
   },
   "outputs": [],
   "source": [
    "# libraries  : matplotlib - pandas - seaborn - ggplot - bokeh - plot.ly"
   ]
  },
  {
   "cell_type": "code",
   "execution_count": 3,
   "id": "723c8bec",
   "metadata": {
    "execution": {
     "iopub.execute_input": "2023-07-30T14:57:20.381342Z",
     "iopub.status.busy": "2023-07-30T14:57:20.381012Z",
     "iopub.status.idle": "2023-07-30T14:57:20.385569Z",
     "shell.execute_reply": "2023-07-30T14:57:20.384550Z"
    },
    "papermill": {
     "duration": 0.027528,
     "end_time": "2023-07-30T14:57:20.388066",
     "exception": false,
     "start_time": "2023-07-30T14:57:20.360538",
     "status": "completed"
    },
    "tags": []
   },
   "outputs": [],
   "source": [
    "# a first look at data"
   ]
  },
  {
   "cell_type": "code",
   "execution_count": 4,
   "id": "e58fd0a4",
   "metadata": {
    "execution": {
     "iopub.execute_input": "2023-07-30T14:57:20.427401Z",
     "iopub.status.busy": "2023-07-30T14:57:20.426985Z",
     "iopub.status.idle": "2023-07-30T14:57:22.262000Z",
     "shell.execute_reply": "2023-07-30T14:57:22.260941Z"
    },
    "papermill": {
     "duration": 1.85729,
     "end_time": "2023-07-30T14:57:22.264244",
     "exception": false,
     "start_time": "2023-07-30T14:57:20.406954",
     "status": "completed"
    },
    "tags": []
   },
   "outputs": [
    {
     "name": "stderr",
     "output_type": "stream",
     "text": [
      "/opt/conda/lib/python3.10/site-packages/scipy/__init__.py:146: UserWarning: A NumPy version >=1.16.5 and <1.23.0 is required for this version of SciPy (detected version 1.23.5\n",
      "  warnings.warn(f\"A NumPy version >={np_minversion} and <{np_maxversion}\"\n"
     ]
    },
    {
     "data": {
      "text/html": [
       "<div>\n",
       "<style scoped>\n",
       "    .dataframe tbody tr th:only-of-type {\n",
       "        vertical-align: middle;\n",
       "    }\n",
       "\n",
       "    .dataframe tbody tr th {\n",
       "        vertical-align: top;\n",
       "    }\n",
       "\n",
       "    .dataframe thead th {\n",
       "        text-align: right;\n",
       "    }\n",
       "</style>\n",
       "<table border=\"1\" class=\"dataframe\">\n",
       "  <thead>\n",
       "    <tr style=\"text-align: right;\">\n",
       "      <th></th>\n",
       "      <th>method</th>\n",
       "      <th>number</th>\n",
       "      <th>orbital_period</th>\n",
       "      <th>mass</th>\n",
       "      <th>distance</th>\n",
       "      <th>year</th>\n",
       "    </tr>\n",
       "  </thead>\n",
       "  <tbody>\n",
       "    <tr>\n",
       "      <th>0</th>\n",
       "      <td>Radial Velocity</td>\n",
       "      <td>1</td>\n",
       "      <td>269.300</td>\n",
       "      <td>7.10</td>\n",
       "      <td>77.40</td>\n",
       "      <td>2006</td>\n",
       "    </tr>\n",
       "    <tr>\n",
       "      <th>1</th>\n",
       "      <td>Radial Velocity</td>\n",
       "      <td>1</td>\n",
       "      <td>874.774</td>\n",
       "      <td>2.21</td>\n",
       "      <td>56.95</td>\n",
       "      <td>2008</td>\n",
       "    </tr>\n",
       "    <tr>\n",
       "      <th>2</th>\n",
       "      <td>Radial Velocity</td>\n",
       "      <td>1</td>\n",
       "      <td>763.000</td>\n",
       "      <td>2.60</td>\n",
       "      <td>19.84</td>\n",
       "      <td>2011</td>\n",
       "    </tr>\n",
       "    <tr>\n",
       "      <th>3</th>\n",
       "      <td>Radial Velocity</td>\n",
       "      <td>1</td>\n",
       "      <td>326.030</td>\n",
       "      <td>19.40</td>\n",
       "      <td>110.62</td>\n",
       "      <td>2007</td>\n",
       "    </tr>\n",
       "    <tr>\n",
       "      <th>4</th>\n",
       "      <td>Radial Velocity</td>\n",
       "      <td>1</td>\n",
       "      <td>516.220</td>\n",
       "      <td>10.50</td>\n",
       "      <td>119.47</td>\n",
       "      <td>2009</td>\n",
       "    </tr>\n",
       "  </tbody>\n",
       "</table>\n",
       "</div>"
      ],
      "text/plain": [
       "            method  number  orbital_period   mass  distance  year\n",
       "0  Radial Velocity       1         269.300   7.10     77.40  2006\n",
       "1  Radial Velocity       1         874.774   2.21     56.95  2008\n",
       "2  Radial Velocity       1         763.000   2.60     19.84  2011\n",
       "3  Radial Velocity       1         326.030  19.40    110.62  2007\n",
       "4  Radial Velocity       1         516.220  10.50    119.47  2009"
      ]
     },
     "execution_count": 4,
     "metadata": {},
     "output_type": "execute_result"
    }
   ],
   "source": [
    "import seaborn as sns\n",
    "\n",
    "planets = sns.load_dataset(\"planets\")\n",
    "planets.head()"
   ]
  },
  {
   "cell_type": "code",
   "execution_count": 5,
   "id": "948e19ec",
   "metadata": {
    "execution": {
     "iopub.execute_input": "2023-07-30T14:57:22.306663Z",
     "iopub.status.busy": "2023-07-30T14:57:22.305120Z",
     "iopub.status.idle": "2023-07-30T14:57:22.310929Z",
     "shell.execute_reply": "2023-07-30T14:57:22.310071Z"
    },
    "papermill": {
     "duration": 0.028253,
     "end_time": "2023-07-30T14:57:22.312955",
     "exception": false,
     "start_time": "2023-07-30T14:57:22.284702",
     "status": "completed"
    },
    "tags": []
   },
   "outputs": [],
   "source": [
    "df = planets.copy()"
   ]
  },
  {
   "cell_type": "code",
   "execution_count": 6,
   "id": "c070a775",
   "metadata": {
    "execution": {
     "iopub.execute_input": "2023-07-30T14:57:22.353221Z",
     "iopub.status.busy": "2023-07-30T14:57:22.352863Z",
     "iopub.status.idle": "2023-07-30T14:57:22.365719Z",
     "shell.execute_reply": "2023-07-30T14:57:22.364810Z"
    },
    "papermill": {
     "duration": 0.035652,
     "end_time": "2023-07-30T14:57:22.367855",
     "exception": false,
     "start_time": "2023-07-30T14:57:22.332203",
     "status": "completed"
    },
    "tags": []
   },
   "outputs": [
    {
     "data": {
      "text/html": [
       "<div>\n",
       "<style scoped>\n",
       "    .dataframe tbody tr th:only-of-type {\n",
       "        vertical-align: middle;\n",
       "    }\n",
       "\n",
       "    .dataframe tbody tr th {\n",
       "        vertical-align: top;\n",
       "    }\n",
       "\n",
       "    .dataframe thead th {\n",
       "        text-align: right;\n",
       "    }\n",
       "</style>\n",
       "<table border=\"1\" class=\"dataframe\">\n",
       "  <thead>\n",
       "    <tr style=\"text-align: right;\">\n",
       "      <th></th>\n",
       "      <th>method</th>\n",
       "      <th>number</th>\n",
       "      <th>orbital_period</th>\n",
       "      <th>mass</th>\n",
       "      <th>distance</th>\n",
       "      <th>year</th>\n",
       "    </tr>\n",
       "  </thead>\n",
       "  <tbody>\n",
       "    <tr>\n",
       "      <th>0</th>\n",
       "      <td>Radial Velocity</td>\n",
       "      <td>1</td>\n",
       "      <td>269.300</td>\n",
       "      <td>7.10</td>\n",
       "      <td>77.40</td>\n",
       "      <td>2006</td>\n",
       "    </tr>\n",
       "    <tr>\n",
       "      <th>1</th>\n",
       "      <td>Radial Velocity</td>\n",
       "      <td>1</td>\n",
       "      <td>874.774</td>\n",
       "      <td>2.21</td>\n",
       "      <td>56.95</td>\n",
       "      <td>2008</td>\n",
       "    </tr>\n",
       "    <tr>\n",
       "      <th>2</th>\n",
       "      <td>Radial Velocity</td>\n",
       "      <td>1</td>\n",
       "      <td>763.000</td>\n",
       "      <td>2.60</td>\n",
       "      <td>19.84</td>\n",
       "      <td>2011</td>\n",
       "    </tr>\n",
       "    <tr>\n",
       "      <th>3</th>\n",
       "      <td>Radial Velocity</td>\n",
       "      <td>1</td>\n",
       "      <td>326.030</td>\n",
       "      <td>19.40</td>\n",
       "      <td>110.62</td>\n",
       "      <td>2007</td>\n",
       "    </tr>\n",
       "    <tr>\n",
       "      <th>4</th>\n",
       "      <td>Radial Velocity</td>\n",
       "      <td>1</td>\n",
       "      <td>516.220</td>\n",
       "      <td>10.50</td>\n",
       "      <td>119.47</td>\n",
       "      <td>2009</td>\n",
       "    </tr>\n",
       "  </tbody>\n",
       "</table>\n",
       "</div>"
      ],
      "text/plain": [
       "            method  number  orbital_period   mass  distance  year\n",
       "0  Radial Velocity       1         269.300   7.10     77.40  2006\n",
       "1  Radial Velocity       1         874.774   2.21     56.95  2008\n",
       "2  Radial Velocity       1         763.000   2.60     19.84  2011\n",
       "3  Radial Velocity       1         326.030  19.40    110.62  2007\n",
       "4  Radial Velocity       1         516.220  10.50    119.47  2009"
      ]
     },
     "execution_count": 6,
     "metadata": {},
     "output_type": "execute_result"
    }
   ],
   "source": [
    "df.head()"
   ]
  },
  {
   "cell_type": "code",
   "execution_count": 7,
   "id": "4f5d1dbc",
   "metadata": {
    "execution": {
     "iopub.execute_input": "2023-07-30T14:57:22.409975Z",
     "iopub.status.busy": "2023-07-30T14:57:22.408926Z",
     "iopub.status.idle": "2023-07-30T14:57:22.421418Z",
     "shell.execute_reply": "2023-07-30T14:57:22.420410Z"
    },
    "papermill": {
     "duration": 0.03551,
     "end_time": "2023-07-30T14:57:22.423918",
     "exception": false,
     "start_time": "2023-07-30T14:57:22.388408",
     "status": "completed"
    },
    "tags": []
   },
   "outputs": [
    {
     "data": {
      "text/html": [
       "<div>\n",
       "<style scoped>\n",
       "    .dataframe tbody tr th:only-of-type {\n",
       "        vertical-align: middle;\n",
       "    }\n",
       "\n",
       "    .dataframe tbody tr th {\n",
       "        vertical-align: top;\n",
       "    }\n",
       "\n",
       "    .dataframe thead th {\n",
       "        text-align: right;\n",
       "    }\n",
       "</style>\n",
       "<table border=\"1\" class=\"dataframe\">\n",
       "  <thead>\n",
       "    <tr style=\"text-align: right;\">\n",
       "      <th></th>\n",
       "      <th>method</th>\n",
       "      <th>number</th>\n",
       "      <th>orbital_period</th>\n",
       "      <th>mass</th>\n",
       "      <th>distance</th>\n",
       "      <th>year</th>\n",
       "    </tr>\n",
       "  </thead>\n",
       "  <tbody>\n",
       "    <tr>\n",
       "      <th>1030</th>\n",
       "      <td>Transit</td>\n",
       "      <td>1</td>\n",
       "      <td>3.941507</td>\n",
       "      <td>NaN</td>\n",
       "      <td>172.0</td>\n",
       "      <td>2006</td>\n",
       "    </tr>\n",
       "    <tr>\n",
       "      <th>1031</th>\n",
       "      <td>Transit</td>\n",
       "      <td>1</td>\n",
       "      <td>2.615864</td>\n",
       "      <td>NaN</td>\n",
       "      <td>148.0</td>\n",
       "      <td>2007</td>\n",
       "    </tr>\n",
       "    <tr>\n",
       "      <th>1032</th>\n",
       "      <td>Transit</td>\n",
       "      <td>1</td>\n",
       "      <td>3.191524</td>\n",
       "      <td>NaN</td>\n",
       "      <td>174.0</td>\n",
       "      <td>2007</td>\n",
       "    </tr>\n",
       "    <tr>\n",
       "      <th>1033</th>\n",
       "      <td>Transit</td>\n",
       "      <td>1</td>\n",
       "      <td>4.125083</td>\n",
       "      <td>NaN</td>\n",
       "      <td>293.0</td>\n",
       "      <td>2008</td>\n",
       "    </tr>\n",
       "    <tr>\n",
       "      <th>1034</th>\n",
       "      <td>Transit</td>\n",
       "      <td>1</td>\n",
       "      <td>4.187757</td>\n",
       "      <td>NaN</td>\n",
       "      <td>260.0</td>\n",
       "      <td>2008</td>\n",
       "    </tr>\n",
       "  </tbody>\n",
       "</table>\n",
       "</div>"
      ],
      "text/plain": [
       "       method  number  orbital_period  mass  distance  year\n",
       "1030  Transit       1        3.941507   NaN     172.0  2006\n",
       "1031  Transit       1        2.615864   NaN     148.0  2007\n",
       "1032  Transit       1        3.191524   NaN     174.0  2007\n",
       "1033  Transit       1        4.125083   NaN     293.0  2008\n",
       "1034  Transit       1        4.187757   NaN     260.0  2008"
      ]
     },
     "execution_count": 7,
     "metadata": {},
     "output_type": "execute_result"
    }
   ],
   "source": [
    "df.tail()"
   ]
  },
  {
   "cell_type": "code",
   "execution_count": 8,
   "id": "98b80a6e",
   "metadata": {
    "execution": {
     "iopub.execute_input": "2023-07-30T14:57:22.468214Z",
     "iopub.status.busy": "2023-07-30T14:57:22.466523Z",
     "iopub.status.idle": "2023-07-30T14:57:22.471730Z",
     "shell.execute_reply": "2023-07-30T14:57:22.470821Z"
    },
    "papermill": {
     "duration": 0.0284,
     "end_time": "2023-07-30T14:57:22.473740",
     "exception": false,
     "start_time": "2023-07-30T14:57:22.445340",
     "status": "completed"
    },
    "tags": []
   },
   "outputs": [],
   "source": [
    "# Structural info"
   ]
  },
  {
   "cell_type": "code",
   "execution_count": 9,
   "id": "cee82684",
   "metadata": {
    "execution": {
     "iopub.execute_input": "2023-07-30T14:57:22.515262Z",
     "iopub.status.busy": "2023-07-30T14:57:22.514902Z",
     "iopub.status.idle": "2023-07-30T14:57:22.535391Z",
     "shell.execute_reply": "2023-07-30T14:57:22.533916Z"
    },
    "papermill": {
     "duration": 0.043829,
     "end_time": "2023-07-30T14:57:22.537554",
     "exception": false,
     "start_time": "2023-07-30T14:57:22.493725",
     "status": "completed"
    },
    "tags": []
   },
   "outputs": [
    {
     "name": "stdout",
     "output_type": "stream",
     "text": [
      "<class 'pandas.core.frame.DataFrame'>\n",
      "RangeIndex: 1035 entries, 0 to 1034\n",
      "Data columns (total 6 columns):\n",
      " #   Column          Non-Null Count  Dtype  \n",
      "---  ------          --------------  -----  \n",
      " 0   method          1035 non-null   object \n",
      " 1   number          1035 non-null   int64  \n",
      " 2   orbital_period  992 non-null    float64\n",
      " 3   mass            513 non-null    float64\n",
      " 4   distance        808 non-null    float64\n",
      " 5   year            1035 non-null   int64  \n",
      "dtypes: float64(3), int64(2), object(1)\n",
      "memory usage: 48.6+ KB\n"
     ]
    }
   ],
   "source": [
    "df.info()"
   ]
  },
  {
   "cell_type": "code",
   "execution_count": 10,
   "id": "09d68b2d",
   "metadata": {
    "execution": {
     "iopub.execute_input": "2023-07-30T14:57:22.579370Z",
     "iopub.status.busy": "2023-07-30T14:57:22.578466Z",
     "iopub.status.idle": "2023-07-30T14:57:22.586316Z",
     "shell.execute_reply": "2023-07-30T14:57:22.585276Z"
    },
    "papermill": {
     "duration": 0.030999,
     "end_time": "2023-07-30T14:57:22.588423",
     "exception": false,
     "start_time": "2023-07-30T14:57:22.557424",
     "status": "completed"
    },
    "tags": []
   },
   "outputs": [
    {
     "data": {
      "text/plain": [
       "method             object\n",
       "number              int64\n",
       "orbital_period    float64\n",
       "mass              float64\n",
       "distance          float64\n",
       "year                int64\n",
       "dtype: object"
      ]
     },
     "execution_count": 10,
     "metadata": {},
     "output_type": "execute_result"
    }
   ],
   "source": [
    "df.dtypes"
   ]
  },
  {
   "cell_type": "code",
   "execution_count": 11,
   "id": "64edaccc",
   "metadata": {
    "execution": {
     "iopub.execute_input": "2023-07-30T14:57:22.631116Z",
     "iopub.status.busy": "2023-07-30T14:57:22.630037Z",
     "iopub.status.idle": "2023-07-30T14:57:22.636122Z",
     "shell.execute_reply": "2023-07-30T14:57:22.635193Z"
    },
    "papermill": {
     "duration": 0.029789,
     "end_time": "2023-07-30T14:57:22.638159",
     "exception": false,
     "start_time": "2023-07-30T14:57:22.608370",
     "status": "completed"
    },
    "tags": []
   },
   "outputs": [],
   "source": [
    "import pandas as pd\n",
    "df.method = pd.Categorical(df.method)"
   ]
  },
  {
   "cell_type": "code",
   "execution_count": 12,
   "id": "8477b37e",
   "metadata": {
    "execution": {
     "iopub.execute_input": "2023-07-30T14:57:22.680376Z",
     "iopub.status.busy": "2023-07-30T14:57:22.679428Z",
     "iopub.status.idle": "2023-07-30T14:57:22.687246Z",
     "shell.execute_reply": "2023-07-30T14:57:22.686222Z"
    },
    "papermill": {
     "duration": 0.031241,
     "end_time": "2023-07-30T14:57:22.689290",
     "exception": false,
     "start_time": "2023-07-30T14:57:22.658049",
     "status": "completed"
    },
    "tags": []
   },
   "outputs": [
    {
     "data": {
      "text/plain": [
       "method            category\n",
       "number               int64\n",
       "orbital_period     float64\n",
       "mass               float64\n",
       "distance           float64\n",
       "year                 int64\n",
       "dtype: object"
      ]
     },
     "execution_count": 12,
     "metadata": {},
     "output_type": "execute_result"
    }
   ],
   "source": [
    "df.dtypes"
   ]
  },
  {
   "cell_type": "code",
   "execution_count": 13,
   "id": "88cca2f9",
   "metadata": {
    "execution": {
     "iopub.execute_input": "2023-07-30T14:57:22.731929Z",
     "iopub.status.busy": "2023-07-30T14:57:22.730990Z",
     "iopub.status.idle": "2023-07-30T14:57:22.745514Z",
     "shell.execute_reply": "2023-07-30T14:57:22.744520Z"
    },
    "papermill": {
     "duration": 0.038165,
     "end_time": "2023-07-30T14:57:22.747658",
     "exception": false,
     "start_time": "2023-07-30T14:57:22.709493",
     "status": "completed"
    },
    "tags": []
   },
   "outputs": [
    {
     "data": {
      "text/html": [
       "<div>\n",
       "<style scoped>\n",
       "    .dataframe tbody tr th:only-of-type {\n",
       "        vertical-align: middle;\n",
       "    }\n",
       "\n",
       "    .dataframe tbody tr th {\n",
       "        vertical-align: top;\n",
       "    }\n",
       "\n",
       "    .dataframe thead th {\n",
       "        text-align: right;\n",
       "    }\n",
       "</style>\n",
       "<table border=\"1\" class=\"dataframe\">\n",
       "  <thead>\n",
       "    <tr style=\"text-align: right;\">\n",
       "      <th></th>\n",
       "      <th>method</th>\n",
       "      <th>number</th>\n",
       "      <th>orbital_period</th>\n",
       "      <th>mass</th>\n",
       "      <th>distance</th>\n",
       "      <th>year</th>\n",
       "    </tr>\n",
       "  </thead>\n",
       "  <tbody>\n",
       "    <tr>\n",
       "      <th>0</th>\n",
       "      <td>Radial Velocity</td>\n",
       "      <td>1</td>\n",
       "      <td>269.300</td>\n",
       "      <td>7.10</td>\n",
       "      <td>77.40</td>\n",
       "      <td>2006</td>\n",
       "    </tr>\n",
       "    <tr>\n",
       "      <th>1</th>\n",
       "      <td>Radial Velocity</td>\n",
       "      <td>1</td>\n",
       "      <td>874.774</td>\n",
       "      <td>2.21</td>\n",
       "      <td>56.95</td>\n",
       "      <td>2008</td>\n",
       "    </tr>\n",
       "    <tr>\n",
       "      <th>2</th>\n",
       "      <td>Radial Velocity</td>\n",
       "      <td>1</td>\n",
       "      <td>763.000</td>\n",
       "      <td>2.60</td>\n",
       "      <td>19.84</td>\n",
       "      <td>2011</td>\n",
       "    </tr>\n",
       "    <tr>\n",
       "      <th>3</th>\n",
       "      <td>Radial Velocity</td>\n",
       "      <td>1</td>\n",
       "      <td>326.030</td>\n",
       "      <td>19.40</td>\n",
       "      <td>110.62</td>\n",
       "      <td>2007</td>\n",
       "    </tr>\n",
       "    <tr>\n",
       "      <th>4</th>\n",
       "      <td>Radial Velocity</td>\n",
       "      <td>1</td>\n",
       "      <td>516.220</td>\n",
       "      <td>10.50</td>\n",
       "      <td>119.47</td>\n",
       "      <td>2009</td>\n",
       "    </tr>\n",
       "  </tbody>\n",
       "</table>\n",
       "</div>"
      ],
      "text/plain": [
       "            method  number  orbital_period   mass  distance  year\n",
       "0  Radial Velocity       1         269.300   7.10     77.40  2006\n",
       "1  Radial Velocity       1         874.774   2.21     56.95  2008\n",
       "2  Radial Velocity       1         763.000   2.60     19.84  2011\n",
       "3  Radial Velocity       1         326.030  19.40    110.62  2007\n",
       "4  Radial Velocity       1         516.220  10.50    119.47  2009"
      ]
     },
     "execution_count": 13,
     "metadata": {},
     "output_type": "execute_result"
    }
   ],
   "source": [
    "df.head()"
   ]
  },
  {
   "cell_type": "code",
   "execution_count": 14,
   "id": "a0e2ec65",
   "metadata": {
    "execution": {
     "iopub.execute_input": "2023-07-30T14:57:22.795244Z",
     "iopub.status.busy": "2023-07-30T14:57:22.794916Z",
     "iopub.status.idle": "2023-07-30T14:57:22.799123Z",
     "shell.execute_reply": "2023-07-30T14:57:22.798043Z"
    },
    "papermill": {
     "duration": 0.032292,
     "end_time": "2023-07-30T14:57:22.801299",
     "exception": false,
     "start_time": "2023-07-30T14:57:22.769007",
     "status": "completed"
    },
    "tags": []
   },
   "outputs": [],
   "source": [
    "# Describe dataset"
   ]
  },
  {
   "cell_type": "code",
   "execution_count": 15,
   "id": "049c0be4",
   "metadata": {
    "execution": {
     "iopub.execute_input": "2023-07-30T14:57:22.843588Z",
     "iopub.status.busy": "2023-07-30T14:57:22.843242Z",
     "iopub.status.idle": "2023-07-30T14:57:22.849701Z",
     "shell.execute_reply": "2023-07-30T14:57:22.848790Z"
    },
    "papermill": {
     "duration": 0.030796,
     "end_time": "2023-07-30T14:57:22.852303",
     "exception": false,
     "start_time": "2023-07-30T14:57:22.821507",
     "status": "completed"
    },
    "tags": []
   },
   "outputs": [
    {
     "data": {
      "text/plain": [
       "(1035, 6)"
      ]
     },
     "execution_count": 15,
     "metadata": {},
     "output_type": "execute_result"
    }
   ],
   "source": [
    "df.shape"
   ]
  },
  {
   "cell_type": "code",
   "execution_count": 16,
   "id": "0813b7cd",
   "metadata": {
    "execution": {
     "iopub.execute_input": "2023-07-30T14:57:22.895342Z",
     "iopub.status.busy": "2023-07-30T14:57:22.894450Z",
     "iopub.status.idle": "2023-07-30T14:57:22.901501Z",
     "shell.execute_reply": "2023-07-30T14:57:22.900398Z"
    },
    "papermill": {
     "duration": 0.030841,
     "end_time": "2023-07-30T14:57:22.903620",
     "exception": false,
     "start_time": "2023-07-30T14:57:22.872779",
     "status": "completed"
    },
    "tags": []
   },
   "outputs": [
    {
     "data": {
      "text/plain": [
       "Index(['method', 'number', 'orbital_period', 'mass', 'distance', 'year'], dtype='object')"
      ]
     },
     "execution_count": 16,
     "metadata": {},
     "output_type": "execute_result"
    }
   ],
   "source": [
    "df.columns"
   ]
  },
  {
   "cell_type": "code",
   "execution_count": 17,
   "id": "8d13aba6",
   "metadata": {
    "execution": {
     "iopub.execute_input": "2023-07-30T14:57:22.946990Z",
     "iopub.status.busy": "2023-07-30T14:57:22.945948Z",
     "iopub.status.idle": "2023-07-30T14:57:22.974816Z",
     "shell.execute_reply": "2023-07-30T14:57:22.973836Z"
    },
    "papermill": {
     "duration": 0.052516,
     "end_time": "2023-07-30T14:57:22.976958",
     "exception": false,
     "start_time": "2023-07-30T14:57:22.924442",
     "status": "completed"
    },
    "tags": []
   },
   "outputs": [
    {
     "data": {
      "text/html": [
       "<div>\n",
       "<style scoped>\n",
       "    .dataframe tbody tr th:only-of-type {\n",
       "        vertical-align: middle;\n",
       "    }\n",
       "\n",
       "    .dataframe tbody tr th {\n",
       "        vertical-align: top;\n",
       "    }\n",
       "\n",
       "    .dataframe thead th {\n",
       "        text-align: right;\n",
       "    }\n",
       "</style>\n",
       "<table border=\"1\" class=\"dataframe\">\n",
       "  <thead>\n",
       "    <tr style=\"text-align: right;\">\n",
       "      <th></th>\n",
       "      <th>count</th>\n",
       "      <th>mean</th>\n",
       "      <th>std</th>\n",
       "      <th>min</th>\n",
       "      <th>25%</th>\n",
       "      <th>50%</th>\n",
       "      <th>75%</th>\n",
       "      <th>max</th>\n",
       "    </tr>\n",
       "  </thead>\n",
       "  <tbody>\n",
       "    <tr>\n",
       "      <th>number</th>\n",
       "      <td>1035.0</td>\n",
       "      <td>1.785507</td>\n",
       "      <td>1.240976</td>\n",
       "      <td>1.000000</td>\n",
       "      <td>1.00000</td>\n",
       "      <td>1.0000</td>\n",
       "      <td>2.000</td>\n",
       "      <td>7.0</td>\n",
       "    </tr>\n",
       "    <tr>\n",
       "      <th>orbital_period</th>\n",
       "      <td>992.0</td>\n",
       "      <td>2002.917596</td>\n",
       "      <td>26014.728304</td>\n",
       "      <td>0.090706</td>\n",
       "      <td>5.44254</td>\n",
       "      <td>39.9795</td>\n",
       "      <td>526.005</td>\n",
       "      <td>730000.0</td>\n",
       "    </tr>\n",
       "    <tr>\n",
       "      <th>mass</th>\n",
       "      <td>513.0</td>\n",
       "      <td>2.638161</td>\n",
       "      <td>3.818617</td>\n",
       "      <td>0.003600</td>\n",
       "      <td>0.22900</td>\n",
       "      <td>1.2600</td>\n",
       "      <td>3.040</td>\n",
       "      <td>25.0</td>\n",
       "    </tr>\n",
       "    <tr>\n",
       "      <th>distance</th>\n",
       "      <td>808.0</td>\n",
       "      <td>264.069282</td>\n",
       "      <td>733.116493</td>\n",
       "      <td>1.350000</td>\n",
       "      <td>32.56000</td>\n",
       "      <td>55.2500</td>\n",
       "      <td>178.500</td>\n",
       "      <td>8500.0</td>\n",
       "    </tr>\n",
       "    <tr>\n",
       "      <th>year</th>\n",
       "      <td>1035.0</td>\n",
       "      <td>2009.070531</td>\n",
       "      <td>3.972567</td>\n",
       "      <td>1989.000000</td>\n",
       "      <td>2007.00000</td>\n",
       "      <td>2010.0000</td>\n",
       "      <td>2012.000</td>\n",
       "      <td>2014.0</td>\n",
       "    </tr>\n",
       "  </tbody>\n",
       "</table>\n",
       "</div>"
      ],
      "text/plain": [
       "                 count         mean           std          min         25%  \\\n",
       "number          1035.0     1.785507      1.240976     1.000000     1.00000   \n",
       "orbital_period   992.0  2002.917596  26014.728304     0.090706     5.44254   \n",
       "mass             513.0     2.638161      3.818617     0.003600     0.22900   \n",
       "distance         808.0   264.069282    733.116493     1.350000    32.56000   \n",
       "year            1035.0  2009.070531      3.972567  1989.000000  2007.00000   \n",
       "\n",
       "                      50%       75%       max  \n",
       "number             1.0000     2.000       7.0  \n",
       "orbital_period    39.9795   526.005  730000.0  \n",
       "mass               1.2600     3.040      25.0  \n",
       "distance          55.2500   178.500    8500.0  \n",
       "year            2010.0000  2012.000    2014.0  "
      ]
     },
     "execution_count": 17,
     "metadata": {},
     "output_type": "execute_result"
    }
   ],
   "source": [
    "df.describe().T"
   ]
  },
  {
   "cell_type": "code",
   "execution_count": 18,
   "id": "254847de",
   "metadata": {
    "execution": {
     "iopub.execute_input": "2023-07-30T14:57:23.022112Z",
     "iopub.status.busy": "2023-07-30T14:57:23.021159Z",
     "iopub.status.idle": "2023-07-30T14:57:23.051262Z",
     "shell.execute_reply": "2023-07-30T14:57:23.050360Z"
    },
    "papermill": {
     "duration": 0.054059,
     "end_time": "2023-07-30T14:57:23.053375",
     "exception": false,
     "start_time": "2023-07-30T14:57:22.999316",
     "status": "completed"
    },
    "tags": []
   },
   "outputs": [
    {
     "data": {
      "text/html": [
       "<div>\n",
       "<style scoped>\n",
       "    .dataframe tbody tr th:only-of-type {\n",
       "        vertical-align: middle;\n",
       "    }\n",
       "\n",
       "    .dataframe tbody tr th {\n",
       "        vertical-align: top;\n",
       "    }\n",
       "\n",
       "    .dataframe thead th {\n",
       "        text-align: right;\n",
       "    }\n",
       "</style>\n",
       "<table border=\"1\" class=\"dataframe\">\n",
       "  <thead>\n",
       "    <tr style=\"text-align: right;\">\n",
       "      <th></th>\n",
       "      <th>count</th>\n",
       "      <th>unique</th>\n",
       "      <th>top</th>\n",
       "      <th>freq</th>\n",
       "      <th>mean</th>\n",
       "      <th>std</th>\n",
       "      <th>min</th>\n",
       "      <th>25%</th>\n",
       "      <th>50%</th>\n",
       "      <th>75%</th>\n",
       "      <th>max</th>\n",
       "    </tr>\n",
       "  </thead>\n",
       "  <tbody>\n",
       "    <tr>\n",
       "      <th>method</th>\n",
       "      <td>1035</td>\n",
       "      <td>10</td>\n",
       "      <td>Radial Velocity</td>\n",
       "      <td>553</td>\n",
       "      <td>NaN</td>\n",
       "      <td>NaN</td>\n",
       "      <td>NaN</td>\n",
       "      <td>NaN</td>\n",
       "      <td>NaN</td>\n",
       "      <td>NaN</td>\n",
       "      <td>NaN</td>\n",
       "    </tr>\n",
       "    <tr>\n",
       "      <th>number</th>\n",
       "      <td>1035.0</td>\n",
       "      <td>NaN</td>\n",
       "      <td>NaN</td>\n",
       "      <td>NaN</td>\n",
       "      <td>1.785507</td>\n",
       "      <td>1.240976</td>\n",
       "      <td>1.0</td>\n",
       "      <td>1.0</td>\n",
       "      <td>1.0</td>\n",
       "      <td>2.0</td>\n",
       "      <td>7.0</td>\n",
       "    </tr>\n",
       "    <tr>\n",
       "      <th>orbital_period</th>\n",
       "      <td>992.0</td>\n",
       "      <td>NaN</td>\n",
       "      <td>NaN</td>\n",
       "      <td>NaN</td>\n",
       "      <td>2002.917596</td>\n",
       "      <td>26014.728304</td>\n",
       "      <td>0.090706</td>\n",
       "      <td>5.44254</td>\n",
       "      <td>39.9795</td>\n",
       "      <td>526.005</td>\n",
       "      <td>730000.0</td>\n",
       "    </tr>\n",
       "    <tr>\n",
       "      <th>mass</th>\n",
       "      <td>513.0</td>\n",
       "      <td>NaN</td>\n",
       "      <td>NaN</td>\n",
       "      <td>NaN</td>\n",
       "      <td>2.638161</td>\n",
       "      <td>3.818617</td>\n",
       "      <td>0.0036</td>\n",
       "      <td>0.229</td>\n",
       "      <td>1.26</td>\n",
       "      <td>3.04</td>\n",
       "      <td>25.0</td>\n",
       "    </tr>\n",
       "    <tr>\n",
       "      <th>distance</th>\n",
       "      <td>808.0</td>\n",
       "      <td>NaN</td>\n",
       "      <td>NaN</td>\n",
       "      <td>NaN</td>\n",
       "      <td>264.069282</td>\n",
       "      <td>733.116493</td>\n",
       "      <td>1.35</td>\n",
       "      <td>32.56</td>\n",
       "      <td>55.25</td>\n",
       "      <td>178.5</td>\n",
       "      <td>8500.0</td>\n",
       "    </tr>\n",
       "    <tr>\n",
       "      <th>year</th>\n",
       "      <td>1035.0</td>\n",
       "      <td>NaN</td>\n",
       "      <td>NaN</td>\n",
       "      <td>NaN</td>\n",
       "      <td>2009.070531</td>\n",
       "      <td>3.972567</td>\n",
       "      <td>1989.0</td>\n",
       "      <td>2007.0</td>\n",
       "      <td>2010.0</td>\n",
       "      <td>2012.0</td>\n",
       "      <td>2014.0</td>\n",
       "    </tr>\n",
       "  </tbody>\n",
       "</table>\n",
       "</div>"
      ],
      "text/plain": [
       "                 count unique              top freq         mean  \\\n",
       "method            1035     10  Radial Velocity  553          NaN   \n",
       "number          1035.0    NaN              NaN  NaN     1.785507   \n",
       "orbital_period   992.0    NaN              NaN  NaN  2002.917596   \n",
       "mass             513.0    NaN              NaN  NaN     2.638161   \n",
       "distance         808.0    NaN              NaN  NaN   264.069282   \n",
       "year            1035.0    NaN              NaN  NaN  2009.070531   \n",
       "\n",
       "                         std       min      25%      50%      75%       max  \n",
       "method                   NaN       NaN      NaN      NaN      NaN       NaN  \n",
       "number              1.240976       1.0      1.0      1.0      2.0       7.0  \n",
       "orbital_period  26014.728304  0.090706  5.44254  39.9795  526.005  730000.0  \n",
       "mass                3.818617    0.0036    0.229     1.26     3.04      25.0  \n",
       "distance          733.116493      1.35    32.56    55.25    178.5    8500.0  \n",
       "year                3.972567    1989.0   2007.0   2010.0   2012.0    2014.0  "
      ]
     },
     "execution_count": 18,
     "metadata": {},
     "output_type": "execute_result"
    }
   ],
   "source": [
    "df.describe(include = \"all\").T"
   ]
  },
  {
   "cell_type": "code",
   "execution_count": 19,
   "id": "42276ec9",
   "metadata": {
    "execution": {
     "iopub.execute_input": "2023-07-30T14:57:23.098029Z",
     "iopub.status.busy": "2023-07-30T14:57:23.097213Z",
     "iopub.status.idle": "2023-07-30T14:57:23.101731Z",
     "shell.execute_reply": "2023-07-30T14:57:23.100874Z"
    },
    "papermill": {
     "duration": 0.028334,
     "end_time": "2023-07-30T14:57:23.103710",
     "exception": false,
     "start_time": "2023-07-30T14:57:23.075376",
     "status": "completed"
    },
    "tags": []
   },
   "outputs": [],
   "source": [
    "# Examining Missing Values"
   ]
  },
  {
   "cell_type": "code",
   "execution_count": 20,
   "id": "6c8d58c8",
   "metadata": {
    "execution": {
     "iopub.execute_input": "2023-07-30T14:57:23.147515Z",
     "iopub.status.busy": "2023-07-30T14:57:23.146593Z",
     "iopub.status.idle": "2023-07-30T14:57:23.153966Z",
     "shell.execute_reply": "2023-07-30T14:57:23.153003Z"
    },
    "papermill": {
     "duration": 0.031635,
     "end_time": "2023-07-30T14:57:23.156109",
     "exception": false,
     "start_time": "2023-07-30T14:57:23.124474",
     "status": "completed"
    },
    "tags": []
   },
   "outputs": [
    {
     "data": {
      "text/plain": [
       "True"
      ]
     },
     "execution_count": 20,
     "metadata": {},
     "output_type": "execute_result"
    }
   ],
   "source": [
    "df.isnull().values.any()"
   ]
  },
  {
   "cell_type": "code",
   "execution_count": 21,
   "id": "929bfec5",
   "metadata": {
    "execution": {
     "iopub.execute_input": "2023-07-30T14:57:23.201019Z",
     "iopub.status.busy": "2023-07-30T14:57:23.200691Z",
     "iopub.status.idle": "2023-07-30T14:57:23.209726Z",
     "shell.execute_reply": "2023-07-30T14:57:23.208772Z"
    },
    "papermill": {
     "duration": 0.03308,
     "end_time": "2023-07-30T14:57:23.211708",
     "exception": false,
     "start_time": "2023-07-30T14:57:23.178628",
     "status": "completed"
    },
    "tags": []
   },
   "outputs": [
    {
     "data": {
      "text/plain": [
       "method              0\n",
       "number              0\n",
       "orbital_period     43\n",
       "mass              522\n",
       "distance          227\n",
       "year                0\n",
       "dtype: int64"
      ]
     },
     "execution_count": 21,
     "metadata": {},
     "output_type": "execute_result"
    }
   ],
   "source": [
    "df.isnull().sum()"
   ]
  },
  {
   "cell_type": "code",
   "execution_count": 22,
   "id": "83e62550",
   "metadata": {
    "execution": {
     "iopub.execute_input": "2023-07-30T14:57:23.256719Z",
     "iopub.status.busy": "2023-07-30T14:57:23.255847Z",
     "iopub.status.idle": "2023-07-30T14:57:23.261378Z",
     "shell.execute_reply": "2023-07-30T14:57:23.260517Z"
    },
    "papermill": {
     "duration": 0.029984,
     "end_time": "2023-07-30T14:57:23.263380",
     "exception": false,
     "start_time": "2023-07-30T14:57:23.233396",
     "status": "completed"
    },
    "tags": []
   },
   "outputs": [],
   "source": [
    "df[\"orbital_period\"].fillna(0, inplace = True)"
   ]
  },
  {
   "cell_type": "code",
   "execution_count": 23,
   "id": "c73ff8d5",
   "metadata": {
    "execution": {
     "iopub.execute_input": "2023-07-30T14:57:23.308832Z",
     "iopub.status.busy": "2023-07-30T14:57:23.307896Z",
     "iopub.status.idle": "2023-07-30T14:57:23.316711Z",
     "shell.execute_reply": "2023-07-30T14:57:23.315662Z"
    },
    "papermill": {
     "duration": 0.033553,
     "end_time": "2023-07-30T14:57:23.318739",
     "exception": false,
     "start_time": "2023-07-30T14:57:23.285186",
     "status": "completed"
    },
    "tags": []
   },
   "outputs": [
    {
     "data": {
      "text/plain": [
       "method              0\n",
       "number              0\n",
       "orbital_period      0\n",
       "mass              522\n",
       "distance          227\n",
       "year                0\n",
       "dtype: int64"
      ]
     },
     "execution_count": 23,
     "metadata": {},
     "output_type": "execute_result"
    }
   ],
   "source": [
    "df.isnull().sum()"
   ]
  },
  {
   "cell_type": "code",
   "execution_count": 24,
   "id": "57395c2a",
   "metadata": {
    "execution": {
     "iopub.execute_input": "2023-07-30T14:57:23.363258Z",
     "iopub.status.busy": "2023-07-30T14:57:23.362381Z",
     "iopub.status.idle": "2023-07-30T14:57:23.368114Z",
     "shell.execute_reply": "2023-07-30T14:57:23.367229Z"
    },
    "papermill": {
     "duration": 0.030223,
     "end_time": "2023-07-30T14:57:23.370222",
     "exception": false,
     "start_time": "2023-07-30T14:57:23.339999",
     "status": "completed"
    },
    "tags": []
   },
   "outputs": [],
   "source": [
    "df[\"mass\"].fillna(df.mass.mean(), inplace = True)"
   ]
  },
  {
   "cell_type": "code",
   "execution_count": 25,
   "id": "a411aee9",
   "metadata": {
    "execution": {
     "iopub.execute_input": "2023-07-30T14:57:23.414076Z",
     "iopub.status.busy": "2023-07-30T14:57:23.413762Z",
     "iopub.status.idle": "2023-07-30T14:57:23.422000Z",
     "shell.execute_reply": "2023-07-30T14:57:23.421042Z"
    },
    "papermill": {
     "duration": 0.032278,
     "end_time": "2023-07-30T14:57:23.423989",
     "exception": false,
     "start_time": "2023-07-30T14:57:23.391711",
     "status": "completed"
    },
    "tags": []
   },
   "outputs": [
    {
     "data": {
      "text/plain": [
       "method              0\n",
       "number              0\n",
       "orbital_period      0\n",
       "mass                0\n",
       "distance          227\n",
       "year                0\n",
       "dtype: int64"
      ]
     },
     "execution_count": 25,
     "metadata": {},
     "output_type": "execute_result"
    }
   ],
   "source": [
    "df.isnull().sum()"
   ]
  },
  {
   "cell_type": "code",
   "execution_count": 26,
   "id": "97ecf1fa",
   "metadata": {
    "execution": {
     "iopub.execute_input": "2023-07-30T14:57:23.469503Z",
     "iopub.status.busy": "2023-07-30T14:57:23.468524Z",
     "iopub.status.idle": "2023-07-30T14:57:23.478365Z",
     "shell.execute_reply": "2023-07-30T14:57:23.477395Z"
    },
    "papermill": {
     "duration": 0.034762,
     "end_time": "2023-07-30T14:57:23.480431",
     "exception": false,
     "start_time": "2023-07-30T14:57:23.445669",
     "status": "completed"
    },
    "tags": []
   },
   "outputs": [
    {
     "name": "stderr",
     "output_type": "stream",
     "text": [
      "/tmp/ipykernel_23/2622515659.py:1: FutureWarning: The default value of numeric_only in DataFrame.mean is deprecated. In a future version, it will default to False. In addition, specifying 'numeric_only=None' is deprecated. Select only valid columns or specify the value of numeric_only to silence this warning.\n",
      "  df.fillna(df.mean(), inplace = True)\n"
     ]
    }
   ],
   "source": [
    "df.fillna(df.mean(), inplace = True)"
   ]
  },
  {
   "cell_type": "code",
   "execution_count": 27,
   "id": "bc4b4856",
   "metadata": {
    "execution": {
     "iopub.execute_input": "2023-07-30T14:57:23.525280Z",
     "iopub.status.busy": "2023-07-30T14:57:23.524424Z",
     "iopub.status.idle": "2023-07-30T14:57:23.532658Z",
     "shell.execute_reply": "2023-07-30T14:57:23.531720Z"
    },
    "papermill": {
     "duration": 0.032793,
     "end_time": "2023-07-30T14:57:23.534618",
     "exception": false,
     "start_time": "2023-07-30T14:57:23.501825",
     "status": "completed"
    },
    "tags": []
   },
   "outputs": [
    {
     "data": {
      "text/plain": [
       "method            0\n",
       "number            0\n",
       "orbital_period    0\n",
       "mass              0\n",
       "distance          0\n",
       "year              0\n",
       "dtype: int64"
      ]
     },
     "execution_count": 27,
     "metadata": {},
     "output_type": "execute_result"
    }
   ],
   "source": [
    "df.isnull().sum()"
   ]
  },
  {
   "cell_type": "code",
   "execution_count": 28,
   "id": "bb7ef80b",
   "metadata": {
    "execution": {
     "iopub.execute_input": "2023-07-30T14:57:23.579623Z",
     "iopub.status.busy": "2023-07-30T14:57:23.578732Z",
     "iopub.status.idle": "2023-07-30T14:57:23.591477Z",
     "shell.execute_reply": "2023-07-30T14:57:23.590544Z"
    },
    "papermill": {
     "duration": 0.037507,
     "end_time": "2023-07-30T14:57:23.593446",
     "exception": false,
     "start_time": "2023-07-30T14:57:23.555939",
     "status": "completed"
    },
    "tags": []
   },
   "outputs": [
    {
     "data": {
      "text/html": [
       "<div>\n",
       "<style scoped>\n",
       "    .dataframe tbody tr th:only-of-type {\n",
       "        vertical-align: middle;\n",
       "    }\n",
       "\n",
       "    .dataframe tbody tr th {\n",
       "        vertical-align: top;\n",
       "    }\n",
       "\n",
       "    .dataframe thead th {\n",
       "        text-align: right;\n",
       "    }\n",
       "</style>\n",
       "<table border=\"1\" class=\"dataframe\">\n",
       "  <thead>\n",
       "    <tr style=\"text-align: right;\">\n",
       "      <th></th>\n",
       "      <th>method</th>\n",
       "      <th>number</th>\n",
       "      <th>orbital_period</th>\n",
       "      <th>mass</th>\n",
       "      <th>distance</th>\n",
       "      <th>year</th>\n",
       "    </tr>\n",
       "  </thead>\n",
       "  <tbody>\n",
       "    <tr>\n",
       "      <th>0</th>\n",
       "      <td>Radial Velocity</td>\n",
       "      <td>1</td>\n",
       "      <td>269.300</td>\n",
       "      <td>7.10</td>\n",
       "      <td>77.40</td>\n",
       "      <td>2006</td>\n",
       "    </tr>\n",
       "    <tr>\n",
       "      <th>1</th>\n",
       "      <td>Radial Velocity</td>\n",
       "      <td>1</td>\n",
       "      <td>874.774</td>\n",
       "      <td>2.21</td>\n",
       "      <td>56.95</td>\n",
       "      <td>2008</td>\n",
       "    </tr>\n",
       "    <tr>\n",
       "      <th>2</th>\n",
       "      <td>Radial Velocity</td>\n",
       "      <td>1</td>\n",
       "      <td>763.000</td>\n",
       "      <td>2.60</td>\n",
       "      <td>19.84</td>\n",
       "      <td>2011</td>\n",
       "    </tr>\n",
       "    <tr>\n",
       "      <th>3</th>\n",
       "      <td>Radial Velocity</td>\n",
       "      <td>1</td>\n",
       "      <td>326.030</td>\n",
       "      <td>19.40</td>\n",
       "      <td>110.62</td>\n",
       "      <td>2007</td>\n",
       "    </tr>\n",
       "    <tr>\n",
       "      <th>4</th>\n",
       "      <td>Radial Velocity</td>\n",
       "      <td>1</td>\n",
       "      <td>516.220</td>\n",
       "      <td>10.50</td>\n",
       "      <td>119.47</td>\n",
       "      <td>2009</td>\n",
       "    </tr>\n",
       "  </tbody>\n",
       "</table>\n",
       "</div>"
      ],
      "text/plain": [
       "            method  number  orbital_period   mass  distance  year\n",
       "0  Radial Velocity       1         269.300   7.10     77.40  2006\n",
       "1  Radial Velocity       1         874.774   2.21     56.95  2008\n",
       "2  Radial Velocity       1         763.000   2.60     19.84  2011\n",
       "3  Radial Velocity       1         326.030  19.40    110.62  2007\n",
       "4  Radial Velocity       1         516.220  10.50    119.47  2009"
      ]
     },
     "execution_count": 28,
     "metadata": {},
     "output_type": "execute_result"
    }
   ],
   "source": [
    "df = planets.copy()\n",
    "df.head()"
   ]
  },
  {
   "cell_type": "code",
   "execution_count": 29,
   "id": "7c06cac8",
   "metadata": {
    "execution": {
     "iopub.execute_input": "2023-07-30T14:57:23.640029Z",
     "iopub.status.busy": "2023-07-30T14:57:23.639111Z",
     "iopub.status.idle": "2023-07-30T14:57:23.648212Z",
     "shell.execute_reply": "2023-07-30T14:57:23.647242Z"
    },
    "papermill": {
     "duration": 0.034536,
     "end_time": "2023-07-30T14:57:23.650320",
     "exception": false,
     "start_time": "2023-07-30T14:57:23.615784",
     "status": "completed"
    },
    "tags": []
   },
   "outputs": [
    {
     "data": {
      "text/plain": [
       "method              0\n",
       "number              0\n",
       "orbital_period     43\n",
       "mass              522\n",
       "distance          227\n",
       "year                0\n",
       "dtype: int64"
      ]
     },
     "execution_count": 29,
     "metadata": {},
     "output_type": "execute_result"
    }
   ],
   "source": [
    "df.isnull().sum()"
   ]
  },
  {
   "cell_type": "code",
   "execution_count": 30,
   "id": "fec2af57",
   "metadata": {
    "execution": {
     "iopub.execute_input": "2023-07-30T14:57:23.696397Z",
     "iopub.status.busy": "2023-07-30T14:57:23.695590Z",
     "iopub.status.idle": "2023-07-30T14:57:23.700096Z",
     "shell.execute_reply": "2023-07-30T14:57:23.699226Z"
    },
    "papermill": {
     "duration": 0.029304,
     "end_time": "2023-07-30T14:57:23.702005",
     "exception": false,
     "start_time": "2023-07-30T14:57:23.672701",
     "status": "completed"
    },
    "tags": []
   },
   "outputs": [],
   "source": [
    "# Categorical Variable Summaries"
   ]
  },
  {
   "cell_type": "code",
   "execution_count": 31,
   "id": "87497de4",
   "metadata": {
    "execution": {
     "iopub.execute_input": "2023-07-30T14:57:23.747394Z",
     "iopub.status.busy": "2023-07-30T14:57:23.746582Z",
     "iopub.status.idle": "2023-07-30T14:57:23.751435Z",
     "shell.execute_reply": "2023-07-30T14:57:23.750546Z"
    },
    "papermill": {
     "duration": 0.029776,
     "end_time": "2023-07-30T14:57:23.753608",
     "exception": false,
     "start_time": "2023-07-30T14:57:23.723832",
     "status": "completed"
    },
    "tags": []
   },
   "outputs": [],
   "source": [
    "kat_df = df.select_dtypes(include = [\"object\"])"
   ]
  },
  {
   "cell_type": "code",
   "execution_count": 32,
   "id": "fd0554ea",
   "metadata": {
    "execution": {
     "iopub.execute_input": "2023-07-30T14:57:23.802780Z",
     "iopub.status.busy": "2023-07-30T14:57:23.801948Z",
     "iopub.status.idle": "2023-07-30T14:57:23.811493Z",
     "shell.execute_reply": "2023-07-30T14:57:23.810463Z"
    },
    "papermill": {
     "duration": 0.038042,
     "end_time": "2023-07-30T14:57:23.813521",
     "exception": false,
     "start_time": "2023-07-30T14:57:23.775479",
     "status": "completed"
    },
    "tags": []
   },
   "outputs": [
    {
     "data": {
      "text/html": [
       "<div>\n",
       "<style scoped>\n",
       "    .dataframe tbody tr th:only-of-type {\n",
       "        vertical-align: middle;\n",
       "    }\n",
       "\n",
       "    .dataframe tbody tr th {\n",
       "        vertical-align: top;\n",
       "    }\n",
       "\n",
       "    .dataframe thead th {\n",
       "        text-align: right;\n",
       "    }\n",
       "</style>\n",
       "<table border=\"1\" class=\"dataframe\">\n",
       "  <thead>\n",
       "    <tr style=\"text-align: right;\">\n",
       "      <th></th>\n",
       "      <th>method</th>\n",
       "    </tr>\n",
       "  </thead>\n",
       "  <tbody>\n",
       "    <tr>\n",
       "      <th>0</th>\n",
       "      <td>Radial Velocity</td>\n",
       "    </tr>\n",
       "    <tr>\n",
       "      <th>1</th>\n",
       "      <td>Radial Velocity</td>\n",
       "    </tr>\n",
       "    <tr>\n",
       "      <th>2</th>\n",
       "      <td>Radial Velocity</td>\n",
       "    </tr>\n",
       "    <tr>\n",
       "      <th>3</th>\n",
       "      <td>Radial Velocity</td>\n",
       "    </tr>\n",
       "    <tr>\n",
       "      <th>4</th>\n",
       "      <td>Radial Velocity</td>\n",
       "    </tr>\n",
       "  </tbody>\n",
       "</table>\n",
       "</div>"
      ],
      "text/plain": [
       "            method\n",
       "0  Radial Velocity\n",
       "1  Radial Velocity\n",
       "2  Radial Velocity\n",
       "3  Radial Velocity\n",
       "4  Radial Velocity"
      ]
     },
     "execution_count": 32,
     "metadata": {},
     "output_type": "execute_result"
    }
   ],
   "source": [
    "kat_df.head()"
   ]
  },
  {
   "cell_type": "code",
   "execution_count": 33,
   "id": "a5fae407",
   "metadata": {
    "execution": {
     "iopub.execute_input": "2023-07-30T14:57:23.859529Z",
     "iopub.status.busy": "2023-07-30T14:57:23.859217Z",
     "iopub.status.idle": "2023-07-30T14:57:23.866969Z",
     "shell.execute_reply": "2023-07-30T14:57:23.866114Z"
    },
    "papermill": {
     "duration": 0.03318,
     "end_time": "2023-07-30T14:57:23.868920",
     "exception": false,
     "start_time": "2023-07-30T14:57:23.835740",
     "status": "completed"
    },
    "tags": []
   },
   "outputs": [
    {
     "data": {
      "text/plain": [
       "method    1035\n",
       "dtype: int64"
      ]
     },
     "execution_count": 33,
     "metadata": {},
     "output_type": "execute_result"
    }
   ],
   "source": [
    "kat_df.count()"
   ]
  },
  {
   "cell_type": "code",
   "execution_count": 34,
   "id": "ba4f06f0",
   "metadata": {
    "execution": {
     "iopub.execute_input": "2023-07-30T14:57:23.915372Z",
     "iopub.status.busy": "2023-07-30T14:57:23.914452Z",
     "iopub.status.idle": "2023-07-30T14:57:23.921827Z",
     "shell.execute_reply": "2023-07-30T14:57:23.920869Z"
    },
    "papermill": {
     "duration": 0.032747,
     "end_time": "2023-07-30T14:57:23.923842",
     "exception": false,
     "start_time": "2023-07-30T14:57:23.891095",
     "status": "completed"
    },
    "tags": []
   },
   "outputs": [
    {
     "data": {
      "text/plain": [
       "array(['Radial Velocity', 'Imaging', 'Eclipse Timing Variations',\n",
       "       'Transit', 'Astrometry', 'Transit Timing Variations',\n",
       "       'Orbital Brightness Modulation', 'Microlensing', 'Pulsar Timing',\n",
       "       'Pulsation Timing Variations'], dtype=object)"
      ]
     },
     "execution_count": 34,
     "metadata": {},
     "output_type": "execute_result"
    }
   ],
   "source": [
    "kat_df.method.unique() # classes"
   ]
  },
  {
   "cell_type": "code",
   "execution_count": 35,
   "id": "b8b3952f",
   "metadata": {
    "execution": {
     "iopub.execute_input": "2023-07-30T14:57:23.970897Z",
     "iopub.status.busy": "2023-07-30T14:57:23.969962Z",
     "iopub.status.idle": "2023-07-30T14:57:23.978488Z",
     "shell.execute_reply": "2023-07-30T14:57:23.977478Z"
    },
    "papermill": {
     "duration": 0.034143,
     "end_time": "2023-07-30T14:57:23.980502",
     "exception": false,
     "start_time": "2023-07-30T14:57:23.946359",
     "status": "completed"
    },
    "tags": []
   },
   "outputs": [
    {
     "data": {
      "text/plain": [
       "10"
      ]
     },
     "execution_count": 35,
     "metadata": {},
     "output_type": "execute_result"
    }
   ],
   "source": [
    "kat_df.value_counts().count()"
   ]
  },
  {
   "cell_type": "code",
   "execution_count": 36,
   "id": "fc3b975f",
   "metadata": {
    "execution": {
     "iopub.execute_input": "2023-07-30T14:57:24.028313Z",
     "iopub.status.busy": "2023-07-30T14:57:24.027497Z",
     "iopub.status.idle": "2023-07-30T14:57:24.034853Z",
     "shell.execute_reply": "2023-07-30T14:57:24.033887Z"
    },
    "papermill": {
     "duration": 0.032578,
     "end_time": "2023-07-30T14:57:24.036809",
     "exception": false,
     "start_time": "2023-07-30T14:57:24.004231",
     "status": "completed"
    },
    "tags": []
   },
   "outputs": [
    {
     "data": {
      "text/plain": [
       "10"
      ]
     },
     "execution_count": 36,
     "metadata": {},
     "output_type": "execute_result"
    }
   ],
   "source": [
    "kat_df[\"method\"].value_counts().count()"
   ]
  },
  {
   "cell_type": "code",
   "execution_count": 37,
   "id": "9eeaf50e",
   "metadata": {
    "execution": {
     "iopub.execute_input": "2023-07-30T14:57:24.084374Z",
     "iopub.status.busy": "2023-07-30T14:57:24.083468Z",
     "iopub.status.idle": "2023-07-30T14:57:24.091871Z",
     "shell.execute_reply": "2023-07-30T14:57:24.090891Z"
    },
    "papermill": {
     "duration": 0.034279,
     "end_time": "2023-07-30T14:57:24.093834",
     "exception": false,
     "start_time": "2023-07-30T14:57:24.059555",
     "status": "completed"
    },
    "tags": []
   },
   "outputs": [
    {
     "data": {
      "text/plain": [
       "Radial Velocity                  553\n",
       "Transit                          397\n",
       "Imaging                           38\n",
       "Microlensing                      23\n",
       "Eclipse Timing Variations          9\n",
       "Pulsar Timing                      5\n",
       "Transit Timing Variations          4\n",
       "Orbital Brightness Modulation      3\n",
       "Astrometry                         2\n",
       "Pulsation Timing Variations        1\n",
       "Name: method, dtype: int64"
      ]
     },
     "execution_count": 37,
     "metadata": {},
     "output_type": "execute_result"
    }
   ],
   "source": [
    "kat_df[\"method\"].value_counts() # freq"
   ]
  },
  {
   "cell_type": "code",
   "execution_count": 38,
   "id": "4a4917ad",
   "metadata": {
    "execution": {
     "iopub.execute_input": "2023-07-30T14:57:24.141944Z",
     "iopub.status.busy": "2023-07-30T14:57:24.140991Z",
     "iopub.status.idle": "2023-07-30T14:57:24.452906Z",
     "shell.execute_reply": "2023-07-30T14:57:24.451969Z"
    },
    "papermill": {
     "duration": 0.339721,
     "end_time": "2023-07-30T14:57:24.456318",
     "exception": false,
     "start_time": "2023-07-30T14:57:24.116597",
     "status": "completed"
    },
    "tags": []
   },
   "outputs": [
    {
     "data": {
      "image/png": "[encoded data removed]",
      "text/plain": [
       "<Figure size 640x480 with 1 Axes>"
      ]
     },
     "metadata": {},
     "output_type": "display_data"
    }
   ],
   "source": [
    "df[\"method\"].value_counts().plot.barh();"
   ]
  },
  {
   "cell_type": "code",
   "execution_count": 39,
   "id": "66b91380",
   "metadata": {
    "execution": {
     "iopub.execute_input": "2023-07-30T14:57:24.505754Z",
     "iopub.status.busy": "2023-07-30T14:57:24.505421Z",
     "iopub.status.idle": "2023-07-30T14:57:24.509867Z",
     "shell.execute_reply": "2023-07-30T14:57:24.508868Z"
    },
    "papermill": {
     "duration": 0.031116,
     "end_time": "2023-07-30T14:57:24.511971",
     "exception": false,
     "start_time": "2023-07-30T14:57:24.480855",
     "status": "completed"
    },
    "tags": []
   },
   "outputs": [],
   "source": [
    "# Continuous Variable Summaries"
   ]
  },
  {
   "cell_type": "code",
   "execution_count": 40,
   "id": "5fdba344",
   "metadata": {
    "execution": {
     "iopub.execute_input": "2023-07-30T14:57:24.560034Z",
     "iopub.status.busy": "2023-07-30T14:57:24.559675Z",
     "iopub.status.idle": "2023-07-30T14:57:24.576039Z",
     "shell.execute_reply": "2023-07-30T14:57:24.575095Z"
    },
    "papermill": {
     "duration": 0.042983,
     "end_time": "2023-07-30T14:57:24.578140",
     "exception": false,
     "start_time": "2023-07-30T14:57:24.535157",
     "status": "completed"
    },
    "tags": []
   },
   "outputs": [
    {
     "data": {
      "text/html": [
       "<div>\n",
       "<style scoped>\n",
       "    .dataframe tbody tr th:only-of-type {\n",
       "        vertical-align: middle;\n",
       "    }\n",
       "\n",
       "    .dataframe tbody tr th {\n",
       "        vertical-align: top;\n",
       "    }\n",
       "\n",
       "    .dataframe thead th {\n",
       "        text-align: right;\n",
       "    }\n",
       "</style>\n",
       "<table border=\"1\" class=\"dataframe\">\n",
       "  <thead>\n",
       "    <tr style=\"text-align: right;\">\n",
       "      <th></th>\n",
       "      <th>number</th>\n",
       "      <th>orbital_period</th>\n",
       "      <th>mass</th>\n",
       "      <th>distance</th>\n",
       "      <th>year</th>\n",
       "    </tr>\n",
       "  </thead>\n",
       "  <tbody>\n",
       "    <tr>\n",
       "      <th>0</th>\n",
       "      <td>1</td>\n",
       "      <td>269.300000</td>\n",
       "      <td>7.10</td>\n",
       "      <td>77.40</td>\n",
       "      <td>2006</td>\n",
       "    </tr>\n",
       "    <tr>\n",
       "      <th>1</th>\n",
       "      <td>1</td>\n",
       "      <td>874.774000</td>\n",
       "      <td>2.21</td>\n",
       "      <td>56.95</td>\n",
       "      <td>2008</td>\n",
       "    </tr>\n",
       "    <tr>\n",
       "      <th>2</th>\n",
       "      <td>1</td>\n",
       "      <td>763.000000</td>\n",
       "      <td>2.60</td>\n",
       "      <td>19.84</td>\n",
       "      <td>2011</td>\n",
       "    </tr>\n",
       "    <tr>\n",
       "      <th>3</th>\n",
       "      <td>1</td>\n",
       "      <td>326.030000</td>\n",
       "      <td>19.40</td>\n",
       "      <td>110.62</td>\n",
       "      <td>2007</td>\n",
       "    </tr>\n",
       "    <tr>\n",
       "      <th>4</th>\n",
       "      <td>1</td>\n",
       "      <td>516.220000</td>\n",
       "      <td>10.50</td>\n",
       "      <td>119.47</td>\n",
       "      <td>2009</td>\n",
       "    </tr>\n",
       "    <tr>\n",
       "      <th>...</th>\n",
       "      <td>...</td>\n",
       "      <td>...</td>\n",
       "      <td>...</td>\n",
       "      <td>...</td>\n",
       "      <td>...</td>\n",
       "    </tr>\n",
       "    <tr>\n",
       "      <th>1030</th>\n",
       "      <td>1</td>\n",
       "      <td>3.941507</td>\n",
       "      <td>NaN</td>\n",
       "      <td>172.00</td>\n",
       "      <td>2006</td>\n",
       "    </tr>\n",
       "    <tr>\n",
       "      <th>1031</th>\n",
       "      <td>1</td>\n",
       "      <td>2.615864</td>\n",
       "      <td>NaN</td>\n",
       "      <td>148.00</td>\n",
       "      <td>2007</td>\n",
       "    </tr>\n",
       "    <tr>\n",
       "      <th>1032</th>\n",
       "      <td>1</td>\n",
       "      <td>3.191524</td>\n",
       "      <td>NaN</td>\n",
       "      <td>174.00</td>\n",
       "      <td>2007</td>\n",
       "    </tr>\n",
       "    <tr>\n",
       "      <th>1033</th>\n",
       "      <td>1</td>\n",
       "      <td>4.125083</td>\n",
       "      <td>NaN</td>\n",
       "      <td>293.00</td>\n",
       "      <td>2008</td>\n",
       "    </tr>\n",
       "    <tr>\n",
       "      <th>1034</th>\n",
       "      <td>1</td>\n",
       "      <td>4.187757</td>\n",
       "      <td>NaN</td>\n",
       "      <td>260.00</td>\n",
       "      <td>2008</td>\n",
       "    </tr>\n",
       "  </tbody>\n",
       "</table>\n",
       "<p>1035 rows × 5 columns</p>\n",
       "</div>"
      ],
      "text/plain": [
       "      number  orbital_period   mass  distance  year\n",
       "0          1      269.300000   7.10     77.40  2006\n",
       "1          1      874.774000   2.21     56.95  2008\n",
       "2          1      763.000000   2.60     19.84  2011\n",
       "3          1      326.030000  19.40    110.62  2007\n",
       "4          1      516.220000  10.50    119.47  2009\n",
       "...      ...             ...    ...       ...   ...\n",
       "1030       1        3.941507    NaN    172.00  2006\n",
       "1031       1        2.615864    NaN    148.00  2007\n",
       "1032       1        3.191524    NaN    174.00  2007\n",
       "1033       1        4.125083    NaN    293.00  2008\n",
       "1034       1        4.187757    NaN    260.00  2008\n",
       "\n",
       "[1035 rows x 5 columns]"
      ]
     },
     "execution_count": 40,
     "metadata": {},
     "output_type": "execute_result"
    }
   ],
   "source": [
    "df_num = df.select_dtypes(include = [\"float64\", \"int64\"])\n",
    "df_num"
   ]
  },
  {
   "cell_type": "code",
   "execution_count": 41,
   "id": "7c8ad6cc",
   "metadata": {
    "execution": {
     "iopub.execute_input": "2023-07-30T14:57:24.627224Z",
     "iopub.status.busy": "2023-07-30T14:57:24.626849Z",
     "iopub.status.idle": "2023-07-30T14:57:24.653117Z",
     "shell.execute_reply": "2023-07-30T14:57:24.652199Z"
    },
    "papermill": {
     "duration": 0.053236,
     "end_time": "2023-07-30T14:57:24.655114",
     "exception": false,
     "start_time": "2023-07-30T14:57:24.601878",
     "status": "completed"
    },
    "tags": []
   },
   "outputs": [
    {
     "data": {
      "text/html": [
       "<div>\n",
       "<style scoped>\n",
       "    .dataframe tbody tr th:only-of-type {\n",
       "        vertical-align: middle;\n",
       "    }\n",
       "\n",
       "    .dataframe tbody tr th {\n",
       "        vertical-align: top;\n",
       "    }\n",
       "\n",
       "    .dataframe thead th {\n",
       "        text-align: right;\n",
       "    }\n",
       "</style>\n",
       "<table border=\"1\" class=\"dataframe\">\n",
       "  <thead>\n",
       "    <tr style=\"text-align: right;\">\n",
       "      <th></th>\n",
       "      <th>count</th>\n",
       "      <th>mean</th>\n",
       "      <th>std</th>\n",
       "      <th>min</th>\n",
       "      <th>25%</th>\n",
       "      <th>50%</th>\n",
       "      <th>75%</th>\n",
       "      <th>max</th>\n",
       "    </tr>\n",
       "  </thead>\n",
       "  <tbody>\n",
       "    <tr>\n",
       "      <th>number</th>\n",
       "      <td>1035.0</td>\n",
       "      <td>1.785507</td>\n",
       "      <td>1.240976</td>\n",
       "      <td>1.000000</td>\n",
       "      <td>1.00000</td>\n",
       "      <td>1.0000</td>\n",
       "      <td>2.000</td>\n",
       "      <td>7.0</td>\n",
       "    </tr>\n",
       "    <tr>\n",
       "      <th>orbital_period</th>\n",
       "      <td>992.0</td>\n",
       "      <td>2002.917596</td>\n",
       "      <td>26014.728304</td>\n",
       "      <td>0.090706</td>\n",
       "      <td>5.44254</td>\n",
       "      <td>39.9795</td>\n",
       "      <td>526.005</td>\n",
       "      <td>730000.0</td>\n",
       "    </tr>\n",
       "    <tr>\n",
       "      <th>mass</th>\n",
       "      <td>513.0</td>\n",
       "      <td>2.638161</td>\n",
       "      <td>3.818617</td>\n",
       "      <td>0.003600</td>\n",
       "      <td>0.22900</td>\n",
       "      <td>1.2600</td>\n",
       "      <td>3.040</td>\n",
       "      <td>25.0</td>\n",
       "    </tr>\n",
       "    <tr>\n",
       "      <th>distance</th>\n",
       "      <td>808.0</td>\n",
       "      <td>264.069282</td>\n",
       "      <td>733.116493</td>\n",
       "      <td>1.350000</td>\n",
       "      <td>32.56000</td>\n",
       "      <td>55.2500</td>\n",
       "      <td>178.500</td>\n",
       "      <td>8500.0</td>\n",
       "    </tr>\n",
       "    <tr>\n",
       "      <th>year</th>\n",
       "      <td>1035.0</td>\n",
       "      <td>2009.070531</td>\n",
       "      <td>3.972567</td>\n",
       "      <td>1989.000000</td>\n",
       "      <td>2007.00000</td>\n",
       "      <td>2010.0000</td>\n",
       "      <td>2012.000</td>\n",
       "      <td>2014.0</td>\n",
       "    </tr>\n",
       "  </tbody>\n",
       "</table>\n",
       "</div>"
      ],
      "text/plain": [
       "                 count         mean           std          min         25%  \\\n",
       "number          1035.0     1.785507      1.240976     1.000000     1.00000   \n",
       "orbital_period   992.0  2002.917596  26014.728304     0.090706     5.44254   \n",
       "mass             513.0     2.638161      3.818617     0.003600     0.22900   \n",
       "distance         808.0   264.069282    733.116493     1.350000    32.56000   \n",
       "year            1035.0  2009.070531      3.972567  1989.000000  2007.00000   \n",
       "\n",
       "                      50%       75%       max  \n",
       "number             1.0000     2.000       7.0  \n",
       "orbital_period    39.9795   526.005  730000.0  \n",
       "mass               1.2600     3.040      25.0  \n",
       "distance          55.2500   178.500    8500.0  \n",
       "year            2010.0000  2012.000    2014.0  "
      ]
     },
     "execution_count": 41,
     "metadata": {},
     "output_type": "execute_result"
    }
   ],
   "source": [
    "df_num.describe().T"
   ]
  },
  {
   "cell_type": "code",
   "execution_count": 42,
   "id": "e87e5c1e",
   "metadata": {
    "execution": {
     "iopub.execute_input": "2023-07-30T14:57:24.705573Z",
     "iopub.status.busy": "2023-07-30T14:57:24.704663Z",
     "iopub.status.idle": "2023-07-30T14:57:24.715080Z",
     "shell.execute_reply": "2023-07-30T14:57:24.714006Z"
    },
    "papermill": {
     "duration": 0.037696,
     "end_time": "2023-07-30T14:57:24.717241",
     "exception": false,
     "start_time": "2023-07-30T14:57:24.679545",
     "status": "completed"
    },
    "tags": []
   },
   "outputs": [
    {
     "data": {
      "text/plain": [
       "count    1035.000000\n",
       "mean     2009.070531\n",
       "std         3.972567\n",
       "min      1989.000000\n",
       "25%      2007.000000\n",
       "50%      2010.000000\n",
       "75%      2012.000000\n",
       "max      2014.000000\n",
       "Name: year, dtype: float64"
      ]
     },
     "execution_count": 42,
     "metadata": {},
     "output_type": "execute_result"
    }
   ],
   "source": [
    "df_num[\"year\"].describe()"
   ]
  },
  {
   "cell_type": "code",
   "execution_count": 43,
   "id": "0751902a",
   "metadata": {
    "execution": {
     "iopub.execute_input": "2023-07-30T14:57:24.768705Z",
     "iopub.status.busy": "2023-07-30T14:57:24.767776Z",
     "iopub.status.idle": "2023-07-30T14:57:24.778542Z",
     "shell.execute_reply": "2023-07-30T14:57:24.777520Z"
    },
    "papermill": {
     "duration": 0.03828,
     "end_time": "2023-07-30T14:57:24.780560",
     "exception": false,
     "start_time": "2023-07-30T14:57:24.742280",
     "status": "completed"
    },
    "tags": []
   },
   "outputs": [
    {
     "data": {
      "text/plain": [
       "count     808.000000\n",
       "mean      264.069282\n",
       "std       733.116493\n",
       "min         1.350000\n",
       "25%        32.560000\n",
       "50%        55.250000\n",
       "75%       178.500000\n",
       "max      8500.000000\n",
       "Name: distance, dtype: float64"
      ]
     },
     "execution_count": 43,
     "metadata": {},
     "output_type": "execute_result"
    }
   ],
   "source": [
    "df_num[\"distance\"].describe()"
   ]
  },
  {
   "cell_type": "code",
   "execution_count": 44,
   "id": "3bd2ead4",
   "metadata": {
    "execution": {
     "iopub.execute_input": "2023-07-30T14:57:24.833143Z",
     "iopub.status.busy": "2023-07-30T14:57:24.832767Z",
     "iopub.status.idle": "2023-07-30T14:57:24.838838Z",
     "shell.execute_reply": "2023-07-30T14:57:24.837911Z"
    },
    "papermill": {
     "duration": 0.034003,
     "end_time": "2023-07-30T14:57:24.841335",
     "exception": false,
     "start_time": "2023-07-30T14:57:24.807332",
     "status": "completed"
    },
    "tags": []
   },
   "outputs": [
    {
     "name": "stdout",
     "output_type": "stream",
     "text": [
      "Max distance :  8500.0\n"
     ]
    }
   ],
   "source": [
    "print(\"Max distance : \", df_num[\"distance\"].max())"
   ]
  },
  {
   "cell_type": "code",
   "execution_count": 45,
   "id": "874efd1f",
   "metadata": {
    "execution": {
     "iopub.execute_input": "2023-07-30T14:57:24.892347Z",
     "iopub.status.busy": "2023-07-30T14:57:24.891525Z",
     "iopub.status.idle": "2023-07-30T14:57:24.896031Z",
     "shell.execute_reply": "2023-07-30T14:57:24.895120Z"
    },
    "papermill": {
     "duration": 0.031923,
     "end_time": "2023-07-30T14:57:24.898042",
     "exception": false,
     "start_time": "2023-07-30T14:57:24.866119",
     "status": "completed"
    },
    "tags": []
   },
   "outputs": [],
   "source": [
    "# plots"
   ]
  },
  {
   "cell_type": "code",
   "execution_count": 46,
   "id": "a6db4515",
   "metadata": {
    "execution": {
     "iopub.execute_input": "2023-07-30T14:57:24.948116Z",
     "iopub.status.busy": "2023-07-30T14:57:24.947248Z",
     "iopub.status.idle": "2023-07-30T14:57:24.952298Z",
     "shell.execute_reply": "2023-07-30T14:57:24.951401Z"
    },
    "papermill": {
     "duration": 0.032197,
     "end_time": "2023-07-30T14:57:24.954338",
     "exception": false,
     "start_time": "2023-07-30T14:57:24.922141",
     "status": "completed"
    },
    "tags": []
   },
   "outputs": [],
   "source": [
    "import seaborn as sns"
   ]
  },
  {
   "cell_type": "code",
   "execution_count": 47,
   "id": "196e12cb",
   "metadata": {
    "execution": {
     "iopub.execute_input": "2023-07-30T14:57:25.004790Z",
     "iopub.status.busy": "2023-07-30T14:57:25.003853Z",
     "iopub.status.idle": "2023-07-30T14:57:25.767837Z",
     "shell.execute_reply": "2023-07-30T14:57:25.766916Z"
    },
    "papermill": {
     "duration": 0.791561,
     "end_time": "2023-07-30T14:57:25.769934",
     "exception": false,
     "start_time": "2023-07-30T14:57:24.978373",
     "status": "completed"
    },
    "tags": []
   },
   "outputs": [
    {
     "data": {
      "text/html": [
       "<div>\n",
       "<style scoped>\n",
       "    .dataframe tbody tr th:only-of-type {\n",
       "        vertical-align: middle;\n",
       "    }\n",
       "\n",
       "    .dataframe tbody tr th {\n",
       "        vertical-align: top;\n",
       "    }\n",
       "\n",
       "    .dataframe thead th {\n",
       "        text-align: right;\n",
       "    }\n",
       "</style>\n",
       "<table border=\"1\" class=\"dataframe\">\n",
       "  <thead>\n",
       "    <tr style=\"text-align: right;\">\n",
       "      <th></th>\n",
       "      <th>carat</th>\n",
       "      <th>cut</th>\n",
       "      <th>color</th>\n",
       "      <th>clarity</th>\n",
       "      <th>depth</th>\n",
       "      <th>table</th>\n",
       "      <th>price</th>\n",
       "      <th>x</th>\n",
       "      <th>y</th>\n",
       "      <th>z</th>\n",
       "    </tr>\n",
       "  </thead>\n",
       "  <tbody>\n",
       "    <tr>\n",
       "      <th>0</th>\n",
       "      <td>0.23</td>\n",
       "      <td>Ideal</td>\n",
       "      <td>E</td>\n",
       "      <td>SI2</td>\n",
       "      <td>61.5</td>\n",
       "      <td>55.0</td>\n",
       "      <td>326</td>\n",
       "      <td>3.95</td>\n",
       "      <td>3.98</td>\n",
       "      <td>2.43</td>\n",
       "    </tr>\n",
       "    <tr>\n",
       "      <th>1</th>\n",
       "      <td>0.21</td>\n",
       "      <td>Premium</td>\n",
       "      <td>E</td>\n",
       "      <td>SI1</td>\n",
       "      <td>59.8</td>\n",
       "      <td>61.0</td>\n",
       "      <td>326</td>\n",
       "      <td>3.89</td>\n",
       "      <td>3.84</td>\n",
       "      <td>2.31</td>\n",
       "    </tr>\n",
       "    <tr>\n",
       "      <th>2</th>\n",
       "      <td>0.23</td>\n",
       "      <td>Good</td>\n",
       "      <td>E</td>\n",
       "      <td>VS1</td>\n",
       "      <td>56.9</td>\n",
       "      <td>65.0</td>\n",
       "      <td>327</td>\n",
       "      <td>4.05</td>\n",
       "      <td>4.07</td>\n",
       "      <td>2.31</td>\n",
       "    </tr>\n",
       "    <tr>\n",
       "      <th>3</th>\n",
       "      <td>0.29</td>\n",
       "      <td>Premium</td>\n",
       "      <td>I</td>\n",
       "      <td>VS2</td>\n",
       "      <td>62.4</td>\n",
       "      <td>58.0</td>\n",
       "      <td>334</td>\n",
       "      <td>4.20</td>\n",
       "      <td>4.23</td>\n",
       "      <td>2.63</td>\n",
       "    </tr>\n",
       "    <tr>\n",
       "      <th>4</th>\n",
       "      <td>0.31</td>\n",
       "      <td>Good</td>\n",
       "      <td>J</td>\n",
       "      <td>SI2</td>\n",
       "      <td>63.3</td>\n",
       "      <td>58.0</td>\n",
       "      <td>335</td>\n",
       "      <td>4.34</td>\n",
       "      <td>4.35</td>\n",
       "      <td>2.75</td>\n",
       "    </tr>\n",
       "  </tbody>\n",
       "</table>\n",
       "</div>"
      ],
      "text/plain": [
       "   carat      cut color clarity  depth  table  price     x     y     z\n",
       "0   0.23    Ideal     E     SI2   61.5   55.0    326  3.95  3.98  2.43\n",
       "1   0.21  Premium     E     SI1   59.8   61.0    326  3.89  3.84  2.31\n",
       "2   0.23     Good     E     VS1   56.9   65.0    327  4.05  4.07  2.31\n",
       "3   0.29  Premium     I     VS2   62.4   58.0    334  4.20  4.23  2.63\n",
       "4   0.31     Good     J     SI2   63.3   58.0    335  4.34  4.35  2.75"
      ]
     },
     "execution_count": 47,
     "metadata": {},
     "output_type": "execute_result"
    }
   ],
   "source": [
    "diamonds = sns.load_dataset(\"diamonds\")\n",
    "df = diamonds.copy()\n",
    "df.head()"
   ]
  },
  {
   "cell_type": "code",
   "execution_count": 48,
   "id": "497ffdd7",
   "metadata": {
    "execution": {
     "iopub.execute_input": "2023-07-30T14:57:25.827195Z",
     "iopub.status.busy": "2023-07-30T14:57:25.826811Z",
     "iopub.status.idle": "2023-07-30T14:57:25.842118Z",
     "shell.execute_reply": "2023-07-30T14:57:25.840360Z"
    },
    "papermill": {
     "duration": 0.045742,
     "end_time": "2023-07-30T14:57:25.844241",
     "exception": false,
     "start_time": "2023-07-30T14:57:25.798499",
     "status": "completed"
    },
    "tags": []
   },
   "outputs": [
    {
     "name": "stdout",
     "output_type": "stream",
     "text": [
      "<class 'pandas.core.frame.DataFrame'>\n",
      "RangeIndex: 53940 entries, 0 to 53939\n",
      "Data columns (total 10 columns):\n",
      " #   Column   Non-Null Count  Dtype   \n",
      "---  ------   --------------  -----   \n",
      " 0   carat    53940 non-null  float64 \n",
      " 1   cut      53940 non-null  category\n",
      " 2   color    53940 non-null  category\n",
      " 3   clarity  53940 non-null  category\n",
      " 4   depth    53940 non-null  float64 \n",
      " 5   table    53940 non-null  float64 \n",
      " 6   price    53940 non-null  int64   \n",
      " 7   x        53940 non-null  float64 \n",
      " 8   y        53940 non-null  float64 \n",
      " 9   z        53940 non-null  float64 \n",
      "dtypes: category(3), float64(6), int64(1)\n",
      "memory usage: 3.0 MB\n"
     ]
    }
   ],
   "source": [
    "df.info()"
   ]
  },
  {
   "cell_type": "code",
   "execution_count": 49,
   "id": "fa7901bc",
   "metadata": {
    "execution": {
     "iopub.execute_input": "2023-07-30T14:57:25.896646Z",
     "iopub.status.busy": "2023-07-30T14:57:25.895725Z",
     "iopub.status.idle": "2023-07-30T14:57:25.943325Z",
     "shell.execute_reply": "2023-07-30T14:57:25.942128Z"
    },
    "papermill": {
     "duration": 0.076585,
     "end_time": "2023-07-30T14:57:25.946384",
     "exception": false,
     "start_time": "2023-07-30T14:57:25.869799",
     "status": "completed"
    },
    "tags": []
   },
   "outputs": [
    {
     "data": {
      "text/html": [
       "<div>\n",
       "<style scoped>\n",
       "    .dataframe tbody tr th:only-of-type {\n",
       "        vertical-align: middle;\n",
       "    }\n",
       "\n",
       "    .dataframe tbody tr th {\n",
       "        vertical-align: top;\n",
       "    }\n",
       "\n",
       "    .dataframe thead th {\n",
       "        text-align: right;\n",
       "    }\n",
       "</style>\n",
       "<table border=\"1\" class=\"dataframe\">\n",
       "  <thead>\n",
       "    <tr style=\"text-align: right;\">\n",
       "      <th></th>\n",
       "      <th>count</th>\n",
       "      <th>mean</th>\n",
       "      <th>std</th>\n",
       "      <th>min</th>\n",
       "      <th>25%</th>\n",
       "      <th>50%</th>\n",
       "      <th>75%</th>\n",
       "      <th>max</th>\n",
       "    </tr>\n",
       "  </thead>\n",
       "  <tbody>\n",
       "    <tr>\n",
       "      <th>carat</th>\n",
       "      <td>53940.0</td>\n",
       "      <td>0.797940</td>\n",
       "      <td>0.474011</td>\n",
       "      <td>0.2</td>\n",
       "      <td>0.40</td>\n",
       "      <td>0.70</td>\n",
       "      <td>1.04</td>\n",
       "      <td>5.01</td>\n",
       "    </tr>\n",
       "    <tr>\n",
       "      <th>depth</th>\n",
       "      <td>53940.0</td>\n",
       "      <td>61.749405</td>\n",
       "      <td>1.432621</td>\n",
       "      <td>43.0</td>\n",
       "      <td>61.00</td>\n",
       "      <td>61.80</td>\n",
       "      <td>62.50</td>\n",
       "      <td>79.00</td>\n",
       "    </tr>\n",
       "    <tr>\n",
       "      <th>table</th>\n",
       "      <td>53940.0</td>\n",
       "      <td>57.457184</td>\n",
       "      <td>2.234491</td>\n",
       "      <td>43.0</td>\n",
       "      <td>56.00</td>\n",
       "      <td>57.00</td>\n",
       "      <td>59.00</td>\n",
       "      <td>95.00</td>\n",
       "    </tr>\n",
       "    <tr>\n",
       "      <th>price</th>\n",
       "      <td>53940.0</td>\n",
       "      <td>3932.799722</td>\n",
       "      <td>3989.439738</td>\n",
       "      <td>326.0</td>\n",
       "      <td>950.00</td>\n",
       "      <td>2401.00</td>\n",
       "      <td>5324.25</td>\n",
       "      <td>18823.00</td>\n",
       "    </tr>\n",
       "    <tr>\n",
       "      <th>x</th>\n",
       "      <td>53940.0</td>\n",
       "      <td>5.731157</td>\n",
       "      <td>1.121761</td>\n",
       "      <td>0.0</td>\n",
       "      <td>4.71</td>\n",
       "      <td>5.70</td>\n",
       "      <td>6.54</td>\n",
       "      <td>10.74</td>\n",
       "    </tr>\n",
       "    <tr>\n",
       "      <th>y</th>\n",
       "      <td>53940.0</td>\n",
       "      <td>5.734526</td>\n",
       "      <td>1.142135</td>\n",
       "      <td>0.0</td>\n",
       "      <td>4.72</td>\n",
       "      <td>5.71</td>\n",
       "      <td>6.54</td>\n",
       "      <td>58.90</td>\n",
       "    </tr>\n",
       "    <tr>\n",
       "      <th>z</th>\n",
       "      <td>53940.0</td>\n",
       "      <td>3.538734</td>\n",
       "      <td>0.705699</td>\n",
       "      <td>0.0</td>\n",
       "      <td>2.91</td>\n",
       "      <td>3.53</td>\n",
       "      <td>4.04</td>\n",
       "      <td>31.80</td>\n",
       "    </tr>\n",
       "  </tbody>\n",
       "</table>\n",
       "</div>"
      ],
      "text/plain": [
       "         count         mean          std    min     25%      50%      75%  \\\n",
       "carat  53940.0     0.797940     0.474011    0.2    0.40     0.70     1.04   \n",
       "depth  53940.0    61.749405     1.432621   43.0   61.00    61.80    62.50   \n",
       "table  53940.0    57.457184     2.234491   43.0   56.00    57.00    59.00   \n",
       "price  53940.0  3932.799722  3989.439738  326.0  950.00  2401.00  5324.25   \n",
       "x      53940.0     5.731157     1.121761    0.0    4.71     5.70     6.54   \n",
       "y      53940.0     5.734526     1.142135    0.0    4.72     5.71     6.54   \n",
       "z      53940.0     3.538734     0.705699    0.0    2.91     3.53     4.04   \n",
       "\n",
       "            max  \n",
       "carat      5.01  \n",
       "depth     79.00  \n",
       "table     95.00  \n",
       "price  18823.00  \n",
       "x         10.74  \n",
       "y         58.90  \n",
       "z         31.80  "
      ]
     },
     "execution_count": 49,
     "metadata": {},
     "output_type": "execute_result"
    }
   ],
   "source": [
    "df.describe().T"
   ]
  },
  {
   "cell_type": "code",
   "execution_count": 50,
   "id": "f1de0137",
   "metadata": {
    "execution": {
     "iopub.execute_input": "2023-07-30T14:57:26.001165Z",
     "iopub.status.busy": "2023-07-30T14:57:26.000272Z",
     "iopub.status.idle": "2023-07-30T14:57:26.016886Z",
     "shell.execute_reply": "2023-07-30T14:57:26.015929Z"
    },
    "papermill": {
     "duration": 0.045019,
     "end_time": "2023-07-30T14:57:26.019261",
     "exception": false,
     "start_time": "2023-07-30T14:57:25.974242",
     "status": "completed"
    },
    "tags": []
   },
   "outputs": [
    {
     "data": {
      "text/html": [
       "<div>\n",
       "<style scoped>\n",
       "    .dataframe tbody tr th:only-of-type {\n",
       "        vertical-align: middle;\n",
       "    }\n",
       "\n",
       "    .dataframe tbody tr th {\n",
       "        vertical-align: top;\n",
       "    }\n",
       "\n",
       "    .dataframe thead th {\n",
       "        text-align: right;\n",
       "    }\n",
       "</style>\n",
       "<table border=\"1\" class=\"dataframe\">\n",
       "  <thead>\n",
       "    <tr style=\"text-align: right;\">\n",
       "      <th></th>\n",
       "      <th>carat</th>\n",
       "      <th>cut</th>\n",
       "      <th>color</th>\n",
       "      <th>clarity</th>\n",
       "      <th>depth</th>\n",
       "      <th>table</th>\n",
       "      <th>price</th>\n",
       "      <th>x</th>\n",
       "      <th>y</th>\n",
       "      <th>z</th>\n",
       "    </tr>\n",
       "  </thead>\n",
       "  <tbody>\n",
       "    <tr>\n",
       "      <th>0</th>\n",
       "      <td>0.23</td>\n",
       "      <td>Ideal</td>\n",
       "      <td>E</td>\n",
       "      <td>SI2</td>\n",
       "      <td>61.5</td>\n",
       "      <td>55.0</td>\n",
       "      <td>326</td>\n",
       "      <td>3.95</td>\n",
       "      <td>3.98</td>\n",
       "      <td>2.43</td>\n",
       "    </tr>\n",
       "    <tr>\n",
       "      <th>1</th>\n",
       "      <td>0.21</td>\n",
       "      <td>Premium</td>\n",
       "      <td>E</td>\n",
       "      <td>SI1</td>\n",
       "      <td>59.8</td>\n",
       "      <td>61.0</td>\n",
       "      <td>326</td>\n",
       "      <td>3.89</td>\n",
       "      <td>3.84</td>\n",
       "      <td>2.31</td>\n",
       "    </tr>\n",
       "    <tr>\n",
       "      <th>2</th>\n",
       "      <td>0.23</td>\n",
       "      <td>Good</td>\n",
       "      <td>E</td>\n",
       "      <td>VS1</td>\n",
       "      <td>56.9</td>\n",
       "      <td>65.0</td>\n",
       "      <td>327</td>\n",
       "      <td>4.05</td>\n",
       "      <td>4.07</td>\n",
       "      <td>2.31</td>\n",
       "    </tr>\n",
       "    <tr>\n",
       "      <th>3</th>\n",
       "      <td>0.29</td>\n",
       "      <td>Premium</td>\n",
       "      <td>I</td>\n",
       "      <td>VS2</td>\n",
       "      <td>62.4</td>\n",
       "      <td>58.0</td>\n",
       "      <td>334</td>\n",
       "      <td>4.20</td>\n",
       "      <td>4.23</td>\n",
       "      <td>2.63</td>\n",
       "    </tr>\n",
       "    <tr>\n",
       "      <th>4</th>\n",
       "      <td>0.31</td>\n",
       "      <td>Good</td>\n",
       "      <td>J</td>\n",
       "      <td>SI2</td>\n",
       "      <td>63.3</td>\n",
       "      <td>58.0</td>\n",
       "      <td>335</td>\n",
       "      <td>4.34</td>\n",
       "      <td>4.35</td>\n",
       "      <td>2.75</td>\n",
       "    </tr>\n",
       "  </tbody>\n",
       "</table>\n",
       "</div>"
      ],
      "text/plain": [
       "   carat      cut color clarity  depth  table  price     x     y     z\n",
       "0   0.23    Ideal     E     SI2   61.5   55.0    326  3.95  3.98  2.43\n",
       "1   0.21  Premium     E     SI1   59.8   61.0    326  3.89  3.84  2.31\n",
       "2   0.23     Good     E     VS1   56.9   65.0    327  4.05  4.07  2.31\n",
       "3   0.29  Premium     I     VS2   62.4   58.0    334  4.20  4.23  2.63\n",
       "4   0.31     Good     J     SI2   63.3   58.0    335  4.34  4.35  2.75"
      ]
     },
     "execution_count": 50,
     "metadata": {},
     "output_type": "execute_result"
    }
   ],
   "source": [
    "df.head()"
   ]
  },
  {
   "cell_type": "code",
   "execution_count": 51,
   "id": "73bd19a7",
   "metadata": {
    "execution": {
     "iopub.execute_input": "2023-07-30T14:57:26.072390Z",
     "iopub.status.busy": "2023-07-30T14:57:26.071456Z",
     "iopub.status.idle": "2023-07-30T14:57:26.080384Z",
     "shell.execute_reply": "2023-07-30T14:57:26.079393Z"
    },
    "papermill": {
     "duration": 0.037277,
     "end_time": "2023-07-30T14:57:26.082368",
     "exception": false,
     "start_time": "2023-07-30T14:57:26.045091",
     "status": "completed"
    },
    "tags": []
   },
   "outputs": [
    {
     "data": {
      "text/plain": [
       "Ideal        21551\n",
       "Premium      13791\n",
       "Very Good    12082\n",
       "Good          4906\n",
       "Fair          1610\n",
       "Name: cut, dtype: int64"
      ]
     },
     "execution_count": 51,
     "metadata": {},
     "output_type": "execute_result"
    }
   ],
   "source": [
    "df[\"cut\"].value_counts()"
   ]
  },
  {
   "cell_type": "code",
   "execution_count": 52,
   "id": "87cb3fbb",
   "metadata": {
    "execution": {
     "iopub.execute_input": "2023-07-30T14:57:26.134815Z",
     "iopub.status.busy": "2023-07-30T14:57:26.133875Z",
     "iopub.status.idle": "2023-07-30T14:57:26.142928Z",
     "shell.execute_reply": "2023-07-30T14:57:26.141963Z"
    },
    "papermill": {
     "duration": 0.037522,
     "end_time": "2023-07-30T14:57:26.144966",
     "exception": false,
     "start_time": "2023-07-30T14:57:26.107444",
     "status": "completed"
    },
    "tags": []
   },
   "outputs": [
    {
     "data": {
      "text/plain": [
       "SI1     13065\n",
       "VS2     12258\n",
       "SI2      9194\n",
       "VS1      8171\n",
       "VVS2     5066\n",
       "VVS1     3655\n",
       "IF       1790\n",
       "I1        741\n",
       "Name: clarity, dtype: int64"
      ]
     },
     "execution_count": 52,
     "metadata": {},
     "output_type": "execute_result"
    }
   ],
   "source": [
    "df[\"clarity\"].value_counts()"
   ]
  },
  {
   "cell_type": "code",
   "execution_count": 53,
   "id": "6bf6e948",
   "metadata": {
    "execution": {
     "iopub.execute_input": "2023-07-30T14:57:26.197256Z",
     "iopub.status.busy": "2023-07-30T14:57:26.196917Z",
     "iopub.status.idle": "2023-07-30T14:57:26.201376Z",
     "shell.execute_reply": "2023-07-30T14:57:26.200340Z"
    },
    "papermill": {
     "duration": 0.033434,
     "end_time": "2023-07-30T14:57:26.203416",
     "exception": false,
     "start_time": "2023-07-30T14:57:26.169982",
     "status": "completed"
    },
    "tags": []
   },
   "outputs": [],
   "source": [
    "# ordinal\n",
    "\n",
    "from pandas.api.types import CategoricalDtype"
   ]
  },
  {
   "cell_type": "code",
   "execution_count": 54,
   "id": "74410574",
   "metadata": {
    "execution": {
     "iopub.execute_input": "2023-07-30T14:57:26.256608Z",
     "iopub.status.busy": "2023-07-30T14:57:26.255678Z",
     "iopub.status.idle": "2023-07-30T14:57:26.263821Z",
     "shell.execute_reply": "2023-07-30T14:57:26.262830Z"
    },
    "papermill": {
     "duration": 0.037186,
     "end_time": "2023-07-30T14:57:26.265961",
     "exception": false,
     "start_time": "2023-07-30T14:57:26.228775",
     "status": "completed"
    },
    "tags": []
   },
   "outputs": [
    {
     "data": {
      "text/plain": [
       "0      Ideal\n",
       "1    Premium\n",
       "2       Good\n",
       "3    Premium\n",
       "4       Good\n",
       "Name: cut, dtype: category\n",
       "Categories (5, object): ['Ideal', 'Premium', 'Very Good', 'Good', 'Fair']"
      ]
     },
     "execution_count": 54,
     "metadata": {},
     "output_type": "execute_result"
    }
   ],
   "source": [
    "df.cut.head()"
   ]
  },
  {
   "cell_type": "code",
   "execution_count": 55,
   "id": "ff20c785",
   "metadata": {
    "execution": {
     "iopub.execute_input": "2023-07-30T14:57:26.318823Z",
     "iopub.status.busy": "2023-07-30T14:57:26.318486Z",
     "iopub.status.idle": "2023-07-30T14:57:26.323543Z",
     "shell.execute_reply": "2023-07-30T14:57:26.322657Z"
    },
    "papermill": {
     "duration": 0.033682,
     "end_time": "2023-07-30T14:57:26.325530",
     "exception": false,
     "start_time": "2023-07-30T14:57:26.291848",
     "status": "completed"
    },
    "tags": []
   },
   "outputs": [],
   "source": [
    "df.cut = df.cut.astype(CategoricalDtype(ordered = True))"
   ]
  },
  {
   "cell_type": "code",
   "execution_count": 56,
   "id": "4c6c5887",
   "metadata": {
    "execution": {
     "iopub.execute_input": "2023-07-30T14:57:26.378304Z",
     "iopub.status.busy": "2023-07-30T14:57:26.377258Z",
     "iopub.status.idle": "2023-07-30T14:57:26.385145Z",
     "shell.execute_reply": "2023-07-30T14:57:26.384203Z"
    },
    "papermill": {
     "duration": 0.036761,
     "end_time": "2023-07-30T14:57:26.387374",
     "exception": false,
     "start_time": "2023-07-30T14:57:26.350613",
     "status": "completed"
    },
    "tags": []
   },
   "outputs": [
    {
     "data": {
      "text/plain": [
       "carat       float64\n",
       "cut        category\n",
       "color      category\n",
       "clarity    category\n",
       "depth       float64\n",
       "table       float64\n",
       "price         int64\n",
       "x           float64\n",
       "y           float64\n",
       "z           float64\n",
       "dtype: object"
      ]
     },
     "execution_count": 56,
     "metadata": {},
     "output_type": "execute_result"
    }
   ],
   "source": [
    "df.dtypes"
   ]
  },
  {
   "cell_type": "code",
   "execution_count": 57,
   "id": "ec37eb8c",
   "metadata": {
    "execution": {
     "iopub.execute_input": "2023-07-30T14:57:26.440917Z",
     "iopub.status.busy": "2023-07-30T14:57:26.439968Z",
     "iopub.status.idle": "2023-07-30T14:57:26.448764Z",
     "shell.execute_reply": "2023-07-30T14:57:26.447736Z"
    },
    "papermill": {
     "duration": 0.037642,
     "end_time": "2023-07-30T14:57:26.450806",
     "exception": false,
     "start_time": "2023-07-30T14:57:26.413164",
     "status": "completed"
    },
    "tags": []
   },
   "outputs": [
    {
     "data": {
      "text/plain": [
       "0    Ideal\n",
       "Name: cut, dtype: category\n",
       "Categories (5, object): ['Ideal' < 'Premium' < 'Very Good' < 'Good' < 'Fair']"
      ]
     },
     "execution_count": 57,
     "metadata": {},
     "output_type": "execute_result"
    }
   ],
   "source": [
    "df.cut.head(1)"
   ]
  },
  {
   "cell_type": "code",
   "execution_count": 58,
   "id": "b7d409f3",
   "metadata": {
    "execution": {
     "iopub.execute_input": "2023-07-30T14:57:26.504373Z",
     "iopub.status.busy": "2023-07-30T14:57:26.503474Z",
     "iopub.status.idle": "2023-07-30T14:57:26.511589Z",
     "shell.execute_reply": "2023-07-30T14:57:26.510580Z"
    },
    "papermill": {
     "duration": 0.036999,
     "end_time": "2023-07-30T14:57:26.513637",
     "exception": false,
     "start_time": "2023-07-30T14:57:26.476638",
     "status": "completed"
    },
    "tags": []
   },
   "outputs": [
    {
     "data": {
      "text/plain": [
       "0    E\n",
       "Name: color, dtype: category\n",
       "Categories (7, object): ['D', 'E', 'F', 'G', 'H', 'I', 'J']"
      ]
     },
     "execution_count": 58,
     "metadata": {},
     "output_type": "execute_result"
    }
   ],
   "source": [
    "df.color.head(1)"
   ]
  },
  {
   "cell_type": "code",
   "execution_count": 59,
   "id": "6c6e568e",
   "metadata": {
    "execution": {
     "iopub.execute_input": "2023-07-30T14:57:26.568037Z",
     "iopub.status.busy": "2023-07-30T14:57:26.567066Z",
     "iopub.status.idle": "2023-07-30T14:57:26.572294Z",
     "shell.execute_reply": "2023-07-30T14:57:26.571407Z"
    },
    "papermill": {
     "duration": 0.034515,
     "end_time": "2023-07-30T14:57:26.574314",
     "exception": false,
     "start_time": "2023-07-30T14:57:26.539799",
     "status": "completed"
    },
    "tags": []
   },
   "outputs": [],
   "source": [
    "cut_category = [\"Fair\", \"Good\", \"Very Good\", \"Premium\", \"Ideal\"]"
   ]
  },
  {
   "cell_type": "code",
   "execution_count": 60,
   "id": "ced3180a",
   "metadata": {
    "execution": {
     "iopub.execute_input": "2023-07-30T14:57:26.627661Z",
     "iopub.status.busy": "2023-07-30T14:57:26.627326Z",
     "iopub.status.idle": "2023-07-30T14:57:26.633511Z",
     "shell.execute_reply": "2023-07-30T14:57:26.632605Z"
    },
    "papermill": {
     "duration": 0.035004,
     "end_time": "2023-07-30T14:57:26.635575",
     "exception": false,
     "start_time": "2023-07-30T14:57:26.600571",
     "status": "completed"
    },
    "tags": []
   },
   "outputs": [],
   "source": [
    "df.cut = df.cut.astype(CategoricalDtype(ordered = True, categories = cut_category))"
   ]
  },
  {
   "cell_type": "code",
   "execution_count": 61,
   "id": "5a86cb33",
   "metadata": {
    "execution": {
     "iopub.execute_input": "2023-07-30T14:57:26.689572Z",
     "iopub.status.busy": "2023-07-30T14:57:26.688658Z",
     "iopub.status.idle": "2023-07-30T14:57:26.696777Z",
     "shell.execute_reply": "2023-07-30T14:57:26.695812Z"
    },
    "papermill": {
     "duration": 0.037093,
     "end_time": "2023-07-30T14:57:26.698781",
     "exception": false,
     "start_time": "2023-07-30T14:57:26.661688",
     "status": "completed"
    },
    "tags": []
   },
   "outputs": [
    {
     "data": {
      "text/plain": [
       "0      Ideal\n",
       "1    Premium\n",
       "2       Good\n",
       "3    Premium\n",
       "4       Good\n",
       "Name: cut, dtype: category\n",
       "Categories (5, object): ['Fair' < 'Good' < 'Very Good' < 'Premium' < 'Ideal']"
      ]
     },
     "execution_count": 61,
     "metadata": {},
     "output_type": "execute_result"
    }
   ],
   "source": [
    "df.cut.head()"
   ]
  },
  {
   "cell_type": "code",
   "execution_count": 62,
   "id": "ac8e9204",
   "metadata": {
    "execution": {
     "iopub.execute_input": "2023-07-30T14:57:26.752657Z",
     "iopub.status.busy": "2023-07-30T14:57:26.751763Z",
     "iopub.status.idle": "2023-07-30T14:57:26.756379Z",
     "shell.execute_reply": "2023-07-30T14:57:26.755516Z"
    },
    "papermill": {
     "duration": 0.033542,
     "end_time": "2023-07-30T14:57:26.758245",
     "exception": false,
     "start_time": "2023-07-30T14:57:26.724703",
     "status": "completed"
    },
    "tags": []
   },
   "outputs": [],
   "source": [
    "# barplot"
   ]
  },
  {
   "cell_type": "code",
   "execution_count": 63,
   "id": "078556a9",
   "metadata": {
    "execution": {
     "iopub.execute_input": "2023-07-30T14:57:26.814299Z",
     "iopub.status.busy": "2023-07-30T14:57:26.813315Z",
     "iopub.status.idle": "2023-07-30T14:57:27.069013Z",
     "shell.execute_reply": "2023-07-30T14:57:27.068103Z"
    },
    "papermill": {
     "duration": 0.287599,
     "end_time": "2023-07-30T14:57:27.071377",
     "exception": false,
     "start_time": "2023-07-30T14:57:26.783778",
     "status": "completed"
    },
    "tags": []
   },
   "outputs": [
    {
     "data": {
      "image/png": "[encoded data removed]",
      "text/plain": [
       "<Figure size 640x480 with 1 Axes>"
      ]
     },
     "metadata": {},
     "output_type": "display_data"
    }
   ],
   "source": [
    "(df[\"cut\"]\n",
    " .value_counts()\n",
    " .plot.barh()\n",
    " .set_title(\"Class frequencies of 'cut' variable \"));  # freq"
   ]
  },
  {
   "cell_type": "code",
   "execution_count": 64,
   "id": "c168e06f",
   "metadata": {
    "execution": {
     "iopub.execute_input": "2023-07-30T14:57:27.126251Z",
     "iopub.status.busy": "2023-07-30T14:57:27.125284Z",
     "iopub.status.idle": "2023-07-30T14:57:28.066526Z",
     "shell.execute_reply": "2023-07-30T14:57:28.065583Z"
    },
    "papermill": {
     "duration": 0.970892,
     "end_time": "2023-07-30T14:57:28.068842",
     "exception": false,
     "start_time": "2023-07-30T14:57:27.097950",
     "status": "completed"
    },
    "tags": []
   },
   "outputs": [
    {
     "data": {
      "text/plain": [
       "<Axes: xlabel='cut'>"
      ]
     },
     "execution_count": 64,
     "metadata": {},
     "output_type": "execute_result"
    },
    {
     "data": {
      "image/png": "[encoded data removed]",
      "text/plain": [
       "<Figure size 640x480 with 1 Axes>"
      ]
     },
     "metadata": {},
     "output_type": "display_data"
    }
   ],
   "source": [
    "sns.barplot(x = \"cut\", y = df.cut.index, data = df)"
   ]
  },
  {
   "cell_type": "code",
   "execution_count": 65,
   "id": "6fb8246d",
   "metadata": {
    "execution": {
     "iopub.execute_input": "2023-07-30T14:57:28.123769Z",
     "iopub.status.busy": "2023-07-30T14:57:28.123436Z",
     "iopub.status.idle": "2023-07-30T14:57:28.704353Z",
     "shell.execute_reply": "2023-07-30T14:57:28.703274Z"
    },
    "papermill": {
     "duration": 0.618095,
     "end_time": "2023-07-30T14:57:28.713757",
     "exception": false,
     "start_time": "2023-07-30T14:57:28.095662",
     "status": "completed"
    },
    "tags": []
   },
   "outputs": [
    {
     "name": "stderr",
     "output_type": "stream",
     "text": [
      "/opt/conda/lib/python3.10/site-packages/seaborn/axisgrid.py:118: UserWarning: The figure layout has changed to tight\n",
      "  self._figure.tight_layout(*args, **kwargs)\n"
     ]
    },
    {
     "data": {
      "image/png": "[encoded data removed]",
      "text/plain": [
       "<Figure size 500x500 with 1 Axes>"
      ]
     },
     "metadata": {},
     "output_type": "display_data"
    }
   ],
   "source": [
    "sns.catplot(x = \"cut\", y = \"price\", data = df);"
   ]
  },
  {
   "cell_type": "code",
   "execution_count": 66,
   "id": "b9a94a4c",
   "metadata": {
    "execution": {
     "iopub.execute_input": "2023-07-30T14:57:28.777323Z",
     "iopub.status.busy": "2023-07-30T14:57:28.775531Z",
     "iopub.status.idle": "2023-07-30T14:57:28.782931Z",
     "shell.execute_reply": "2023-07-30T14:57:28.781925Z"
    },
    "papermill": {
     "duration": 0.038413,
     "end_time": "2023-07-30T14:57:28.784939",
     "exception": false,
     "start_time": "2023-07-30T14:57:28.746526",
     "status": "completed"
    },
    "tags": []
   },
   "outputs": [
    {
     "data": {
      "text/plain": [
       "Index(['carat', 'cut', 'color', 'clarity', 'depth', 'table', 'price', 'x', 'y',\n",
       "       'z'],\n",
       "      dtype='object')"
      ]
     },
     "execution_count": 66,
     "metadata": {},
     "output_type": "execute_result"
    }
   ],
   "source": [
    "df.columns"
   ]
  },
  {
   "cell_type": "code",
   "execution_count": 67,
   "id": "4942c42a",
   "metadata": {
    "execution": {
     "iopub.execute_input": "2023-07-30T14:57:28.853953Z",
     "iopub.status.busy": "2023-07-30T14:57:28.853543Z",
     "iopub.status.idle": "2023-07-30T14:57:29.476968Z",
     "shell.execute_reply": "2023-07-30T14:57:29.476011Z"
    },
    "papermill": {
     "duration": 0.663193,
     "end_time": "2023-07-30T14:57:29.480717",
     "exception": false,
     "start_time": "2023-07-30T14:57:28.817524",
     "status": "completed"
    },
    "tags": []
   },
   "outputs": [
    {
     "name": "stderr",
     "output_type": "stream",
     "text": [
      "/opt/conda/lib/python3.10/site-packages/seaborn/axisgrid.py:118: UserWarning: The figure layout has changed to tight\n",
      "  self._figure.tight_layout(*args, **kwargs)\n"
     ]
    },
    {
     "data": {
      "image/png": "[encoded data removed]",
      "text/plain": [
       "<Figure size 500x500 with 1 Axes>"
      ]
     },
     "metadata": {},
     "output_type": "display_data"
    }
   ],
   "source": [
    "sns.catplot(x = \"cut\", y = \"price\", data = df);"
   ]
  },
  {
   "cell_type": "code",
   "execution_count": 68,
   "id": "a72d4d53",
   "metadata": {
    "execution": {
     "iopub.execute_input": "2023-07-30T14:57:29.540651Z",
     "iopub.status.busy": "2023-07-30T14:57:29.540283Z",
     "iopub.status.idle": "2023-07-30T14:57:31.736032Z",
     "shell.execute_reply": "2023-07-30T14:57:31.735001Z"
    },
    "papermill": {
     "duration": 2.22746,
     "end_time": "2023-07-30T14:57:31.738261",
     "exception": false,
     "start_time": "2023-07-30T14:57:29.510801",
     "status": "completed"
    },
    "tags": []
   },
   "outputs": [
    {
     "data": {
      "text/plain": [
       "<Axes: xlabel='cut', ylabel='price'>"
      ]
     },
     "execution_count": 68,
     "metadata": {},
     "output_type": "execute_result"
    },
    {
     "data": {
      "image/png": "[encoded data removed]",
      "text/plain": [
       "<Figure size 640x480 with 1 Axes>"
      ]
     },
     "metadata": {},
     "output_type": "display_data"
    }
   ],
   "source": [
    "sns.barplot(x = \"cut\", y = \"price\", hue = \"color\", data = df)"
   ]
  },
  {
   "cell_type": "code",
   "execution_count": 69,
   "id": "b79e54d0",
   "metadata": {
    "execution": {
     "iopub.execute_input": "2023-07-30T14:57:31.799202Z",
     "iopub.status.busy": "2023-07-30T14:57:31.798823Z",
     "iopub.status.idle": "2023-07-30T14:57:31.816423Z",
     "shell.execute_reply": "2023-07-30T14:57:31.815430Z"
    },
    "papermill": {
     "duration": 0.051234,
     "end_time": "2023-07-30T14:57:31.818477",
     "exception": false,
     "start_time": "2023-07-30T14:57:31.767243",
     "status": "completed"
    },
    "tags": []
   },
   "outputs": [
    {
     "data": {
      "text/plain": [
       "cut        color\n",
       "Fair       D        4291.061350\n",
       "           E        3682.312500\n",
       "           F        3827.003205\n",
       "           G        4239.254777\n",
       "           H        5135.683168\n",
       "           I        4685.445714\n",
       "           J        4975.655462\n",
       "Good       D        3405.382175\n",
       "           E        3423.644159\n",
       "           F        3495.750275\n",
       "           G        4123.482204\n",
       "           H        4276.254986\n",
       "           I        5078.532567\n",
       "           J        4574.172638\n",
       "Very Good  D        3470.467284\n",
       "           E        3214.652083\n",
       "           F        3778.820240\n",
       "           G        3872.753806\n",
       "           H        4535.390351\n",
       "           I        5255.879568\n",
       "           J        5103.513274\n",
       "Premium    D        3631.292576\n",
       "           E        3538.914420\n",
       "           F        4324.890176\n",
       "           G        4500.742134\n",
       "           H        5216.706780\n",
       "           I        5946.180672\n",
       "           J        6294.591584\n",
       "Ideal      D        2629.094566\n",
       "           E        2597.550090\n",
       "           F        3374.939362\n",
       "           G        3720.706388\n",
       "           H        3889.334831\n",
       "           I        4451.970377\n",
       "           J        4918.186384\n",
       "Name: price, dtype: float64"
      ]
     },
     "execution_count": 69,
     "metadata": {},
     "output_type": "execute_result"
    }
   ],
   "source": [
    "df.groupby([\"cut\", \"color\"])[\"price\"].mean()"
   ]
  },
  {
   "cell_type": "code",
   "execution_count": 70,
   "id": "8de6ede0",
   "metadata": {
    "execution": {
     "iopub.execute_input": "2023-07-30T14:57:31.881310Z",
     "iopub.status.busy": "2023-07-30T14:57:31.880938Z",
     "iopub.status.idle": "2023-07-30T14:57:31.885087Z",
     "shell.execute_reply": "2023-07-30T14:57:31.884128Z"
    },
    "papermill": {
     "duration": 0.037096,
     "end_time": "2023-07-30T14:57:31.887130",
     "exception": false,
     "start_time": "2023-07-30T14:57:31.850034",
     "status": "completed"
    },
    "tags": []
   },
   "outputs": [],
   "source": [
    "# histogram"
   ]
  },
  {
   "cell_type": "code",
   "execution_count": 71,
   "id": "1b99c0d9",
   "metadata": {
    "execution": {
     "iopub.execute_input": "2023-07-30T14:57:31.946906Z",
     "iopub.status.busy": "2023-07-30T14:57:31.946007Z",
     "iopub.status.idle": "2023-07-30T14:57:31.963586Z",
     "shell.execute_reply": "2023-07-30T14:57:31.962612Z"
    },
    "papermill": {
     "duration": 0.049916,
     "end_time": "2023-07-30T14:57:31.965647",
     "exception": false,
     "start_time": "2023-07-30T14:57:31.915731",
     "status": "completed"
    },
    "tags": []
   },
   "outputs": [
    {
     "data": {
      "text/html": [
       "<div>\n",
       "<style scoped>\n",
       "    .dataframe tbody tr th:only-of-type {\n",
       "        vertical-align: middle;\n",
       "    }\n",
       "\n",
       "    .dataframe tbody tr th {\n",
       "        vertical-align: top;\n",
       "    }\n",
       "\n",
       "    .dataframe thead th {\n",
       "        text-align: right;\n",
       "    }\n",
       "</style>\n",
       "<table border=\"1\" class=\"dataframe\">\n",
       "  <thead>\n",
       "    <tr style=\"text-align: right;\">\n",
       "      <th></th>\n",
       "      <th>carat</th>\n",
       "      <th>cut</th>\n",
       "      <th>color</th>\n",
       "      <th>clarity</th>\n",
       "      <th>depth</th>\n",
       "      <th>table</th>\n",
       "      <th>price</th>\n",
       "      <th>x</th>\n",
       "      <th>y</th>\n",
       "      <th>z</th>\n",
       "    </tr>\n",
       "  </thead>\n",
       "  <tbody>\n",
       "    <tr>\n",
       "      <th>0</th>\n",
       "      <td>0.23</td>\n",
       "      <td>Ideal</td>\n",
       "      <td>E</td>\n",
       "      <td>SI2</td>\n",
       "      <td>61.5</td>\n",
       "      <td>55.0</td>\n",
       "      <td>326</td>\n",
       "      <td>3.95</td>\n",
       "      <td>3.98</td>\n",
       "      <td>2.43</td>\n",
       "    </tr>\n",
       "    <tr>\n",
       "      <th>1</th>\n",
       "      <td>0.21</td>\n",
       "      <td>Premium</td>\n",
       "      <td>E</td>\n",
       "      <td>SI1</td>\n",
       "      <td>59.8</td>\n",
       "      <td>61.0</td>\n",
       "      <td>326</td>\n",
       "      <td>3.89</td>\n",
       "      <td>3.84</td>\n",
       "      <td>2.31</td>\n",
       "    </tr>\n",
       "    <tr>\n",
       "      <th>2</th>\n",
       "      <td>0.23</td>\n",
       "      <td>Good</td>\n",
       "      <td>E</td>\n",
       "      <td>VS1</td>\n",
       "      <td>56.9</td>\n",
       "      <td>65.0</td>\n",
       "      <td>327</td>\n",
       "      <td>4.05</td>\n",
       "      <td>4.07</td>\n",
       "      <td>2.31</td>\n",
       "    </tr>\n",
       "    <tr>\n",
       "      <th>3</th>\n",
       "      <td>0.29</td>\n",
       "      <td>Premium</td>\n",
       "      <td>I</td>\n",
       "      <td>VS2</td>\n",
       "      <td>62.4</td>\n",
       "      <td>58.0</td>\n",
       "      <td>334</td>\n",
       "      <td>4.20</td>\n",
       "      <td>4.23</td>\n",
       "      <td>2.63</td>\n",
       "    </tr>\n",
       "    <tr>\n",
       "      <th>4</th>\n",
       "      <td>0.31</td>\n",
       "      <td>Good</td>\n",
       "      <td>J</td>\n",
       "      <td>SI2</td>\n",
       "      <td>63.3</td>\n",
       "      <td>58.0</td>\n",
       "      <td>335</td>\n",
       "      <td>4.34</td>\n",
       "      <td>4.35</td>\n",
       "      <td>2.75</td>\n",
       "    </tr>\n",
       "  </tbody>\n",
       "</table>\n",
       "</div>"
      ],
      "text/plain": [
       "   carat      cut color clarity  depth  table  price     x     y     z\n",
       "0   0.23    Ideal     E     SI2   61.5   55.0    326  3.95  3.98  2.43\n",
       "1   0.21  Premium     E     SI1   59.8   61.0    326  3.89  3.84  2.31\n",
       "2   0.23     Good     E     VS1   56.9   65.0    327  4.05  4.07  2.31\n",
       "3   0.29  Premium     I     VS2   62.4   58.0    334  4.20  4.23  2.63\n",
       "4   0.31     Good     J     SI2   63.3   58.0    335  4.34  4.35  2.75"
      ]
     },
     "execution_count": 71,
     "metadata": {},
     "output_type": "execute_result"
    }
   ],
   "source": [
    "df.head()"
   ]
  },
  {
   "cell_type": "code",
   "execution_count": 72,
   "id": "28fb7111",
   "metadata": {
    "execution": {
     "iopub.execute_input": "2023-07-30T14:57:32.026819Z",
     "iopub.status.busy": "2023-07-30T14:57:32.025881Z",
     "iopub.status.idle": "2023-07-30T14:57:32.985669Z",
     "shell.execute_reply": "2023-07-30T14:57:32.984769Z"
    },
    "papermill": {
     "duration": 0.992615,
     "end_time": "2023-07-30T14:57:32.988366",
     "exception": false,
     "start_time": "2023-07-30T14:57:31.995751",
     "status": "completed"
    },
    "tags": []
   },
   "outputs": [
    {
     "data": {
      "text/plain": [
       "<Axes: xlabel='price', ylabel='Count'>"
      ]
     },
     "execution_count": 72,
     "metadata": {},
     "output_type": "execute_result"
    },
    {
     "data": {
      "image/png": "[encoded data removed]",
      "text/plain": [
       "<Figure size 640x480 with 1 Axes>"
      ]
     },
     "metadata": {},
     "output_type": "display_data"
    }
   ],
   "source": [
    "sns.histplot(df.price, kde = True)"
   ]
  },
  {
   "cell_type": "code",
   "execution_count": 73,
   "id": "c23e9576",
   "metadata": {
    "execution": {
     "iopub.execute_input": "2023-07-30T14:57:33.077664Z",
     "iopub.status.busy": "2023-07-30T14:57:33.077153Z",
     "iopub.status.idle": "2023-07-30T14:57:33.183595Z",
     "shell.execute_reply": "2023-07-30T14:57:33.182399Z"
    },
    "papermill": {
     "duration": 0.154633,
     "end_time": "2023-07-30T14:57:33.187008",
     "exception": false,
     "start_time": "2023-07-30T14:57:33.032375",
     "status": "completed"
    },
    "tags": []
   },
   "outputs": [],
   "source": [
    "?sns.histplot"
   ]
  },
  {
   "cell_type": "code",
   "execution_count": 74,
   "id": "e9173f60",
   "metadata": {
    "execution": {
     "iopub.execute_input": "2023-07-30T14:57:33.276645Z",
     "iopub.status.busy": "2023-07-30T14:57:33.276244Z",
     "iopub.status.idle": "2023-07-30T14:57:35.707020Z",
     "shell.execute_reply": "2023-07-30T14:57:35.706085Z"
    },
    "papermill": {
     "duration": 2.477997,
     "end_time": "2023-07-30T14:57:35.709290",
     "exception": false,
     "start_time": "2023-07-30T14:57:33.231293",
     "status": "completed"
    },
    "tags": []
   },
   "outputs": [
    {
     "data": {
      "text/plain": [
       "<Axes: xlabel='price', ylabel='Count'>"
      ]
     },
     "execution_count": 74,
     "metadata": {},
     "output_type": "execute_result"
    },
    {
     "data": {
      "image/png": "[encoded data removed]",
      "text/plain": [
       "<Figure size 640x480 with 1 Axes>"
      ]
     },
     "metadata": {},
     "output_type": "display_data"
    }
   ],
   "source": [
    "sns.histplot(df.price, bins = 1000, kde = True)"
   ]
  },
  {
   "cell_type": "code",
   "execution_count": 75,
   "id": "dde9fdfc",
   "metadata": {
    "execution": {
     "iopub.execute_input": "2023-07-30T14:57:35.772414Z",
     "iopub.status.busy": "2023-07-30T14:57:35.771601Z",
     "iopub.status.idle": "2023-07-30T14:57:36.372064Z",
     "shell.execute_reply": "2023-07-30T14:57:36.371123Z"
    },
    "papermill": {
     "duration": 0.633935,
     "end_time": "2023-07-30T14:57:36.374211",
     "exception": false,
     "start_time": "2023-07-30T14:57:35.740276",
     "status": "completed"
    },
    "tags": []
   },
   "outputs": [
    {
     "data": {
      "text/plain": [
       "<Axes: xlabel='price', ylabel='Count'>"
      ]
     },
     "execution_count": 75,
     "metadata": {},
     "output_type": "execute_result"
    },
    {
     "data": {
      "image/png": "[encoded data removed]",
      "text/plain": [
       "<Figure size 640x480 with 1 Axes>"
      ]
     },
     "metadata": {},
     "output_type": "display_data"
    }
   ],
   "source": [
    "sns.histplot(df.price, bins = 10, kde = True)"
   ]
  },
  {
   "cell_type": "code",
   "execution_count": 76,
   "id": "d0b38db5",
   "metadata": {
    "execution": {
     "iopub.execute_input": "2023-07-30T14:57:36.437786Z",
     "iopub.status.busy": "2023-07-30T14:57:36.437004Z",
     "iopub.status.idle": "2023-07-30T14:57:36.449464Z",
     "shell.execute_reply": "2023-07-30T14:57:36.448383Z"
    },
    "papermill": {
     "duration": 0.046566,
     "end_time": "2023-07-30T14:57:36.451744",
     "exception": false,
     "start_time": "2023-07-30T14:57:36.405178",
     "status": "completed"
    },
    "tags": []
   },
   "outputs": [
    {
     "data": {
      "text/plain": [
       "count    53940.000000\n",
       "mean      3932.799722\n",
       "std       3989.439738\n",
       "min        326.000000\n",
       "25%        950.000000\n",
       "50%       2401.000000\n",
       "75%       5324.250000\n",
       "max      18823.000000\n",
       "Name: price, dtype: float64"
      ]
     },
     "execution_count": 76,
     "metadata": {},
     "output_type": "execute_result"
    }
   ],
   "source": [
    "df[\"price\"].describe()"
   ]
  },
  {
   "cell_type": "code",
   "execution_count": 77,
   "id": "10d88558",
   "metadata": {
    "execution": {
     "iopub.execute_input": "2023-07-30T14:57:36.515752Z",
     "iopub.status.busy": "2023-07-30T14:57:36.514817Z",
     "iopub.status.idle": "2023-07-30T14:57:36.980513Z",
     "shell.execute_reply": "2023-07-30T14:57:36.979596Z"
    },
    "papermill": {
     "duration": 0.499698,
     "end_time": "2023-07-30T14:57:36.982515",
     "exception": false,
     "start_time": "2023-07-30T14:57:36.482817",
     "status": "completed"
    },
    "tags": []
   },
   "outputs": [
    {
     "data": {
      "text/plain": [
       "<Axes: xlabel='price', ylabel='Count'>"
      ]
     },
     "execution_count": 77,
     "metadata": {},
     "output_type": "execute_result"
    },
    {
     "data": {
      "image/png": "[encoded data removed]",
      "text/plain": [
       "<Figure size 640x480 with 1 Axes>"
      ]
     },
     "metadata": {},
     "output_type": "display_data"
    }
   ],
   "source": [
    "sns.histplot(df.price)"
   ]
  },
  {
   "cell_type": "code",
   "execution_count": 78,
   "id": "669f338a",
   "metadata": {
    "execution": {
     "iopub.execute_input": "2023-07-30T14:57:37.047983Z",
     "iopub.status.busy": "2023-07-30T14:57:37.047632Z",
     "iopub.status.idle": "2023-07-30T14:57:37.667979Z",
     "shell.execute_reply": "2023-07-30T14:57:37.667034Z"
    },
    "papermill": {
     "duration": 0.655978,
     "end_time": "2023-07-30T14:57:37.670231",
     "exception": false,
     "start_time": "2023-07-30T14:57:37.014253",
     "status": "completed"
    },
    "tags": []
   },
   "outputs": [
    {
     "data": {
      "text/plain": [
       "[Text(0.5, 1.0, 'title')]"
      ]
     },
     "execution_count": 78,
     "metadata": {},
     "output_type": "execute_result"
    },
    {
     "data": {
      "image/png": "[encoded data removed]",
      "text/plain": [
       "<Figure size 640x480 with 1 Axes>"
      ]
     },
     "metadata": {},
     "output_type": "display_data"
    }
   ],
   "source": [
    "sns.kdeplot(df.price, fill = True).set(title = \"title\")"
   ]
  },
  {
   "cell_type": "code",
   "execution_count": 79,
   "id": "33190e6d",
   "metadata": {
    "execution": {
     "iopub.execute_input": "2023-07-30T14:57:37.735552Z",
     "iopub.status.busy": "2023-07-30T14:57:37.735197Z",
     "iopub.status.idle": "2023-07-30T14:57:38.790640Z",
     "shell.execute_reply": "2023-07-30T14:57:38.789671Z"
    },
    "papermill": {
     "duration": 1.091276,
     "end_time": "2023-07-30T14:57:38.793346",
     "exception": false,
     "start_time": "2023-07-30T14:57:37.702070",
     "status": "completed"
    },
    "tags": []
   },
   "outputs": [
    {
     "name": "stderr",
     "output_type": "stream",
     "text": [
      "/opt/conda/lib/python3.10/site-packages/seaborn/axisgrid.py:118: UserWarning: The figure layout has changed to tight\n",
      "  self._figure.tight_layout(*args, **kwargs)\n"
     ]
    },
    {
     "data": {
      "image/png": "[encoded data removed]",
      "text/plain": [
       "<Figure size 621.875x500 with 1 Axes>"
      ]
     },
     "metadata": {},
     "output_type": "display_data"
    }
   ],
   "source": [
    "(sns\n",
    ".FacetGrid(df,\n",
    "              hue = \"cut\",\n",
    "               height = 5,\n",
    "               xlim = (0, 10000)        \n",
    "          )\n",
    " .map(sns.kdeplot, \"price\", fill = True)\n",
    " .add_legend()\n",
    ");"
   ]
  }
 ],
 "metadata": {
  "kernelspec": {
   "display_name": "Python 3",
   "language": "python",
   "name": "python3"
  },
  "language_info": {
   "codemirror_mode": {
    "name": "ipython",
    "version": 3
   },
   "file_extension": ".py",
   "mimetype": "text/x-python",
   "name": "python",
   "nbconvert_exporter": "python",
   "pygments_lexer": "ipython3",
   "version": "3.10.12"
  },
  "papermill": {
   "default_parameters": {},
   "duration": 29.285591,
   "end_time": "2023-07-30T14:57:39.748742",
   "environment_variables": {},
   "exception": null,
   "input_path": "__notebook__.ipynb",
   "output_path": "__notebook__.ipynb",
   "parameters": {},
   "start_time": "2023-07-30T14:57:10.463151",
   "version": "2.4.0"
  }
 },
 "nbformat": 4,
 "nbformat_minor": 5
}
