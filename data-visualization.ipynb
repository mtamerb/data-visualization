{
 "cells": [
  {
   "cell_type": "code",
   "execution_count": 1,
   "id": "44cb166d",
   "metadata": {
    "execution": {
     "iopub.execute_input": "2023-07-30T14:30:15.473525Z",
     "iopub.status.busy": "2023-07-30T14:30:15.471549Z",
     "iopub.status.idle": "2023-07-30T14:30:15.487608Z",
     "shell.execute_reply": "2023-07-30T14:30:15.486812Z"
    },
    "papermill": {
     "duration": 0.055838,
     "end_time": "2023-07-30T14:30:15.490185",
     "exception": false,
     "start_time": "2023-07-30T14:30:15.434347",
     "status": "completed"
    },
    "tags": []
   },
   "outputs": [],
   "source": [
    "# https://www.kaggle.com/datasets/shivam2503/diamonds "
   ]
  },
  {
   "cell_type": "code",
   "execution_count": 2,
   "id": "733c8767",
   "metadata": {
    "_cell_guid": "b1076dfc-b9ad-4769-8c92-a6c4dae69d19",
    "_uuid": "8f2839f25d086af736a60e9eeb907d3b93b6e0e5",
    "execution": {
     "iopub.execute_input": "2023-07-30T14:30:15.541628Z",
     "iopub.status.busy": "2023-07-30T14:30:15.541347Z",
     "iopub.status.idle": "2023-07-30T14:30:15.545363Z",
     "shell.execute_reply": "2023-07-30T14:30:15.544425Z"
    },
    "papermill": {
     "duration": 0.032299,
     "end_time": "2023-07-30T14:30:15.547578",
     "exception": false,
     "start_time": "2023-07-30T14:30:15.515279",
     "status": "completed"
    },
    "tags": []
   },
   "outputs": [],
   "source": [
    "# libraries  : matplotlib - pandas - seaborn - ggplot - bokeh - plot.ly"
   ]
  },
  {
   "cell_type": "code",
   "execution_count": 3,
   "id": "66f46cc3",
   "metadata": {
    "execution": {
     "iopub.execute_input": "2023-07-30T14:30:15.583311Z",
     "iopub.status.busy": "2023-07-30T14:30:15.583041Z",
     "iopub.status.idle": "2023-07-30T14:30:15.586885Z",
     "shell.execute_reply": "2023-07-30T14:30:15.585998Z"
    },
    "papermill": {
     "duration": 0.024109,
     "end_time": "2023-07-30T14:30:15.588966",
     "exception": false,
     "start_time": "2023-07-30T14:30:15.564857",
     "status": "completed"
    },
    "tags": []
   },
   "outputs": [],
   "source": [
    "# a first look at data"
   ]
  },
  {
   "cell_type": "code",
   "execution_count": 4,
   "id": "6a238b35",
   "metadata": {
    "execution": {
     "iopub.execute_input": "2023-07-30T14:30:15.624991Z",
     "iopub.status.busy": "2023-07-30T14:30:15.624729Z",
     "iopub.status.idle": "2023-07-30T14:30:17.604437Z",
     "shell.execute_reply": "2023-07-30T14:30:17.603511Z"
    },
    "papermill": {
     "duration": 2.000538,
     "end_time": "2023-07-30T14:30:17.606688",
     "exception": false,
     "start_time": "2023-07-30T14:30:15.606150",
     "status": "completed"
    },
    "tags": []
   },
   "outputs": [
    {
     "name": "stderr",
     "output_type": "stream",
     "text": [
      "/opt/conda/lib/python3.10/site-packages/scipy/__init__.py:146: UserWarning: A NumPy version >=1.16.5 and <1.23.0 is required for this version of SciPy (detected version 1.23.5\n",
      "  warnings.warn(f\"A NumPy version >={np_minversion} and <{np_maxversion}\"\n"
     ]
    },
    {
     "data": {
      "text/html": [
       "<div>\n",
       "<style scoped>\n",
       "    .dataframe tbody tr th:only-of-type {\n",
       "        vertical-align: middle;\n",
       "    }\n",
       "\n",
       "    .dataframe tbody tr th {\n",
       "        vertical-align: top;\n",
       "    }\n",
       "\n",
       "    .dataframe thead th {\n",
       "        text-align: right;\n",
       "    }\n",
       "</style>\n",
       "<table border=\"1\" class=\"dataframe\">\n",
       "  <thead>\n",
       "    <tr style=\"text-align: right;\">\n",
       "      <th></th>\n",
       "      <th>method</th>\n",
       "      <th>number</th>\n",
       "      <th>orbital_period</th>\n",
       "      <th>mass</th>\n",
       "      <th>distance</th>\n",
       "      <th>year</th>\n",
       "    </tr>\n",
       "  </thead>\n",
       "  <tbody>\n",
       "    <tr>\n",
       "      <th>0</th>\n",
       "      <td>Radial Velocity</td>\n",
       "      <td>1</td>\n",
       "      <td>269.300</td>\n",
       "      <td>7.10</td>\n",
       "      <td>77.40</td>\n",
       "      <td>2006</td>\n",
       "    </tr>\n",
       "    <tr>\n",
       "      <th>1</th>\n",
       "      <td>Radial Velocity</td>\n",
       "      <td>1</td>\n",
       "      <td>874.774</td>\n",
       "      <td>2.21</td>\n",
       "      <td>56.95</td>\n",
       "      <td>2008</td>\n",
       "    </tr>\n",
       "    <tr>\n",
       "      <th>2</th>\n",
       "      <td>Radial Velocity</td>\n",
       "      <td>1</td>\n",
       "      <td>763.000</td>\n",
       "      <td>2.60</td>\n",
       "      <td>19.84</td>\n",
       "      <td>2011</td>\n",
       "    </tr>\n",
       "    <tr>\n",
       "      <th>3</th>\n",
       "      <td>Radial Velocity</td>\n",
       "      <td>1</td>\n",
       "      <td>326.030</td>\n",
       "      <td>19.40</td>\n",
       "      <td>110.62</td>\n",
       "      <td>2007</td>\n",
       "    </tr>\n",
       "    <tr>\n",
       "      <th>4</th>\n",
       "      <td>Radial Velocity</td>\n",
       "      <td>1</td>\n",
       "      <td>516.220</td>\n",
       "      <td>10.50</td>\n",
       "      <td>119.47</td>\n",
       "      <td>2009</td>\n",
       "    </tr>\n",
       "  </tbody>\n",
       "</table>\n",
       "</div>"
      ],
      "text/plain": [
       "            method  number  orbital_period   mass  distance  year\n",
       "0  Radial Velocity       1         269.300   7.10     77.40  2006\n",
       "1  Radial Velocity       1         874.774   2.21     56.95  2008\n",
       "2  Radial Velocity       1         763.000   2.60     19.84  2011\n",
       "3  Radial Velocity       1         326.030  19.40    110.62  2007\n",
       "4  Radial Velocity       1         516.220  10.50    119.47  2009"
      ]
     },
     "execution_count": 4,
     "metadata": {},
     "output_type": "execute_result"
    }
   ],
   "source": [
    "import seaborn as sns\n",
    "\n",
    "planets = sns.load_dataset(\"planets\")\n",
    "planets.head()"
   ]
  },
  {
   "cell_type": "code",
   "execution_count": 5,
   "id": "ac84a2cd",
   "metadata": {
    "execution": {
     "iopub.execute_input": "2023-07-30T14:30:17.644480Z",
     "iopub.status.busy": "2023-07-30T14:30:17.643060Z",
     "iopub.status.idle": "2023-07-30T14:30:17.648586Z",
     "shell.execute_reply": "2023-07-30T14:30:17.647763Z"
    },
    "papermill": {
     "duration": 0.025774,
     "end_time": "2023-07-30T14:30:17.650530",
     "exception": false,
     "start_time": "2023-07-30T14:30:17.624756",
     "status": "completed"
    },
    "tags": []
   },
   "outputs": [],
   "source": [
    "df = planets.copy()"
   ]
  },
  {
   "cell_type": "code",
   "execution_count": 6,
   "id": "a30ce8dc",
   "metadata": {
    "execution": {
     "iopub.execute_input": "2023-07-30T14:30:17.687383Z",
     "iopub.status.busy": "2023-07-30T14:30:17.685995Z",
     "iopub.status.idle": "2023-07-30T14:30:17.699595Z",
     "shell.execute_reply": "2023-07-30T14:30:17.698684Z"
    },
    "papermill": {
     "duration": 0.033682,
     "end_time": "2023-07-30T14:30:17.701583",
     "exception": false,
     "start_time": "2023-07-30T14:30:17.667901",
     "status": "completed"
    },
    "tags": []
   },
   "outputs": [
    {
     "data": {
      "text/html": [
       "<div>\n",
       "<style scoped>\n",
       "    .dataframe tbody tr th:only-of-type {\n",
       "        vertical-align: middle;\n",
       "    }\n",
       "\n",
       "    .dataframe tbody tr th {\n",
       "        vertical-align: top;\n",
       "    }\n",
       "\n",
       "    .dataframe thead th {\n",
       "        text-align: right;\n",
       "    }\n",
       "</style>\n",
       "<table border=\"1\" class=\"dataframe\">\n",
       "  <thead>\n",
       "    <tr style=\"text-align: right;\">\n",
       "      <th></th>\n",
       "      <th>method</th>\n",
       "      <th>number</th>\n",
       "      <th>orbital_period</th>\n",
       "      <th>mass</th>\n",
       "      <th>distance</th>\n",
       "      <th>year</th>\n",
       "    </tr>\n",
       "  </thead>\n",
       "  <tbody>\n",
       "    <tr>\n",
       "      <th>0</th>\n",
       "      <td>Radial Velocity</td>\n",
       "      <td>1</td>\n",
       "      <td>269.300</td>\n",
       "      <td>7.10</td>\n",
       "      <td>77.40</td>\n",
       "      <td>2006</td>\n",
       "    </tr>\n",
       "    <tr>\n",
       "      <th>1</th>\n",
       "      <td>Radial Velocity</td>\n",
       "      <td>1</td>\n",
       "      <td>874.774</td>\n",
       "      <td>2.21</td>\n",
       "      <td>56.95</td>\n",
       "      <td>2008</td>\n",
       "    </tr>\n",
       "    <tr>\n",
       "      <th>2</th>\n",
       "      <td>Radial Velocity</td>\n",
       "      <td>1</td>\n",
       "      <td>763.000</td>\n",
       "      <td>2.60</td>\n",
       "      <td>19.84</td>\n",
       "      <td>2011</td>\n",
       "    </tr>\n",
       "    <tr>\n",
       "      <th>3</th>\n",
       "      <td>Radial Velocity</td>\n",
       "      <td>1</td>\n",
       "      <td>326.030</td>\n",
       "      <td>19.40</td>\n",
       "      <td>110.62</td>\n",
       "      <td>2007</td>\n",
       "    </tr>\n",
       "    <tr>\n",
       "      <th>4</th>\n",
       "      <td>Radial Velocity</td>\n",
       "      <td>1</td>\n",
       "      <td>516.220</td>\n",
       "      <td>10.50</td>\n",
       "      <td>119.47</td>\n",
       "      <td>2009</td>\n",
       "    </tr>\n",
       "  </tbody>\n",
       "</table>\n",
       "</div>"
      ],
      "text/plain": [
       "            method  number  orbital_period   mass  distance  year\n",
       "0  Radial Velocity       1         269.300   7.10     77.40  2006\n",
       "1  Radial Velocity       1         874.774   2.21     56.95  2008\n",
       "2  Radial Velocity       1         763.000   2.60     19.84  2011\n",
       "3  Radial Velocity       1         326.030  19.40    110.62  2007\n",
       "4  Radial Velocity       1         516.220  10.50    119.47  2009"
      ]
     },
     "execution_count": 6,
     "metadata": {},
     "output_type": "execute_result"
    }
   ],
   "source": [
    "df.head()"
   ]
  },
  {
   "cell_type": "code",
   "execution_count": 7,
   "id": "18c5f9a7",
   "metadata": {
    "execution": {
     "iopub.execute_input": "2023-07-30T14:30:17.738841Z",
     "iopub.status.busy": "2023-07-30T14:30:17.737999Z",
     "iopub.status.idle": "2023-07-30T14:30:17.749040Z",
     "shell.execute_reply": "2023-07-30T14:30:17.748057Z"
    },
    "papermill": {
     "duration": 0.03199,
     "end_time": "2023-07-30T14:30:17.751351",
     "exception": false,
     "start_time": "2023-07-30T14:30:17.719361",
     "status": "completed"
    },
    "tags": []
   },
   "outputs": [
    {
     "data": {
      "text/html": [
       "<div>\n",
       "<style scoped>\n",
       "    .dataframe tbody tr th:only-of-type {\n",
       "        vertical-align: middle;\n",
       "    }\n",
       "\n",
       "    .dataframe tbody tr th {\n",
       "        vertical-align: top;\n",
       "    }\n",
       "\n",
       "    .dataframe thead th {\n",
       "        text-align: right;\n",
       "    }\n",
       "</style>\n",
       "<table border=\"1\" class=\"dataframe\">\n",
       "  <thead>\n",
       "    <tr style=\"text-align: right;\">\n",
       "      <th></th>\n",
       "      <th>method</th>\n",
       "      <th>number</th>\n",
       "      <th>orbital_period</th>\n",
       "      <th>mass</th>\n",
       "      <th>distance</th>\n",
       "      <th>year</th>\n",
       "    </tr>\n",
       "  </thead>\n",
       "  <tbody>\n",
       "    <tr>\n",
       "      <th>1030</th>\n",
       "      <td>Transit</td>\n",
       "      <td>1</td>\n",
       "      <td>3.941507</td>\n",
       "      <td>NaN</td>\n",
       "      <td>172.0</td>\n",
       "      <td>2006</td>\n",
       "    </tr>\n",
       "    <tr>\n",
       "      <th>1031</th>\n",
       "      <td>Transit</td>\n",
       "      <td>1</td>\n",
       "      <td>2.615864</td>\n",
       "      <td>NaN</td>\n",
       "      <td>148.0</td>\n",
       "      <td>2007</td>\n",
       "    </tr>\n",
       "    <tr>\n",
       "      <th>1032</th>\n",
       "      <td>Transit</td>\n",
       "      <td>1</td>\n",
       "      <td>3.191524</td>\n",
       "      <td>NaN</td>\n",
       "      <td>174.0</td>\n",
       "      <td>2007</td>\n",
       "    </tr>\n",
       "    <tr>\n",
       "      <th>1033</th>\n",
       "      <td>Transit</td>\n",
       "      <td>1</td>\n",
       "      <td>4.125083</td>\n",
       "      <td>NaN</td>\n",
       "      <td>293.0</td>\n",
       "      <td>2008</td>\n",
       "    </tr>\n",
       "    <tr>\n",
       "      <th>1034</th>\n",
       "      <td>Transit</td>\n",
       "      <td>1</td>\n",
       "      <td>4.187757</td>\n",
       "      <td>NaN</td>\n",
       "      <td>260.0</td>\n",
       "      <td>2008</td>\n",
       "    </tr>\n",
       "  </tbody>\n",
       "</table>\n",
       "</div>"
      ],
      "text/plain": [
       "       method  number  orbital_period  mass  distance  year\n",
       "1030  Transit       1        3.941507   NaN     172.0  2006\n",
       "1031  Transit       1        2.615864   NaN     148.0  2007\n",
       "1032  Transit       1        3.191524   NaN     174.0  2007\n",
       "1033  Transit       1        4.125083   NaN     293.0  2008\n",
       "1034  Transit       1        4.187757   NaN     260.0  2008"
      ]
     },
     "execution_count": 7,
     "metadata": {},
     "output_type": "execute_result"
    }
   ],
   "source": [
    "df.tail()"
   ]
  },
  {
   "cell_type": "code",
   "execution_count": 8,
   "id": "694f1c8a",
   "metadata": {
    "execution": {
     "iopub.execute_input": "2023-07-30T14:30:17.788470Z",
     "iopub.status.busy": "2023-07-30T14:30:17.788213Z",
     "iopub.status.idle": "2023-07-30T14:30:17.792052Z",
     "shell.execute_reply": "2023-07-30T14:30:17.791129Z"
    },
    "papermill": {
     "duration": 0.024752,
     "end_time": "2023-07-30T14:30:17.794139",
     "exception": false,
     "start_time": "2023-07-30T14:30:17.769387",
     "status": "completed"
    },
    "tags": []
   },
   "outputs": [],
   "source": [
    "# Structural info"
   ]
  },
  {
   "cell_type": "code",
   "execution_count": 9,
   "id": "d12d39dd",
   "metadata": {
    "execution": {
     "iopub.execute_input": "2023-07-30T14:30:17.830419Z",
     "iopub.status.busy": "2023-07-30T14:30:17.830164Z",
     "iopub.status.idle": "2023-07-30T14:30:17.848154Z",
     "shell.execute_reply": "2023-07-30T14:30:17.847267Z"
    },
    "papermill": {
     "duration": 0.038404,
     "end_time": "2023-07-30T14:30:17.850157",
     "exception": false,
     "start_time": "2023-07-30T14:30:17.811753",
     "status": "completed"
    },
    "tags": []
   },
   "outputs": [
    {
     "name": "stdout",
     "output_type": "stream",
     "text": [
      "<class 'pandas.core.frame.DataFrame'>\n",
      "RangeIndex: 1035 entries, 0 to 1034\n",
      "Data columns (total 6 columns):\n",
      " #   Column          Non-Null Count  Dtype  \n",
      "---  ------          --------------  -----  \n",
      " 0   method          1035 non-null   object \n",
      " 1   number          1035 non-null   int64  \n",
      " 2   orbital_period  992 non-null    float64\n",
      " 3   mass            513 non-null    float64\n",
      " 4   distance        808 non-null    float64\n",
      " 5   year            1035 non-null   int64  \n",
      "dtypes: float64(3), int64(2), object(1)\n",
      "memory usage: 48.6+ KB\n"
     ]
    }
   ],
   "source": [
    "df.info()"
   ]
  },
  {
   "cell_type": "code",
   "execution_count": 10,
   "id": "a4a8188f",
   "metadata": {
    "execution": {
     "iopub.execute_input": "2023-07-30T14:30:17.887176Z",
     "iopub.status.busy": "2023-07-30T14:30:17.886399Z",
     "iopub.status.idle": "2023-07-30T14:30:17.893526Z",
     "shell.execute_reply": "2023-07-30T14:30:17.892526Z"
    },
    "papermill": {
     "duration": 0.028186,
     "end_time": "2023-07-30T14:30:17.896030",
     "exception": false,
     "start_time": "2023-07-30T14:30:17.867844",
     "status": "completed"
    },
    "tags": []
   },
   "outputs": [
    {
     "data": {
      "text/plain": [
       "method             object\n",
       "number              int64\n",
       "orbital_period    float64\n",
       "mass              float64\n",
       "distance          float64\n",
       "year                int64\n",
       "dtype: object"
      ]
     },
     "execution_count": 10,
     "metadata": {},
     "output_type": "execute_result"
    }
   ],
   "source": [
    "df.dtypes"
   ]
  },
  {
   "cell_type": "code",
   "execution_count": 11,
   "id": "10c9b433",
   "metadata": {
    "execution": {
     "iopub.execute_input": "2023-07-30T14:30:17.932771Z",
     "iopub.status.busy": "2023-07-30T14:30:17.932497Z",
     "iopub.status.idle": "2023-07-30T14:30:17.938454Z",
     "shell.execute_reply": "2023-07-30T14:30:17.937667Z"
    },
    "papermill": {
     "duration": 0.026468,
     "end_time": "2023-07-30T14:30:17.940390",
     "exception": false,
     "start_time": "2023-07-30T14:30:17.913922",
     "status": "completed"
    },
    "tags": []
   },
   "outputs": [],
   "source": [
    "import pandas as pd\n",
    "df.method = pd.Categorical(df.method)"
   ]
  },
  {
   "cell_type": "code",
   "execution_count": 12,
   "id": "63ea56f0",
   "metadata": {
    "execution": {
     "iopub.execute_input": "2023-07-30T14:30:17.980223Z",
     "iopub.status.busy": "2023-07-30T14:30:17.979547Z",
     "iopub.status.idle": "2023-07-30T14:30:17.985901Z",
     "shell.execute_reply": "2023-07-30T14:30:17.985046Z"
    },
    "papermill": {
     "duration": 0.02681,
     "end_time": "2023-07-30T14:30:17.987798",
     "exception": false,
     "start_time": "2023-07-30T14:30:17.960988",
     "status": "completed"
    },
    "tags": []
   },
   "outputs": [
    {
     "data": {
      "text/plain": [
       "method            category\n",
       "number               int64\n",
       "orbital_period     float64\n",
       "mass               float64\n",
       "distance           float64\n",
       "year                 int64\n",
       "dtype: object"
      ]
     },
     "execution_count": 12,
     "metadata": {},
     "output_type": "execute_result"
    }
   ],
   "source": [
    "df.dtypes"
   ]
  },
  {
   "cell_type": "code",
   "execution_count": 13,
   "id": "7f6db952",
   "metadata": {
    "execution": {
     "iopub.execute_input": "2023-07-30T14:30:18.025260Z",
     "iopub.status.busy": "2023-07-30T14:30:18.024545Z",
     "iopub.status.idle": "2023-07-30T14:30:18.037312Z",
     "shell.execute_reply": "2023-07-30T14:30:18.036043Z"
    },
    "papermill": {
     "duration": 0.033988,
     "end_time": "2023-07-30T14:30:18.039721",
     "exception": false,
     "start_time": "2023-07-30T14:30:18.005733",
     "status": "completed"
    },
    "tags": []
   },
   "outputs": [
    {
     "data": {
      "text/html": [
       "<div>\n",
       "<style scoped>\n",
       "    .dataframe tbody tr th:only-of-type {\n",
       "        vertical-align: middle;\n",
       "    }\n",
       "\n",
       "    .dataframe tbody tr th {\n",
       "        vertical-align: top;\n",
       "    }\n",
       "\n",
       "    .dataframe thead th {\n",
       "        text-align: right;\n",
       "    }\n",
       "</style>\n",
       "<table border=\"1\" class=\"dataframe\">\n",
       "  <thead>\n",
       "    <tr style=\"text-align: right;\">\n",
       "      <th></th>\n",
       "      <th>method</th>\n",
       "      <th>number</th>\n",
       "      <th>orbital_period</th>\n",
       "      <th>mass</th>\n",
       "      <th>distance</th>\n",
       "      <th>year</th>\n",
       "    </tr>\n",
       "  </thead>\n",
       "  <tbody>\n",
       "    <tr>\n",
       "      <th>0</th>\n",
       "      <td>Radial Velocity</td>\n",
       "      <td>1</td>\n",
       "      <td>269.300</td>\n",
       "      <td>7.10</td>\n",
       "      <td>77.40</td>\n",
       "      <td>2006</td>\n",
       "    </tr>\n",
       "    <tr>\n",
       "      <th>1</th>\n",
       "      <td>Radial Velocity</td>\n",
       "      <td>1</td>\n",
       "      <td>874.774</td>\n",
       "      <td>2.21</td>\n",
       "      <td>56.95</td>\n",
       "      <td>2008</td>\n",
       "    </tr>\n",
       "    <tr>\n",
       "      <th>2</th>\n",
       "      <td>Radial Velocity</td>\n",
       "      <td>1</td>\n",
       "      <td>763.000</td>\n",
       "      <td>2.60</td>\n",
       "      <td>19.84</td>\n",
       "      <td>2011</td>\n",
       "    </tr>\n",
       "    <tr>\n",
       "      <th>3</th>\n",
       "      <td>Radial Velocity</td>\n",
       "      <td>1</td>\n",
       "      <td>326.030</td>\n",
       "      <td>19.40</td>\n",
       "      <td>110.62</td>\n",
       "      <td>2007</td>\n",
       "    </tr>\n",
       "    <tr>\n",
       "      <th>4</th>\n",
       "      <td>Radial Velocity</td>\n",
       "      <td>1</td>\n",
       "      <td>516.220</td>\n",
       "      <td>10.50</td>\n",
       "      <td>119.47</td>\n",
       "      <td>2009</td>\n",
       "    </tr>\n",
       "  </tbody>\n",
       "</table>\n",
       "</div>"
      ],
      "text/plain": [
       "            method  number  orbital_period   mass  distance  year\n",
       "0  Radial Velocity       1         269.300   7.10     77.40  2006\n",
       "1  Radial Velocity       1         874.774   2.21     56.95  2008\n",
       "2  Radial Velocity       1         763.000   2.60     19.84  2011\n",
       "3  Radial Velocity       1         326.030  19.40    110.62  2007\n",
       "4  Radial Velocity       1         516.220  10.50    119.47  2009"
      ]
     },
     "execution_count": 13,
     "metadata": {},
     "output_type": "execute_result"
    }
   ],
   "source": [
    "df.head()"
   ]
  },
  {
   "cell_type": "code",
   "execution_count": 14,
   "id": "94ecaa85",
   "metadata": {
    "execution": {
     "iopub.execute_input": "2023-07-30T14:30:18.077633Z",
     "iopub.status.busy": "2023-07-30T14:30:18.077350Z",
     "iopub.status.idle": "2023-07-30T14:30:18.081150Z",
     "shell.execute_reply": "2023-07-30T14:30:18.080199Z"
    },
    "papermill": {
     "duration": 0.024993,
     "end_time": "2023-07-30T14:30:18.083302",
     "exception": false,
     "start_time": "2023-07-30T14:30:18.058309",
     "status": "completed"
    },
    "tags": []
   },
   "outputs": [],
   "source": [
    "# Describe dataset"
   ]
  },
  {
   "cell_type": "code",
   "execution_count": 15,
   "id": "602dd063",
   "metadata": {
    "execution": {
     "iopub.execute_input": "2023-07-30T14:30:18.120859Z",
     "iopub.status.busy": "2023-07-30T14:30:18.120575Z",
     "iopub.status.idle": "2023-07-30T14:30:18.128145Z",
     "shell.execute_reply": "2023-07-30T14:30:18.127305Z"
    },
    "papermill": {
     "duration": 0.028835,
     "end_time": "2023-07-30T14:30:18.130306",
     "exception": false,
     "start_time": "2023-07-30T14:30:18.101471",
     "status": "completed"
    },
    "tags": []
   },
   "outputs": [
    {
     "data": {
      "text/plain": [
       "(1035, 6)"
      ]
     },
     "execution_count": 15,
     "metadata": {},
     "output_type": "execute_result"
    }
   ],
   "source": [
    "df.shape"
   ]
  },
  {
   "cell_type": "code",
   "execution_count": 16,
   "id": "3c876573",
   "metadata": {
    "execution": {
     "iopub.execute_input": "2023-07-30T14:30:18.168204Z",
     "iopub.status.busy": "2023-07-30T14:30:18.167940Z",
     "iopub.status.idle": "2023-07-30T14:30:18.173436Z",
     "shell.execute_reply": "2023-07-30T14:30:18.172581Z"
    },
    "papermill": {
     "duration": 0.026661,
     "end_time": "2023-07-30T14:30:18.175350",
     "exception": false,
     "start_time": "2023-07-30T14:30:18.148689",
     "status": "completed"
    },
    "tags": []
   },
   "outputs": [
    {
     "data": {
      "text/plain": [
       "Index(['method', 'number', 'orbital_period', 'mass', 'distance', 'year'], dtype='object')"
      ]
     },
     "execution_count": 16,
     "metadata": {},
     "output_type": "execute_result"
    }
   ],
   "source": [
    "df.columns"
   ]
  },
  {
   "cell_type": "code",
   "execution_count": 17,
   "id": "0b00ed1f",
   "metadata": {
    "execution": {
     "iopub.execute_input": "2023-07-30T14:30:18.213790Z",
     "iopub.status.busy": "2023-07-30T14:30:18.212939Z",
     "iopub.status.idle": "2023-07-30T14:30:18.243567Z",
     "shell.execute_reply": "2023-07-30T14:30:18.242611Z"
    },
    "papermill": {
     "duration": 0.05184,
     "end_time": "2023-07-30T14:30:18.245593",
     "exception": false,
     "start_time": "2023-07-30T14:30:18.193753",
     "status": "completed"
    },
    "tags": []
   },
   "outputs": [
    {
     "data": {
      "text/html": [
       "<div>\n",
       "<style scoped>\n",
       "    .dataframe tbody tr th:only-of-type {\n",
       "        vertical-align: middle;\n",
       "    }\n",
       "\n",
       "    .dataframe tbody tr th {\n",
       "        vertical-align: top;\n",
       "    }\n",
       "\n",
       "    .dataframe thead th {\n",
       "        text-align: right;\n",
       "    }\n",
       "</style>\n",
       "<table border=\"1\" class=\"dataframe\">\n",
       "  <thead>\n",
       "    <tr style=\"text-align: right;\">\n",
       "      <th></th>\n",
       "      <th>count</th>\n",
       "      <th>mean</th>\n",
       "      <th>std</th>\n",
       "      <th>min</th>\n",
       "      <th>25%</th>\n",
       "      <th>50%</th>\n",
       "      <th>75%</th>\n",
       "      <th>max</th>\n",
       "    </tr>\n",
       "  </thead>\n",
       "  <tbody>\n",
       "    <tr>\n",
       "      <th>number</th>\n",
       "      <td>1035.0</td>\n",
       "      <td>1.785507</td>\n",
       "      <td>1.240976</td>\n",
       "      <td>1.000000</td>\n",
       "      <td>1.00000</td>\n",
       "      <td>1.0000</td>\n",
       "      <td>2.000</td>\n",
       "      <td>7.0</td>\n",
       "    </tr>\n",
       "    <tr>\n",
       "      <th>orbital_period</th>\n",
       "      <td>992.0</td>\n",
       "      <td>2002.917596</td>\n",
       "      <td>26014.728304</td>\n",
       "      <td>0.090706</td>\n",
       "      <td>5.44254</td>\n",
       "      <td>39.9795</td>\n",
       "      <td>526.005</td>\n",
       "      <td>730000.0</td>\n",
       "    </tr>\n",
       "    <tr>\n",
       "      <th>mass</th>\n",
       "      <td>513.0</td>\n",
       "      <td>2.638161</td>\n",
       "      <td>3.818617</td>\n",
       "      <td>0.003600</td>\n",
       "      <td>0.22900</td>\n",
       "      <td>1.2600</td>\n",
       "      <td>3.040</td>\n",
       "      <td>25.0</td>\n",
       "    </tr>\n",
       "    <tr>\n",
       "      <th>distance</th>\n",
       "      <td>808.0</td>\n",
       "      <td>264.069282</td>\n",
       "      <td>733.116493</td>\n",
       "      <td>1.350000</td>\n",
       "      <td>32.56000</td>\n",
       "      <td>55.2500</td>\n",
       "      <td>178.500</td>\n",
       "      <td>8500.0</td>\n",
       "    </tr>\n",
       "    <tr>\n",
       "      <th>year</th>\n",
       "      <td>1035.0</td>\n",
       "      <td>2009.070531</td>\n",
       "      <td>3.972567</td>\n",
       "      <td>1989.000000</td>\n",
       "      <td>2007.00000</td>\n",
       "      <td>2010.0000</td>\n",
       "      <td>2012.000</td>\n",
       "      <td>2014.0</td>\n",
       "    </tr>\n",
       "  </tbody>\n",
       "</table>\n",
       "</div>"
      ],
      "text/plain": [
       "                 count         mean           std          min         25%  \\\n",
       "number          1035.0     1.785507      1.240976     1.000000     1.00000   \n",
       "orbital_period   992.0  2002.917596  26014.728304     0.090706     5.44254   \n",
       "mass             513.0     2.638161      3.818617     0.003600     0.22900   \n",
       "distance         808.0   264.069282    733.116493     1.350000    32.56000   \n",
       "year            1035.0  2009.070531      3.972567  1989.000000  2007.00000   \n",
       "\n",
       "                      50%       75%       max  \n",
       "number             1.0000     2.000       7.0  \n",
       "orbital_period    39.9795   526.005  730000.0  \n",
       "mass               1.2600     3.040      25.0  \n",
       "distance          55.2500   178.500    8500.0  \n",
       "year            2010.0000  2012.000    2014.0  "
      ]
     },
     "execution_count": 17,
     "metadata": {},
     "output_type": "execute_result"
    }
   ],
   "source": [
    "df.describe().T"
   ]
  },
  {
   "cell_type": "code",
   "execution_count": 18,
   "id": "d2e223e1",
   "metadata": {
    "execution": {
     "iopub.execute_input": "2023-07-30T14:30:18.285252Z",
     "iopub.status.busy": "2023-07-30T14:30:18.284944Z",
     "iopub.status.idle": "2023-07-30T14:30:18.314047Z",
     "shell.execute_reply": "2023-07-30T14:30:18.312981Z"
    },
    "papermill": {
     "duration": 0.051035,
     "end_time": "2023-07-30T14:30:18.316067",
     "exception": false,
     "start_time": "2023-07-30T14:30:18.265032",
     "status": "completed"
    },
    "tags": []
   },
   "outputs": [
    {
     "data": {
      "text/html": [
       "<div>\n",
       "<style scoped>\n",
       "    .dataframe tbody tr th:only-of-type {\n",
       "        vertical-align: middle;\n",
       "    }\n",
       "\n",
       "    .dataframe tbody tr th {\n",
       "        vertical-align: top;\n",
       "    }\n",
       "\n",
       "    .dataframe thead th {\n",
       "        text-align: right;\n",
       "    }\n",
       "</style>\n",
       "<table border=\"1\" class=\"dataframe\">\n",
       "  <thead>\n",
       "    <tr style=\"text-align: right;\">\n",
       "      <th></th>\n",
       "      <th>count</th>\n",
       "      <th>unique</th>\n",
       "      <th>top</th>\n",
       "      <th>freq</th>\n",
       "      <th>mean</th>\n",
       "      <th>std</th>\n",
       "      <th>min</th>\n",
       "      <th>25%</th>\n",
       "      <th>50%</th>\n",
       "      <th>75%</th>\n",
       "      <th>max</th>\n",
       "    </tr>\n",
       "  </thead>\n",
       "  <tbody>\n",
       "    <tr>\n",
       "      <th>method</th>\n",
       "      <td>1035</td>\n",
       "      <td>10</td>\n",
       "      <td>Radial Velocity</td>\n",
       "      <td>553</td>\n",
       "      <td>NaN</td>\n",
       "      <td>NaN</td>\n",
       "      <td>NaN</td>\n",
       "      <td>NaN</td>\n",
       "      <td>NaN</td>\n",
       "      <td>NaN</td>\n",
       "      <td>NaN</td>\n",
       "    </tr>\n",
       "    <tr>\n",
       "      <th>number</th>\n",
       "      <td>1035.0</td>\n",
       "      <td>NaN</td>\n",
       "      <td>NaN</td>\n",
       "      <td>NaN</td>\n",
       "      <td>1.785507</td>\n",
       "      <td>1.240976</td>\n",
       "      <td>1.0</td>\n",
       "      <td>1.0</td>\n",
       "      <td>1.0</td>\n",
       "      <td>2.0</td>\n",
       "      <td>7.0</td>\n",
       "    </tr>\n",
       "    <tr>\n",
       "      <th>orbital_period</th>\n",
       "      <td>992.0</td>\n",
       "      <td>NaN</td>\n",
       "      <td>NaN</td>\n",
       "      <td>NaN</td>\n",
       "      <td>2002.917596</td>\n",
       "      <td>26014.728304</td>\n",
       "      <td>0.090706</td>\n",
       "      <td>5.44254</td>\n",
       "      <td>39.9795</td>\n",
       "      <td>526.005</td>\n",
       "      <td>730000.0</td>\n",
       "    </tr>\n",
       "    <tr>\n",
       "      <th>mass</th>\n",
       "      <td>513.0</td>\n",
       "      <td>NaN</td>\n",
       "      <td>NaN</td>\n",
       "      <td>NaN</td>\n",
       "      <td>2.638161</td>\n",
       "      <td>3.818617</td>\n",
       "      <td>0.0036</td>\n",
       "      <td>0.229</td>\n",
       "      <td>1.26</td>\n",
       "      <td>3.04</td>\n",
       "      <td>25.0</td>\n",
       "    </tr>\n",
       "    <tr>\n",
       "      <th>distance</th>\n",
       "      <td>808.0</td>\n",
       "      <td>NaN</td>\n",
       "      <td>NaN</td>\n",
       "      <td>NaN</td>\n",
       "      <td>264.069282</td>\n",
       "      <td>733.116493</td>\n",
       "      <td>1.35</td>\n",
       "      <td>32.56</td>\n",
       "      <td>55.25</td>\n",
       "      <td>178.5</td>\n",
       "      <td>8500.0</td>\n",
       "    </tr>\n",
       "    <tr>\n",
       "      <th>year</th>\n",
       "      <td>1035.0</td>\n",
       "      <td>NaN</td>\n",
       "      <td>NaN</td>\n",
       "      <td>NaN</td>\n",
       "      <td>2009.070531</td>\n",
       "      <td>3.972567</td>\n",
       "      <td>1989.0</td>\n",
       "      <td>2007.0</td>\n",
       "      <td>2010.0</td>\n",
       "      <td>2012.0</td>\n",
       "      <td>2014.0</td>\n",
       "    </tr>\n",
       "  </tbody>\n",
       "</table>\n",
       "</div>"
      ],
      "text/plain": [
       "                 count unique              top freq         mean  \\\n",
       "method            1035     10  Radial Velocity  553          NaN   \n",
       "number          1035.0    NaN              NaN  NaN     1.785507   \n",
       "orbital_period   992.0    NaN              NaN  NaN  2002.917596   \n",
       "mass             513.0    NaN              NaN  NaN     2.638161   \n",
       "distance         808.0    NaN              NaN  NaN   264.069282   \n",
       "year            1035.0    NaN              NaN  NaN  2009.070531   \n",
       "\n",
       "                         std       min      25%      50%      75%       max  \n",
       "method                   NaN       NaN      NaN      NaN      NaN       NaN  \n",
       "number              1.240976       1.0      1.0      1.0      2.0       7.0  \n",
       "orbital_period  26014.728304  0.090706  5.44254  39.9795  526.005  730000.0  \n",
       "mass                3.818617    0.0036    0.229     1.26     3.04      25.0  \n",
       "distance          733.116493      1.35    32.56    55.25    178.5    8500.0  \n",
       "year                3.972567    1989.0   2007.0   2010.0   2012.0    2014.0  "
      ]
     },
     "execution_count": 18,
     "metadata": {},
     "output_type": "execute_result"
    }
   ],
   "source": [
    "df.describe(include = \"all\").T"
   ]
  },
  {
   "cell_type": "code",
   "execution_count": 19,
   "id": "1b591717",
   "metadata": {
    "execution": {
     "iopub.execute_input": "2023-07-30T14:30:18.356964Z",
     "iopub.status.busy": "2023-07-30T14:30:18.356185Z",
     "iopub.status.idle": "2023-07-30T14:30:18.360308Z",
     "shell.execute_reply": "2023-07-30T14:30:18.359348Z"
    },
    "papermill": {
     "duration": 0.026297,
     "end_time": "2023-07-30T14:30:18.362290",
     "exception": false,
     "start_time": "2023-07-30T14:30:18.335993",
     "status": "completed"
    },
    "tags": []
   },
   "outputs": [],
   "source": [
    "# Examining Missing Values"
   ]
  },
  {
   "cell_type": "code",
   "execution_count": 20,
   "id": "ea897fb4",
   "metadata": {
    "execution": {
     "iopub.execute_input": "2023-07-30T14:30:18.402015Z",
     "iopub.status.busy": "2023-07-30T14:30:18.401277Z",
     "iopub.status.idle": "2023-07-30T14:30:18.408005Z",
     "shell.execute_reply": "2023-07-30T14:30:18.406925Z"
    },
    "papermill": {
     "duration": 0.02871,
     "end_time": "2023-07-30T14:30:18.410033",
     "exception": false,
     "start_time": "2023-07-30T14:30:18.381323",
     "status": "completed"
    },
    "tags": []
   },
   "outputs": [
    {
     "data": {
      "text/plain": [
       "True"
      ]
     },
     "execution_count": 20,
     "metadata": {},
     "output_type": "execute_result"
    }
   ],
   "source": [
    "df.isnull().values.any()"
   ]
  },
  {
   "cell_type": "code",
   "execution_count": 21,
   "id": "39c740e3",
   "metadata": {
    "execution": {
     "iopub.execute_input": "2023-07-30T14:30:18.450024Z",
     "iopub.status.busy": "2023-07-30T14:30:18.449277Z",
     "iopub.status.idle": "2023-07-30T14:30:18.457132Z",
     "shell.execute_reply": "2023-07-30T14:30:18.456097Z"
    },
    "papermill": {
     "duration": 0.029929,
     "end_time": "2023-07-30T14:30:18.459040",
     "exception": false,
     "start_time": "2023-07-30T14:30:18.429111",
     "status": "completed"
    },
    "tags": []
   },
   "outputs": [
    {
     "data": {
      "text/plain": [
       "method              0\n",
       "number              0\n",
       "orbital_period     43\n",
       "mass              522\n",
       "distance          227\n",
       "year                0\n",
       "dtype: int64"
      ]
     },
     "execution_count": 21,
     "metadata": {},
     "output_type": "execute_result"
    }
   ],
   "source": [
    "df.isnull().sum()"
   ]
  },
  {
   "cell_type": "code",
   "execution_count": 22,
   "id": "16fcb6db",
   "metadata": {
    "execution": {
     "iopub.execute_input": "2023-07-30T14:30:18.500378Z",
     "iopub.status.busy": "2023-07-30T14:30:18.499620Z",
     "iopub.status.idle": "2023-07-30T14:30:18.504682Z",
     "shell.execute_reply": "2023-07-30T14:30:18.503848Z"
    },
    "papermill": {
     "duration": 0.027589,
     "end_time": "2023-07-30T14:30:18.506738",
     "exception": false,
     "start_time": "2023-07-30T14:30:18.479149",
     "status": "completed"
    },
    "tags": []
   },
   "outputs": [],
   "source": [
    "df[\"orbital_period\"].fillna(0, inplace = True)"
   ]
  },
  {
   "cell_type": "code",
   "execution_count": 23,
   "id": "85216981",
   "metadata": {
    "execution": {
     "iopub.execute_input": "2023-07-30T14:30:18.546300Z",
     "iopub.status.busy": "2023-07-30T14:30:18.546047Z",
     "iopub.status.idle": "2023-07-30T14:30:18.553554Z",
     "shell.execute_reply": "2023-07-30T14:30:18.552705Z"
    },
    "papermill": {
     "duration": 0.029516,
     "end_time": "2023-07-30T14:30:18.555503",
     "exception": false,
     "start_time": "2023-07-30T14:30:18.525987",
     "status": "completed"
    },
    "tags": []
   },
   "outputs": [
    {
     "data": {
      "text/plain": [
       "method              0\n",
       "number              0\n",
       "orbital_period      0\n",
       "mass              522\n",
       "distance          227\n",
       "year                0\n",
       "dtype: int64"
      ]
     },
     "execution_count": 23,
     "metadata": {},
     "output_type": "execute_result"
    }
   ],
   "source": [
    "df.isnull().sum()"
   ]
  },
  {
   "cell_type": "code",
   "execution_count": 24,
   "id": "7466051d",
   "metadata": {
    "execution": {
     "iopub.execute_input": "2023-07-30T14:30:18.596093Z",
     "iopub.status.busy": "2023-07-30T14:30:18.595360Z",
     "iopub.status.idle": "2023-07-30T14:30:18.600622Z",
     "shell.execute_reply": "2023-07-30T14:30:18.599681Z"
    },
    "papermill": {
     "duration": 0.027686,
     "end_time": "2023-07-30T14:30:18.602813",
     "exception": false,
     "start_time": "2023-07-30T14:30:18.575127",
     "status": "completed"
    },
    "tags": []
   },
   "outputs": [],
   "source": [
    "df[\"mass\"].fillna(df.mass.mean(), inplace = True)"
   ]
  },
  {
   "cell_type": "code",
   "execution_count": 25,
   "id": "2f1a7610",
   "metadata": {
    "execution": {
     "iopub.execute_input": "2023-07-30T14:30:18.642770Z",
     "iopub.status.busy": "2023-07-30T14:30:18.642504Z",
     "iopub.status.idle": "2023-07-30T14:30:18.651517Z",
     "shell.execute_reply": "2023-07-30T14:30:18.650691Z"
    },
    "papermill": {
     "duration": 0.031228,
     "end_time": "2023-07-30T14:30:18.653600",
     "exception": false,
     "start_time": "2023-07-30T14:30:18.622372",
     "status": "completed"
    },
    "tags": []
   },
   "outputs": [
    {
     "data": {
      "text/plain": [
       "method              0\n",
       "number              0\n",
       "orbital_period      0\n",
       "mass                0\n",
       "distance          227\n",
       "year                0\n",
       "dtype: int64"
      ]
     },
     "execution_count": 25,
     "metadata": {},
     "output_type": "execute_result"
    }
   ],
   "source": [
    "df.isnull().sum()"
   ]
  },
  {
   "cell_type": "code",
   "execution_count": 26,
   "id": "688192cf",
   "metadata": {
    "execution": {
     "iopub.execute_input": "2023-07-30T14:30:18.694363Z",
     "iopub.status.busy": "2023-07-30T14:30:18.694108Z",
     "iopub.status.idle": "2023-07-30T14:30:18.703685Z",
     "shell.execute_reply": "2023-07-30T14:30:18.702703Z"
    },
    "papermill": {
     "duration": 0.033197,
     "end_time": "2023-07-30T14:30:18.707056",
     "exception": false,
     "start_time": "2023-07-30T14:30:18.673859",
     "status": "completed"
    },
    "tags": []
   },
   "outputs": [
    {
     "name": "stderr",
     "output_type": "stream",
     "text": [
      "/tmp/ipykernel_21/2622515659.py:1: FutureWarning: The default value of numeric_only in DataFrame.mean is deprecated. In a future version, it will default to False. In addition, specifying 'numeric_only=None' is deprecated. Select only valid columns or specify the value of numeric_only to silence this warning.\n",
      "  df.fillna(df.mean(), inplace = True)\n"
     ]
    }
   ],
   "source": [
    "df.fillna(df.mean(), inplace = True)"
   ]
  },
  {
   "cell_type": "code",
   "execution_count": 27,
   "id": "0b331ca5",
   "metadata": {
    "execution": {
     "iopub.execute_input": "2023-07-30T14:30:18.747150Z",
     "iopub.status.busy": "2023-07-30T14:30:18.746891Z",
     "iopub.status.idle": "2023-07-30T14:30:18.754411Z",
     "shell.execute_reply": "2023-07-30T14:30:18.753363Z"
    },
    "papermill": {
     "duration": 0.030985,
     "end_time": "2023-07-30T14:30:18.757476",
     "exception": false,
     "start_time": "2023-07-30T14:30:18.726491",
     "status": "completed"
    },
    "tags": []
   },
   "outputs": [
    {
     "data": {
      "text/plain": [
       "method            0\n",
       "number            0\n",
       "orbital_period    0\n",
       "mass              0\n",
       "distance          0\n",
       "year              0\n",
       "dtype: int64"
      ]
     },
     "execution_count": 27,
     "metadata": {},
     "output_type": "execute_result"
    }
   ],
   "source": [
    "df.isnull().sum()"
   ]
  },
  {
   "cell_type": "code",
   "execution_count": 28,
   "id": "8c72438d",
   "metadata": {
    "execution": {
     "iopub.execute_input": "2023-07-30T14:30:18.798325Z",
     "iopub.status.busy": "2023-07-30T14:30:18.798064Z",
     "iopub.status.idle": "2023-07-30T14:30:18.809543Z",
     "shell.execute_reply": "2023-07-30T14:30:18.808601Z"
    },
    "papermill": {
     "duration": 0.034421,
     "end_time": "2023-07-30T14:30:18.811983",
     "exception": false,
     "start_time": "2023-07-30T14:30:18.777562",
     "status": "completed"
    },
    "tags": []
   },
   "outputs": [
    {
     "data": {
      "text/html": [
       "<div>\n",
       "<style scoped>\n",
       "    .dataframe tbody tr th:only-of-type {\n",
       "        vertical-align: middle;\n",
       "    }\n",
       "\n",
       "    .dataframe tbody tr th {\n",
       "        vertical-align: top;\n",
       "    }\n",
       "\n",
       "    .dataframe thead th {\n",
       "        text-align: right;\n",
       "    }\n",
       "</style>\n",
       "<table border=\"1\" class=\"dataframe\">\n",
       "  <thead>\n",
       "    <tr style=\"text-align: right;\">\n",
       "      <th></th>\n",
       "      <th>method</th>\n",
       "      <th>number</th>\n",
       "      <th>orbital_period</th>\n",
       "      <th>mass</th>\n",
       "      <th>distance</th>\n",
       "      <th>year</th>\n",
       "    </tr>\n",
       "  </thead>\n",
       "  <tbody>\n",
       "    <tr>\n",
       "      <th>0</th>\n",
       "      <td>Radial Velocity</td>\n",
       "      <td>1</td>\n",
       "      <td>269.300</td>\n",
       "      <td>7.10</td>\n",
       "      <td>77.40</td>\n",
       "      <td>2006</td>\n",
       "    </tr>\n",
       "    <tr>\n",
       "      <th>1</th>\n",
       "      <td>Radial Velocity</td>\n",
       "      <td>1</td>\n",
       "      <td>874.774</td>\n",
       "      <td>2.21</td>\n",
       "      <td>56.95</td>\n",
       "      <td>2008</td>\n",
       "    </tr>\n",
       "    <tr>\n",
       "      <th>2</th>\n",
       "      <td>Radial Velocity</td>\n",
       "      <td>1</td>\n",
       "      <td>763.000</td>\n",
       "      <td>2.60</td>\n",
       "      <td>19.84</td>\n",
       "      <td>2011</td>\n",
       "    </tr>\n",
       "    <tr>\n",
       "      <th>3</th>\n",
       "      <td>Radial Velocity</td>\n",
       "      <td>1</td>\n",
       "      <td>326.030</td>\n",
       "      <td>19.40</td>\n",
       "      <td>110.62</td>\n",
       "      <td>2007</td>\n",
       "    </tr>\n",
       "    <tr>\n",
       "      <th>4</th>\n",
       "      <td>Radial Velocity</td>\n",
       "      <td>1</td>\n",
       "      <td>516.220</td>\n",
       "      <td>10.50</td>\n",
       "      <td>119.47</td>\n",
       "      <td>2009</td>\n",
       "    </tr>\n",
       "  </tbody>\n",
       "</table>\n",
       "</div>"
      ],
      "text/plain": [
       "            method  number  orbital_period   mass  distance  year\n",
       "0  Radial Velocity       1         269.300   7.10     77.40  2006\n",
       "1  Radial Velocity       1         874.774   2.21     56.95  2008\n",
       "2  Radial Velocity       1         763.000   2.60     19.84  2011\n",
       "3  Radial Velocity       1         326.030  19.40    110.62  2007\n",
       "4  Radial Velocity       1         516.220  10.50    119.47  2009"
      ]
     },
     "execution_count": 28,
     "metadata": {},
     "output_type": "execute_result"
    }
   ],
   "source": [
    "df = planets.copy()\n",
    "df.head()"
   ]
  },
  {
   "cell_type": "code",
   "execution_count": 29,
   "id": "5e688f2a",
   "metadata": {
    "execution": {
     "iopub.execute_input": "2023-07-30T14:30:18.854736Z",
     "iopub.status.busy": "2023-07-30T14:30:18.853980Z",
     "iopub.status.idle": "2023-07-30T14:30:18.862351Z",
     "shell.execute_reply": "2023-07-30T14:30:18.861463Z"
    },
    "papermill": {
     "duration": 0.031281,
     "end_time": "2023-07-30T14:30:18.864519",
     "exception": false,
     "start_time": "2023-07-30T14:30:18.833238",
     "status": "completed"
    },
    "tags": []
   },
   "outputs": [
    {
     "data": {
      "text/plain": [
       "method              0\n",
       "number              0\n",
       "orbital_period     43\n",
       "mass              522\n",
       "distance          227\n",
       "year                0\n",
       "dtype: int64"
      ]
     },
     "execution_count": 29,
     "metadata": {},
     "output_type": "execute_result"
    }
   ],
   "source": [
    "df.isnull().sum()"
   ]
  },
  {
   "cell_type": "code",
   "execution_count": 30,
   "id": "f720b646",
   "metadata": {
    "execution": {
     "iopub.execute_input": "2023-07-30T14:30:18.906949Z",
     "iopub.status.busy": "2023-07-30T14:30:18.906314Z",
     "iopub.status.idle": "2023-07-30T14:30:18.910093Z",
     "shell.execute_reply": "2023-07-30T14:30:18.909215Z"
    },
    "papermill": {
     "duration": 0.027169,
     "end_time": "2023-07-30T14:30:18.912213",
     "exception": false,
     "start_time": "2023-07-30T14:30:18.885044",
     "status": "completed"
    },
    "tags": []
   },
   "outputs": [],
   "source": [
    "# Categorical Variable Summaries"
   ]
  },
  {
   "cell_type": "code",
   "execution_count": 31,
   "id": "f627e266",
   "metadata": {
    "execution": {
     "iopub.execute_input": "2023-07-30T14:30:18.954922Z",
     "iopub.status.busy": "2023-07-30T14:30:18.954628Z",
     "iopub.status.idle": "2023-07-30T14:30:18.958933Z",
     "shell.execute_reply": "2023-07-30T14:30:18.958070Z"
    },
    "papermill": {
     "duration": 0.028755,
     "end_time": "2023-07-30T14:30:18.961018",
     "exception": false,
     "start_time": "2023-07-30T14:30:18.932263",
     "status": "completed"
    },
    "tags": []
   },
   "outputs": [],
   "source": [
    "kat_df = df.select_dtypes(include = [\"object\"])"
   ]
  },
  {
   "cell_type": "code",
   "execution_count": 32,
   "id": "951ef52f",
   "metadata": {
    "execution": {
     "iopub.execute_input": "2023-07-30T14:30:19.002223Z",
     "iopub.status.busy": "2023-07-30T14:30:19.001961Z",
     "iopub.status.idle": "2023-07-30T14:30:19.009554Z",
     "shell.execute_reply": "2023-07-30T14:30:19.008706Z"
    },
    "papermill": {
     "duration": 0.030593,
     "end_time": "2023-07-30T14:30:19.011582",
     "exception": false,
     "start_time": "2023-07-30T14:30:18.980989",
     "status": "completed"
    },
    "tags": []
   },
   "outputs": [
    {
     "data": {
      "text/html": [
       "<div>\n",
       "<style scoped>\n",
       "    .dataframe tbody tr th:only-of-type {\n",
       "        vertical-align: middle;\n",
       "    }\n",
       "\n",
       "    .dataframe tbody tr th {\n",
       "        vertical-align: top;\n",
       "    }\n",
       "\n",
       "    .dataframe thead th {\n",
       "        text-align: right;\n",
       "    }\n",
       "</style>\n",
       "<table border=\"1\" class=\"dataframe\">\n",
       "  <thead>\n",
       "    <tr style=\"text-align: right;\">\n",
       "      <th></th>\n",
       "      <th>method</th>\n",
       "    </tr>\n",
       "  </thead>\n",
       "  <tbody>\n",
       "    <tr>\n",
       "      <th>0</th>\n",
       "      <td>Radial Velocity</td>\n",
       "    </tr>\n",
       "    <tr>\n",
       "      <th>1</th>\n",
       "      <td>Radial Velocity</td>\n",
       "    </tr>\n",
       "    <tr>\n",
       "      <th>2</th>\n",
       "      <td>Radial Velocity</td>\n",
       "    </tr>\n",
       "    <tr>\n",
       "      <th>3</th>\n",
       "      <td>Radial Velocity</td>\n",
       "    </tr>\n",
       "    <tr>\n",
       "      <th>4</th>\n",
       "      <td>Radial Velocity</td>\n",
       "    </tr>\n",
       "  </tbody>\n",
       "</table>\n",
       "</div>"
      ],
      "text/plain": [
       "            method\n",
       "0  Radial Velocity\n",
       "1  Radial Velocity\n",
       "2  Radial Velocity\n",
       "3  Radial Velocity\n",
       "4  Radial Velocity"
      ]
     },
     "execution_count": 32,
     "metadata": {},
     "output_type": "execute_result"
    }
   ],
   "source": [
    "kat_df.head()"
   ]
  },
  {
   "cell_type": "code",
   "execution_count": 33,
   "id": "364015d9",
   "metadata": {
    "execution": {
     "iopub.execute_input": "2023-07-30T14:30:19.054338Z",
     "iopub.status.busy": "2023-07-30T14:30:19.054083Z",
     "iopub.status.idle": "2023-07-30T14:30:19.061805Z",
     "shell.execute_reply": "2023-07-30T14:30:19.060846Z"
    },
    "papermill": {
     "duration": 0.031252,
     "end_time": "2023-07-30T14:30:19.063820",
     "exception": false,
     "start_time": "2023-07-30T14:30:19.032568",
     "status": "completed"
    },
    "tags": []
   },
   "outputs": [
    {
     "data": {
      "text/plain": [
       "method    1035\n",
       "dtype: int64"
      ]
     },
     "execution_count": 33,
     "metadata": {},
     "output_type": "execute_result"
    }
   ],
   "source": [
    "kat_df.count()"
   ]
  },
  {
   "cell_type": "code",
   "execution_count": 34,
   "id": "998eefa1",
   "metadata": {
    "execution": {
     "iopub.execute_input": "2023-07-30T14:30:19.105903Z",
     "iopub.status.busy": "2023-07-30T14:30:19.105609Z",
     "iopub.status.idle": "2023-07-30T14:30:19.111678Z",
     "shell.execute_reply": "2023-07-30T14:30:19.110778Z"
    },
    "papermill": {
     "duration": 0.029396,
     "end_time": "2023-07-30T14:30:19.113765",
     "exception": false,
     "start_time": "2023-07-30T14:30:19.084369",
     "status": "completed"
    },
    "tags": []
   },
   "outputs": [
    {
     "data": {
      "text/plain": [
       "array(['Radial Velocity', 'Imaging', 'Eclipse Timing Variations',\n",
       "       'Transit', 'Astrometry', 'Transit Timing Variations',\n",
       "       'Orbital Brightness Modulation', 'Microlensing', 'Pulsar Timing',\n",
       "       'Pulsation Timing Variations'], dtype=object)"
      ]
     },
     "execution_count": 34,
     "metadata": {},
     "output_type": "execute_result"
    }
   ],
   "source": [
    "kat_df.method.unique() # classes"
   ]
  },
  {
   "cell_type": "code",
   "execution_count": 35,
   "id": "fe092679",
   "metadata": {
    "execution": {
     "iopub.execute_input": "2023-07-30T14:30:19.155704Z",
     "iopub.status.busy": "2023-07-30T14:30:19.155428Z",
     "iopub.status.idle": "2023-07-30T14:30:19.163345Z",
     "shell.execute_reply": "2023-07-30T14:30:19.162383Z"
    },
    "papermill": {
     "duration": 0.031121,
     "end_time": "2023-07-30T14:30:19.165325",
     "exception": false,
     "start_time": "2023-07-30T14:30:19.134204",
     "status": "completed"
    },
    "tags": []
   },
   "outputs": [
    {
     "data": {
      "text/plain": [
       "10"
      ]
     },
     "execution_count": 35,
     "metadata": {},
     "output_type": "execute_result"
    }
   ],
   "source": [
    "kat_df.value_counts().count()"
   ]
  },
  {
   "cell_type": "code",
   "execution_count": 36,
   "id": "b7dbfe0e",
   "metadata": {
    "execution": {
     "iopub.execute_input": "2023-07-30T14:30:19.208787Z",
     "iopub.status.busy": "2023-07-30T14:30:19.208505Z",
     "iopub.status.idle": "2023-07-30T14:30:19.214997Z",
     "shell.execute_reply": "2023-07-30T14:30:19.214119Z"
    },
    "papermill": {
     "duration": 0.031127,
     "end_time": "2023-07-30T14:30:19.216923",
     "exception": false,
     "start_time": "2023-07-30T14:30:19.185796",
     "status": "completed"
    },
    "tags": []
   },
   "outputs": [
    {
     "data": {
      "text/plain": [
       "10"
      ]
     },
     "execution_count": 36,
     "metadata": {},
     "output_type": "execute_result"
    }
   ],
   "source": [
    "kat_df[\"method\"].value_counts().count()"
   ]
  },
  {
   "cell_type": "code",
   "execution_count": 37,
   "id": "2a7a4b55",
   "metadata": {
    "execution": {
     "iopub.execute_input": "2023-07-30T14:30:19.260194Z",
     "iopub.status.busy": "2023-07-30T14:30:19.259920Z",
     "iopub.status.idle": "2023-07-30T14:30:19.267301Z",
     "shell.execute_reply": "2023-07-30T14:30:19.266444Z"
    },
    "papermill": {
     "duration": 0.031156,
     "end_time": "2023-07-30T14:30:19.269205",
     "exception": false,
     "start_time": "2023-07-30T14:30:19.238049",
     "status": "completed"
    },
    "tags": []
   },
   "outputs": [
    {
     "data": {
      "text/plain": [
       "Radial Velocity                  553\n",
       "Transit                          397\n",
       "Imaging                           38\n",
       "Microlensing                      23\n",
       "Eclipse Timing Variations          9\n",
       "Pulsar Timing                      5\n",
       "Transit Timing Variations          4\n",
       "Orbital Brightness Modulation      3\n",
       "Astrometry                         2\n",
       "Pulsation Timing Variations        1\n",
       "Name: method, dtype: int64"
      ]
     },
     "execution_count": 37,
     "metadata": {},
     "output_type": "execute_result"
    }
   ],
   "source": [
    "kat_df[\"method\"].value_counts() # freq"
   ]
  },
  {
   "cell_type": "code",
   "execution_count": 38,
   "id": "2ae0c1ea",
   "metadata": {
    "execution": {
     "iopub.execute_input": "2023-07-30T14:30:19.313161Z",
     "iopub.status.busy": "2023-07-30T14:30:19.312518Z",
     "iopub.status.idle": "2023-07-30T14:30:19.619638Z",
     "shell.execute_reply": "2023-07-30T14:30:19.618577Z"
    },
    "papermill": {
     "duration": 0.331138,
     "end_time": "2023-07-30T14:30:19.621818",
     "exception": false,
     "start_time": "2023-07-30T14:30:19.290680",
     "status": "completed"
    },
    "tags": []
   },
   "outputs": [
    {
     "data": {
      "image/png": "[encoded data removed]",
      "text/plain": [
       "<Figure size 640x480 with 1 Axes>"
      ]
     },
     "metadata": {},
     "output_type": "display_data"
    }
   ],
   "source": [
    "df[\"method\"].value_counts().plot.barh();"
   ]
  },
  {
   "cell_type": "code",
   "execution_count": 39,
   "id": "6a4384d7",
   "metadata": {
    "execution": {
     "iopub.execute_input": "2023-07-30T14:30:19.666692Z",
     "iopub.status.busy": "2023-07-30T14:30:19.665744Z",
     "iopub.status.idle": "2023-07-30T14:30:19.670197Z",
     "shell.execute_reply": "2023-07-30T14:30:19.669330Z"
    },
    "papermill": {
     "duration": 0.028845,
     "end_time": "2023-07-30T14:30:19.672190",
     "exception": false,
     "start_time": "2023-07-30T14:30:19.643345",
     "status": "completed"
    },
    "tags": []
   },
   "outputs": [],
   "source": [
    "# Continuous Variable Summaries"
   ]
  },
  {
   "cell_type": "code",
   "execution_count": 40,
   "id": "34fcbdb1",
   "metadata": {
    "execution": {
     "iopub.execute_input": "2023-07-30T14:30:19.716185Z",
     "iopub.status.busy": "2023-07-30T14:30:19.715421Z",
     "iopub.status.idle": "2023-07-30T14:30:19.730805Z",
     "shell.execute_reply": "2023-07-30T14:30:19.729801Z"
    },
    "papermill": {
     "duration": 0.039496,
     "end_time": "2023-07-30T14:30:19.732769",
     "exception": false,
     "start_time": "2023-07-30T14:30:19.693273",
     "status": "completed"
    },
    "tags": []
   },
   "outputs": [
    {
     "data": {
      "text/html": [
       "<div>\n",
       "<style scoped>\n",
       "    .dataframe tbody tr th:only-of-type {\n",
       "        vertical-align: middle;\n",
       "    }\n",
       "\n",
       "    .dataframe tbody tr th {\n",
       "        vertical-align: top;\n",
       "    }\n",
       "\n",
       "    .dataframe thead th {\n",
       "        text-align: right;\n",
       "    }\n",
       "</style>\n",
       "<table border=\"1\" class=\"dataframe\">\n",
       "  <thead>\n",
       "    <tr style=\"text-align: right;\">\n",
       "      <th></th>\n",
       "      <th>number</th>\n",
       "      <th>orbital_period</th>\n",
       "      <th>mass</th>\n",
       "      <th>distance</th>\n",
       "      <th>year</th>\n",
       "    </tr>\n",
       "  </thead>\n",
       "  <tbody>\n",
       "    <tr>\n",
       "      <th>0</th>\n",
       "      <td>1</td>\n",
       "      <td>269.300000</td>\n",
       "      <td>7.10</td>\n",
       "      <td>77.40</td>\n",
       "      <td>2006</td>\n",
       "    </tr>\n",
       "    <tr>\n",
       "      <th>1</th>\n",
       "      <td>1</td>\n",
       "      <td>874.774000</td>\n",
       "      <td>2.21</td>\n",
       "      <td>56.95</td>\n",
       "      <td>2008</td>\n",
       "    </tr>\n",
       "    <tr>\n",
       "      <th>2</th>\n",
       "      <td>1</td>\n",
       "      <td>763.000000</td>\n",
       "      <td>2.60</td>\n",
       "      <td>19.84</td>\n",
       "      <td>2011</td>\n",
       "    </tr>\n",
       "    <tr>\n",
       "      <th>3</th>\n",
       "      <td>1</td>\n",
       "      <td>326.030000</td>\n",
       "      <td>19.40</td>\n",
       "      <td>110.62</td>\n",
       "      <td>2007</td>\n",
       "    </tr>\n",
       "    <tr>\n",
       "      <th>4</th>\n",
       "      <td>1</td>\n",
       "      <td>516.220000</td>\n",
       "      <td>10.50</td>\n",
       "      <td>119.47</td>\n",
       "      <td>2009</td>\n",
       "    </tr>\n",
       "    <tr>\n",
       "      <th>...</th>\n",
       "      <td>...</td>\n",
       "      <td>...</td>\n",
       "      <td>...</td>\n",
       "      <td>...</td>\n",
       "      <td>...</td>\n",
       "    </tr>\n",
       "    <tr>\n",
       "      <th>1030</th>\n",
       "      <td>1</td>\n",
       "      <td>3.941507</td>\n",
       "      <td>NaN</td>\n",
       "      <td>172.00</td>\n",
       "      <td>2006</td>\n",
       "    </tr>\n",
       "    <tr>\n",
       "      <th>1031</th>\n",
       "      <td>1</td>\n",
       "      <td>2.615864</td>\n",
       "      <td>NaN</td>\n",
       "      <td>148.00</td>\n",
       "      <td>2007</td>\n",
       "    </tr>\n",
       "    <tr>\n",
       "      <th>1032</th>\n",
       "      <td>1</td>\n",
       "      <td>3.191524</td>\n",
       "      <td>NaN</td>\n",
       "      <td>174.00</td>\n",
       "      <td>2007</td>\n",
       "    </tr>\n",
       "    <tr>\n",
       "      <th>1033</th>\n",
       "      <td>1</td>\n",
       "      <td>4.125083</td>\n",
       "      <td>NaN</td>\n",
       "      <td>293.00</td>\n",
       "      <td>2008</td>\n",
       "    </tr>\n",
       "    <tr>\n",
       "      <th>1034</th>\n",
       "      <td>1</td>\n",
       "      <td>4.187757</td>\n",
       "      <td>NaN</td>\n",
       "      <td>260.00</td>\n",
       "      <td>2008</td>\n",
       "    </tr>\n",
       "  </tbody>\n",
       "</table>\n",
       "<p>1035 rows × 5 columns</p>\n",
       "</div>"
      ],
      "text/plain": [
       "      number  orbital_period   mass  distance  year\n",
       "0          1      269.300000   7.10     77.40  2006\n",
       "1          1      874.774000   2.21     56.95  2008\n",
       "2          1      763.000000   2.60     19.84  2011\n",
       "3          1      326.030000  19.40    110.62  2007\n",
       "4          1      516.220000  10.50    119.47  2009\n",
       "...      ...             ...    ...       ...   ...\n",
       "1030       1        3.941507    NaN    172.00  2006\n",
       "1031       1        2.615864    NaN    148.00  2007\n",
       "1032       1        3.191524    NaN    174.00  2007\n",
       "1033       1        4.125083    NaN    293.00  2008\n",
       "1034       1        4.187757    NaN    260.00  2008\n",
       "\n",
       "[1035 rows x 5 columns]"
      ]
     },
     "execution_count": 40,
     "metadata": {},
     "output_type": "execute_result"
    }
   ],
   "source": [
    "df_num = df.select_dtypes(include = [\"float64\", \"int64\"])\n",
    "df_num"
   ]
  },
  {
   "cell_type": "code",
   "execution_count": 41,
   "id": "e77e8117",
   "metadata": {
    "execution": {
     "iopub.execute_input": "2023-07-30T14:30:19.778257Z",
     "iopub.status.busy": "2023-07-30T14:30:19.777505Z",
     "iopub.status.idle": "2023-07-30T14:30:19.803807Z",
     "shell.execute_reply": "2023-07-30T14:30:19.802864Z"
    },
    "papermill": {
     "duration": 0.050812,
     "end_time": "2023-07-30T14:30:19.805816",
     "exception": false,
     "start_time": "2023-07-30T14:30:19.755004",
     "status": "completed"
    },
    "tags": []
   },
   "outputs": [
    {
     "data": {
      "text/html": [
       "<div>\n",
       "<style scoped>\n",
       "    .dataframe tbody tr th:only-of-type {\n",
       "        vertical-align: middle;\n",
       "    }\n",
       "\n",
       "    .dataframe tbody tr th {\n",
       "        vertical-align: top;\n",
       "    }\n",
       "\n",
       "    .dataframe thead th {\n",
       "        text-align: right;\n",
       "    }\n",
       "</style>\n",
       "<table border=\"1\" class=\"dataframe\">\n",
       "  <thead>\n",
       "    <tr style=\"text-align: right;\">\n",
       "      <th></th>\n",
       "      <th>count</th>\n",
       "      <th>mean</th>\n",
       "      <th>std</th>\n",
       "      <th>min</th>\n",
       "      <th>25%</th>\n",
       "      <th>50%</th>\n",
       "      <th>75%</th>\n",
       "      <th>max</th>\n",
       "    </tr>\n",
       "  </thead>\n",
       "  <tbody>\n",
       "    <tr>\n",
       "      <th>number</th>\n",
       "      <td>1035.0</td>\n",
       "      <td>1.785507</td>\n",
       "      <td>1.240976</td>\n",
       "      <td>1.000000</td>\n",
       "      <td>1.00000</td>\n",
       "      <td>1.0000</td>\n",
       "      <td>2.000</td>\n",
       "      <td>7.0</td>\n",
       "    </tr>\n",
       "    <tr>\n",
       "      <th>orbital_period</th>\n",
       "      <td>992.0</td>\n",
       "      <td>2002.917596</td>\n",
       "      <td>26014.728304</td>\n",
       "      <td>0.090706</td>\n",
       "      <td>5.44254</td>\n",
       "      <td>39.9795</td>\n",
       "      <td>526.005</td>\n",
       "      <td>730000.0</td>\n",
       "    </tr>\n",
       "    <tr>\n",
       "      <th>mass</th>\n",
       "      <td>513.0</td>\n",
       "      <td>2.638161</td>\n",
       "      <td>3.818617</td>\n",
       "      <td>0.003600</td>\n",
       "      <td>0.22900</td>\n",
       "      <td>1.2600</td>\n",
       "      <td>3.040</td>\n",
       "      <td>25.0</td>\n",
       "    </tr>\n",
       "    <tr>\n",
       "      <th>distance</th>\n",
       "      <td>808.0</td>\n",
       "      <td>264.069282</td>\n",
       "      <td>733.116493</td>\n",
       "      <td>1.350000</td>\n",
       "      <td>32.56000</td>\n",
       "      <td>55.2500</td>\n",
       "      <td>178.500</td>\n",
       "      <td>8500.0</td>\n",
       "    </tr>\n",
       "    <tr>\n",
       "      <th>year</th>\n",
       "      <td>1035.0</td>\n",
       "      <td>2009.070531</td>\n",
       "      <td>3.972567</td>\n",
       "      <td>1989.000000</td>\n",
       "      <td>2007.00000</td>\n",
       "      <td>2010.0000</td>\n",
       "      <td>2012.000</td>\n",
       "      <td>2014.0</td>\n",
       "    </tr>\n",
       "  </tbody>\n",
       "</table>\n",
       "</div>"
      ],
      "text/plain": [
       "                 count         mean           std          min         25%  \\\n",
       "number          1035.0     1.785507      1.240976     1.000000     1.00000   \n",
       "orbital_period   992.0  2002.917596  26014.728304     0.090706     5.44254   \n",
       "mass             513.0     2.638161      3.818617     0.003600     0.22900   \n",
       "distance         808.0   264.069282    733.116493     1.350000    32.56000   \n",
       "year            1035.0  2009.070531      3.972567  1989.000000  2007.00000   \n",
       "\n",
       "                      50%       75%       max  \n",
       "number             1.0000     2.000       7.0  \n",
       "orbital_period    39.9795   526.005  730000.0  \n",
       "mass               1.2600     3.040      25.0  \n",
       "distance          55.2500   178.500    8500.0  \n",
       "year            2010.0000  2012.000    2014.0  "
      ]
     },
     "execution_count": 41,
     "metadata": {},
     "output_type": "execute_result"
    }
   ],
   "source": [
    "df_num.describe().T"
   ]
  },
  {
   "cell_type": "code",
   "execution_count": 42,
   "id": "d2effa81",
   "metadata": {
    "execution": {
     "iopub.execute_input": "2023-07-30T14:30:19.853596Z",
     "iopub.status.busy": "2023-07-30T14:30:19.852758Z",
     "iopub.status.idle": "2023-07-30T14:30:19.862149Z",
     "shell.execute_reply": "2023-07-30T14:30:19.861136Z"
    },
    "papermill": {
     "duration": 0.03515,
     "end_time": "2023-07-30T14:30:19.864191",
     "exception": false,
     "start_time": "2023-07-30T14:30:19.829041",
     "status": "completed"
    },
    "tags": []
   },
   "outputs": [
    {
     "data": {
      "text/plain": [
       "count    1035.000000\n",
       "mean     2009.070531\n",
       "std         3.972567\n",
       "min      1989.000000\n",
       "25%      2007.000000\n",
       "50%      2010.000000\n",
       "75%      2012.000000\n",
       "max      2014.000000\n",
       "Name: year, dtype: float64"
      ]
     },
     "execution_count": 42,
     "metadata": {},
     "output_type": "execute_result"
    }
   ],
   "source": [
    "df_num[\"year\"].describe()"
   ]
  },
  {
   "cell_type": "code",
   "execution_count": 43,
   "id": "4c76214c",
   "metadata": {
    "execution": {
     "iopub.execute_input": "2023-07-30T14:30:19.910882Z",
     "iopub.status.busy": "2023-07-30T14:30:19.910149Z",
     "iopub.status.idle": "2023-07-30T14:30:19.919480Z",
     "shell.execute_reply": "2023-07-30T14:30:19.918586Z"
    },
    "papermill": {
     "duration": 0.034516,
     "end_time": "2023-07-30T14:30:19.921496",
     "exception": false,
     "start_time": "2023-07-30T14:30:19.886980",
     "status": "completed"
    },
    "tags": []
   },
   "outputs": [
    {
     "data": {
      "text/plain": [
       "count     808.000000\n",
       "mean      264.069282\n",
       "std       733.116493\n",
       "min         1.350000\n",
       "25%        32.560000\n",
       "50%        55.250000\n",
       "75%       178.500000\n",
       "max      8500.000000\n",
       "Name: distance, dtype: float64"
      ]
     },
     "execution_count": 43,
     "metadata": {},
     "output_type": "execute_result"
    }
   ],
   "source": [
    "df_num[\"distance\"].describe()"
   ]
  },
  {
   "cell_type": "code",
   "execution_count": 44,
   "id": "9a41999c",
   "metadata": {
    "execution": {
     "iopub.execute_input": "2023-07-30T14:30:19.970431Z",
     "iopub.status.busy": "2023-07-30T14:30:19.969697Z",
     "iopub.status.idle": "2023-07-30T14:30:19.975618Z",
     "shell.execute_reply": "2023-07-30T14:30:19.974744Z"
    },
    "papermill": {
     "duration": 0.033747,
     "end_time": "2023-07-30T14:30:19.977637",
     "exception": false,
     "start_time": "2023-07-30T14:30:19.943890",
     "status": "completed"
    },
    "tags": []
   },
   "outputs": [
    {
     "name": "stdout",
     "output_type": "stream",
     "text": [
      "Max distance :  8500.0\n"
     ]
    }
   ],
   "source": [
    "print(\"Max distance : \", df_num[\"distance\"].max())"
   ]
  },
  {
   "cell_type": "code",
   "execution_count": 45,
   "id": "2bf04cf6",
   "metadata": {
    "execution": {
     "iopub.execute_input": "2023-07-30T14:30:20.024086Z",
     "iopub.status.busy": "2023-07-30T14:30:20.023298Z",
     "iopub.status.idle": "2023-07-30T14:30:20.027311Z",
     "shell.execute_reply": "2023-07-30T14:30:20.026399Z"
    },
    "papermill": {
     "duration": 0.029096,
     "end_time": "2023-07-30T14:30:20.029354",
     "exception": false,
     "start_time": "2023-07-30T14:30:20.000258",
     "status": "completed"
    },
    "tags": []
   },
   "outputs": [],
   "source": [
    "# plots"
   ]
  },
  {
   "cell_type": "code",
   "execution_count": 46,
   "id": "f1ccc8b3",
   "metadata": {
    "execution": {
     "iopub.execute_input": "2023-07-30T14:30:20.076001Z",
     "iopub.status.busy": "2023-07-30T14:30:20.075159Z",
     "iopub.status.idle": "2023-07-30T14:30:20.079680Z",
     "shell.execute_reply": "2023-07-30T14:30:20.078841Z"
    },
    "papermill": {
     "duration": 0.030306,
     "end_time": "2023-07-30T14:30:20.081787",
     "exception": false,
     "start_time": "2023-07-30T14:30:20.051481",
     "status": "completed"
    },
    "tags": []
   },
   "outputs": [],
   "source": [
    "import seaborn as sns"
   ]
  },
  {
   "cell_type": "code",
   "execution_count": 47,
   "id": "d27e4689",
   "metadata": {
    "execution": {
     "iopub.execute_input": "2023-07-30T14:30:20.128243Z",
     "iopub.status.busy": "2023-07-30T14:30:20.127397Z",
     "iopub.status.idle": "2023-07-30T14:30:20.665141Z",
     "shell.execute_reply": "2023-07-30T14:30:20.664186Z"
    },
    "papermill": {
     "duration": 0.563275,
     "end_time": "2023-07-30T14:30:20.667163",
     "exception": false,
     "start_time": "2023-07-30T14:30:20.103888",
     "status": "completed"
    },
    "tags": []
   },
   "outputs": [
    {
     "data": {
      "text/html": [
       "<div>\n",
       "<style scoped>\n",
       "    .dataframe tbody tr th:only-of-type {\n",
       "        vertical-align: middle;\n",
       "    }\n",
       "\n",
       "    .dataframe tbody tr th {\n",
       "        vertical-align: top;\n",
       "    }\n",
       "\n",
       "    .dataframe thead th {\n",
       "        text-align: right;\n",
       "    }\n",
       "</style>\n",
       "<table border=\"1\" class=\"dataframe\">\n",
       "  <thead>\n",
       "    <tr style=\"text-align: right;\">\n",
       "      <th></th>\n",
       "      <th>carat</th>\n",
       "      <th>cut</th>\n",
       "      <th>color</th>\n",
       "      <th>clarity</th>\n",
       "      <th>depth</th>\n",
       "      <th>table</th>\n",
       "      <th>price</th>\n",
       "      <th>x</th>\n",
       "      <th>y</th>\n",
       "      <th>z</th>\n",
       "    </tr>\n",
       "  </thead>\n",
       "  <tbody>\n",
       "    <tr>\n",
       "      <th>0</th>\n",
       "      <td>0.23</td>\n",
       "      <td>Ideal</td>\n",
       "      <td>E</td>\n",
       "      <td>SI2</td>\n",
       "      <td>61.5</td>\n",
       "      <td>55.0</td>\n",
       "      <td>326</td>\n",
       "      <td>3.95</td>\n",
       "      <td>3.98</td>\n",
       "      <td>2.43</td>\n",
       "    </tr>\n",
       "    <tr>\n",
       "      <th>1</th>\n",
       "      <td>0.21</td>\n",
       "      <td>Premium</td>\n",
       "      <td>E</td>\n",
       "      <td>SI1</td>\n",
       "      <td>59.8</td>\n",
       "      <td>61.0</td>\n",
       "      <td>326</td>\n",
       "      <td>3.89</td>\n",
       "      <td>3.84</td>\n",
       "      <td>2.31</td>\n",
       "    </tr>\n",
       "    <tr>\n",
       "      <th>2</th>\n",
       "      <td>0.23</td>\n",
       "      <td>Good</td>\n",
       "      <td>E</td>\n",
       "      <td>VS1</td>\n",
       "      <td>56.9</td>\n",
       "      <td>65.0</td>\n",
       "      <td>327</td>\n",
       "      <td>4.05</td>\n",
       "      <td>4.07</td>\n",
       "      <td>2.31</td>\n",
       "    </tr>\n",
       "    <tr>\n",
       "      <th>3</th>\n",
       "      <td>0.29</td>\n",
       "      <td>Premium</td>\n",
       "      <td>I</td>\n",
       "      <td>VS2</td>\n",
       "      <td>62.4</td>\n",
       "      <td>58.0</td>\n",
       "      <td>334</td>\n",
       "      <td>4.20</td>\n",
       "      <td>4.23</td>\n",
       "      <td>2.63</td>\n",
       "    </tr>\n",
       "    <tr>\n",
       "      <th>4</th>\n",
       "      <td>0.31</td>\n",
       "      <td>Good</td>\n",
       "      <td>J</td>\n",
       "      <td>SI2</td>\n",
       "      <td>63.3</td>\n",
       "      <td>58.0</td>\n",
       "      <td>335</td>\n",
       "      <td>4.34</td>\n",
       "      <td>4.35</td>\n",
       "      <td>2.75</td>\n",
       "    </tr>\n",
       "  </tbody>\n",
       "</table>\n",
       "</div>"
      ],
      "text/plain": [
       "   carat      cut color clarity  depth  table  price     x     y     z\n",
       "0   0.23    Ideal     E     SI2   61.5   55.0    326  3.95  3.98  2.43\n",
       "1   0.21  Premium     E     SI1   59.8   61.0    326  3.89  3.84  2.31\n",
       "2   0.23     Good     E     VS1   56.9   65.0    327  4.05  4.07  2.31\n",
       "3   0.29  Premium     I     VS2   62.4   58.0    334  4.20  4.23  2.63\n",
       "4   0.31     Good     J     SI2   63.3   58.0    335  4.34  4.35  2.75"
      ]
     },
     "execution_count": 47,
     "metadata": {},
     "output_type": "execute_result"
    }
   ],
   "source": [
    "diamonds = sns.load_dataset(\"diamonds\")\n",
    "df = diamonds.copy()\n",
    "df.head()"
   ]
  },
  {
   "cell_type": "code",
   "execution_count": 48,
   "id": "365affc3",
   "metadata": {
    "execution": {
     "iopub.execute_input": "2023-07-30T14:30:20.718067Z",
     "iopub.status.busy": "2023-07-30T14:30:20.717751Z",
     "iopub.status.idle": "2023-07-30T14:30:20.730612Z",
     "shell.execute_reply": "2023-07-30T14:30:20.729163Z"
    },
    "papermill": {
     "duration": 0.040805,
     "end_time": "2023-07-30T14:30:20.732611",
     "exception": false,
     "start_time": "2023-07-30T14:30:20.691806",
     "status": "completed"
    },
    "tags": []
   },
   "outputs": [
    {
     "name": "stdout",
     "output_type": "stream",
     "text": [
      "<class 'pandas.core.frame.DataFrame'>\n",
      "RangeIndex: 53940 entries, 0 to 53939\n",
      "Data columns (total 10 columns):\n",
      " #   Column   Non-Null Count  Dtype   \n",
      "---  ------   --------------  -----   \n",
      " 0   carat    53940 non-null  float64 \n",
      " 1   cut      53940 non-null  category\n",
      " 2   color    53940 non-null  category\n",
      " 3   clarity  53940 non-null  category\n",
      " 4   depth    53940 non-null  float64 \n",
      " 5   table    53940 non-null  float64 \n",
      " 6   price    53940 non-null  int64   \n",
      " 7   x        53940 non-null  float64 \n",
      " 8   y        53940 non-null  float64 \n",
      " 9   z        53940 non-null  float64 \n",
      "dtypes: category(3), float64(6), int64(1)\n",
      "memory usage: 3.0 MB\n"
     ]
    }
   ],
   "source": [
    "df.info()"
   ]
  },
  {
   "cell_type": "code",
   "execution_count": 49,
   "id": "fcb9300e",
   "metadata": {
    "execution": {
     "iopub.execute_input": "2023-07-30T14:30:20.780050Z",
     "iopub.status.busy": "2023-07-30T14:30:20.779285Z",
     "iopub.status.idle": "2023-07-30T14:30:20.824038Z",
     "shell.execute_reply": "2023-07-30T14:30:20.822897Z"
    },
    "papermill": {
     "duration": 0.070835,
     "end_time": "2023-07-30T14:30:20.826604",
     "exception": false,
     "start_time": "2023-07-30T14:30:20.755769",
     "status": "completed"
    },
    "tags": []
   },
   "outputs": [
    {
     "data": {
      "text/html": [
       "<div>\n",
       "<style scoped>\n",
       "    .dataframe tbody tr th:only-of-type {\n",
       "        vertical-align: middle;\n",
       "    }\n",
       "\n",
       "    .dataframe tbody tr th {\n",
       "        vertical-align: top;\n",
       "    }\n",
       "\n",
       "    .dataframe thead th {\n",
       "        text-align: right;\n",
       "    }\n",
       "</style>\n",
       "<table border=\"1\" class=\"dataframe\">\n",
       "  <thead>\n",
       "    <tr style=\"text-align: right;\">\n",
       "      <th></th>\n",
       "      <th>count</th>\n",
       "      <th>mean</th>\n",
       "      <th>std</th>\n",
       "      <th>min</th>\n",
       "      <th>25%</th>\n",
       "      <th>50%</th>\n",
       "      <th>75%</th>\n",
       "      <th>max</th>\n",
       "    </tr>\n",
       "  </thead>\n",
       "  <tbody>\n",
       "    <tr>\n",
       "      <th>carat</th>\n",
       "      <td>53940.0</td>\n",
       "      <td>0.797940</td>\n",
       "      <td>0.474011</td>\n",
       "      <td>0.2</td>\n",
       "      <td>0.40</td>\n",
       "      <td>0.70</td>\n",
       "      <td>1.04</td>\n",
       "      <td>5.01</td>\n",
       "    </tr>\n",
       "    <tr>\n",
       "      <th>depth</th>\n",
       "      <td>53940.0</td>\n",
       "      <td>61.749405</td>\n",
       "      <td>1.432621</td>\n",
       "      <td>43.0</td>\n",
       "      <td>61.00</td>\n",
       "      <td>61.80</td>\n",
       "      <td>62.50</td>\n",
       "      <td>79.00</td>\n",
       "    </tr>\n",
       "    <tr>\n",
       "      <th>table</th>\n",
       "      <td>53940.0</td>\n",
       "      <td>57.457184</td>\n",
       "      <td>2.234491</td>\n",
       "      <td>43.0</td>\n",
       "      <td>56.00</td>\n",
       "      <td>57.00</td>\n",
       "      <td>59.00</td>\n",
       "      <td>95.00</td>\n",
       "    </tr>\n",
       "    <tr>\n",
       "      <th>price</th>\n",
       "      <td>53940.0</td>\n",
       "      <td>3932.799722</td>\n",
       "      <td>3989.439738</td>\n",
       "      <td>326.0</td>\n",
       "      <td>950.00</td>\n",
       "      <td>2401.00</td>\n",
       "      <td>5324.25</td>\n",
       "      <td>18823.00</td>\n",
       "    </tr>\n",
       "    <tr>\n",
       "      <th>x</th>\n",
       "      <td>53940.0</td>\n",
       "      <td>5.731157</td>\n",
       "      <td>1.121761</td>\n",
       "      <td>0.0</td>\n",
       "      <td>4.71</td>\n",
       "      <td>5.70</td>\n",
       "      <td>6.54</td>\n",
       "      <td>10.74</td>\n",
       "    </tr>\n",
       "    <tr>\n",
       "      <th>y</th>\n",
       "      <td>53940.0</td>\n",
       "      <td>5.734526</td>\n",
       "      <td>1.142135</td>\n",
       "      <td>0.0</td>\n",
       "      <td>4.72</td>\n",
       "      <td>5.71</td>\n",
       "      <td>6.54</td>\n",
       "      <td>58.90</td>\n",
       "    </tr>\n",
       "    <tr>\n",
       "      <th>z</th>\n",
       "      <td>53940.0</td>\n",
       "      <td>3.538734</td>\n",
       "      <td>0.705699</td>\n",
       "      <td>0.0</td>\n",
       "      <td>2.91</td>\n",
       "      <td>3.53</td>\n",
       "      <td>4.04</td>\n",
       "      <td>31.80</td>\n",
       "    </tr>\n",
       "  </tbody>\n",
       "</table>\n",
       "</div>"
      ],
      "text/plain": [
       "         count         mean          std    min     25%      50%      75%  \\\n",
       "carat  53940.0     0.797940     0.474011    0.2    0.40     0.70     1.04   \n",
       "depth  53940.0    61.749405     1.432621   43.0   61.00    61.80    62.50   \n",
       "table  53940.0    57.457184     2.234491   43.0   56.00    57.00    59.00   \n",
       "price  53940.0  3932.799722  3989.439738  326.0  950.00  2401.00  5324.25   \n",
       "x      53940.0     5.731157     1.121761    0.0    4.71     5.70     6.54   \n",
       "y      53940.0     5.734526     1.142135    0.0    4.72     5.71     6.54   \n",
       "z      53940.0     3.538734     0.705699    0.0    2.91     3.53     4.04   \n",
       "\n",
       "            max  \n",
       "carat      5.01  \n",
       "depth     79.00  \n",
       "table     95.00  \n",
       "price  18823.00  \n",
       "x         10.74  \n",
       "y         58.90  \n",
       "z         31.80  "
      ]
     },
     "execution_count": 49,
     "metadata": {},
     "output_type": "execute_result"
    }
   ],
   "source": [
    "df.describe().T"
   ]
  },
  {
   "cell_type": "code",
   "execution_count": 50,
   "id": "a7253675",
   "metadata": {
    "execution": {
     "iopub.execute_input": "2023-07-30T14:30:20.876285Z",
     "iopub.status.busy": "2023-07-30T14:30:20.875494Z",
     "iopub.status.idle": "2023-07-30T14:30:20.892723Z",
     "shell.execute_reply": "2023-07-30T14:30:20.891714Z"
    },
    "papermill": {
     "duration": 0.04309,
     "end_time": "2023-07-30T14:30:20.894971",
     "exception": false,
     "start_time": "2023-07-30T14:30:20.851881",
     "status": "completed"
    },
    "tags": []
   },
   "outputs": [
    {
     "data": {
      "text/html": [
       "<div>\n",
       "<style scoped>\n",
       "    .dataframe tbody tr th:only-of-type {\n",
       "        vertical-align: middle;\n",
       "    }\n",
       "\n",
       "    .dataframe tbody tr th {\n",
       "        vertical-align: top;\n",
       "    }\n",
       "\n",
       "    .dataframe thead th {\n",
       "        text-align: right;\n",
       "    }\n",
       "</style>\n",
       "<table border=\"1\" class=\"dataframe\">\n",
       "  <thead>\n",
       "    <tr style=\"text-align: right;\">\n",
       "      <th></th>\n",
       "      <th>carat</th>\n",
       "      <th>cut</th>\n",
       "      <th>color</th>\n",
       "      <th>clarity</th>\n",
       "      <th>depth</th>\n",
       "      <th>table</th>\n",
       "      <th>price</th>\n",
       "      <th>x</th>\n",
       "      <th>y</th>\n",
       "      <th>z</th>\n",
       "    </tr>\n",
       "  </thead>\n",
       "  <tbody>\n",
       "    <tr>\n",
       "      <th>0</th>\n",
       "      <td>0.23</td>\n",
       "      <td>Ideal</td>\n",
       "      <td>E</td>\n",
       "      <td>SI2</td>\n",
       "      <td>61.5</td>\n",
       "      <td>55.0</td>\n",
       "      <td>326</td>\n",
       "      <td>3.95</td>\n",
       "      <td>3.98</td>\n",
       "      <td>2.43</td>\n",
       "    </tr>\n",
       "    <tr>\n",
       "      <th>1</th>\n",
       "      <td>0.21</td>\n",
       "      <td>Premium</td>\n",
       "      <td>E</td>\n",
       "      <td>SI1</td>\n",
       "      <td>59.8</td>\n",
       "      <td>61.0</td>\n",
       "      <td>326</td>\n",
       "      <td>3.89</td>\n",
       "      <td>3.84</td>\n",
       "      <td>2.31</td>\n",
       "    </tr>\n",
       "    <tr>\n",
       "      <th>2</th>\n",
       "      <td>0.23</td>\n",
       "      <td>Good</td>\n",
       "      <td>E</td>\n",
       "      <td>VS1</td>\n",
       "      <td>56.9</td>\n",
       "      <td>65.0</td>\n",
       "      <td>327</td>\n",
       "      <td>4.05</td>\n",
       "      <td>4.07</td>\n",
       "      <td>2.31</td>\n",
       "    </tr>\n",
       "    <tr>\n",
       "      <th>3</th>\n",
       "      <td>0.29</td>\n",
       "      <td>Premium</td>\n",
       "      <td>I</td>\n",
       "      <td>VS2</td>\n",
       "      <td>62.4</td>\n",
       "      <td>58.0</td>\n",
       "      <td>334</td>\n",
       "      <td>4.20</td>\n",
       "      <td>4.23</td>\n",
       "      <td>2.63</td>\n",
       "    </tr>\n",
       "    <tr>\n",
       "      <th>4</th>\n",
       "      <td>0.31</td>\n",
       "      <td>Good</td>\n",
       "      <td>J</td>\n",
       "      <td>SI2</td>\n",
       "      <td>63.3</td>\n",
       "      <td>58.0</td>\n",
       "      <td>335</td>\n",
       "      <td>4.34</td>\n",
       "      <td>4.35</td>\n",
       "      <td>2.75</td>\n",
       "    </tr>\n",
       "  </tbody>\n",
       "</table>\n",
       "</div>"
      ],
      "text/plain": [
       "   carat      cut color clarity  depth  table  price     x     y     z\n",
       "0   0.23    Ideal     E     SI2   61.5   55.0    326  3.95  3.98  2.43\n",
       "1   0.21  Premium     E     SI1   59.8   61.0    326  3.89  3.84  2.31\n",
       "2   0.23     Good     E     VS1   56.9   65.0    327  4.05  4.07  2.31\n",
       "3   0.29  Premium     I     VS2   62.4   58.0    334  4.20  4.23  2.63\n",
       "4   0.31     Good     J     SI2   63.3   58.0    335  4.34  4.35  2.75"
      ]
     },
     "execution_count": 50,
     "metadata": {},
     "output_type": "execute_result"
    }
   ],
   "source": [
    "df.head()"
   ]
  },
  {
   "cell_type": "code",
   "execution_count": 51,
   "id": "c17b0c37",
   "metadata": {
    "execution": {
     "iopub.execute_input": "2023-07-30T14:30:20.945728Z",
     "iopub.status.busy": "2023-07-30T14:30:20.944947Z",
     "iopub.status.idle": "2023-07-30T14:30:20.953133Z",
     "shell.execute_reply": "2023-07-30T14:30:20.952154Z"
    },
    "papermill": {
     "duration": 0.035151,
     "end_time": "2023-07-30T14:30:20.955277",
     "exception": false,
     "start_time": "2023-07-30T14:30:20.920126",
     "status": "completed"
    },
    "tags": []
   },
   "outputs": [
    {
     "data": {
      "text/plain": [
       "Ideal        21551\n",
       "Premium      13791\n",
       "Very Good    12082\n",
       "Good          4906\n",
       "Fair          1610\n",
       "Name: cut, dtype: int64"
      ]
     },
     "execution_count": 51,
     "metadata": {},
     "output_type": "execute_result"
    }
   ],
   "source": [
    "df[\"cut\"].value_counts()"
   ]
  },
  {
   "cell_type": "code",
   "execution_count": 52,
   "id": "3fc1b21e",
   "metadata": {
    "execution": {
     "iopub.execute_input": "2023-07-30T14:30:21.005986Z",
     "iopub.status.busy": "2023-07-30T14:30:21.005179Z",
     "iopub.status.idle": "2023-07-30T14:30:21.013488Z",
     "shell.execute_reply": "2023-07-30T14:30:21.012495Z"
    },
    "papermill": {
     "duration": 0.034409,
     "end_time": "2023-07-30T14:30:21.015471",
     "exception": false,
     "start_time": "2023-07-30T14:30:20.981062",
     "status": "completed"
    },
    "tags": []
   },
   "outputs": [
    {
     "data": {
      "text/plain": [
       "SI1     13065\n",
       "VS2     12258\n",
       "SI2      9194\n",
       "VS1      8171\n",
       "VVS2     5066\n",
       "VVS1     3655\n",
       "IF       1790\n",
       "I1        741\n",
       "Name: clarity, dtype: int64"
      ]
     },
     "execution_count": 52,
     "metadata": {},
     "output_type": "execute_result"
    }
   ],
   "source": [
    "df[\"clarity\"].value_counts()"
   ]
  },
  {
   "cell_type": "code",
   "execution_count": 53,
   "id": "e1ad2d61",
   "metadata": {
    "execution": {
     "iopub.execute_input": "2023-07-30T14:30:21.064993Z",
     "iopub.status.busy": "2023-07-30T14:30:21.064105Z",
     "iopub.status.idle": "2023-07-30T14:30:21.068682Z",
     "shell.execute_reply": "2023-07-30T14:30:21.067825Z"
    },
    "papermill": {
     "duration": 0.031931,
     "end_time": "2023-07-30T14:30:21.070666",
     "exception": false,
     "start_time": "2023-07-30T14:30:21.038735",
     "status": "completed"
    },
    "tags": []
   },
   "outputs": [],
   "source": [
    "# ordinal\n",
    "\n",
    "from pandas.api.types import CategoricalDtype"
   ]
  },
  {
   "cell_type": "code",
   "execution_count": 54,
   "id": "b5b42cc6",
   "metadata": {
    "execution": {
     "iopub.execute_input": "2023-07-30T14:30:21.120211Z",
     "iopub.status.busy": "2023-07-30T14:30:21.119478Z",
     "iopub.status.idle": "2023-07-30T14:30:21.126683Z",
     "shell.execute_reply": "2023-07-30T14:30:21.125821Z"
    },
    "papermill": {
     "duration": 0.034257,
     "end_time": "2023-07-30T14:30:21.128603",
     "exception": false,
     "start_time": "2023-07-30T14:30:21.094346",
     "status": "completed"
    },
    "tags": []
   },
   "outputs": [
    {
     "data": {
      "text/plain": [
       "0      Ideal\n",
       "1    Premium\n",
       "2       Good\n",
       "3    Premium\n",
       "4       Good\n",
       "Name: cut, dtype: category\n",
       "Categories (5, object): ['Ideal', 'Premium', 'Very Good', 'Good', 'Fair']"
      ]
     },
     "execution_count": 54,
     "metadata": {},
     "output_type": "execute_result"
    }
   ],
   "source": [
    "df.cut.head()"
   ]
  },
  {
   "cell_type": "code",
   "execution_count": 55,
   "id": "8b394600",
   "metadata": {
    "execution": {
     "iopub.execute_input": "2023-07-30T14:30:21.176901Z",
     "iopub.status.busy": "2023-07-30T14:30:21.176142Z",
     "iopub.status.idle": "2023-07-30T14:30:21.181012Z",
     "shell.execute_reply": "2023-07-30T14:30:21.180163Z"
    },
    "papermill": {
     "duration": 0.031082,
     "end_time": "2023-07-30T14:30:21.182929",
     "exception": false,
     "start_time": "2023-07-30T14:30:21.151847",
     "status": "completed"
    },
    "tags": []
   },
   "outputs": [],
   "source": [
    "df.cut = df.cut.astype(CategoricalDtype(ordered = True))"
   ]
  },
  {
   "cell_type": "code",
   "execution_count": 56,
   "id": "00b97720",
   "metadata": {
    "execution": {
     "iopub.execute_input": "2023-07-30T14:30:21.231143Z",
     "iopub.status.busy": "2023-07-30T14:30:21.230392Z",
     "iopub.status.idle": "2023-07-30T14:30:21.237616Z",
     "shell.execute_reply": "2023-07-30T14:30:21.236682Z"
    },
    "papermill": {
     "duration": 0.033635,
     "end_time": "2023-07-30T14:30:21.239770",
     "exception": false,
     "start_time": "2023-07-30T14:30:21.206135",
     "status": "completed"
    },
    "tags": []
   },
   "outputs": [
    {
     "data": {
      "text/plain": [
       "carat       float64\n",
       "cut        category\n",
       "color      category\n",
       "clarity    category\n",
       "depth       float64\n",
       "table       float64\n",
       "price         int64\n",
       "x           float64\n",
       "y           float64\n",
       "z           float64\n",
       "dtype: object"
      ]
     },
     "execution_count": 56,
     "metadata": {},
     "output_type": "execute_result"
    }
   ],
   "source": [
    "df.dtypes"
   ]
  },
  {
   "cell_type": "code",
   "execution_count": 57,
   "id": "b04b3c50",
   "metadata": {
    "execution": {
     "iopub.execute_input": "2023-07-30T14:30:21.288215Z",
     "iopub.status.busy": "2023-07-30T14:30:21.287425Z",
     "iopub.status.idle": "2023-07-30T14:30:21.295111Z",
     "shell.execute_reply": "2023-07-30T14:30:21.294135Z"
    },
    "papermill": {
     "duration": 0.034035,
     "end_time": "2023-07-30T14:30:21.297165",
     "exception": false,
     "start_time": "2023-07-30T14:30:21.263130",
     "status": "completed"
    },
    "tags": []
   },
   "outputs": [
    {
     "data": {
      "text/plain": [
       "0    Ideal\n",
       "Name: cut, dtype: category\n",
       "Categories (5, object): ['Ideal' < 'Premium' < 'Very Good' < 'Good' < 'Fair']"
      ]
     },
     "execution_count": 57,
     "metadata": {},
     "output_type": "execute_result"
    }
   ],
   "source": [
    "df.cut.head(1)"
   ]
  },
  {
   "cell_type": "code",
   "execution_count": 58,
   "id": "2e48d709",
   "metadata": {
    "execution": {
     "iopub.execute_input": "2023-07-30T14:30:21.346338Z",
     "iopub.status.busy": "2023-07-30T14:30:21.345516Z",
     "iopub.status.idle": "2023-07-30T14:30:21.353321Z",
     "shell.execute_reply": "2023-07-30T14:30:21.352361Z"
    },
    "papermill": {
     "duration": 0.034442,
     "end_time": "2023-07-30T14:30:21.355359",
     "exception": false,
     "start_time": "2023-07-30T14:30:21.320917",
     "status": "completed"
    },
    "tags": []
   },
   "outputs": [
    {
     "data": {
      "text/plain": [
       "0    E\n",
       "Name: color, dtype: category\n",
       "Categories (7, object): ['D', 'E', 'F', 'G', 'H', 'I', 'J']"
      ]
     },
     "execution_count": 58,
     "metadata": {},
     "output_type": "execute_result"
    }
   ],
   "source": [
    "df.color.head(1)"
   ]
  },
  {
   "cell_type": "code",
   "execution_count": 59,
   "id": "5a65ee2d",
   "metadata": {
    "execution": {
     "iopub.execute_input": "2023-07-30T14:30:21.404851Z",
     "iopub.status.busy": "2023-07-30T14:30:21.403936Z",
     "iopub.status.idle": "2023-07-30T14:30:21.408661Z",
     "shell.execute_reply": "2023-07-30T14:30:21.407815Z"
    },
    "papermill": {
     "duration": 0.031257,
     "end_time": "2023-07-30T14:30:21.410607",
     "exception": false,
     "start_time": "2023-07-30T14:30:21.379350",
     "status": "completed"
    },
    "tags": []
   },
   "outputs": [],
   "source": [
    "cut_category = [\"Fair\", \"Good\", \"Very Good\", \"Premium\", \"Ideal\"]"
   ]
  },
  {
   "cell_type": "code",
   "execution_count": 60,
   "id": "5f0fe69d",
   "metadata": {
    "execution": {
     "iopub.execute_input": "2023-07-30T14:30:21.458958Z",
     "iopub.status.busy": "2023-07-30T14:30:21.458548Z",
     "iopub.status.idle": "2023-07-30T14:30:21.464596Z",
     "shell.execute_reply": "2023-07-30T14:30:21.463589Z"
    },
    "papermill": {
     "duration": 0.032417,
     "end_time": "2023-07-30T14:30:21.466563",
     "exception": false,
     "start_time": "2023-07-30T14:30:21.434146",
     "status": "completed"
    },
    "tags": []
   },
   "outputs": [],
   "source": [
    "df.cut = df.cut.astype(CategoricalDtype(ordered = True, categories = cut_category))"
   ]
  },
  {
   "cell_type": "code",
   "execution_count": 61,
   "id": "f2c95023",
   "metadata": {
    "execution": {
     "iopub.execute_input": "2023-07-30T14:30:21.515280Z",
     "iopub.status.busy": "2023-07-30T14:30:21.514543Z",
     "iopub.status.idle": "2023-07-30T14:30:21.521922Z",
     "shell.execute_reply": "2023-07-30T14:30:21.520984Z"
    },
    "papermill": {
     "duration": 0.033814,
     "end_time": "2023-07-30T14:30:21.523839",
     "exception": false,
     "start_time": "2023-07-30T14:30:21.490025",
     "status": "completed"
    },
    "tags": []
   },
   "outputs": [
    {
     "data": {
      "text/plain": [
       "0      Ideal\n",
       "1    Premium\n",
       "2       Good\n",
       "3    Premium\n",
       "4       Good\n",
       "Name: cut, dtype: category\n",
       "Categories (5, object): ['Fair' < 'Good' < 'Very Good' < 'Premium' < 'Ideal']"
      ]
     },
     "execution_count": 61,
     "metadata": {},
     "output_type": "execute_result"
    }
   ],
   "source": [
    "df.cut.head()"
   ]
  },
  {
   "cell_type": "code",
   "execution_count": 62,
   "id": "5003cfbc",
   "metadata": {
    "execution": {
     "iopub.execute_input": "2023-07-30T14:30:21.572730Z",
     "iopub.status.busy": "2023-07-30T14:30:21.571951Z",
     "iopub.status.idle": "2023-07-30T14:30:21.576213Z",
     "shell.execute_reply": "2023-07-30T14:30:21.575349Z"
    },
    "papermill": {
     "duration": 0.030732,
     "end_time": "2023-07-30T14:30:21.578131",
     "exception": false,
     "start_time": "2023-07-30T14:30:21.547399",
     "status": "completed"
    },
    "tags": []
   },
   "outputs": [],
   "source": [
    "# barplot"
   ]
  },
  {
   "cell_type": "code",
   "execution_count": 63,
   "id": "c2de537f",
   "metadata": {
    "execution": {
     "iopub.execute_input": "2023-07-30T14:30:21.627073Z",
     "iopub.status.busy": "2023-07-30T14:30:21.626323Z",
     "iopub.status.idle": "2023-07-30T14:30:21.870526Z",
     "shell.execute_reply": "2023-07-30T14:30:21.869550Z"
    },
    "papermill": {
     "duration": 0.270919,
     "end_time": "2023-07-30T14:30:21.872698",
     "exception": false,
     "start_time": "2023-07-30T14:30:21.601779",
     "status": "completed"
    },
    "tags": []
   },
   "outputs": [
    {
     "data": {
      "image/png": "[encoded data removed]",
      "text/plain": [
       "<Figure size 640x480 with 1 Axes>"
      ]
     },
     "metadata": {},
     "output_type": "display_data"
    }
   ],
   "source": [
    "(df[\"cut\"]\n",
    " .value_counts()\n",
    " .plot.barh()\n",
    " .set_title(\"Class frequencies of 'cut' variable \"));  # freq"
   ]
  },
  {
   "cell_type": "code",
   "execution_count": 64,
   "id": "80d79e23",
   "metadata": {
    "execution": {
     "iopub.execute_input": "2023-07-30T14:30:21.923089Z",
     "iopub.status.busy": "2023-07-30T14:30:21.922300Z",
     "iopub.status.idle": "2023-07-30T14:30:22.828994Z",
     "shell.execute_reply": "2023-07-30T14:30:22.828063Z"
    },
    "papermill": {
     "duration": 0.934058,
     "end_time": "2023-07-30T14:30:22.831190",
     "exception": false,
     "start_time": "2023-07-30T14:30:21.897132",
     "status": "completed"
    },
    "tags": []
   },
   "outputs": [
    {
     "data": {
      "text/plain": [
       "<Axes: xlabel='cut'>"
      ]
     },
     "execution_count": 64,
     "metadata": {},
     "output_type": "execute_result"
    },
    {
     "data": {
      "image/png": "[encoded data removed]",
      "text/plain": [
       "<Figure size 640x480 with 1 Axes>"
      ]
     },
     "metadata": {},
     "output_type": "display_data"
    }
   ],
   "source": [
    "sns.barplot(x = \"cut\", y = df.cut.index, data = df)"
   ]
  },
  {
   "cell_type": "code",
   "execution_count": 65,
   "id": "c381d694",
   "metadata": {
    "execution": {
     "iopub.execute_input": "2023-07-30T14:30:22.883248Z",
     "iopub.status.busy": "2023-07-30T14:30:22.882287Z",
     "iopub.status.idle": "2023-07-30T14:30:23.455417Z",
     "shell.execute_reply": "2023-07-30T14:30:23.454511Z"
    },
    "papermill": {
     "duration": 0.601147,
     "end_time": "2023-07-30T14:30:23.457506",
     "exception": false,
     "start_time": "2023-07-30T14:30:22.856359",
     "status": "completed"
    },
    "tags": []
   },
   "outputs": [
    {
     "name": "stderr",
     "output_type": "stream",
     "text": [
      "/opt/conda/lib/python3.10/site-packages/seaborn/axisgrid.py:118: UserWarning: The figure layout has changed to tight\n",
      "  self._figure.tight_layout(*args, **kwargs)\n"
     ]
    },
    {
     "data": {
      "image/png": "[encoded data removed]",
      "text/plain": [
       "<Figure size 500x500 with 1 Axes>"
      ]
     },
     "metadata": {},
     "output_type": "display_data"
    }
   ],
   "source": [
    "sns.catplot(x = \"cut\", y = \"price\", data = df);"
   ]
  },
  {
   "cell_type": "code",
   "execution_count": 66,
   "id": "7b0cc926",
   "metadata": {
    "execution": {
     "iopub.execute_input": "2023-07-30T14:30:23.509877Z",
     "iopub.status.busy": "2023-07-30T14:30:23.509547Z",
     "iopub.status.idle": "2023-07-30T14:30:23.515542Z",
     "shell.execute_reply": "2023-07-30T14:30:23.514686Z"
    },
    "papermill": {
     "duration": 0.034349,
     "end_time": "2023-07-30T14:30:23.517496",
     "exception": false,
     "start_time": "2023-07-30T14:30:23.483147",
     "status": "completed"
    },
    "tags": []
   },
   "outputs": [
    {
     "data": {
      "text/plain": [
       "Index(['carat', 'cut', 'color', 'clarity', 'depth', 'table', 'price', 'x', 'y',\n",
       "       'z'],\n",
       "      dtype='object')"
      ]
     },
     "execution_count": 66,
     "metadata": {},
     "output_type": "execute_result"
    }
   ],
   "source": [
    "df.columns"
   ]
  },
  {
   "cell_type": "code",
   "execution_count": 67,
   "id": "7d66aa59",
   "metadata": {
    "execution": {
     "iopub.execute_input": "2023-07-30T14:30:23.569769Z",
     "iopub.status.busy": "2023-07-30T14:30:23.568956Z",
     "iopub.status.idle": "2023-07-30T14:30:24.131909Z",
     "shell.execute_reply": "2023-07-30T14:30:24.131015Z"
    },
    "papermill": {
     "duration": 0.591365,
     "end_time": "2023-07-30T14:30:24.134112",
     "exception": false,
     "start_time": "2023-07-30T14:30:23.542747",
     "status": "completed"
    },
    "tags": []
   },
   "outputs": [
    {
     "name": "stderr",
     "output_type": "stream",
     "text": [
      "/opt/conda/lib/python3.10/site-packages/seaborn/axisgrid.py:118: UserWarning: The figure layout has changed to tight\n",
      "  self._figure.tight_layout(*args, **kwargs)\n"
     ]
    },
    {
     "data": {
      "image/png": "[encoded data removed]",
      "text/plain": [
       "<Figure size 500x500 with 1 Axes>"
      ]
     },
     "metadata": {},
     "output_type": "display_data"
    }
   ],
   "source": [
    "sns.catplot(x = \"cut\", y = \"price\", data = df);"
   ]
  },
  {
   "cell_type": "code",
   "execution_count": 68,
   "id": "47e8f147",
   "metadata": {
    "execution": {
     "iopub.execute_input": "2023-07-30T14:30:24.187740Z",
     "iopub.status.busy": "2023-07-30T14:30:24.187419Z",
     "iopub.status.idle": "2023-07-30T14:30:26.362518Z",
     "shell.execute_reply": "2023-07-30T14:30:26.361561Z"
    },
    "papermill": {
     "duration": 2.204119,
     "end_time": "2023-07-30T14:30:26.364615",
     "exception": false,
     "start_time": "2023-07-30T14:30:24.160496",
     "status": "completed"
    },
    "tags": []
   },
   "outputs": [
    {
     "data": {
      "text/plain": [
       "<Axes: xlabel='cut', ylabel='price'>"
      ]
     },
     "execution_count": 68,
     "metadata": {},
     "output_type": "execute_result"
    },
    {
     "data": {
      "image/png": "[encoded data removed]",
      "text/plain": [
       "<Figure size 640x480 with 1 Axes>"
      ]
     },
     "metadata": {},
     "output_type": "display_data"
    }
   ],
   "source": [
    "sns.barplot(x = \"cut\", y = \"price\", hue = \"color\", data = df)"
   ]
  },
  {
   "cell_type": "code",
   "execution_count": 69,
   "id": "de5c09ad",
   "metadata": {
    "execution": {
     "iopub.execute_input": "2023-07-30T14:30:26.419639Z",
     "iopub.status.busy": "2023-07-30T14:30:26.418793Z",
     "iopub.status.idle": "2023-07-30T14:30:26.434887Z",
     "shell.execute_reply": "2023-07-30T14:30:26.433873Z"
    },
    "papermill": {
     "duration": 0.045582,
     "end_time": "2023-07-30T14:30:26.437035",
     "exception": false,
     "start_time": "2023-07-30T14:30:26.391453",
     "status": "completed"
    },
    "tags": []
   },
   "outputs": [
    {
     "data": {
      "text/plain": [
       "cut        color\n",
       "Fair       D        4291.061350\n",
       "           E        3682.312500\n",
       "           F        3827.003205\n",
       "           G        4239.254777\n",
       "           H        5135.683168\n",
       "           I        4685.445714\n",
       "           J        4975.655462\n",
       "Good       D        3405.382175\n",
       "           E        3423.644159\n",
       "           F        3495.750275\n",
       "           G        4123.482204\n",
       "           H        4276.254986\n",
       "           I        5078.532567\n",
       "           J        4574.172638\n",
       "Very Good  D        3470.467284\n",
       "           E        3214.652083\n",
       "           F        3778.820240\n",
       "           G        3872.753806\n",
       "           H        4535.390351\n",
       "           I        5255.879568\n",
       "           J        5103.513274\n",
       "Premium    D        3631.292576\n",
       "           E        3538.914420\n",
       "           F        4324.890176\n",
       "           G        4500.742134\n",
       "           H        5216.706780\n",
       "           I        5946.180672\n",
       "           J        6294.591584\n",
       "Ideal      D        2629.094566\n",
       "           E        2597.550090\n",
       "           F        3374.939362\n",
       "           G        3720.706388\n",
       "           H        3889.334831\n",
       "           I        4451.970377\n",
       "           J        4918.186384\n",
       "Name: price, dtype: float64"
      ]
     },
     "execution_count": 69,
     "metadata": {},
     "output_type": "execute_result"
    }
   ],
   "source": [
    "df.groupby([\"cut\", \"color\"])[\"price\"].mean()"
   ]
  },
  {
   "cell_type": "code",
   "execution_count": null,
   "id": "ca2cee14",
   "metadata": {
    "papermill": {
     "duration": 0.026226,
     "end_time": "2023-07-30T14:30:26.489918",
     "exception": false,
     "start_time": "2023-07-30T14:30:26.463692",
     "status": "completed"
    },
    "tags": []
   },
   "outputs": [],
   "source": []
  },
  {
   "cell_type": "code",
   "execution_count": null,
   "id": "589f3322",
   "metadata": {
    "papermill": {
     "duration": 0.026264,
     "end_time": "2023-07-30T14:30:26.542585",
     "exception": false,
     "start_time": "2023-07-30T14:30:26.516321",
     "status": "completed"
    },
    "tags": []
   },
   "outputs": [],
   "source": []
  },
  {
   "cell_type": "code",
   "execution_count": null,
   "id": "0f8903d3",
   "metadata": {
    "papermill": {
     "duration": 0.026284,
     "end_time": "2023-07-30T14:30:26.595198",
     "exception": false,
     "start_time": "2023-07-30T14:30:26.568914",
     "status": "completed"
    },
    "tags": []
   },
   "outputs": [],
   "source": []
  }
 ],
 "metadata": {
  "kernelspec": {
   "display_name": "Python 3",
   "language": "python",
   "name": "python3"
  },
  "language_info": {
   "codemirror_mode": {
    "name": "ipython",
    "version": 3
   },
   "file_extension": ".py",
   "mimetype": "text/x-python",
   "name": "python",
   "nbconvert_exporter": "python",
   "pygments_lexer": "ipython3",
   "version": "3.10.12"
  },
  "papermill": {
   "default_parameters": {},
   "duration": 21.70396,
   "end_time": "2023-07-30T14:30:27.342422",
   "environment_variables": {},
   "exception": null,
   "input_path": "__notebook__.ipynb",
   "output_path": "__notebook__.ipynb",
   "parameters": {},
   "start_time": "2023-07-30T14:30:05.638462",
   "version": "2.4.0"
  }
 },
 "nbformat": 4,
 "nbformat_minor": 5
}
