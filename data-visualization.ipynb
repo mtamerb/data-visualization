{
 "cells": [
  {
   "cell_type": "code",
   "execution_count": 1,
   "id": "4c094361",
   "metadata": {
    "execution": {
     "iopub.execute_input": "2023-07-31T15:40:54.236704Z",
     "iopub.status.busy": "2023-07-31T15:40:54.235645Z",
     "iopub.status.idle": "2023-07-31T15:40:54.241249Z",
     "shell.execute_reply": "2023-07-31T15:40:54.240352Z"
    },
    "papermill": {
     "duration": 0.035573,
     "end_time": "2023-07-31T15:40:54.244857",
     "exception": false,
     "start_time": "2023-07-31T15:40:54.209284",
     "status": "completed"
    },
    "tags": []
   },
   "outputs": [],
   "source": [
    "# https://www.kaggle.com/datasets/shivam2503/diamonds "
   ]
  },
  {
   "cell_type": "code",
   "execution_count": 2,
   "id": "f4e62138",
   "metadata": {
    "_cell_guid": "b1076dfc-b9ad-4769-8c92-a6c4dae69d19",
    "_uuid": "8f2839f25d086af736a60e9eeb907d3b93b6e0e5",
    "execution": {
     "iopub.execute_input": "2023-07-31T15:40:54.296383Z",
     "iopub.status.busy": "2023-07-31T15:40:54.295624Z",
     "iopub.status.idle": "2023-07-31T15:40:54.299985Z",
     "shell.execute_reply": "2023-07-31T15:40:54.299101Z"
    },
    "papermill": {
     "duration": 0.032394,
     "end_time": "2023-07-31T15:40:54.301890",
     "exception": false,
     "start_time": "2023-07-31T15:40:54.269496",
     "status": "completed"
    },
    "tags": []
   },
   "outputs": [],
   "source": [
    "# libraries  : matplotlib - pandas - seaborn - ggplot - bokeh - plot.ly"
   ]
  },
  {
   "cell_type": "code",
   "execution_count": 3,
   "id": "e743b51d",
   "metadata": {
    "execution": {
     "iopub.execute_input": "2023-07-31T15:40:54.352954Z",
     "iopub.status.busy": "2023-07-31T15:40:54.351469Z",
     "iopub.status.idle": "2023-07-31T15:40:54.355950Z",
     "shell.execute_reply": "2023-07-31T15:40:54.355109Z"
    },
    "papermill": {
     "duration": 0.031783,
     "end_time": "2023-07-31T15:40:54.357894",
     "exception": false,
     "start_time": "2023-07-31T15:40:54.326111",
     "status": "completed"
    },
    "tags": []
   },
   "outputs": [],
   "source": [
    "# a first look at data"
   ]
  },
  {
   "cell_type": "code",
   "execution_count": 4,
   "id": "e51992a4",
   "metadata": {
    "execution": {
     "iopub.execute_input": "2023-07-31T15:40:54.407919Z",
     "iopub.status.busy": "2023-07-31T15:40:54.407641Z",
     "iopub.status.idle": "2023-07-31T15:40:56.378667Z",
     "shell.execute_reply": "2023-07-31T15:40:56.377620Z"
    },
    "papermill": {
     "duration": 1.998642,
     "end_time": "2023-07-31T15:40:56.380984",
     "exception": false,
     "start_time": "2023-07-31T15:40:54.382342",
     "status": "completed"
    },
    "tags": []
   },
   "outputs": [
    {
     "name": "stderr",
     "output_type": "stream",
     "text": [
      "/opt/conda/lib/python3.10/site-packages/scipy/__init__.py:146: UserWarning: A NumPy version >=1.16.5 and <1.23.0 is required for this version of SciPy (detected version 1.23.5\n",
      "  warnings.warn(f\"A NumPy version >={np_minversion} and <{np_maxversion}\"\n"
     ]
    },
    {
     "data": {
      "text/html": [
       "<div>\n",
       "<style scoped>\n",
       "    .dataframe tbody tr th:only-of-type {\n",
       "        vertical-align: middle;\n",
       "    }\n",
       "\n",
       "    .dataframe tbody tr th {\n",
       "        vertical-align: top;\n",
       "    }\n",
       "\n",
       "    .dataframe thead th {\n",
       "        text-align: right;\n",
       "    }\n",
       "</style>\n",
       "<table border=\"1\" class=\"dataframe\">\n",
       "  <thead>\n",
       "    <tr style=\"text-align: right;\">\n",
       "      <th></th>\n",
       "      <th>method</th>\n",
       "      <th>number</th>\n",
       "      <th>orbital_period</th>\n",
       "      <th>mass</th>\n",
       "      <th>distance</th>\n",
       "      <th>year</th>\n",
       "    </tr>\n",
       "  </thead>\n",
       "  <tbody>\n",
       "    <tr>\n",
       "      <th>0</th>\n",
       "      <td>Radial Velocity</td>\n",
       "      <td>1</td>\n",
       "      <td>269.300</td>\n",
       "      <td>7.10</td>\n",
       "      <td>77.40</td>\n",
       "      <td>2006</td>\n",
       "    </tr>\n",
       "    <tr>\n",
       "      <th>1</th>\n",
       "      <td>Radial Velocity</td>\n",
       "      <td>1</td>\n",
       "      <td>874.774</td>\n",
       "      <td>2.21</td>\n",
       "      <td>56.95</td>\n",
       "      <td>2008</td>\n",
       "    </tr>\n",
       "    <tr>\n",
       "      <th>2</th>\n",
       "      <td>Radial Velocity</td>\n",
       "      <td>1</td>\n",
       "      <td>763.000</td>\n",
       "      <td>2.60</td>\n",
       "      <td>19.84</td>\n",
       "      <td>2011</td>\n",
       "    </tr>\n",
       "    <tr>\n",
       "      <th>3</th>\n",
       "      <td>Radial Velocity</td>\n",
       "      <td>1</td>\n",
       "      <td>326.030</td>\n",
       "      <td>19.40</td>\n",
       "      <td>110.62</td>\n",
       "      <td>2007</td>\n",
       "    </tr>\n",
       "    <tr>\n",
       "      <th>4</th>\n",
       "      <td>Radial Velocity</td>\n",
       "      <td>1</td>\n",
       "      <td>516.220</td>\n",
       "      <td>10.50</td>\n",
       "      <td>119.47</td>\n",
       "      <td>2009</td>\n",
       "    </tr>\n",
       "  </tbody>\n",
       "</table>\n",
       "</div>"
      ],
      "text/plain": [
       "            method  number  orbital_period   mass  distance  year\n",
       "0  Radial Velocity       1         269.300   7.10     77.40  2006\n",
       "1  Radial Velocity       1         874.774   2.21     56.95  2008\n",
       "2  Radial Velocity       1         763.000   2.60     19.84  2011\n",
       "3  Radial Velocity       1         326.030  19.40    110.62  2007\n",
       "4  Radial Velocity       1         516.220  10.50    119.47  2009"
      ]
     },
     "execution_count": 4,
     "metadata": {},
     "output_type": "execute_result"
    }
   ],
   "source": [
    "import seaborn as sns\n",
    "\n",
    "planets = sns.load_dataset(\"planets\")\n",
    "planets.head()"
   ]
  },
  {
   "cell_type": "code",
   "execution_count": 5,
   "id": "ced68dcd",
   "metadata": {
    "execution": {
     "iopub.execute_input": "2023-07-31T15:40:56.433085Z",
     "iopub.status.busy": "2023-07-31T15:40:56.432268Z",
     "iopub.status.idle": "2023-07-31T15:40:56.437016Z",
     "shell.execute_reply": "2023-07-31T15:40:56.436091Z"
    },
    "papermill": {
     "duration": 0.032966,
     "end_time": "2023-07-31T15:40:56.439103",
     "exception": false,
     "start_time": "2023-07-31T15:40:56.406137",
     "status": "completed"
    },
    "tags": []
   },
   "outputs": [],
   "source": [
    "df = planets.copy()"
   ]
  },
  {
   "cell_type": "code",
   "execution_count": 6,
   "id": "de10074a",
   "metadata": {
    "execution": {
     "iopub.execute_input": "2023-07-31T15:40:56.489398Z",
     "iopub.status.busy": "2023-07-31T15:40:56.489085Z",
     "iopub.status.idle": "2023-07-31T15:40:56.500919Z",
     "shell.execute_reply": "2023-07-31T15:40:56.499921Z"
    },
    "papermill": {
     "duration": 0.040749,
     "end_time": "2023-07-31T15:40:56.504132",
     "exception": false,
     "start_time": "2023-07-31T15:40:56.463383",
     "status": "completed"
    },
    "tags": []
   },
   "outputs": [
    {
     "data": {
      "text/html": [
       "<div>\n",
       "<style scoped>\n",
       "    .dataframe tbody tr th:only-of-type {\n",
       "        vertical-align: middle;\n",
       "    }\n",
       "\n",
       "    .dataframe tbody tr th {\n",
       "        vertical-align: top;\n",
       "    }\n",
       "\n",
       "    .dataframe thead th {\n",
       "        text-align: right;\n",
       "    }\n",
       "</style>\n",
       "<table border=\"1\" class=\"dataframe\">\n",
       "  <thead>\n",
       "    <tr style=\"text-align: right;\">\n",
       "      <th></th>\n",
       "      <th>method</th>\n",
       "      <th>number</th>\n",
       "      <th>orbital_period</th>\n",
       "      <th>mass</th>\n",
       "      <th>distance</th>\n",
       "      <th>year</th>\n",
       "    </tr>\n",
       "  </thead>\n",
       "  <tbody>\n",
       "    <tr>\n",
       "      <th>0</th>\n",
       "      <td>Radial Velocity</td>\n",
       "      <td>1</td>\n",
       "      <td>269.300</td>\n",
       "      <td>7.10</td>\n",
       "      <td>77.40</td>\n",
       "      <td>2006</td>\n",
       "    </tr>\n",
       "    <tr>\n",
       "      <th>1</th>\n",
       "      <td>Radial Velocity</td>\n",
       "      <td>1</td>\n",
       "      <td>874.774</td>\n",
       "      <td>2.21</td>\n",
       "      <td>56.95</td>\n",
       "      <td>2008</td>\n",
       "    </tr>\n",
       "    <tr>\n",
       "      <th>2</th>\n",
       "      <td>Radial Velocity</td>\n",
       "      <td>1</td>\n",
       "      <td>763.000</td>\n",
       "      <td>2.60</td>\n",
       "      <td>19.84</td>\n",
       "      <td>2011</td>\n",
       "    </tr>\n",
       "    <tr>\n",
       "      <th>3</th>\n",
       "      <td>Radial Velocity</td>\n",
       "      <td>1</td>\n",
       "      <td>326.030</td>\n",
       "      <td>19.40</td>\n",
       "      <td>110.62</td>\n",
       "      <td>2007</td>\n",
       "    </tr>\n",
       "    <tr>\n",
       "      <th>4</th>\n",
       "      <td>Radial Velocity</td>\n",
       "      <td>1</td>\n",
       "      <td>516.220</td>\n",
       "      <td>10.50</td>\n",
       "      <td>119.47</td>\n",
       "      <td>2009</td>\n",
       "    </tr>\n",
       "  </tbody>\n",
       "</table>\n",
       "</div>"
      ],
      "text/plain": [
       "            method  number  orbital_period   mass  distance  year\n",
       "0  Radial Velocity       1         269.300   7.10     77.40  2006\n",
       "1  Radial Velocity       1         874.774   2.21     56.95  2008\n",
       "2  Radial Velocity       1         763.000   2.60     19.84  2011\n",
       "3  Radial Velocity       1         326.030  19.40    110.62  2007\n",
       "4  Radial Velocity       1         516.220  10.50    119.47  2009"
      ]
     },
     "execution_count": 6,
     "metadata": {},
     "output_type": "execute_result"
    }
   ],
   "source": [
    "df.head()"
   ]
  },
  {
   "cell_type": "code",
   "execution_count": 7,
   "id": "59284212",
   "metadata": {
    "execution": {
     "iopub.execute_input": "2023-07-31T15:40:56.555292Z",
     "iopub.status.busy": "2023-07-31T15:40:56.554992Z",
     "iopub.status.idle": "2023-07-31T15:40:56.567008Z",
     "shell.execute_reply": "2023-07-31T15:40:56.566038Z"
    },
    "papermill": {
     "duration": 0.039997,
     "end_time": "2023-07-31T15:40:56.569326",
     "exception": false,
     "start_time": "2023-07-31T15:40:56.529329",
     "status": "completed"
    },
    "tags": []
   },
   "outputs": [
    {
     "data": {
      "text/html": [
       "<div>\n",
       "<style scoped>\n",
       "    .dataframe tbody tr th:only-of-type {\n",
       "        vertical-align: middle;\n",
       "    }\n",
       "\n",
       "    .dataframe tbody tr th {\n",
       "        vertical-align: top;\n",
       "    }\n",
       "\n",
       "    .dataframe thead th {\n",
       "        text-align: right;\n",
       "    }\n",
       "</style>\n",
       "<table border=\"1\" class=\"dataframe\">\n",
       "  <thead>\n",
       "    <tr style=\"text-align: right;\">\n",
       "      <th></th>\n",
       "      <th>method</th>\n",
       "      <th>number</th>\n",
       "      <th>orbital_period</th>\n",
       "      <th>mass</th>\n",
       "      <th>distance</th>\n",
       "      <th>year</th>\n",
       "    </tr>\n",
       "  </thead>\n",
       "  <tbody>\n",
       "    <tr>\n",
       "      <th>1030</th>\n",
       "      <td>Transit</td>\n",
       "      <td>1</td>\n",
       "      <td>3.941507</td>\n",
       "      <td>NaN</td>\n",
       "      <td>172.0</td>\n",
       "      <td>2006</td>\n",
       "    </tr>\n",
       "    <tr>\n",
       "      <th>1031</th>\n",
       "      <td>Transit</td>\n",
       "      <td>1</td>\n",
       "      <td>2.615864</td>\n",
       "      <td>NaN</td>\n",
       "      <td>148.0</td>\n",
       "      <td>2007</td>\n",
       "    </tr>\n",
       "    <tr>\n",
       "      <th>1032</th>\n",
       "      <td>Transit</td>\n",
       "      <td>1</td>\n",
       "      <td>3.191524</td>\n",
       "      <td>NaN</td>\n",
       "      <td>174.0</td>\n",
       "      <td>2007</td>\n",
       "    </tr>\n",
       "    <tr>\n",
       "      <th>1033</th>\n",
       "      <td>Transit</td>\n",
       "      <td>1</td>\n",
       "      <td>4.125083</td>\n",
       "      <td>NaN</td>\n",
       "      <td>293.0</td>\n",
       "      <td>2008</td>\n",
       "    </tr>\n",
       "    <tr>\n",
       "      <th>1034</th>\n",
       "      <td>Transit</td>\n",
       "      <td>1</td>\n",
       "      <td>4.187757</td>\n",
       "      <td>NaN</td>\n",
       "      <td>260.0</td>\n",
       "      <td>2008</td>\n",
       "    </tr>\n",
       "  </tbody>\n",
       "</table>\n",
       "</div>"
      ],
      "text/plain": [
       "       method  number  orbital_period  mass  distance  year\n",
       "1030  Transit       1        3.941507   NaN     172.0  2006\n",
       "1031  Transit       1        2.615864   NaN     148.0  2007\n",
       "1032  Transit       1        3.191524   NaN     174.0  2007\n",
       "1033  Transit       1        4.125083   NaN     293.0  2008\n",
       "1034  Transit       1        4.187757   NaN     260.0  2008"
      ]
     },
     "execution_count": 7,
     "metadata": {},
     "output_type": "execute_result"
    }
   ],
   "source": [
    "df.tail()"
   ]
  },
  {
   "cell_type": "code",
   "execution_count": 8,
   "id": "6b8f656c",
   "metadata": {
    "execution": {
     "iopub.execute_input": "2023-07-31T15:40:56.621438Z",
     "iopub.status.busy": "2023-07-31T15:40:56.620752Z",
     "iopub.status.idle": "2023-07-31T15:40:56.625896Z",
     "shell.execute_reply": "2023-07-31T15:40:56.625079Z"
    },
    "papermill": {
     "duration": 0.033425,
     "end_time": "2023-07-31T15:40:56.627891",
     "exception": false,
     "start_time": "2023-07-31T15:40:56.594466",
     "status": "completed"
    },
    "tags": []
   },
   "outputs": [],
   "source": [
    "# Structural info"
   ]
  },
  {
   "cell_type": "code",
   "execution_count": 9,
   "id": "28adba1e",
   "metadata": {
    "execution": {
     "iopub.execute_input": "2023-07-31T15:40:56.679181Z",
     "iopub.status.busy": "2023-07-31T15:40:56.678311Z",
     "iopub.status.idle": "2023-07-31T15:40:56.698815Z",
     "shell.execute_reply": "2023-07-31T15:40:56.697331Z"
    },
    "papermill": {
     "duration": 0.048192,
     "end_time": "2023-07-31T15:40:56.700948",
     "exception": false,
     "start_time": "2023-07-31T15:40:56.652756",
     "status": "completed"
    },
    "tags": []
   },
   "outputs": [
    {
     "name": "stdout",
     "output_type": "stream",
     "text": [
      "<class 'pandas.core.frame.DataFrame'>\n",
      "RangeIndex: 1035 entries, 0 to 1034\n",
      "Data columns (total 6 columns):\n",
      " #   Column          Non-Null Count  Dtype  \n",
      "---  ------          --------------  -----  \n",
      " 0   method          1035 non-null   object \n",
      " 1   number          1035 non-null   int64  \n",
      " 2   orbital_period  992 non-null    float64\n",
      " 3   mass            513 non-null    float64\n",
      " 4   distance        808 non-null    float64\n",
      " 5   year            1035 non-null   int64  \n",
      "dtypes: float64(3), int64(2), object(1)\n",
      "memory usage: 48.6+ KB\n"
     ]
    }
   ],
   "source": [
    "df.info()"
   ]
  },
  {
   "cell_type": "code",
   "execution_count": 10,
   "id": "a6a84ac7",
   "metadata": {
    "execution": {
     "iopub.execute_input": "2023-07-31T15:40:56.754137Z",
     "iopub.status.busy": "2023-07-31T15:40:56.752524Z",
     "iopub.status.idle": "2023-07-31T15:40:56.760086Z",
     "shell.execute_reply": "2023-07-31T15:40:56.759041Z"
    },
    "papermill": {
     "duration": 0.036286,
     "end_time": "2023-07-31T15:40:56.762028",
     "exception": false,
     "start_time": "2023-07-31T15:40:56.725742",
     "status": "completed"
    },
    "tags": []
   },
   "outputs": [
    {
     "data": {
      "text/plain": [
       "method             object\n",
       "number              int64\n",
       "orbital_period    float64\n",
       "mass              float64\n",
       "distance          float64\n",
       "year                int64\n",
       "dtype: object"
      ]
     },
     "execution_count": 10,
     "metadata": {},
     "output_type": "execute_result"
    }
   ],
   "source": [
    "df.dtypes"
   ]
  },
  {
   "cell_type": "code",
   "execution_count": 11,
   "id": "3678c672",
   "metadata": {
    "execution": {
     "iopub.execute_input": "2023-07-31T15:40:56.814086Z",
     "iopub.status.busy": "2023-07-31T15:40:56.813312Z",
     "iopub.status.idle": "2023-07-31T15:40:56.818670Z",
     "shell.execute_reply": "2023-07-31T15:40:56.817787Z"
    },
    "papermill": {
     "duration": 0.03394,
     "end_time": "2023-07-31T15:40:56.820812",
     "exception": false,
     "start_time": "2023-07-31T15:40:56.786872",
     "status": "completed"
    },
    "tags": []
   },
   "outputs": [],
   "source": [
    "import pandas as pd\n",
    "df.method = pd.Categorical(df.method)"
   ]
  },
  {
   "cell_type": "code",
   "execution_count": 12,
   "id": "e1c40946",
   "metadata": {
    "execution": {
     "iopub.execute_input": "2023-07-31T15:40:56.872563Z",
     "iopub.status.busy": "2023-07-31T15:40:56.871838Z",
     "iopub.status.idle": "2023-07-31T15:40:56.879115Z",
     "shell.execute_reply": "2023-07-31T15:40:56.878067Z"
    },
    "papermill": {
     "duration": 0.035287,
     "end_time": "2023-07-31T15:40:56.881140",
     "exception": false,
     "start_time": "2023-07-31T15:40:56.845853",
     "status": "completed"
    },
    "tags": []
   },
   "outputs": [
    {
     "data": {
      "text/plain": [
       "method            category\n",
       "number               int64\n",
       "orbital_period     float64\n",
       "mass               float64\n",
       "distance           float64\n",
       "year                 int64\n",
       "dtype: object"
      ]
     },
     "execution_count": 12,
     "metadata": {},
     "output_type": "execute_result"
    }
   ],
   "source": [
    "df.dtypes"
   ]
  },
  {
   "cell_type": "code",
   "execution_count": 13,
   "id": "247da8ee",
   "metadata": {
    "execution": {
     "iopub.execute_input": "2023-07-31T15:40:56.933294Z",
     "iopub.status.busy": "2023-07-31T15:40:56.932591Z",
     "iopub.status.idle": "2023-07-31T15:40:56.945806Z",
     "shell.execute_reply": "2023-07-31T15:40:56.944855Z"
    },
    "papermill": {
     "duration": 0.041533,
     "end_time": "2023-07-31T15:40:56.947854",
     "exception": false,
     "start_time": "2023-07-31T15:40:56.906321",
     "status": "completed"
    },
    "tags": []
   },
   "outputs": [
    {
     "data": {
      "text/html": [
       "<div>\n",
       "<style scoped>\n",
       "    .dataframe tbody tr th:only-of-type {\n",
       "        vertical-align: middle;\n",
       "    }\n",
       "\n",
       "    .dataframe tbody tr th {\n",
       "        vertical-align: top;\n",
       "    }\n",
       "\n",
       "    .dataframe thead th {\n",
       "        text-align: right;\n",
       "    }\n",
       "</style>\n",
       "<table border=\"1\" class=\"dataframe\">\n",
       "  <thead>\n",
       "    <tr style=\"text-align: right;\">\n",
       "      <th></th>\n",
       "      <th>method</th>\n",
       "      <th>number</th>\n",
       "      <th>orbital_period</th>\n",
       "      <th>mass</th>\n",
       "      <th>distance</th>\n",
       "      <th>year</th>\n",
       "    </tr>\n",
       "  </thead>\n",
       "  <tbody>\n",
       "    <tr>\n",
       "      <th>0</th>\n",
       "      <td>Radial Velocity</td>\n",
       "      <td>1</td>\n",
       "      <td>269.300</td>\n",
       "      <td>7.10</td>\n",
       "      <td>77.40</td>\n",
       "      <td>2006</td>\n",
       "    </tr>\n",
       "    <tr>\n",
       "      <th>1</th>\n",
       "      <td>Radial Velocity</td>\n",
       "      <td>1</td>\n",
       "      <td>874.774</td>\n",
       "      <td>2.21</td>\n",
       "      <td>56.95</td>\n",
       "      <td>2008</td>\n",
       "    </tr>\n",
       "    <tr>\n",
       "      <th>2</th>\n",
       "      <td>Radial Velocity</td>\n",
       "      <td>1</td>\n",
       "      <td>763.000</td>\n",
       "      <td>2.60</td>\n",
       "      <td>19.84</td>\n",
       "      <td>2011</td>\n",
       "    </tr>\n",
       "    <tr>\n",
       "      <th>3</th>\n",
       "      <td>Radial Velocity</td>\n",
       "      <td>1</td>\n",
       "      <td>326.030</td>\n",
       "      <td>19.40</td>\n",
       "      <td>110.62</td>\n",
       "      <td>2007</td>\n",
       "    </tr>\n",
       "    <tr>\n",
       "      <th>4</th>\n",
       "      <td>Radial Velocity</td>\n",
       "      <td>1</td>\n",
       "      <td>516.220</td>\n",
       "      <td>10.50</td>\n",
       "      <td>119.47</td>\n",
       "      <td>2009</td>\n",
       "    </tr>\n",
       "  </tbody>\n",
       "</table>\n",
       "</div>"
      ],
      "text/plain": [
       "            method  number  orbital_period   mass  distance  year\n",
       "0  Radial Velocity       1         269.300   7.10     77.40  2006\n",
       "1  Radial Velocity       1         874.774   2.21     56.95  2008\n",
       "2  Radial Velocity       1         763.000   2.60     19.84  2011\n",
       "3  Radial Velocity       1         326.030  19.40    110.62  2007\n",
       "4  Radial Velocity       1         516.220  10.50    119.47  2009"
      ]
     },
     "execution_count": 13,
     "metadata": {},
     "output_type": "execute_result"
    }
   ],
   "source": [
    "df.head()"
   ]
  },
  {
   "cell_type": "code",
   "execution_count": 14,
   "id": "da659f83",
   "metadata": {
    "execution": {
     "iopub.execute_input": "2023-07-31T15:40:57.003910Z",
     "iopub.status.busy": "2023-07-31T15:40:57.003615Z",
     "iopub.status.idle": "2023-07-31T15:40:57.007500Z",
     "shell.execute_reply": "2023-07-31T15:40:57.006567Z"
    },
    "papermill": {
     "duration": 0.035775,
     "end_time": "2023-07-31T15:40:57.009915",
     "exception": false,
     "start_time": "2023-07-31T15:40:56.974140",
     "status": "completed"
    },
    "tags": []
   },
   "outputs": [],
   "source": [
    "# Describe dataset"
   ]
  },
  {
   "cell_type": "code",
   "execution_count": 15,
   "id": "e2383eb1",
   "metadata": {
    "execution": {
     "iopub.execute_input": "2023-07-31T15:40:57.063362Z",
     "iopub.status.busy": "2023-07-31T15:40:57.062356Z",
     "iopub.status.idle": "2023-07-31T15:40:57.068612Z",
     "shell.execute_reply": "2023-07-31T15:40:57.067597Z"
    },
    "papermill": {
     "duration": 0.034898,
     "end_time": "2023-07-31T15:40:57.070704",
     "exception": false,
     "start_time": "2023-07-31T15:40:57.035806",
     "status": "completed"
    },
    "tags": []
   },
   "outputs": [
    {
     "data": {
      "text/plain": [
       "(1035, 6)"
      ]
     },
     "execution_count": 15,
     "metadata": {},
     "output_type": "execute_result"
    }
   ],
   "source": [
    "df.shape"
   ]
  },
  {
   "cell_type": "code",
   "execution_count": 16,
   "id": "1c64a249",
   "metadata": {
    "execution": {
     "iopub.execute_input": "2023-07-31T15:40:57.123889Z",
     "iopub.status.busy": "2023-07-31T15:40:57.123139Z",
     "iopub.status.idle": "2023-07-31T15:40:57.129637Z",
     "shell.execute_reply": "2023-07-31T15:40:57.128544Z"
    },
    "papermill": {
     "duration": 0.035428,
     "end_time": "2023-07-31T15:40:57.131582",
     "exception": false,
     "start_time": "2023-07-31T15:40:57.096154",
     "status": "completed"
    },
    "tags": []
   },
   "outputs": [
    {
     "data": {
      "text/plain": [
       "Index(['method', 'number', 'orbital_period', 'mass', 'distance', 'year'], dtype='object')"
      ]
     },
     "execution_count": 16,
     "metadata": {},
     "output_type": "execute_result"
    }
   ],
   "source": [
    "df.columns"
   ]
  },
  {
   "cell_type": "code",
   "execution_count": 17,
   "id": "a79af4a2",
   "metadata": {
    "execution": {
     "iopub.execute_input": "2023-07-31T15:40:57.184883Z",
     "iopub.status.busy": "2023-07-31T15:40:57.184168Z",
     "iopub.status.idle": "2023-07-31T15:40:57.211755Z",
     "shell.execute_reply": "2023-07-31T15:40:57.210800Z"
    },
    "papermill": {
     "duration": 0.056249,
     "end_time": "2023-07-31T15:40:57.213722",
     "exception": false,
     "start_time": "2023-07-31T15:40:57.157473",
     "status": "completed"
    },
    "tags": []
   },
   "outputs": [
    {
     "data": {
      "text/html": [
       "<div>\n",
       "<style scoped>\n",
       "    .dataframe tbody tr th:only-of-type {\n",
       "        vertical-align: middle;\n",
       "    }\n",
       "\n",
       "    .dataframe tbody tr th {\n",
       "        vertical-align: top;\n",
       "    }\n",
       "\n",
       "    .dataframe thead th {\n",
       "        text-align: right;\n",
       "    }\n",
       "</style>\n",
       "<table border=\"1\" class=\"dataframe\">\n",
       "  <thead>\n",
       "    <tr style=\"text-align: right;\">\n",
       "      <th></th>\n",
       "      <th>count</th>\n",
       "      <th>mean</th>\n",
       "      <th>std</th>\n",
       "      <th>min</th>\n",
       "      <th>25%</th>\n",
       "      <th>50%</th>\n",
       "      <th>75%</th>\n",
       "      <th>max</th>\n",
       "    </tr>\n",
       "  </thead>\n",
       "  <tbody>\n",
       "    <tr>\n",
       "      <th>number</th>\n",
       "      <td>1035.0</td>\n",
       "      <td>1.785507</td>\n",
       "      <td>1.240976</td>\n",
       "      <td>1.000000</td>\n",
       "      <td>1.00000</td>\n",
       "      <td>1.0000</td>\n",
       "      <td>2.000</td>\n",
       "      <td>7.0</td>\n",
       "    </tr>\n",
       "    <tr>\n",
       "      <th>orbital_period</th>\n",
       "      <td>992.0</td>\n",
       "      <td>2002.917596</td>\n",
       "      <td>26014.728304</td>\n",
       "      <td>0.090706</td>\n",
       "      <td>5.44254</td>\n",
       "      <td>39.9795</td>\n",
       "      <td>526.005</td>\n",
       "      <td>730000.0</td>\n",
       "    </tr>\n",
       "    <tr>\n",
       "      <th>mass</th>\n",
       "      <td>513.0</td>\n",
       "      <td>2.638161</td>\n",
       "      <td>3.818617</td>\n",
       "      <td>0.003600</td>\n",
       "      <td>0.22900</td>\n",
       "      <td>1.2600</td>\n",
       "      <td>3.040</td>\n",
       "      <td>25.0</td>\n",
       "    </tr>\n",
       "    <tr>\n",
       "      <th>distance</th>\n",
       "      <td>808.0</td>\n",
       "      <td>264.069282</td>\n",
       "      <td>733.116493</td>\n",
       "      <td>1.350000</td>\n",
       "      <td>32.56000</td>\n",
       "      <td>55.2500</td>\n",
       "      <td>178.500</td>\n",
       "      <td>8500.0</td>\n",
       "    </tr>\n",
       "    <tr>\n",
       "      <th>year</th>\n",
       "      <td>1035.0</td>\n",
       "      <td>2009.070531</td>\n",
       "      <td>3.972567</td>\n",
       "      <td>1989.000000</td>\n",
       "      <td>2007.00000</td>\n",
       "      <td>2010.0000</td>\n",
       "      <td>2012.000</td>\n",
       "      <td>2014.0</td>\n",
       "    </tr>\n",
       "  </tbody>\n",
       "</table>\n",
       "</div>"
      ],
      "text/plain": [
       "                 count         mean           std          min         25%  \\\n",
       "number          1035.0     1.785507      1.240976     1.000000     1.00000   \n",
       "orbital_period   992.0  2002.917596  26014.728304     0.090706     5.44254   \n",
       "mass             513.0     2.638161      3.818617     0.003600     0.22900   \n",
       "distance         808.0   264.069282    733.116493     1.350000    32.56000   \n",
       "year            1035.0  2009.070531      3.972567  1989.000000  2007.00000   \n",
       "\n",
       "                      50%       75%       max  \n",
       "number             1.0000     2.000       7.0  \n",
       "orbital_period    39.9795   526.005  730000.0  \n",
       "mass               1.2600     3.040      25.0  \n",
       "distance          55.2500   178.500    8500.0  \n",
       "year            2010.0000  2012.000    2014.0  "
      ]
     },
     "execution_count": 17,
     "metadata": {},
     "output_type": "execute_result"
    }
   ],
   "source": [
    "df.describe().T"
   ]
  },
  {
   "cell_type": "code",
   "execution_count": 18,
   "id": "0d304bf7",
   "metadata": {
    "execution": {
     "iopub.execute_input": "2023-07-31T15:40:57.268138Z",
     "iopub.status.busy": "2023-07-31T15:40:57.267407Z",
     "iopub.status.idle": "2023-07-31T15:40:57.295423Z",
     "shell.execute_reply": "2023-07-31T15:40:57.294455Z"
    },
    "papermill": {
     "duration": 0.05711,
     "end_time": "2023-07-31T15:40:57.297513",
     "exception": false,
     "start_time": "2023-07-31T15:40:57.240403",
     "status": "completed"
    },
    "tags": []
   },
   "outputs": [
    {
     "data": {
      "text/html": [
       "<div>\n",
       "<style scoped>\n",
       "    .dataframe tbody tr th:only-of-type {\n",
       "        vertical-align: middle;\n",
       "    }\n",
       "\n",
       "    .dataframe tbody tr th {\n",
       "        vertical-align: top;\n",
       "    }\n",
       "\n",
       "    .dataframe thead th {\n",
       "        text-align: right;\n",
       "    }\n",
       "</style>\n",
       "<table border=\"1\" class=\"dataframe\">\n",
       "  <thead>\n",
       "    <tr style=\"text-align: right;\">\n",
       "      <th></th>\n",
       "      <th>count</th>\n",
       "      <th>unique</th>\n",
       "      <th>top</th>\n",
       "      <th>freq</th>\n",
       "      <th>mean</th>\n",
       "      <th>std</th>\n",
       "      <th>min</th>\n",
       "      <th>25%</th>\n",
       "      <th>50%</th>\n",
       "      <th>75%</th>\n",
       "      <th>max</th>\n",
       "    </tr>\n",
       "  </thead>\n",
       "  <tbody>\n",
       "    <tr>\n",
       "      <th>method</th>\n",
       "      <td>1035</td>\n",
       "      <td>10</td>\n",
       "      <td>Radial Velocity</td>\n",
       "      <td>553</td>\n",
       "      <td>NaN</td>\n",
       "      <td>NaN</td>\n",
       "      <td>NaN</td>\n",
       "      <td>NaN</td>\n",
       "      <td>NaN</td>\n",
       "      <td>NaN</td>\n",
       "      <td>NaN</td>\n",
       "    </tr>\n",
       "    <tr>\n",
       "      <th>number</th>\n",
       "      <td>1035.0</td>\n",
       "      <td>NaN</td>\n",
       "      <td>NaN</td>\n",
       "      <td>NaN</td>\n",
       "      <td>1.785507</td>\n",
       "      <td>1.240976</td>\n",
       "      <td>1.0</td>\n",
       "      <td>1.0</td>\n",
       "      <td>1.0</td>\n",
       "      <td>2.0</td>\n",
       "      <td>7.0</td>\n",
       "    </tr>\n",
       "    <tr>\n",
       "      <th>orbital_period</th>\n",
       "      <td>992.0</td>\n",
       "      <td>NaN</td>\n",
       "      <td>NaN</td>\n",
       "      <td>NaN</td>\n",
       "      <td>2002.917596</td>\n",
       "      <td>26014.728304</td>\n",
       "      <td>0.090706</td>\n",
       "      <td>5.44254</td>\n",
       "      <td>39.9795</td>\n",
       "      <td>526.005</td>\n",
       "      <td>730000.0</td>\n",
       "    </tr>\n",
       "    <tr>\n",
       "      <th>mass</th>\n",
       "      <td>513.0</td>\n",
       "      <td>NaN</td>\n",
       "      <td>NaN</td>\n",
       "      <td>NaN</td>\n",
       "      <td>2.638161</td>\n",
       "      <td>3.818617</td>\n",
       "      <td>0.0036</td>\n",
       "      <td>0.229</td>\n",
       "      <td>1.26</td>\n",
       "      <td>3.04</td>\n",
       "      <td>25.0</td>\n",
       "    </tr>\n",
       "    <tr>\n",
       "      <th>distance</th>\n",
       "      <td>808.0</td>\n",
       "      <td>NaN</td>\n",
       "      <td>NaN</td>\n",
       "      <td>NaN</td>\n",
       "      <td>264.069282</td>\n",
       "      <td>733.116493</td>\n",
       "      <td>1.35</td>\n",
       "      <td>32.56</td>\n",
       "      <td>55.25</td>\n",
       "      <td>178.5</td>\n",
       "      <td>8500.0</td>\n",
       "    </tr>\n",
       "    <tr>\n",
       "      <th>year</th>\n",
       "      <td>1035.0</td>\n",
       "      <td>NaN</td>\n",
       "      <td>NaN</td>\n",
       "      <td>NaN</td>\n",
       "      <td>2009.070531</td>\n",
       "      <td>3.972567</td>\n",
       "      <td>1989.0</td>\n",
       "      <td>2007.0</td>\n",
       "      <td>2010.0</td>\n",
       "      <td>2012.0</td>\n",
       "      <td>2014.0</td>\n",
       "    </tr>\n",
       "  </tbody>\n",
       "</table>\n",
       "</div>"
      ],
      "text/plain": [
       "                 count unique              top freq         mean  \\\n",
       "method            1035     10  Radial Velocity  553          NaN   \n",
       "number          1035.0    NaN              NaN  NaN     1.785507   \n",
       "orbital_period   992.0    NaN              NaN  NaN  2002.917596   \n",
       "mass             513.0    NaN              NaN  NaN     2.638161   \n",
       "distance         808.0    NaN              NaN  NaN   264.069282   \n",
       "year            1035.0    NaN              NaN  NaN  2009.070531   \n",
       "\n",
       "                         std       min      25%      50%      75%       max  \n",
       "method                   NaN       NaN      NaN      NaN      NaN       NaN  \n",
       "number              1.240976       1.0      1.0      1.0      2.0       7.0  \n",
       "orbital_period  26014.728304  0.090706  5.44254  39.9795  526.005  730000.0  \n",
       "mass                3.818617    0.0036    0.229     1.26     3.04      25.0  \n",
       "distance          733.116493      1.35    32.56    55.25    178.5    8500.0  \n",
       "year                3.972567    1989.0   2007.0   2010.0   2012.0    2014.0  "
      ]
     },
     "execution_count": 18,
     "metadata": {},
     "output_type": "execute_result"
    }
   ],
   "source": [
    "df.describe(include = \"all\").T"
   ]
  },
  {
   "cell_type": "code",
   "execution_count": 19,
   "id": "24491bb0",
   "metadata": {
    "execution": {
     "iopub.execute_input": "2023-07-31T15:40:57.351548Z",
     "iopub.status.busy": "2023-07-31T15:40:57.351272Z",
     "iopub.status.idle": "2023-07-31T15:40:57.355165Z",
     "shell.execute_reply": "2023-07-31T15:40:57.354209Z"
    },
    "papermill": {
     "duration": 0.033032,
     "end_time": "2023-07-31T15:40:57.357133",
     "exception": false,
     "start_time": "2023-07-31T15:40:57.324101",
     "status": "completed"
    },
    "tags": []
   },
   "outputs": [],
   "source": [
    "# Examining Missing Values"
   ]
  },
  {
   "cell_type": "code",
   "execution_count": 20,
   "id": "21c311b7",
   "metadata": {
    "execution": {
     "iopub.execute_input": "2023-07-31T15:40:57.411469Z",
     "iopub.status.busy": "2023-07-31T15:40:57.410662Z",
     "iopub.status.idle": "2023-07-31T15:40:57.417795Z",
     "shell.execute_reply": "2023-07-31T15:40:57.416812Z"
    },
    "papermill": {
     "duration": 0.036771,
     "end_time": "2023-07-31T15:40:57.420120",
     "exception": false,
     "start_time": "2023-07-31T15:40:57.383349",
     "status": "completed"
    },
    "tags": []
   },
   "outputs": [
    {
     "data": {
      "text/plain": [
       "True"
      ]
     },
     "execution_count": 20,
     "metadata": {},
     "output_type": "execute_result"
    }
   ],
   "source": [
    "df.isnull().values.any()"
   ]
  },
  {
   "cell_type": "code",
   "execution_count": 21,
   "id": "3b86a0be",
   "metadata": {
    "execution": {
     "iopub.execute_input": "2023-07-31T15:40:57.474641Z",
     "iopub.status.busy": "2023-07-31T15:40:57.473853Z",
     "iopub.status.idle": "2023-07-31T15:40:57.482169Z",
     "shell.execute_reply": "2023-07-31T15:40:57.481211Z"
    },
    "papermill": {
     "duration": 0.037648,
     "end_time": "2023-07-31T15:40:57.484144",
     "exception": false,
     "start_time": "2023-07-31T15:40:57.446496",
     "status": "completed"
    },
    "tags": []
   },
   "outputs": [
    {
     "data": {
      "text/plain": [
       "method              0\n",
       "number              0\n",
       "orbital_period     43\n",
       "mass              522\n",
       "distance          227\n",
       "year                0\n",
       "dtype: int64"
      ]
     },
     "execution_count": 21,
     "metadata": {},
     "output_type": "execute_result"
    }
   ],
   "source": [
    "df.isnull().sum()"
   ]
  },
  {
   "cell_type": "code",
   "execution_count": 22,
   "id": "32ae3691",
   "metadata": {
    "execution": {
     "iopub.execute_input": "2023-07-31T15:40:57.539535Z",
     "iopub.status.busy": "2023-07-31T15:40:57.538769Z",
     "iopub.status.idle": "2023-07-31T15:40:57.543820Z",
     "shell.execute_reply": "2023-07-31T15:40:57.542947Z"
    },
    "papermill": {
     "duration": 0.034905,
     "end_time": "2023-07-31T15:40:57.546174",
     "exception": false,
     "start_time": "2023-07-31T15:40:57.511269",
     "status": "completed"
    },
    "tags": []
   },
   "outputs": [],
   "source": [
    "df[\"orbital_period\"].fillna(0, inplace = True)"
   ]
  },
  {
   "cell_type": "code",
   "execution_count": 23,
   "id": "a5a424dd",
   "metadata": {
    "execution": {
     "iopub.execute_input": "2023-07-31T15:40:57.601602Z",
     "iopub.status.busy": "2023-07-31T15:40:57.600842Z",
     "iopub.status.idle": "2023-07-31T15:40:57.608927Z",
     "shell.execute_reply": "2023-07-31T15:40:57.607711Z"
    },
    "papermill": {
     "duration": 0.037563,
     "end_time": "2023-07-31T15:40:57.611038",
     "exception": false,
     "start_time": "2023-07-31T15:40:57.573475",
     "status": "completed"
    },
    "tags": []
   },
   "outputs": [
    {
     "data": {
      "text/plain": [
       "method              0\n",
       "number              0\n",
       "orbital_period      0\n",
       "mass              522\n",
       "distance          227\n",
       "year                0\n",
       "dtype: int64"
      ]
     },
     "execution_count": 23,
     "metadata": {},
     "output_type": "execute_result"
    }
   ],
   "source": [
    "df.isnull().sum()"
   ]
  },
  {
   "cell_type": "code",
   "execution_count": 24,
   "id": "5d8f0934",
   "metadata": {
    "execution": {
     "iopub.execute_input": "2023-07-31T15:40:57.666226Z",
     "iopub.status.busy": "2023-07-31T15:40:57.665389Z",
     "iopub.status.idle": "2023-07-31T15:40:57.671018Z",
     "shell.execute_reply": "2023-07-31T15:40:57.670135Z"
    },
    "papermill": {
     "duration": 0.035203,
     "end_time": "2023-07-31T15:40:57.672925",
     "exception": false,
     "start_time": "2023-07-31T15:40:57.637722",
     "status": "completed"
    },
    "tags": []
   },
   "outputs": [],
   "source": [
    "df[\"mass\"].fillna(df.mass.mean(), inplace = True)"
   ]
  },
  {
   "cell_type": "code",
   "execution_count": 25,
   "id": "2c391d67",
   "metadata": {
    "execution": {
     "iopub.execute_input": "2023-07-31T15:40:57.727832Z",
     "iopub.status.busy": "2023-07-31T15:40:57.727100Z",
     "iopub.status.idle": "2023-07-31T15:40:57.735091Z",
     "shell.execute_reply": "2023-07-31T15:40:57.734116Z"
    },
    "papermill": {
     "duration": 0.037128,
     "end_time": "2023-07-31T15:40:57.736994",
     "exception": false,
     "start_time": "2023-07-31T15:40:57.699866",
     "status": "completed"
    },
    "tags": []
   },
   "outputs": [
    {
     "data": {
      "text/plain": [
       "method              0\n",
       "number              0\n",
       "orbital_period      0\n",
       "mass                0\n",
       "distance          227\n",
       "year                0\n",
       "dtype: int64"
      ]
     },
     "execution_count": 25,
     "metadata": {},
     "output_type": "execute_result"
    }
   ],
   "source": [
    "df.isnull().sum()"
   ]
  },
  {
   "cell_type": "code",
   "execution_count": 26,
   "id": "a9440593",
   "metadata": {
    "execution": {
     "iopub.execute_input": "2023-07-31T15:40:57.793279Z",
     "iopub.status.busy": "2023-07-31T15:40:57.792993Z",
     "iopub.status.idle": "2023-07-31T15:40:57.802038Z",
     "shell.execute_reply": "2023-07-31T15:40:57.801110Z"
    },
    "papermill": {
     "duration": 0.038645,
     "end_time": "2023-07-31T15:40:57.804011",
     "exception": false,
     "start_time": "2023-07-31T15:40:57.765366",
     "status": "completed"
    },
    "tags": []
   },
   "outputs": [
    {
     "name": "stderr",
     "output_type": "stream",
     "text": [
      "/tmp/ipykernel_23/2622515659.py:1: FutureWarning: The default value of numeric_only in DataFrame.mean is deprecated. In a future version, it will default to False. In addition, specifying 'numeric_only=None' is deprecated. Select only valid columns or specify the value of numeric_only to silence this warning.\n",
      "  df.fillna(df.mean(), inplace = True)\n"
     ]
    }
   ],
   "source": [
    "df.fillna(df.mean(), inplace = True)"
   ]
  },
  {
   "cell_type": "code",
   "execution_count": 27,
   "id": "f2d0a585",
   "metadata": {
    "execution": {
     "iopub.execute_input": "2023-07-31T15:40:57.860036Z",
     "iopub.status.busy": "2023-07-31T15:40:57.859127Z",
     "iopub.status.idle": "2023-07-31T15:40:57.866849Z",
     "shell.execute_reply": "2023-07-31T15:40:57.865853Z"
    },
    "papermill": {
     "duration": 0.037555,
     "end_time": "2023-07-31T15:40:57.868913",
     "exception": false,
     "start_time": "2023-07-31T15:40:57.831358",
     "status": "completed"
    },
    "tags": []
   },
   "outputs": [
    {
     "data": {
      "text/plain": [
       "method            0\n",
       "number            0\n",
       "orbital_period    0\n",
       "mass              0\n",
       "distance          0\n",
       "year              0\n",
       "dtype: int64"
      ]
     },
     "execution_count": 27,
     "metadata": {},
     "output_type": "execute_result"
    }
   ],
   "source": [
    "df.isnull().sum()"
   ]
  },
  {
   "cell_type": "code",
   "execution_count": 28,
   "id": "88a5641f",
   "metadata": {
    "execution": {
     "iopub.execute_input": "2023-07-31T15:40:57.925089Z",
     "iopub.status.busy": "2023-07-31T15:40:57.924346Z",
     "iopub.status.idle": "2023-07-31T15:40:57.936420Z",
     "shell.execute_reply": "2023-07-31T15:40:57.935450Z"
    },
    "papermill": {
     "duration": 0.041838,
     "end_time": "2023-07-31T15:40:57.938323",
     "exception": false,
     "start_time": "2023-07-31T15:40:57.896485",
     "status": "completed"
    },
    "tags": []
   },
   "outputs": [
    {
     "data": {
      "text/html": [
       "<div>\n",
       "<style scoped>\n",
       "    .dataframe tbody tr th:only-of-type {\n",
       "        vertical-align: middle;\n",
       "    }\n",
       "\n",
       "    .dataframe tbody tr th {\n",
       "        vertical-align: top;\n",
       "    }\n",
       "\n",
       "    .dataframe thead th {\n",
       "        text-align: right;\n",
       "    }\n",
       "</style>\n",
       "<table border=\"1\" class=\"dataframe\">\n",
       "  <thead>\n",
       "    <tr style=\"text-align: right;\">\n",
       "      <th></th>\n",
       "      <th>method</th>\n",
       "      <th>number</th>\n",
       "      <th>orbital_period</th>\n",
       "      <th>mass</th>\n",
       "      <th>distance</th>\n",
       "      <th>year</th>\n",
       "    </tr>\n",
       "  </thead>\n",
       "  <tbody>\n",
       "    <tr>\n",
       "      <th>0</th>\n",
       "      <td>Radial Velocity</td>\n",
       "      <td>1</td>\n",
       "      <td>269.300</td>\n",
       "      <td>7.10</td>\n",
       "      <td>77.40</td>\n",
       "      <td>2006</td>\n",
       "    </tr>\n",
       "    <tr>\n",
       "      <th>1</th>\n",
       "      <td>Radial Velocity</td>\n",
       "      <td>1</td>\n",
       "      <td>874.774</td>\n",
       "      <td>2.21</td>\n",
       "      <td>56.95</td>\n",
       "      <td>2008</td>\n",
       "    </tr>\n",
       "    <tr>\n",
       "      <th>2</th>\n",
       "      <td>Radial Velocity</td>\n",
       "      <td>1</td>\n",
       "      <td>763.000</td>\n",
       "      <td>2.60</td>\n",
       "      <td>19.84</td>\n",
       "      <td>2011</td>\n",
       "    </tr>\n",
       "    <tr>\n",
       "      <th>3</th>\n",
       "      <td>Radial Velocity</td>\n",
       "      <td>1</td>\n",
       "      <td>326.030</td>\n",
       "      <td>19.40</td>\n",
       "      <td>110.62</td>\n",
       "      <td>2007</td>\n",
       "    </tr>\n",
       "    <tr>\n",
       "      <th>4</th>\n",
       "      <td>Radial Velocity</td>\n",
       "      <td>1</td>\n",
       "      <td>516.220</td>\n",
       "      <td>10.50</td>\n",
       "      <td>119.47</td>\n",
       "      <td>2009</td>\n",
       "    </tr>\n",
       "  </tbody>\n",
       "</table>\n",
       "</div>"
      ],
      "text/plain": [
       "            method  number  orbital_period   mass  distance  year\n",
       "0  Radial Velocity       1         269.300   7.10     77.40  2006\n",
       "1  Radial Velocity       1         874.774   2.21     56.95  2008\n",
       "2  Radial Velocity       1         763.000   2.60     19.84  2011\n",
       "3  Radial Velocity       1         326.030  19.40    110.62  2007\n",
       "4  Radial Velocity       1         516.220  10.50    119.47  2009"
      ]
     },
     "execution_count": 28,
     "metadata": {},
     "output_type": "execute_result"
    }
   ],
   "source": [
    "df = planets.copy()\n",
    "df.head()"
   ]
  },
  {
   "cell_type": "code",
   "execution_count": 29,
   "id": "97edce82",
   "metadata": {
    "execution": {
     "iopub.execute_input": "2023-07-31T15:40:58.000097Z",
     "iopub.status.busy": "2023-07-31T15:40:57.996201Z",
     "iopub.status.idle": "2023-07-31T15:40:58.010372Z",
     "shell.execute_reply": "2023-07-31T15:40:58.009229Z"
    },
    "papermill": {
     "duration": 0.045925,
     "end_time": "2023-07-31T15:40:58.012702",
     "exception": false,
     "start_time": "2023-07-31T15:40:57.966777",
     "status": "completed"
    },
    "tags": []
   },
   "outputs": [
    {
     "data": {
      "text/plain": [
       "method              0\n",
       "number              0\n",
       "orbital_period     43\n",
       "mass              522\n",
       "distance          227\n",
       "year                0\n",
       "dtype: int64"
      ]
     },
     "execution_count": 29,
     "metadata": {},
     "output_type": "execute_result"
    }
   ],
   "source": [
    "df.isnull().sum()"
   ]
  },
  {
   "cell_type": "code",
   "execution_count": 30,
   "id": "ddf62c43",
   "metadata": {
    "execution": {
     "iopub.execute_input": "2023-07-31T15:40:58.075143Z",
     "iopub.status.busy": "2023-07-31T15:40:58.074383Z",
     "iopub.status.idle": "2023-07-31T15:40:58.078939Z",
     "shell.execute_reply": "2023-07-31T15:40:58.078020Z"
    },
    "papermill": {
     "duration": 0.036006,
     "end_time": "2023-07-31T15:40:58.080931",
     "exception": false,
     "start_time": "2023-07-31T15:40:58.044925",
     "status": "completed"
    },
    "tags": []
   },
   "outputs": [],
   "source": [
    "# Categorical Variable Summaries"
   ]
  },
  {
   "cell_type": "code",
   "execution_count": 31,
   "id": "0afd861c",
   "metadata": {
    "execution": {
     "iopub.execute_input": "2023-07-31T15:40:58.137176Z",
     "iopub.status.busy": "2023-07-31T15:40:58.136424Z",
     "iopub.status.idle": "2023-07-31T15:40:58.141539Z",
     "shell.execute_reply": "2023-07-31T15:40:58.140711Z"
    },
    "papermill": {
     "duration": 0.035274,
     "end_time": "2023-07-31T15:40:58.143480",
     "exception": false,
     "start_time": "2023-07-31T15:40:58.108206",
     "status": "completed"
    },
    "tags": []
   },
   "outputs": [],
   "source": [
    "kat_df = df.select_dtypes(include = [\"object\"])"
   ]
  },
  {
   "cell_type": "code",
   "execution_count": 32,
   "id": "fc228c25",
   "metadata": {
    "execution": {
     "iopub.execute_input": "2023-07-31T15:40:58.199672Z",
     "iopub.status.busy": "2023-07-31T15:40:58.198810Z",
     "iopub.status.idle": "2023-07-31T15:40:58.207199Z",
     "shell.execute_reply": "2023-07-31T15:40:58.206287Z"
    },
    "papermill": {
     "duration": 0.038488,
     "end_time": "2023-07-31T15:40:58.209334",
     "exception": false,
     "start_time": "2023-07-31T15:40:58.170846",
     "status": "completed"
    },
    "tags": []
   },
   "outputs": [
    {
     "data": {
      "text/html": [
       "<div>\n",
       "<style scoped>\n",
       "    .dataframe tbody tr th:only-of-type {\n",
       "        vertical-align: middle;\n",
       "    }\n",
       "\n",
       "    .dataframe tbody tr th {\n",
       "        vertical-align: top;\n",
       "    }\n",
       "\n",
       "    .dataframe thead th {\n",
       "        text-align: right;\n",
       "    }\n",
       "</style>\n",
       "<table border=\"1\" class=\"dataframe\">\n",
       "  <thead>\n",
       "    <tr style=\"text-align: right;\">\n",
       "      <th></th>\n",
       "      <th>method</th>\n",
       "    </tr>\n",
       "  </thead>\n",
       "  <tbody>\n",
       "    <tr>\n",
       "      <th>0</th>\n",
       "      <td>Radial Velocity</td>\n",
       "    </tr>\n",
       "    <tr>\n",
       "      <th>1</th>\n",
       "      <td>Radial Velocity</td>\n",
       "    </tr>\n",
       "    <tr>\n",
       "      <th>2</th>\n",
       "      <td>Radial Velocity</td>\n",
       "    </tr>\n",
       "    <tr>\n",
       "      <th>3</th>\n",
       "      <td>Radial Velocity</td>\n",
       "    </tr>\n",
       "    <tr>\n",
       "      <th>4</th>\n",
       "      <td>Radial Velocity</td>\n",
       "    </tr>\n",
       "  </tbody>\n",
       "</table>\n",
       "</div>"
      ],
      "text/plain": [
       "            method\n",
       "0  Radial Velocity\n",
       "1  Radial Velocity\n",
       "2  Radial Velocity\n",
       "3  Radial Velocity\n",
       "4  Radial Velocity"
      ]
     },
     "execution_count": 32,
     "metadata": {},
     "output_type": "execute_result"
    }
   ],
   "source": [
    "kat_df.head()"
   ]
  },
  {
   "cell_type": "code",
   "execution_count": 33,
   "id": "a27b300f",
   "metadata": {
    "execution": {
     "iopub.execute_input": "2023-07-31T15:40:58.266387Z",
     "iopub.status.busy": "2023-07-31T15:40:58.265660Z",
     "iopub.status.idle": "2023-07-31T15:40:58.273746Z",
     "shell.execute_reply": "2023-07-31T15:40:58.272775Z"
    },
    "papermill": {
     "duration": 0.038362,
     "end_time": "2023-07-31T15:40:58.275690",
     "exception": false,
     "start_time": "2023-07-31T15:40:58.237328",
     "status": "completed"
    },
    "tags": []
   },
   "outputs": [
    {
     "data": {
      "text/plain": [
       "method    1035\n",
       "dtype: int64"
      ]
     },
     "execution_count": 33,
     "metadata": {},
     "output_type": "execute_result"
    }
   ],
   "source": [
    "kat_df.count()"
   ]
  },
  {
   "cell_type": "code",
   "execution_count": 34,
   "id": "76f7a45c",
   "metadata": {
    "execution": {
     "iopub.execute_input": "2023-07-31T15:40:58.333220Z",
     "iopub.status.busy": "2023-07-31T15:40:58.332476Z",
     "iopub.status.idle": "2023-07-31T15:40:58.339665Z",
     "shell.execute_reply": "2023-07-31T15:40:58.338071Z"
    },
    "papermill": {
     "duration": 0.038568,
     "end_time": "2023-07-31T15:40:58.342148",
     "exception": false,
     "start_time": "2023-07-31T15:40:58.303580",
     "status": "completed"
    },
    "tags": []
   },
   "outputs": [
    {
     "data": {
      "text/plain": [
       "array(['Radial Velocity', 'Imaging', 'Eclipse Timing Variations',\n",
       "       'Transit', 'Astrometry', 'Transit Timing Variations',\n",
       "       'Orbital Brightness Modulation', 'Microlensing', 'Pulsar Timing',\n",
       "       'Pulsation Timing Variations'], dtype=object)"
      ]
     },
     "execution_count": 34,
     "metadata": {},
     "output_type": "execute_result"
    }
   ],
   "source": [
    "kat_df.method.unique() # classes"
   ]
  },
  {
   "cell_type": "code",
   "execution_count": 35,
   "id": "95c5fd11",
   "metadata": {
    "execution": {
     "iopub.execute_input": "2023-07-31T15:40:58.399910Z",
     "iopub.status.busy": "2023-07-31T15:40:58.399069Z",
     "iopub.status.idle": "2023-07-31T15:40:58.406840Z",
     "shell.execute_reply": "2023-07-31T15:40:58.405881Z"
    },
    "papermill": {
     "duration": 0.038267,
     "end_time": "2023-07-31T15:40:58.408870",
     "exception": false,
     "start_time": "2023-07-31T15:40:58.370603",
     "status": "completed"
    },
    "tags": []
   },
   "outputs": [
    {
     "data": {
      "text/plain": [
       "10"
      ]
     },
     "execution_count": 35,
     "metadata": {},
     "output_type": "execute_result"
    }
   ],
   "source": [
    "kat_df.value_counts().count()"
   ]
  },
  {
   "cell_type": "code",
   "execution_count": 36,
   "id": "21fcfabc",
   "metadata": {
    "execution": {
     "iopub.execute_input": "2023-07-31T15:40:58.465955Z",
     "iopub.status.busy": "2023-07-31T15:40:58.465148Z",
     "iopub.status.idle": "2023-07-31T15:40:58.472398Z",
     "shell.execute_reply": "2023-07-31T15:40:58.471435Z"
    },
    "papermill": {
     "duration": 0.037869,
     "end_time": "2023-07-31T15:40:58.474333",
     "exception": false,
     "start_time": "2023-07-31T15:40:58.436464",
     "status": "completed"
    },
    "tags": []
   },
   "outputs": [
    {
     "data": {
      "text/plain": [
       "10"
      ]
     },
     "execution_count": 36,
     "metadata": {},
     "output_type": "execute_result"
    }
   ],
   "source": [
    "kat_df[\"method\"].value_counts().count()"
   ]
  },
  {
   "cell_type": "code",
   "execution_count": 37,
   "id": "a217eea7",
   "metadata": {
    "execution": {
     "iopub.execute_input": "2023-07-31T15:40:58.532205Z",
     "iopub.status.busy": "2023-07-31T15:40:58.531459Z",
     "iopub.status.idle": "2023-07-31T15:40:58.539106Z",
     "shell.execute_reply": "2023-07-31T15:40:58.538080Z"
    },
    "papermill": {
     "duration": 0.038473,
     "end_time": "2023-07-31T15:40:58.541161",
     "exception": false,
     "start_time": "2023-07-31T15:40:58.502688",
     "status": "completed"
    },
    "tags": []
   },
   "outputs": [
    {
     "data": {
      "text/plain": [
       "Radial Velocity                  553\n",
       "Transit                          397\n",
       "Imaging                           38\n",
       "Microlensing                      23\n",
       "Eclipse Timing Variations          9\n",
       "Pulsar Timing                      5\n",
       "Transit Timing Variations          4\n",
       "Orbital Brightness Modulation      3\n",
       "Astrometry                         2\n",
       "Pulsation Timing Variations        1\n",
       "Name: method, dtype: int64"
      ]
     },
     "execution_count": 37,
     "metadata": {},
     "output_type": "execute_result"
    }
   ],
   "source": [
    "kat_df[\"method\"].value_counts() # freq"
   ]
  },
  {
   "cell_type": "code",
   "execution_count": 38,
   "id": "73788027",
   "metadata": {
    "execution": {
     "iopub.execute_input": "2023-07-31T15:40:58.600208Z",
     "iopub.status.busy": "2023-07-31T15:40:58.599283Z",
     "iopub.status.idle": "2023-07-31T15:40:58.919202Z",
     "shell.execute_reply": "2023-07-31T15:40:58.918065Z"
    },
    "papermill": {
     "duration": 0.351676,
     "end_time": "2023-07-31T15:40:58.921392",
     "exception": false,
     "start_time": "2023-07-31T15:40:58.569716",
     "status": "completed"
    },
    "tags": []
   },
   "outputs": [
    {
     "data": {
      "image/png": "[encoded data removed]",
      "text/plain": [
       "<Figure size 640x480 with 1 Axes>"
      ]
     },
     "metadata": {},
     "output_type": "display_data"
    }
   ],
   "source": [
    "df[\"method\"].value_counts().plot.barh();"
   ]
  },
  {
   "cell_type": "code",
   "execution_count": 39,
   "id": "81062fac",
   "metadata": {
    "execution": {
     "iopub.execute_input": "2023-07-31T15:40:58.981543Z",
     "iopub.status.busy": "2023-07-31T15:40:58.980618Z",
     "iopub.status.idle": "2023-07-31T15:40:58.985175Z",
     "shell.execute_reply": "2023-07-31T15:40:58.984297Z"
    },
    "papermill": {
     "duration": 0.036642,
     "end_time": "2023-07-31T15:40:58.987102",
     "exception": false,
     "start_time": "2023-07-31T15:40:58.950460",
     "status": "completed"
    },
    "tags": []
   },
   "outputs": [],
   "source": [
    "# Continuous Variable Summaries"
   ]
  },
  {
   "cell_type": "code",
   "execution_count": 40,
   "id": "3e0d4953",
   "metadata": {
    "execution": {
     "iopub.execute_input": "2023-07-31T15:40:59.049497Z",
     "iopub.status.busy": "2023-07-31T15:40:59.048585Z",
     "iopub.status.idle": "2023-07-31T15:40:59.064023Z",
     "shell.execute_reply": "2023-07-31T15:40:59.063116Z"
    },
    "papermill": {
     "duration": 0.047568,
     "end_time": "2023-07-31T15:40:59.065959",
     "exception": false,
     "start_time": "2023-07-31T15:40:59.018391",
     "status": "completed"
    },
    "tags": []
   },
   "outputs": [
    {
     "data": {
      "text/html": [
       "<div>\n",
       "<style scoped>\n",
       "    .dataframe tbody tr th:only-of-type {\n",
       "        vertical-align: middle;\n",
       "    }\n",
       "\n",
       "    .dataframe tbody tr th {\n",
       "        vertical-align: top;\n",
       "    }\n",
       "\n",
       "    .dataframe thead th {\n",
       "        text-align: right;\n",
       "    }\n",
       "</style>\n",
       "<table border=\"1\" class=\"dataframe\">\n",
       "  <thead>\n",
       "    <tr style=\"text-align: right;\">\n",
       "      <th></th>\n",
       "      <th>number</th>\n",
       "      <th>orbital_period</th>\n",
       "      <th>mass</th>\n",
       "      <th>distance</th>\n",
       "      <th>year</th>\n",
       "    </tr>\n",
       "  </thead>\n",
       "  <tbody>\n",
       "    <tr>\n",
       "      <th>0</th>\n",
       "      <td>1</td>\n",
       "      <td>269.300000</td>\n",
       "      <td>7.10</td>\n",
       "      <td>77.40</td>\n",
       "      <td>2006</td>\n",
       "    </tr>\n",
       "    <tr>\n",
       "      <th>1</th>\n",
       "      <td>1</td>\n",
       "      <td>874.774000</td>\n",
       "      <td>2.21</td>\n",
       "      <td>56.95</td>\n",
       "      <td>2008</td>\n",
       "    </tr>\n",
       "    <tr>\n",
       "      <th>2</th>\n",
       "      <td>1</td>\n",
       "      <td>763.000000</td>\n",
       "      <td>2.60</td>\n",
       "      <td>19.84</td>\n",
       "      <td>2011</td>\n",
       "    </tr>\n",
       "    <tr>\n",
       "      <th>3</th>\n",
       "      <td>1</td>\n",
       "      <td>326.030000</td>\n",
       "      <td>19.40</td>\n",
       "      <td>110.62</td>\n",
       "      <td>2007</td>\n",
       "    </tr>\n",
       "    <tr>\n",
       "      <th>4</th>\n",
       "      <td>1</td>\n",
       "      <td>516.220000</td>\n",
       "      <td>10.50</td>\n",
       "      <td>119.47</td>\n",
       "      <td>2009</td>\n",
       "    </tr>\n",
       "    <tr>\n",
       "      <th>...</th>\n",
       "      <td>...</td>\n",
       "      <td>...</td>\n",
       "      <td>...</td>\n",
       "      <td>...</td>\n",
       "      <td>...</td>\n",
       "    </tr>\n",
       "    <tr>\n",
       "      <th>1030</th>\n",
       "      <td>1</td>\n",
       "      <td>3.941507</td>\n",
       "      <td>NaN</td>\n",
       "      <td>172.00</td>\n",
       "      <td>2006</td>\n",
       "    </tr>\n",
       "    <tr>\n",
       "      <th>1031</th>\n",
       "      <td>1</td>\n",
       "      <td>2.615864</td>\n",
       "      <td>NaN</td>\n",
       "      <td>148.00</td>\n",
       "      <td>2007</td>\n",
       "    </tr>\n",
       "    <tr>\n",
       "      <th>1032</th>\n",
       "      <td>1</td>\n",
       "      <td>3.191524</td>\n",
       "      <td>NaN</td>\n",
       "      <td>174.00</td>\n",
       "      <td>2007</td>\n",
       "    </tr>\n",
       "    <tr>\n",
       "      <th>1033</th>\n",
       "      <td>1</td>\n",
       "      <td>4.125083</td>\n",
       "      <td>NaN</td>\n",
       "      <td>293.00</td>\n",
       "      <td>2008</td>\n",
       "    </tr>\n",
       "    <tr>\n",
       "      <th>1034</th>\n",
       "      <td>1</td>\n",
       "      <td>4.187757</td>\n",
       "      <td>NaN</td>\n",
       "      <td>260.00</td>\n",
       "      <td>2008</td>\n",
       "    </tr>\n",
       "  </tbody>\n",
       "</table>\n",
       "<p>1035 rows × 5 columns</p>\n",
       "</div>"
      ],
      "text/plain": [
       "      number  orbital_period   mass  distance  year\n",
       "0          1      269.300000   7.10     77.40  2006\n",
       "1          1      874.774000   2.21     56.95  2008\n",
       "2          1      763.000000   2.60     19.84  2011\n",
       "3          1      326.030000  19.40    110.62  2007\n",
       "4          1      516.220000  10.50    119.47  2009\n",
       "...      ...             ...    ...       ...   ...\n",
       "1030       1        3.941507    NaN    172.00  2006\n",
       "1031       1        2.615864    NaN    148.00  2007\n",
       "1032       1        3.191524    NaN    174.00  2007\n",
       "1033       1        4.125083    NaN    293.00  2008\n",
       "1034       1        4.187757    NaN    260.00  2008\n",
       "\n",
       "[1035 rows x 5 columns]"
      ]
     },
     "execution_count": 40,
     "metadata": {},
     "output_type": "execute_result"
    }
   ],
   "source": [
    "df_num = df.select_dtypes(include = [\"float64\", \"int64\"])\n",
    "df_num"
   ]
  },
  {
   "cell_type": "code",
   "execution_count": 41,
   "id": "35eade0f",
   "metadata": {
    "execution": {
     "iopub.execute_input": "2023-07-31T15:40:59.127454Z",
     "iopub.status.busy": "2023-07-31T15:40:59.126608Z",
     "iopub.status.idle": "2023-07-31T15:40:59.153311Z",
     "shell.execute_reply": "2023-07-31T15:40:59.152332Z"
    },
    "papermill": {
     "duration": 0.060107,
     "end_time": "2023-07-31T15:40:59.155433",
     "exception": false,
     "start_time": "2023-07-31T15:40:59.095326",
     "status": "completed"
    },
    "tags": []
   },
   "outputs": [
    {
     "data": {
      "text/html": [
       "<div>\n",
       "<style scoped>\n",
       "    .dataframe tbody tr th:only-of-type {\n",
       "        vertical-align: middle;\n",
       "    }\n",
       "\n",
       "    .dataframe tbody tr th {\n",
       "        vertical-align: top;\n",
       "    }\n",
       "\n",
       "    .dataframe thead th {\n",
       "        text-align: right;\n",
       "    }\n",
       "</style>\n",
       "<table border=\"1\" class=\"dataframe\">\n",
       "  <thead>\n",
       "    <tr style=\"text-align: right;\">\n",
       "      <th></th>\n",
       "      <th>count</th>\n",
       "      <th>mean</th>\n",
       "      <th>std</th>\n",
       "      <th>min</th>\n",
       "      <th>25%</th>\n",
       "      <th>50%</th>\n",
       "      <th>75%</th>\n",
       "      <th>max</th>\n",
       "    </tr>\n",
       "  </thead>\n",
       "  <tbody>\n",
       "    <tr>\n",
       "      <th>number</th>\n",
       "      <td>1035.0</td>\n",
       "      <td>1.785507</td>\n",
       "      <td>1.240976</td>\n",
       "      <td>1.000000</td>\n",
       "      <td>1.00000</td>\n",
       "      <td>1.0000</td>\n",
       "      <td>2.000</td>\n",
       "      <td>7.0</td>\n",
       "    </tr>\n",
       "    <tr>\n",
       "      <th>orbital_period</th>\n",
       "      <td>992.0</td>\n",
       "      <td>2002.917596</td>\n",
       "      <td>26014.728304</td>\n",
       "      <td>0.090706</td>\n",
       "      <td>5.44254</td>\n",
       "      <td>39.9795</td>\n",
       "      <td>526.005</td>\n",
       "      <td>730000.0</td>\n",
       "    </tr>\n",
       "    <tr>\n",
       "      <th>mass</th>\n",
       "      <td>513.0</td>\n",
       "      <td>2.638161</td>\n",
       "      <td>3.818617</td>\n",
       "      <td>0.003600</td>\n",
       "      <td>0.22900</td>\n",
       "      <td>1.2600</td>\n",
       "      <td>3.040</td>\n",
       "      <td>25.0</td>\n",
       "    </tr>\n",
       "    <tr>\n",
       "      <th>distance</th>\n",
       "      <td>808.0</td>\n",
       "      <td>264.069282</td>\n",
       "      <td>733.116493</td>\n",
       "      <td>1.350000</td>\n",
       "      <td>32.56000</td>\n",
       "      <td>55.2500</td>\n",
       "      <td>178.500</td>\n",
       "      <td>8500.0</td>\n",
       "    </tr>\n",
       "    <tr>\n",
       "      <th>year</th>\n",
       "      <td>1035.0</td>\n",
       "      <td>2009.070531</td>\n",
       "      <td>3.972567</td>\n",
       "      <td>1989.000000</td>\n",
       "      <td>2007.00000</td>\n",
       "      <td>2010.0000</td>\n",
       "      <td>2012.000</td>\n",
       "      <td>2014.0</td>\n",
       "    </tr>\n",
       "  </tbody>\n",
       "</table>\n",
       "</div>"
      ],
      "text/plain": [
       "                 count         mean           std          min         25%  \\\n",
       "number          1035.0     1.785507      1.240976     1.000000     1.00000   \n",
       "orbital_period   992.0  2002.917596  26014.728304     0.090706     5.44254   \n",
       "mass             513.0     2.638161      3.818617     0.003600     0.22900   \n",
       "distance         808.0   264.069282    733.116493     1.350000    32.56000   \n",
       "year            1035.0  2009.070531      3.972567  1989.000000  2007.00000   \n",
       "\n",
       "                      50%       75%       max  \n",
       "number             1.0000     2.000       7.0  \n",
       "orbital_period    39.9795   526.005  730000.0  \n",
       "mass               1.2600     3.040      25.0  \n",
       "distance          55.2500   178.500    8500.0  \n",
       "year            2010.0000  2012.000    2014.0  "
      ]
     },
     "execution_count": 41,
     "metadata": {},
     "output_type": "execute_result"
    }
   ],
   "source": [
    "df_num.describe().T"
   ]
  },
  {
   "cell_type": "code",
   "execution_count": 42,
   "id": "7576a63f",
   "metadata": {
    "execution": {
     "iopub.execute_input": "2023-07-31T15:40:59.217107Z",
     "iopub.status.busy": "2023-07-31T15:40:59.216315Z",
     "iopub.status.idle": "2023-07-31T15:40:59.225757Z",
     "shell.execute_reply": "2023-07-31T15:40:59.224751Z"
    },
    "papermill": {
     "duration": 0.041611,
     "end_time": "2023-07-31T15:40:59.227743",
     "exception": false,
     "start_time": "2023-07-31T15:40:59.186132",
     "status": "completed"
    },
    "tags": []
   },
   "outputs": [
    {
     "data": {
      "text/plain": [
       "count    1035.000000\n",
       "mean     2009.070531\n",
       "std         3.972567\n",
       "min      1989.000000\n",
       "25%      2007.000000\n",
       "50%      2010.000000\n",
       "75%      2012.000000\n",
       "max      2014.000000\n",
       "Name: year, dtype: float64"
      ]
     },
     "execution_count": 42,
     "metadata": {},
     "output_type": "execute_result"
    }
   ],
   "source": [
    "df_num[\"year\"].describe()"
   ]
  },
  {
   "cell_type": "code",
   "execution_count": 43,
   "id": "899ad79b",
   "metadata": {
    "execution": {
     "iopub.execute_input": "2023-07-31T15:40:59.291158Z",
     "iopub.status.busy": "2023-07-31T15:40:59.290341Z",
     "iopub.status.idle": "2023-07-31T15:40:59.300118Z",
     "shell.execute_reply": "2023-07-31T15:40:59.298903Z"
    },
    "papermill": {
     "duration": 0.044937,
     "end_time": "2023-07-31T15:40:59.302210",
     "exception": false,
     "start_time": "2023-07-31T15:40:59.257273",
     "status": "completed"
    },
    "tags": []
   },
   "outputs": [
    {
     "data": {
      "text/plain": [
       "count     808.000000\n",
       "mean      264.069282\n",
       "std       733.116493\n",
       "min         1.350000\n",
       "25%        32.560000\n",
       "50%        55.250000\n",
       "75%       178.500000\n",
       "max      8500.000000\n",
       "Name: distance, dtype: float64"
      ]
     },
     "execution_count": 43,
     "metadata": {},
     "output_type": "execute_result"
    }
   ],
   "source": [
    "df_num[\"distance\"].describe()"
   ]
  },
  {
   "cell_type": "code",
   "execution_count": 44,
   "id": "d7b6632d",
   "metadata": {
    "execution": {
     "iopub.execute_input": "2023-07-31T15:40:59.363031Z",
     "iopub.status.busy": "2023-07-31T15:40:59.362745Z",
     "iopub.status.idle": "2023-07-31T15:40:59.368201Z",
     "shell.execute_reply": "2023-07-31T15:40:59.367063Z"
    },
    "papermill": {
     "duration": 0.03837,
     "end_time": "2023-07-31T15:40:59.370616",
     "exception": false,
     "start_time": "2023-07-31T15:40:59.332246",
     "status": "completed"
    },
    "tags": []
   },
   "outputs": [
    {
     "name": "stdout",
     "output_type": "stream",
     "text": [
      "Max distance :  8500.0\n"
     ]
    }
   ],
   "source": [
    "print(\"Max distance : \", df_num[\"distance\"].max())"
   ]
  },
  {
   "cell_type": "code",
   "execution_count": 45,
   "id": "78922e27",
   "metadata": {
    "execution": {
     "iopub.execute_input": "2023-07-31T15:40:59.431714Z",
     "iopub.status.busy": "2023-07-31T15:40:59.430921Z",
     "iopub.status.idle": "2023-07-31T15:40:59.435306Z",
     "shell.execute_reply": "2023-07-31T15:40:59.434446Z"
    },
    "papermill": {
     "duration": 0.0366,
     "end_time": "2023-07-31T15:40:59.437115",
     "exception": false,
     "start_time": "2023-07-31T15:40:59.400515",
     "status": "completed"
    },
    "tags": []
   },
   "outputs": [],
   "source": [
    "# plots"
   ]
  },
  {
   "cell_type": "code",
   "execution_count": 46,
   "id": "d4b6051b",
   "metadata": {
    "execution": {
     "iopub.execute_input": "2023-07-31T15:40:59.498834Z",
     "iopub.status.busy": "2023-07-31T15:40:59.497387Z",
     "iopub.status.idle": "2023-07-31T15:40:59.502183Z",
     "shell.execute_reply": "2023-07-31T15:40:59.501300Z"
    },
    "papermill": {
     "duration": 0.037293,
     "end_time": "2023-07-31T15:40:59.504188",
     "exception": false,
     "start_time": "2023-07-31T15:40:59.466895",
     "status": "completed"
    },
    "tags": []
   },
   "outputs": [],
   "source": [
    "import seaborn as sns"
   ]
  },
  {
   "cell_type": "code",
   "execution_count": 47,
   "id": "443d2109",
   "metadata": {
    "execution": {
     "iopub.execute_input": "2023-07-31T15:40:59.565229Z",
     "iopub.status.busy": "2023-07-31T15:40:59.564457Z",
     "iopub.status.idle": "2023-07-31T15:41:00.067184Z",
     "shell.execute_reply": "2023-07-31T15:41:00.066127Z"
    },
    "papermill": {
     "duration": 0.536636,
     "end_time": "2023-07-31T15:41:00.070312",
     "exception": false,
     "start_time": "2023-07-31T15:40:59.533676",
     "status": "completed"
    },
    "tags": []
   },
   "outputs": [
    {
     "data": {
      "text/html": [
       "<div>\n",
       "<style scoped>\n",
       "    .dataframe tbody tr th:only-of-type {\n",
       "        vertical-align: middle;\n",
       "    }\n",
       "\n",
       "    .dataframe tbody tr th {\n",
       "        vertical-align: top;\n",
       "    }\n",
       "\n",
       "    .dataframe thead th {\n",
       "        text-align: right;\n",
       "    }\n",
       "</style>\n",
       "<table border=\"1\" class=\"dataframe\">\n",
       "  <thead>\n",
       "    <tr style=\"text-align: right;\">\n",
       "      <th></th>\n",
       "      <th>carat</th>\n",
       "      <th>cut</th>\n",
       "      <th>color</th>\n",
       "      <th>clarity</th>\n",
       "      <th>depth</th>\n",
       "      <th>table</th>\n",
       "      <th>price</th>\n",
       "      <th>x</th>\n",
       "      <th>y</th>\n",
       "      <th>z</th>\n",
       "    </tr>\n",
       "  </thead>\n",
       "  <tbody>\n",
       "    <tr>\n",
       "      <th>0</th>\n",
       "      <td>0.23</td>\n",
       "      <td>Ideal</td>\n",
       "      <td>E</td>\n",
       "      <td>SI2</td>\n",
       "      <td>61.5</td>\n",
       "      <td>55.0</td>\n",
       "      <td>326</td>\n",
       "      <td>3.95</td>\n",
       "      <td>3.98</td>\n",
       "      <td>2.43</td>\n",
       "    </tr>\n",
       "    <tr>\n",
       "      <th>1</th>\n",
       "      <td>0.21</td>\n",
       "      <td>Premium</td>\n",
       "      <td>E</td>\n",
       "      <td>SI1</td>\n",
       "      <td>59.8</td>\n",
       "      <td>61.0</td>\n",
       "      <td>326</td>\n",
       "      <td>3.89</td>\n",
       "      <td>3.84</td>\n",
       "      <td>2.31</td>\n",
       "    </tr>\n",
       "    <tr>\n",
       "      <th>2</th>\n",
       "      <td>0.23</td>\n",
       "      <td>Good</td>\n",
       "      <td>E</td>\n",
       "      <td>VS1</td>\n",
       "      <td>56.9</td>\n",
       "      <td>65.0</td>\n",
       "      <td>327</td>\n",
       "      <td>4.05</td>\n",
       "      <td>4.07</td>\n",
       "      <td>2.31</td>\n",
       "    </tr>\n",
       "    <tr>\n",
       "      <th>3</th>\n",
       "      <td>0.29</td>\n",
       "      <td>Premium</td>\n",
       "      <td>I</td>\n",
       "      <td>VS2</td>\n",
       "      <td>62.4</td>\n",
       "      <td>58.0</td>\n",
       "      <td>334</td>\n",
       "      <td>4.20</td>\n",
       "      <td>4.23</td>\n",
       "      <td>2.63</td>\n",
       "    </tr>\n",
       "    <tr>\n",
       "      <th>4</th>\n",
       "      <td>0.31</td>\n",
       "      <td>Good</td>\n",
       "      <td>J</td>\n",
       "      <td>SI2</td>\n",
       "      <td>63.3</td>\n",
       "      <td>58.0</td>\n",
       "      <td>335</td>\n",
       "      <td>4.34</td>\n",
       "      <td>4.35</td>\n",
       "      <td>2.75</td>\n",
       "    </tr>\n",
       "  </tbody>\n",
       "</table>\n",
       "</div>"
      ],
      "text/plain": [
       "   carat      cut color clarity  depth  table  price     x     y     z\n",
       "0   0.23    Ideal     E     SI2   61.5   55.0    326  3.95  3.98  2.43\n",
       "1   0.21  Premium     E     SI1   59.8   61.0    326  3.89  3.84  2.31\n",
       "2   0.23     Good     E     VS1   56.9   65.0    327  4.05  4.07  2.31\n",
       "3   0.29  Premium     I     VS2   62.4   58.0    334  4.20  4.23  2.63\n",
       "4   0.31     Good     J     SI2   63.3   58.0    335  4.34  4.35  2.75"
      ]
     },
     "execution_count": 47,
     "metadata": {},
     "output_type": "execute_result"
    }
   ],
   "source": [
    "diamonds = sns.load_dataset(\"diamonds\")\n",
    "df = diamonds.copy()\n",
    "df.head()"
   ]
  },
  {
   "cell_type": "code",
   "execution_count": 48,
   "id": "a465d745",
   "metadata": {
    "execution": {
     "iopub.execute_input": "2023-07-31T15:41:00.132610Z",
     "iopub.status.busy": "2023-07-31T15:41:00.132295Z",
     "iopub.status.idle": "2023-07-31T15:41:00.145489Z",
     "shell.execute_reply": "2023-07-31T15:41:00.143860Z"
    },
    "papermill": {
     "duration": 0.046628,
     "end_time": "2023-07-31T15:41:00.147512",
     "exception": false,
     "start_time": "2023-07-31T15:41:00.100884",
     "status": "completed"
    },
    "tags": []
   },
   "outputs": [
    {
     "name": "stdout",
     "output_type": "stream",
     "text": [
      "<class 'pandas.core.frame.DataFrame'>\n",
      "RangeIndex: 53940 entries, 0 to 53939\n",
      "Data columns (total 10 columns):\n",
      " #   Column   Non-Null Count  Dtype   \n",
      "---  ------   --------------  -----   \n",
      " 0   carat    53940 non-null  float64 \n",
      " 1   cut      53940 non-null  category\n",
      " 2   color    53940 non-null  category\n",
      " 3   clarity  53940 non-null  category\n",
      " 4   depth    53940 non-null  float64 \n",
      " 5   table    53940 non-null  float64 \n",
      " 6   price    53940 non-null  int64   \n",
      " 7   x        53940 non-null  float64 \n",
      " 8   y        53940 non-null  float64 \n",
      " 9   z        53940 non-null  float64 \n",
      "dtypes: category(3), float64(6), int64(1)\n",
      "memory usage: 3.0 MB\n"
     ]
    }
   ],
   "source": [
    "df.info()"
   ]
  },
  {
   "cell_type": "code",
   "execution_count": 49,
   "id": "0a1b640a",
   "metadata": {
    "execution": {
     "iopub.execute_input": "2023-07-31T15:41:00.210546Z",
     "iopub.status.busy": "2023-07-31T15:41:00.209548Z",
     "iopub.status.idle": "2023-07-31T15:41:00.255176Z",
     "shell.execute_reply": "2023-07-31T15:41:00.253837Z"
    },
    "papermill": {
     "duration": 0.079029,
     "end_time": "2023-07-31T15:41:00.257250",
     "exception": false,
     "start_time": "2023-07-31T15:41:00.178221",
     "status": "completed"
    },
    "tags": []
   },
   "outputs": [
    {
     "data": {
      "text/html": [
       "<div>\n",
       "<style scoped>\n",
       "    .dataframe tbody tr th:only-of-type {\n",
       "        vertical-align: middle;\n",
       "    }\n",
       "\n",
       "    .dataframe tbody tr th {\n",
       "        vertical-align: top;\n",
       "    }\n",
       "\n",
       "    .dataframe thead th {\n",
       "        text-align: right;\n",
       "    }\n",
       "</style>\n",
       "<table border=\"1\" class=\"dataframe\">\n",
       "  <thead>\n",
       "    <tr style=\"text-align: right;\">\n",
       "      <th></th>\n",
       "      <th>count</th>\n",
       "      <th>mean</th>\n",
       "      <th>std</th>\n",
       "      <th>min</th>\n",
       "      <th>25%</th>\n",
       "      <th>50%</th>\n",
       "      <th>75%</th>\n",
       "      <th>max</th>\n",
       "    </tr>\n",
       "  </thead>\n",
       "  <tbody>\n",
       "    <tr>\n",
       "      <th>carat</th>\n",
       "      <td>53940.0</td>\n",
       "      <td>0.797940</td>\n",
       "      <td>0.474011</td>\n",
       "      <td>0.2</td>\n",
       "      <td>0.40</td>\n",
       "      <td>0.70</td>\n",
       "      <td>1.04</td>\n",
       "      <td>5.01</td>\n",
       "    </tr>\n",
       "    <tr>\n",
       "      <th>depth</th>\n",
       "      <td>53940.0</td>\n",
       "      <td>61.749405</td>\n",
       "      <td>1.432621</td>\n",
       "      <td>43.0</td>\n",
       "      <td>61.00</td>\n",
       "      <td>61.80</td>\n",
       "      <td>62.50</td>\n",
       "      <td>79.00</td>\n",
       "    </tr>\n",
       "    <tr>\n",
       "      <th>table</th>\n",
       "      <td>53940.0</td>\n",
       "      <td>57.457184</td>\n",
       "      <td>2.234491</td>\n",
       "      <td>43.0</td>\n",
       "      <td>56.00</td>\n",
       "      <td>57.00</td>\n",
       "      <td>59.00</td>\n",
       "      <td>95.00</td>\n",
       "    </tr>\n",
       "    <tr>\n",
       "      <th>price</th>\n",
       "      <td>53940.0</td>\n",
       "      <td>3932.799722</td>\n",
       "      <td>3989.439738</td>\n",
       "      <td>326.0</td>\n",
       "      <td>950.00</td>\n",
       "      <td>2401.00</td>\n",
       "      <td>5324.25</td>\n",
       "      <td>18823.00</td>\n",
       "    </tr>\n",
       "    <tr>\n",
       "      <th>x</th>\n",
       "      <td>53940.0</td>\n",
       "      <td>5.731157</td>\n",
       "      <td>1.121761</td>\n",
       "      <td>0.0</td>\n",
       "      <td>4.71</td>\n",
       "      <td>5.70</td>\n",
       "      <td>6.54</td>\n",
       "      <td>10.74</td>\n",
       "    </tr>\n",
       "    <tr>\n",
       "      <th>y</th>\n",
       "      <td>53940.0</td>\n",
       "      <td>5.734526</td>\n",
       "      <td>1.142135</td>\n",
       "      <td>0.0</td>\n",
       "      <td>4.72</td>\n",
       "      <td>5.71</td>\n",
       "      <td>6.54</td>\n",
       "      <td>58.90</td>\n",
       "    </tr>\n",
       "    <tr>\n",
       "      <th>z</th>\n",
       "      <td>53940.0</td>\n",
       "      <td>3.538734</td>\n",
       "      <td>0.705699</td>\n",
       "      <td>0.0</td>\n",
       "      <td>2.91</td>\n",
       "      <td>3.53</td>\n",
       "      <td>4.04</td>\n",
       "      <td>31.80</td>\n",
       "    </tr>\n",
       "  </tbody>\n",
       "</table>\n",
       "</div>"
      ],
      "text/plain": [
       "         count         mean          std    min     25%      50%      75%  \\\n",
       "carat  53940.0     0.797940     0.474011    0.2    0.40     0.70     1.04   \n",
       "depth  53940.0    61.749405     1.432621   43.0   61.00    61.80    62.50   \n",
       "table  53940.0    57.457184     2.234491   43.0   56.00    57.00    59.00   \n",
       "price  53940.0  3932.799722  3989.439738  326.0  950.00  2401.00  5324.25   \n",
       "x      53940.0     5.731157     1.121761    0.0    4.71     5.70     6.54   \n",
       "y      53940.0     5.734526     1.142135    0.0    4.72     5.71     6.54   \n",
       "z      53940.0     3.538734     0.705699    0.0    2.91     3.53     4.04   \n",
       "\n",
       "            max  \n",
       "carat      5.01  \n",
       "depth     79.00  \n",
       "table     95.00  \n",
       "price  18823.00  \n",
       "x         10.74  \n",
       "y         58.90  \n",
       "z         31.80  "
      ]
     },
     "execution_count": 49,
     "metadata": {},
     "output_type": "execute_result"
    }
   ],
   "source": [
    "df.describe().T"
   ]
  },
  {
   "cell_type": "code",
   "execution_count": 50,
   "id": "3af611f6",
   "metadata": {
    "execution": {
     "iopub.execute_input": "2023-07-31T15:41:00.320543Z",
     "iopub.status.busy": "2023-07-31T15:41:00.319703Z",
     "iopub.status.idle": "2023-07-31T15:41:00.335653Z",
     "shell.execute_reply": "2023-07-31T15:41:00.334704Z"
    },
    "papermill": {
     "duration": 0.04932,
     "end_time": "2023-07-31T15:41:00.337609",
     "exception": false,
     "start_time": "2023-07-31T15:41:00.288289",
     "status": "completed"
    },
    "tags": []
   },
   "outputs": [
    {
     "data": {
      "text/html": [
       "<div>\n",
       "<style scoped>\n",
       "    .dataframe tbody tr th:only-of-type {\n",
       "        vertical-align: middle;\n",
       "    }\n",
       "\n",
       "    .dataframe tbody tr th {\n",
       "        vertical-align: top;\n",
       "    }\n",
       "\n",
       "    .dataframe thead th {\n",
       "        text-align: right;\n",
       "    }\n",
       "</style>\n",
       "<table border=\"1\" class=\"dataframe\">\n",
       "  <thead>\n",
       "    <tr style=\"text-align: right;\">\n",
       "      <th></th>\n",
       "      <th>carat</th>\n",
       "      <th>cut</th>\n",
       "      <th>color</th>\n",
       "      <th>clarity</th>\n",
       "      <th>depth</th>\n",
       "      <th>table</th>\n",
       "      <th>price</th>\n",
       "      <th>x</th>\n",
       "      <th>y</th>\n",
       "      <th>z</th>\n",
       "    </tr>\n",
       "  </thead>\n",
       "  <tbody>\n",
       "    <tr>\n",
       "      <th>0</th>\n",
       "      <td>0.23</td>\n",
       "      <td>Ideal</td>\n",
       "      <td>E</td>\n",
       "      <td>SI2</td>\n",
       "      <td>61.5</td>\n",
       "      <td>55.0</td>\n",
       "      <td>326</td>\n",
       "      <td>3.95</td>\n",
       "      <td>3.98</td>\n",
       "      <td>2.43</td>\n",
       "    </tr>\n",
       "    <tr>\n",
       "      <th>1</th>\n",
       "      <td>0.21</td>\n",
       "      <td>Premium</td>\n",
       "      <td>E</td>\n",
       "      <td>SI1</td>\n",
       "      <td>59.8</td>\n",
       "      <td>61.0</td>\n",
       "      <td>326</td>\n",
       "      <td>3.89</td>\n",
       "      <td>3.84</td>\n",
       "      <td>2.31</td>\n",
       "    </tr>\n",
       "    <tr>\n",
       "      <th>2</th>\n",
       "      <td>0.23</td>\n",
       "      <td>Good</td>\n",
       "      <td>E</td>\n",
       "      <td>VS1</td>\n",
       "      <td>56.9</td>\n",
       "      <td>65.0</td>\n",
       "      <td>327</td>\n",
       "      <td>4.05</td>\n",
       "      <td>4.07</td>\n",
       "      <td>2.31</td>\n",
       "    </tr>\n",
       "    <tr>\n",
       "      <th>3</th>\n",
       "      <td>0.29</td>\n",
       "      <td>Premium</td>\n",
       "      <td>I</td>\n",
       "      <td>VS2</td>\n",
       "      <td>62.4</td>\n",
       "      <td>58.0</td>\n",
       "      <td>334</td>\n",
       "      <td>4.20</td>\n",
       "      <td>4.23</td>\n",
       "      <td>2.63</td>\n",
       "    </tr>\n",
       "    <tr>\n",
       "      <th>4</th>\n",
       "      <td>0.31</td>\n",
       "      <td>Good</td>\n",
       "      <td>J</td>\n",
       "      <td>SI2</td>\n",
       "      <td>63.3</td>\n",
       "      <td>58.0</td>\n",
       "      <td>335</td>\n",
       "      <td>4.34</td>\n",
       "      <td>4.35</td>\n",
       "      <td>2.75</td>\n",
       "    </tr>\n",
       "  </tbody>\n",
       "</table>\n",
       "</div>"
      ],
      "text/plain": [
       "   carat      cut color clarity  depth  table  price     x     y     z\n",
       "0   0.23    Ideal     E     SI2   61.5   55.0    326  3.95  3.98  2.43\n",
       "1   0.21  Premium     E     SI1   59.8   61.0    326  3.89  3.84  2.31\n",
       "2   0.23     Good     E     VS1   56.9   65.0    327  4.05  4.07  2.31\n",
       "3   0.29  Premium     I     VS2   62.4   58.0    334  4.20  4.23  2.63\n",
       "4   0.31     Good     J     SI2   63.3   58.0    335  4.34  4.35  2.75"
      ]
     },
     "execution_count": 50,
     "metadata": {},
     "output_type": "execute_result"
    }
   ],
   "source": [
    "df.head()"
   ]
  },
  {
   "cell_type": "code",
   "execution_count": 51,
   "id": "fa88ce94",
   "metadata": {
    "execution": {
     "iopub.execute_input": "2023-07-31T15:41:00.400751Z",
     "iopub.status.busy": "2023-07-31T15:41:00.399988Z",
     "iopub.status.idle": "2023-07-31T15:41:00.408072Z",
     "shell.execute_reply": "2023-07-31T15:41:00.407115Z"
    },
    "papermill": {
     "duration": 0.041823,
     "end_time": "2023-07-31T15:41:00.410210",
     "exception": false,
     "start_time": "2023-07-31T15:41:00.368387",
     "status": "completed"
    },
    "tags": []
   },
   "outputs": [
    {
     "data": {
      "text/plain": [
       "Ideal        21551\n",
       "Premium      13791\n",
       "Very Good    12082\n",
       "Good          4906\n",
       "Fair          1610\n",
       "Name: cut, dtype: int64"
      ]
     },
     "execution_count": 51,
     "metadata": {},
     "output_type": "execute_result"
    }
   ],
   "source": [
    "df[\"cut\"].value_counts()"
   ]
  },
  {
   "cell_type": "code",
   "execution_count": 52,
   "id": "051e4743",
   "metadata": {
    "execution": {
     "iopub.execute_input": "2023-07-31T15:41:00.472450Z",
     "iopub.status.busy": "2023-07-31T15:41:00.471702Z",
     "iopub.status.idle": "2023-07-31T15:41:00.479775Z",
     "shell.execute_reply": "2023-07-31T15:41:00.478646Z"
    },
    "papermill": {
     "duration": 0.041179,
     "end_time": "2023-07-31T15:41:00.481745",
     "exception": false,
     "start_time": "2023-07-31T15:41:00.440566",
     "status": "completed"
    },
    "tags": []
   },
   "outputs": [
    {
     "data": {
      "text/plain": [
       "SI1     13065\n",
       "VS2     12258\n",
       "SI2      9194\n",
       "VS1      8171\n",
       "VVS2     5066\n",
       "VVS1     3655\n",
       "IF       1790\n",
       "I1        741\n",
       "Name: clarity, dtype: int64"
      ]
     },
     "execution_count": 52,
     "metadata": {},
     "output_type": "execute_result"
    }
   ],
   "source": [
    "df[\"clarity\"].value_counts()"
   ]
  },
  {
   "cell_type": "code",
   "execution_count": 53,
   "id": "adbe069c",
   "metadata": {
    "execution": {
     "iopub.execute_input": "2023-07-31T15:41:00.545515Z",
     "iopub.status.busy": "2023-07-31T15:41:00.544937Z",
     "iopub.status.idle": "2023-07-31T15:41:00.549490Z",
     "shell.execute_reply": "2023-07-31T15:41:00.548356Z"
    },
    "papermill": {
     "duration": 0.038031,
     "end_time": "2023-07-31T15:41:00.551318",
     "exception": false,
     "start_time": "2023-07-31T15:41:00.513287",
     "status": "completed"
    },
    "tags": []
   },
   "outputs": [],
   "source": [
    "# ordinal\n",
    "\n",
    "from pandas.api.types import CategoricalDtype"
   ]
  },
  {
   "cell_type": "code",
   "execution_count": 54,
   "id": "ca624abd",
   "metadata": {
    "execution": {
     "iopub.execute_input": "2023-07-31T15:41:00.614083Z",
     "iopub.status.busy": "2023-07-31T15:41:00.613786Z",
     "iopub.status.idle": "2023-07-31T15:41:00.620830Z",
     "shell.execute_reply": "2023-07-31T15:41:00.619979Z"
    },
    "papermill": {
     "duration": 0.040816,
     "end_time": "2023-07-31T15:41:00.622772",
     "exception": false,
     "start_time": "2023-07-31T15:41:00.581956",
     "status": "completed"
    },
    "tags": []
   },
   "outputs": [
    {
     "data": {
      "text/plain": [
       "0      Ideal\n",
       "1    Premium\n",
       "2       Good\n",
       "3    Premium\n",
       "4       Good\n",
       "Name: cut, dtype: category\n",
       "Categories (5, object): ['Ideal', 'Premium', 'Very Good', 'Good', 'Fair']"
      ]
     },
     "execution_count": 54,
     "metadata": {},
     "output_type": "execute_result"
    }
   ],
   "source": [
    "df.cut.head()"
   ]
  },
  {
   "cell_type": "code",
   "execution_count": 55,
   "id": "fc1b1493",
   "metadata": {
    "execution": {
     "iopub.execute_input": "2023-07-31T15:41:00.691446Z",
     "iopub.status.busy": "2023-07-31T15:41:00.690321Z",
     "iopub.status.idle": "2023-07-31T15:41:00.696377Z",
     "shell.execute_reply": "2023-07-31T15:41:00.695405Z"
    },
    "papermill": {
     "duration": 0.043615,
     "end_time": "2023-07-31T15:41:00.698592",
     "exception": false,
     "start_time": "2023-07-31T15:41:00.654977",
     "status": "completed"
    },
    "tags": []
   },
   "outputs": [],
   "source": [
    "df.cut = df.cut.astype(CategoricalDtype(ordered = True))"
   ]
  },
  {
   "cell_type": "code",
   "execution_count": 56,
   "id": "5ed0ce4b",
   "metadata": {
    "execution": {
     "iopub.execute_input": "2023-07-31T15:41:00.771826Z",
     "iopub.status.busy": "2023-07-31T15:41:00.770952Z",
     "iopub.status.idle": "2023-07-31T15:41:00.778487Z",
     "shell.execute_reply": "2023-07-31T15:41:00.777499Z"
    },
    "papermill": {
     "duration": 0.046516,
     "end_time": "2023-07-31T15:41:00.780724",
     "exception": false,
     "start_time": "2023-07-31T15:41:00.734208",
     "status": "completed"
    },
    "tags": []
   },
   "outputs": [
    {
     "data": {
      "text/plain": [
       "carat       float64\n",
       "cut        category\n",
       "color      category\n",
       "clarity    category\n",
       "depth       float64\n",
       "table       float64\n",
       "price         int64\n",
       "x           float64\n",
       "y           float64\n",
       "z           float64\n",
       "dtype: object"
      ]
     },
     "execution_count": 56,
     "metadata": {},
     "output_type": "execute_result"
    }
   ],
   "source": [
    "df.dtypes"
   ]
  },
  {
   "cell_type": "code",
   "execution_count": 57,
   "id": "7603428e",
   "metadata": {
    "execution": {
     "iopub.execute_input": "2023-07-31T15:41:00.852108Z",
     "iopub.status.busy": "2023-07-31T15:41:00.851330Z",
     "iopub.status.idle": "2023-07-31T15:41:00.858739Z",
     "shell.execute_reply": "2023-07-31T15:41:00.857750Z"
    },
    "papermill": {
     "duration": 0.044152,
     "end_time": "2023-07-31T15:41:00.860904",
     "exception": false,
     "start_time": "2023-07-31T15:41:00.816752",
     "status": "completed"
    },
    "tags": []
   },
   "outputs": [
    {
     "data": {
      "text/plain": [
       "0    Ideal\n",
       "Name: cut, dtype: category\n",
       "Categories (5, object): ['Ideal' < 'Premium' < 'Very Good' < 'Good' < 'Fair']"
      ]
     },
     "execution_count": 57,
     "metadata": {},
     "output_type": "execute_result"
    }
   ],
   "source": [
    "df.cut.head(1)"
   ]
  },
  {
   "cell_type": "code",
   "execution_count": 58,
   "id": "8db02d45",
   "metadata": {
    "execution": {
     "iopub.execute_input": "2023-07-31T15:41:00.932525Z",
     "iopub.status.busy": "2023-07-31T15:41:00.932253Z",
     "iopub.status.idle": "2023-07-31T15:41:00.939726Z",
     "shell.execute_reply": "2023-07-31T15:41:00.938722Z"
    },
    "papermill": {
     "duration": 0.049657,
     "end_time": "2023-07-31T15:41:00.941795",
     "exception": false,
     "start_time": "2023-07-31T15:41:00.892138",
     "status": "completed"
    },
    "tags": []
   },
   "outputs": [
    {
     "data": {
      "text/plain": [
       "0    E\n",
       "Name: color, dtype: category\n",
       "Categories (7, object): ['D', 'E', 'F', 'G', 'H', 'I', 'J']"
      ]
     },
     "execution_count": 58,
     "metadata": {},
     "output_type": "execute_result"
    }
   ],
   "source": [
    "df.color.head(1)"
   ]
  },
  {
   "cell_type": "code",
   "execution_count": 59,
   "id": "42b33b57",
   "metadata": {
    "execution": {
     "iopub.execute_input": "2023-07-31T15:41:01.006946Z",
     "iopub.status.busy": "2023-07-31T15:41:01.005970Z",
     "iopub.status.idle": "2023-07-31T15:41:01.011086Z",
     "shell.execute_reply": "2023-07-31T15:41:01.010213Z"
    },
    "papermill": {
     "duration": 0.043704,
     "end_time": "2023-07-31T15:41:01.016986",
     "exception": false,
     "start_time": "2023-07-31T15:41:00.973282",
     "status": "completed"
    },
    "tags": []
   },
   "outputs": [],
   "source": [
    "cut_category = [\"Fair\", \"Good\", \"Very Good\", \"Premium\", \"Ideal\"]"
   ]
  },
  {
   "cell_type": "code",
   "execution_count": 60,
   "id": "7ec2777f",
   "metadata": {
    "execution": {
     "iopub.execute_input": "2023-07-31T15:41:01.082228Z",
     "iopub.status.busy": "2023-07-31T15:41:01.081437Z",
     "iopub.status.idle": "2023-07-31T15:41:01.087850Z",
     "shell.execute_reply": "2023-07-31T15:41:01.086767Z"
    },
    "papermill": {
     "duration": 0.041197,
     "end_time": "2023-07-31T15:41:01.090041",
     "exception": false,
     "start_time": "2023-07-31T15:41:01.048844",
     "status": "completed"
    },
    "tags": []
   },
   "outputs": [],
   "source": [
    "df.cut = df.cut.astype(CategoricalDtype(ordered = True, categories = cut_category))"
   ]
  },
  {
   "cell_type": "code",
   "execution_count": 61,
   "id": "7c999978",
   "metadata": {
    "execution": {
     "iopub.execute_input": "2023-07-31T15:41:01.195891Z",
     "iopub.status.busy": "2023-07-31T15:41:01.195388Z",
     "iopub.status.idle": "2023-07-31T15:41:01.204377Z",
     "shell.execute_reply": "2023-07-31T15:41:01.203510Z"
    },
    "papermill": {
     "duration": 0.069476,
     "end_time": "2023-07-31T15:41:01.206356",
     "exception": false,
     "start_time": "2023-07-31T15:41:01.136880",
     "status": "completed"
    },
    "tags": []
   },
   "outputs": [
    {
     "data": {
      "text/plain": [
       "0      Ideal\n",
       "1    Premium\n",
       "2       Good\n",
       "3    Premium\n",
       "4       Good\n",
       "Name: cut, dtype: category\n",
       "Categories (5, object): ['Fair' < 'Good' < 'Very Good' < 'Premium' < 'Ideal']"
      ]
     },
     "execution_count": 61,
     "metadata": {},
     "output_type": "execute_result"
    }
   ],
   "source": [
    "df.cut.head()"
   ]
  },
  {
   "cell_type": "code",
   "execution_count": 62,
   "id": "a45b4cb0",
   "metadata": {
    "execution": {
     "iopub.execute_input": "2023-07-31T15:41:01.271342Z",
     "iopub.status.busy": "2023-07-31T15:41:01.270604Z",
     "iopub.status.idle": "2023-07-31T15:41:01.274912Z",
     "shell.execute_reply": "2023-07-31T15:41:01.274099Z"
    },
    "papermill": {
     "duration": 0.038898,
     "end_time": "2023-07-31T15:41:01.276812",
     "exception": false,
     "start_time": "2023-07-31T15:41:01.237914",
     "status": "completed"
    },
    "tags": []
   },
   "outputs": [],
   "source": [
    "# barplot"
   ]
  },
  {
   "cell_type": "code",
   "execution_count": 63,
   "id": "e3f2f872",
   "metadata": {
    "execution": {
     "iopub.execute_input": "2023-07-31T15:41:01.340979Z",
     "iopub.status.busy": "2023-07-31T15:41:01.340138Z",
     "iopub.status.idle": "2023-07-31T15:41:01.588976Z",
     "shell.execute_reply": "2023-07-31T15:41:01.587976Z"
    },
    "papermill": {
     "duration": 0.2835,
     "end_time": "2023-07-31T15:41:01.591280",
     "exception": false,
     "start_time": "2023-07-31T15:41:01.307780",
     "status": "completed"
    },
    "tags": []
   },
   "outputs": [
    {
     "data": {
      "image/png": "[encoded data removed]",
      "text/plain": [
       "<Figure size 640x480 with 1 Axes>"
      ]
     },
     "metadata": {},
     "output_type": "display_data"
    }
   ],
   "source": [
    "(df[\"cut\"]\n",
    " .value_counts()\n",
    " .plot.barh()\n",
    " .set_title(\"Class frequencies of 'cut' variable \"));  # freq"
   ]
  },
  {
   "cell_type": "code",
   "execution_count": 64,
   "id": "55c9eaa9",
   "metadata": {
    "execution": {
     "iopub.execute_input": "2023-07-31T15:41:01.657039Z",
     "iopub.status.busy": "2023-07-31T15:41:01.656243Z",
     "iopub.status.idle": "2023-07-31T15:41:02.576908Z",
     "shell.execute_reply": "2023-07-31T15:41:02.575998Z"
    },
    "papermill": {
     "duration": 0.955518,
     "end_time": "2023-07-31T15:41:02.579215",
     "exception": false,
     "start_time": "2023-07-31T15:41:01.623697",
     "status": "completed"
    },
    "tags": []
   },
   "outputs": [
    {
     "data": {
      "text/plain": [
       "<Axes: xlabel='cut'>"
      ]
     },
     "execution_count": 64,
     "metadata": {},
     "output_type": "execute_result"
    },
    {
     "data": {
      "image/png": "[encoded data removed]",
      "text/plain": [
       "<Figure size 640x480 with 1 Axes>"
      ]
     },
     "metadata": {},
     "output_type": "display_data"
    }
   ],
   "source": [
    "sns.barplot(x = \"cut\", y = df.cut.index, data = df)"
   ]
  },
  {
   "cell_type": "code",
   "execution_count": 65,
   "id": "abf74728",
   "metadata": {
    "execution": {
     "iopub.execute_input": "2023-07-31T15:41:02.645738Z",
     "iopub.status.busy": "2023-07-31T15:41:02.644946Z",
     "iopub.status.idle": "2023-07-31T15:41:03.208858Z",
     "shell.execute_reply": "2023-07-31T15:41:03.207963Z"
    },
    "papermill": {
     "duration": 0.599066,
     "end_time": "2023-07-31T15:41:03.211031",
     "exception": false,
     "start_time": "2023-07-31T15:41:02.611965",
     "status": "completed"
    },
    "tags": []
   },
   "outputs": [
    {
     "name": "stderr",
     "output_type": "stream",
     "text": [
      "/opt/conda/lib/python3.10/site-packages/seaborn/axisgrid.py:118: UserWarning: The figure layout has changed to tight\n",
      "  self._figure.tight_layout(*args, **kwargs)\n"
     ]
    },
    {
     "data": {
      "image/png": "[encoded data removed]",
      "text/plain": [
       "<Figure size 500x500 with 1 Axes>"
      ]
     },
     "metadata": {},
     "output_type": "display_data"
    }
   ],
   "source": [
    "sns.catplot(x = \"cut\", y = \"price\", data = df);"
   ]
  },
  {
   "cell_type": "code",
   "execution_count": 66,
   "id": "441b58bc",
   "metadata": {
    "execution": {
     "iopub.execute_input": "2023-07-31T15:41:03.279045Z",
     "iopub.status.busy": "2023-07-31T15:41:03.278233Z",
     "iopub.status.idle": "2023-07-31T15:41:03.284974Z",
     "shell.execute_reply": "2023-07-31T15:41:03.283993Z"
    },
    "papermill": {
     "duration": 0.04234,
     "end_time": "2023-07-31T15:41:03.286923",
     "exception": false,
     "start_time": "2023-07-31T15:41:03.244583",
     "status": "completed"
    },
    "tags": []
   },
   "outputs": [
    {
     "data": {
      "text/plain": [
       "Index(['carat', 'cut', 'color', 'clarity', 'depth', 'table', 'price', 'x', 'y',\n",
       "       'z'],\n",
       "      dtype='object')"
      ]
     },
     "execution_count": 66,
     "metadata": {},
     "output_type": "execute_result"
    }
   ],
   "source": [
    "df.columns"
   ]
  },
  {
   "cell_type": "code",
   "execution_count": 67,
   "id": "e5f8344e",
   "metadata": {
    "execution": {
     "iopub.execute_input": "2023-07-31T15:41:03.353927Z",
     "iopub.status.busy": "2023-07-31T15:41:03.353190Z",
     "iopub.status.idle": "2023-07-31T15:41:03.897806Z",
     "shell.execute_reply": "2023-07-31T15:41:03.896937Z"
    },
    "papermill": {
     "duration": 0.58042,
     "end_time": "2023-07-31T15:41:03.900129",
     "exception": false,
     "start_time": "2023-07-31T15:41:03.319709",
     "status": "completed"
    },
    "tags": []
   },
   "outputs": [
    {
     "name": "stderr",
     "output_type": "stream",
     "text": [
      "/opt/conda/lib/python3.10/site-packages/seaborn/axisgrid.py:118: UserWarning: The figure layout has changed to tight\n",
      "  self._figure.tight_layout(*args, **kwargs)\n"
     ]
    },
    {
     "data": {
      "image/png": "[encoded data removed]",
      "text/plain": [
       "<Figure size 500x500 with 1 Axes>"
      ]
     },
     "metadata": {},
     "output_type": "display_data"
    }
   ],
   "source": [
    "sns.catplot(x = \"cut\", y = \"price\", data = df);"
   ]
  },
  {
   "cell_type": "code",
   "execution_count": 68,
   "id": "bac863c5",
   "metadata": {
    "execution": {
     "iopub.execute_input": "2023-07-31T15:41:03.968396Z",
     "iopub.status.busy": "2023-07-31T15:41:03.968081Z",
     "iopub.status.idle": "2023-07-31T15:41:06.124937Z",
     "shell.execute_reply": "2023-07-31T15:41:06.123950Z"
    },
    "papermill": {
     "duration": 2.193192,
     "end_time": "2023-07-31T15:41:06.126942",
     "exception": false,
     "start_time": "2023-07-31T15:41:03.933750",
     "status": "completed"
    },
    "tags": []
   },
   "outputs": [
    {
     "data": {
      "text/plain": [
       "<Axes: xlabel='cut', ylabel='price'>"
      ]
     },
     "execution_count": 68,
     "metadata": {},
     "output_type": "execute_result"
    },
    {
     "data": {
      "image/png": "[encoded data removed]",
      "text/plain": [
       "<Figure size 640x480 with 1 Axes>"
      ]
     },
     "metadata": {},
     "output_type": "display_data"
    }
   ],
   "source": [
    "sns.barplot(x = \"cut\", y = \"price\", hue = \"color\", data = df)"
   ]
  },
  {
   "cell_type": "code",
   "execution_count": 69,
   "id": "039854f3",
   "metadata": {
    "execution": {
     "iopub.execute_input": "2023-07-31T15:41:06.198398Z",
     "iopub.status.busy": "2023-07-31T15:41:06.197727Z",
     "iopub.status.idle": "2023-07-31T15:41:06.214331Z",
     "shell.execute_reply": "2023-07-31T15:41:06.213302Z"
    },
    "papermill": {
     "duration": 0.053338,
     "end_time": "2023-07-31T15:41:06.216339",
     "exception": false,
     "start_time": "2023-07-31T15:41:06.163001",
     "status": "completed"
    },
    "tags": []
   },
   "outputs": [
    {
     "data": {
      "text/plain": [
       "cut        color\n",
       "Fair       D        4291.061350\n",
       "           E        3682.312500\n",
       "           F        3827.003205\n",
       "           G        4239.254777\n",
       "           H        5135.683168\n",
       "           I        4685.445714\n",
       "           J        4975.655462\n",
       "Good       D        3405.382175\n",
       "           E        3423.644159\n",
       "           F        3495.750275\n",
       "           G        4123.482204\n",
       "           H        4276.254986\n",
       "           I        5078.532567\n",
       "           J        4574.172638\n",
       "Very Good  D        3470.467284\n",
       "           E        3214.652083\n",
       "           F        3778.820240\n",
       "           G        3872.753806\n",
       "           H        4535.390351\n",
       "           I        5255.879568\n",
       "           J        5103.513274\n",
       "Premium    D        3631.292576\n",
       "           E        3538.914420\n",
       "           F        4324.890176\n",
       "           G        4500.742134\n",
       "           H        5216.706780\n",
       "           I        5946.180672\n",
       "           J        6294.591584\n",
       "Ideal      D        2629.094566\n",
       "           E        2597.550090\n",
       "           F        3374.939362\n",
       "           G        3720.706388\n",
       "           H        3889.334831\n",
       "           I        4451.970377\n",
       "           J        4918.186384\n",
       "Name: price, dtype: float64"
      ]
     },
     "execution_count": 69,
     "metadata": {},
     "output_type": "execute_result"
    }
   ],
   "source": [
    "df.groupby([\"cut\", \"color\"])[\"price\"].mean()"
   ]
  },
  {
   "cell_type": "code",
   "execution_count": 70,
   "id": "edebe991",
   "metadata": {
    "execution": {
     "iopub.execute_input": "2023-07-31T15:41:06.288022Z",
     "iopub.status.busy": "2023-07-31T15:41:06.286394Z",
     "iopub.status.idle": "2023-07-31T15:41:06.291304Z",
     "shell.execute_reply": "2023-07-31T15:41:06.290421Z"
    },
    "papermill": {
     "duration": 0.041962,
     "end_time": "2023-07-31T15:41:06.293248",
     "exception": false,
     "start_time": "2023-07-31T15:41:06.251286",
     "status": "completed"
    },
    "tags": []
   },
   "outputs": [],
   "source": [
    "# histogram"
   ]
  },
  {
   "cell_type": "code",
   "execution_count": 71,
   "id": "7d2b6cc3",
   "metadata": {
    "execution": {
     "iopub.execute_input": "2023-07-31T15:41:06.363493Z",
     "iopub.status.busy": "2023-07-31T15:41:06.362718Z",
     "iopub.status.idle": "2023-07-31T15:41:06.379924Z",
     "shell.execute_reply": "2023-07-31T15:41:06.378781Z"
    },
    "papermill": {
     "duration": 0.054957,
     "end_time": "2023-07-31T15:41:06.381988",
     "exception": false,
     "start_time": "2023-07-31T15:41:06.327031",
     "status": "completed"
    },
    "tags": []
   },
   "outputs": [
    {
     "data": {
      "text/html": [
       "<div>\n",
       "<style scoped>\n",
       "    .dataframe tbody tr th:only-of-type {\n",
       "        vertical-align: middle;\n",
       "    }\n",
       "\n",
       "    .dataframe tbody tr th {\n",
       "        vertical-align: top;\n",
       "    }\n",
       "\n",
       "    .dataframe thead th {\n",
       "        text-align: right;\n",
       "    }\n",
       "</style>\n",
       "<table border=\"1\" class=\"dataframe\">\n",
       "  <thead>\n",
       "    <tr style=\"text-align: right;\">\n",
       "      <th></th>\n",
       "      <th>carat</th>\n",
       "      <th>cut</th>\n",
       "      <th>color</th>\n",
       "      <th>clarity</th>\n",
       "      <th>depth</th>\n",
       "      <th>table</th>\n",
       "      <th>price</th>\n",
       "      <th>x</th>\n",
       "      <th>y</th>\n",
       "      <th>z</th>\n",
       "    </tr>\n",
       "  </thead>\n",
       "  <tbody>\n",
       "    <tr>\n",
       "      <th>0</th>\n",
       "      <td>0.23</td>\n",
       "      <td>Ideal</td>\n",
       "      <td>E</td>\n",
       "      <td>SI2</td>\n",
       "      <td>61.5</td>\n",
       "      <td>55.0</td>\n",
       "      <td>326</td>\n",
       "      <td>3.95</td>\n",
       "      <td>3.98</td>\n",
       "      <td>2.43</td>\n",
       "    </tr>\n",
       "    <tr>\n",
       "      <th>1</th>\n",
       "      <td>0.21</td>\n",
       "      <td>Premium</td>\n",
       "      <td>E</td>\n",
       "      <td>SI1</td>\n",
       "      <td>59.8</td>\n",
       "      <td>61.0</td>\n",
       "      <td>326</td>\n",
       "      <td>3.89</td>\n",
       "      <td>3.84</td>\n",
       "      <td>2.31</td>\n",
       "    </tr>\n",
       "    <tr>\n",
       "      <th>2</th>\n",
       "      <td>0.23</td>\n",
       "      <td>Good</td>\n",
       "      <td>E</td>\n",
       "      <td>VS1</td>\n",
       "      <td>56.9</td>\n",
       "      <td>65.0</td>\n",
       "      <td>327</td>\n",
       "      <td>4.05</td>\n",
       "      <td>4.07</td>\n",
       "      <td>2.31</td>\n",
       "    </tr>\n",
       "    <tr>\n",
       "      <th>3</th>\n",
       "      <td>0.29</td>\n",
       "      <td>Premium</td>\n",
       "      <td>I</td>\n",
       "      <td>VS2</td>\n",
       "      <td>62.4</td>\n",
       "      <td>58.0</td>\n",
       "      <td>334</td>\n",
       "      <td>4.20</td>\n",
       "      <td>4.23</td>\n",
       "      <td>2.63</td>\n",
       "    </tr>\n",
       "    <tr>\n",
       "      <th>4</th>\n",
       "      <td>0.31</td>\n",
       "      <td>Good</td>\n",
       "      <td>J</td>\n",
       "      <td>SI2</td>\n",
       "      <td>63.3</td>\n",
       "      <td>58.0</td>\n",
       "      <td>335</td>\n",
       "      <td>4.34</td>\n",
       "      <td>4.35</td>\n",
       "      <td>2.75</td>\n",
       "    </tr>\n",
       "  </tbody>\n",
       "</table>\n",
       "</div>"
      ],
      "text/plain": [
       "   carat      cut color clarity  depth  table  price     x     y     z\n",
       "0   0.23    Ideal     E     SI2   61.5   55.0    326  3.95  3.98  2.43\n",
       "1   0.21  Premium     E     SI1   59.8   61.0    326  3.89  3.84  2.31\n",
       "2   0.23     Good     E     VS1   56.9   65.0    327  4.05  4.07  2.31\n",
       "3   0.29  Premium     I     VS2   62.4   58.0    334  4.20  4.23  2.63\n",
       "4   0.31     Good     J     SI2   63.3   58.0    335  4.34  4.35  2.75"
      ]
     },
     "execution_count": 71,
     "metadata": {},
     "output_type": "execute_result"
    }
   ],
   "source": [
    "df.head()"
   ]
  },
  {
   "cell_type": "code",
   "execution_count": 72,
   "id": "0f68f8e6",
   "metadata": {
    "execution": {
     "iopub.execute_input": "2023-07-31T15:41:06.452353Z",
     "iopub.status.busy": "2023-07-31T15:41:06.451520Z",
     "iopub.status.idle": "2023-07-31T15:41:07.163990Z",
     "shell.execute_reply": "2023-07-31T15:41:07.163096Z"
    },
    "papermill": {
     "duration": 0.74961,
     "end_time": "2023-07-31T15:41:07.165982",
     "exception": false,
     "start_time": "2023-07-31T15:41:06.416372",
     "status": "completed"
    },
    "tags": []
   },
   "outputs": [
    {
     "data": {
      "text/plain": [
       "<Axes: xlabel='price', ylabel='Count'>"
      ]
     },
     "execution_count": 72,
     "metadata": {},
     "output_type": "execute_result"
    },
    {
     "data": {
      "image/png": "[encoded data removed]",
      "text/plain": [
       "<Figure size 640x480 with 1 Axes>"
      ]
     },
     "metadata": {},
     "output_type": "display_data"
    }
   ],
   "source": [
    "sns.histplot(df.price, kde = True)"
   ]
  },
  {
   "cell_type": "code",
   "execution_count": 73,
   "id": "85e7ecd3",
   "metadata": {
    "execution": {
     "iopub.execute_input": "2023-07-31T15:41:07.238515Z",
     "iopub.status.busy": "2023-07-31T15:41:07.237643Z",
     "iopub.status.idle": "2023-07-31T15:41:07.309483Z",
     "shell.execute_reply": "2023-07-31T15:41:07.308422Z"
    },
    "papermill": {
     "duration": 0.11027,
     "end_time": "2023-07-31T15:41:07.311827",
     "exception": false,
     "start_time": "2023-07-31T15:41:07.201557",
     "status": "completed"
    },
    "tags": []
   },
   "outputs": [],
   "source": [
    "?sns.histplot"
   ]
  },
  {
   "cell_type": "code",
   "execution_count": 74,
   "id": "0b715c2c",
   "metadata": {
    "execution": {
     "iopub.execute_input": "2023-07-31T15:41:07.382916Z",
     "iopub.status.busy": "2023-07-31T15:41:07.382146Z",
     "iopub.status.idle": "2023-07-31T15:41:09.630066Z",
     "shell.execute_reply": "2023-07-31T15:41:09.627827Z"
    },
    "papermill": {
     "duration": 2.286237,
     "end_time": "2023-07-31T15:41:09.632667",
     "exception": false,
     "start_time": "2023-07-31T15:41:07.346430",
     "status": "completed"
    },
    "tags": []
   },
   "outputs": [
    {
     "data": {
      "text/plain": [
       "<Axes: xlabel='price', ylabel='Count'>"
      ]
     },
     "execution_count": 74,
     "metadata": {},
     "output_type": "execute_result"
    },
    {
     "data": {
      "image/png": "[encoded data removed]",
      "text/plain": [
       "<Figure size 640x480 with 1 Axes>"
      ]
     },
     "metadata": {},
     "output_type": "display_data"
    }
   ],
   "source": [
    "sns.histplot(df.price, bins = 1000, kde = True)"
   ]
  },
  {
   "cell_type": "code",
   "execution_count": 75,
   "id": "ea63c30b",
   "metadata": {
    "execution": {
     "iopub.execute_input": "2023-07-31T15:41:09.707099Z",
     "iopub.status.busy": "2023-07-31T15:41:09.706767Z",
     "iopub.status.idle": "2023-07-31T15:41:10.303505Z",
     "shell.execute_reply": "2023-07-31T15:41:10.302584Z"
    },
    "papermill": {
     "duration": 0.635077,
     "end_time": "2023-07-31T15:41:10.305551",
     "exception": false,
     "start_time": "2023-07-31T15:41:09.670474",
     "status": "completed"
    },
    "tags": []
   },
   "outputs": [
    {
     "data": {
      "text/plain": [
       "<Axes: xlabel='price', ylabel='Count'>"
      ]
     },
     "execution_count": 75,
     "metadata": {},
     "output_type": "execute_result"
    },
    {
     "data": {
      "image/png": "[encoded data removed]",
      "text/plain": [
       "<Figure size 640x480 with 1 Axes>"
      ]
     },
     "metadata": {},
     "output_type": "display_data"
    }
   ],
   "source": [
    "sns.histplot(df.price, bins = 10, kde = True)"
   ]
  },
  {
   "cell_type": "code",
   "execution_count": 76,
   "id": "dd7caf7e",
   "metadata": {
    "execution": {
     "iopub.execute_input": "2023-07-31T15:41:10.382025Z",
     "iopub.status.busy": "2023-07-31T15:41:10.380310Z",
     "iopub.status.idle": "2023-07-31T15:41:10.392857Z",
     "shell.execute_reply": "2023-07-31T15:41:10.391819Z"
    },
    "papermill": {
     "duration": 0.053029,
     "end_time": "2023-07-31T15:41:10.395001",
     "exception": false,
     "start_time": "2023-07-31T15:41:10.341972",
     "status": "completed"
    },
    "tags": []
   },
   "outputs": [
    {
     "data": {
      "text/plain": [
       "count    53940.000000\n",
       "mean      3932.799722\n",
       "std       3989.439738\n",
       "min        326.000000\n",
       "25%        950.000000\n",
       "50%       2401.000000\n",
       "75%       5324.250000\n",
       "max      18823.000000\n",
       "Name: price, dtype: float64"
      ]
     },
     "execution_count": 76,
     "metadata": {},
     "output_type": "execute_result"
    }
   ],
   "source": [
    "df[\"price\"].describe()"
   ]
  },
  {
   "cell_type": "code",
   "execution_count": 77,
   "id": "0819b7a6",
   "metadata": {
    "execution": {
     "iopub.execute_input": "2023-07-31T15:41:10.472198Z",
     "iopub.status.busy": "2023-07-31T15:41:10.471346Z",
     "iopub.status.idle": "2023-07-31T15:41:10.930113Z",
     "shell.execute_reply": "2023-07-31T15:41:10.928967Z"
    },
    "papermill": {
     "duration": 0.498064,
     "end_time": "2023-07-31T15:41:10.932421",
     "exception": false,
     "start_time": "2023-07-31T15:41:10.434357",
     "status": "completed"
    },
    "tags": []
   },
   "outputs": [
    {
     "data": {
      "text/plain": [
       "<Axes: xlabel='price', ylabel='Count'>"
      ]
     },
     "execution_count": 77,
     "metadata": {},
     "output_type": "execute_result"
    },
    {
     "data": {
      "image/png": "[encoded data removed]",
      "text/plain": [
       "<Figure size 640x480 with 1 Axes>"
      ]
     },
     "metadata": {},
     "output_type": "display_data"
    }
   ],
   "source": [
    "sns.histplot(df.price)"
   ]
  },
  {
   "cell_type": "code",
   "execution_count": 78,
   "id": "f445025f",
   "metadata": {
    "execution": {
     "iopub.execute_input": "2023-07-31T15:41:11.010687Z",
     "iopub.status.busy": "2023-07-31T15:41:11.009558Z",
     "iopub.status.idle": "2023-07-31T15:41:11.644667Z",
     "shell.execute_reply": "2023-07-31T15:41:11.643746Z"
    },
    "papermill": {
     "duration": 0.675835,
     "end_time": "2023-07-31T15:41:11.646737",
     "exception": false,
     "start_time": "2023-07-31T15:41:10.970902",
     "status": "completed"
    },
    "tags": []
   },
   "outputs": [
    {
     "data": {
      "text/plain": [
       "[Text(0.5, 1.0, 'title')]"
      ]
     },
     "execution_count": 78,
     "metadata": {},
     "output_type": "execute_result"
    },
    {
     "data": {
      "image/png": "[encoded data removed]",
      "text/plain": [
       "<Figure size 640x480 with 1 Axes>"
      ]
     },
     "metadata": {},
     "output_type": "display_data"
    }
   ],
   "source": [
    "sns.kdeplot(df.price, fill = True).set(title = \"title\")"
   ]
  },
  {
   "cell_type": "code",
   "execution_count": 79,
   "id": "46098be1",
   "metadata": {
    "execution": {
     "iopub.execute_input": "2023-07-31T15:41:11.725862Z",
     "iopub.status.busy": "2023-07-31T15:41:11.725532Z",
     "iopub.status.idle": "2023-07-31T15:41:12.739519Z",
     "shell.execute_reply": "2023-07-31T15:41:12.738620Z"
    },
    "papermill": {
     "duration": 1.056535,
     "end_time": "2023-07-31T15:41:12.742123",
     "exception": false,
     "start_time": "2023-07-31T15:41:11.685588",
     "status": "completed"
    },
    "tags": []
   },
   "outputs": [
    {
     "name": "stderr",
     "output_type": "stream",
     "text": [
      "/opt/conda/lib/python3.10/site-packages/seaborn/axisgrid.py:118: UserWarning: The figure layout has changed to tight\n",
      "  self._figure.tight_layout(*args, **kwargs)\n"
     ]
    },
    {
     "data": {
      "image/png": "[encoded data removed]",
      "text/plain": [
       "<Figure size 621.875x500 with 1 Axes>"
      ]
     },
     "metadata": {},
     "output_type": "display_data"
    }
   ],
   "source": [
    "(sns\n",
    ".FacetGrid(df,\n",
    "           hue = \"cut\",\n",
    "           height = 5,\n",
    "           xlim = (0, 10000) )        \n",
    " .map(sns.kdeplot, \"price\", fill = True)\n",
    " .add_legend()\n",
    ");"
   ]
  },
  {
   "cell_type": "code",
   "execution_count": 80,
   "id": "8fda9040",
   "metadata": {
    "execution": {
     "iopub.execute_input": "2023-07-31T15:41:12.820591Z",
     "iopub.status.busy": "2023-07-31T15:41:12.820241Z",
     "iopub.status.idle": "2023-07-31T15:41:12.837544Z",
     "shell.execute_reply": "2023-07-31T15:41:12.836534Z"
    },
    "papermill": {
     "duration": 0.059878,
     "end_time": "2023-07-31T15:41:12.840923",
     "exception": false,
     "start_time": "2023-07-31T15:41:12.781045",
     "status": "completed"
    },
    "tags": []
   },
   "outputs": [
    {
     "data": {
      "text/html": [
       "<div>\n",
       "<style scoped>\n",
       "    .dataframe tbody tr th:only-of-type {\n",
       "        vertical-align: middle;\n",
       "    }\n",
       "\n",
       "    .dataframe tbody tr th {\n",
       "        vertical-align: top;\n",
       "    }\n",
       "\n",
       "    .dataframe thead th {\n",
       "        text-align: right;\n",
       "    }\n",
       "</style>\n",
       "<table border=\"1\" class=\"dataframe\">\n",
       "  <thead>\n",
       "    <tr style=\"text-align: right;\">\n",
       "      <th></th>\n",
       "      <th>carat</th>\n",
       "      <th>cut</th>\n",
       "      <th>color</th>\n",
       "      <th>clarity</th>\n",
       "      <th>depth</th>\n",
       "      <th>table</th>\n",
       "      <th>price</th>\n",
       "      <th>x</th>\n",
       "      <th>y</th>\n",
       "      <th>z</th>\n",
       "    </tr>\n",
       "  </thead>\n",
       "  <tbody>\n",
       "    <tr>\n",
       "      <th>0</th>\n",
       "      <td>0.23</td>\n",
       "      <td>Ideal</td>\n",
       "      <td>E</td>\n",
       "      <td>SI2</td>\n",
       "      <td>61.5</td>\n",
       "      <td>55.0</td>\n",
       "      <td>326</td>\n",
       "      <td>3.95</td>\n",
       "      <td>3.98</td>\n",
       "      <td>2.43</td>\n",
       "    </tr>\n",
       "    <tr>\n",
       "      <th>1</th>\n",
       "      <td>0.21</td>\n",
       "      <td>Premium</td>\n",
       "      <td>E</td>\n",
       "      <td>SI1</td>\n",
       "      <td>59.8</td>\n",
       "      <td>61.0</td>\n",
       "      <td>326</td>\n",
       "      <td>3.89</td>\n",
       "      <td>3.84</td>\n",
       "      <td>2.31</td>\n",
       "    </tr>\n",
       "    <tr>\n",
       "      <th>2</th>\n",
       "      <td>0.23</td>\n",
       "      <td>Good</td>\n",
       "      <td>E</td>\n",
       "      <td>VS1</td>\n",
       "      <td>56.9</td>\n",
       "      <td>65.0</td>\n",
       "      <td>327</td>\n",
       "      <td>4.05</td>\n",
       "      <td>4.07</td>\n",
       "      <td>2.31</td>\n",
       "    </tr>\n",
       "    <tr>\n",
       "      <th>3</th>\n",
       "      <td>0.29</td>\n",
       "      <td>Premium</td>\n",
       "      <td>I</td>\n",
       "      <td>VS2</td>\n",
       "      <td>62.4</td>\n",
       "      <td>58.0</td>\n",
       "      <td>334</td>\n",
       "      <td>4.20</td>\n",
       "      <td>4.23</td>\n",
       "      <td>2.63</td>\n",
       "    </tr>\n",
       "    <tr>\n",
       "      <th>4</th>\n",
       "      <td>0.31</td>\n",
       "      <td>Good</td>\n",
       "      <td>J</td>\n",
       "      <td>SI2</td>\n",
       "      <td>63.3</td>\n",
       "      <td>58.0</td>\n",
       "      <td>335</td>\n",
       "      <td>4.34</td>\n",
       "      <td>4.35</td>\n",
       "      <td>2.75</td>\n",
       "    </tr>\n",
       "  </tbody>\n",
       "</table>\n",
       "</div>"
      ],
      "text/plain": [
       "   carat      cut color clarity  depth  table  price     x     y     z\n",
       "0   0.23    Ideal     E     SI2   61.5   55.0    326  3.95  3.98  2.43\n",
       "1   0.21  Premium     E     SI1   59.8   61.0    326  3.89  3.84  2.31\n",
       "2   0.23     Good     E     VS1   56.9   65.0    327  4.05  4.07  2.31\n",
       "3   0.29  Premium     I     VS2   62.4   58.0    334  4.20  4.23  2.63\n",
       "4   0.31     Good     J     SI2   63.3   58.0    335  4.34  4.35  2.75"
      ]
     },
     "execution_count": 80,
     "metadata": {},
     "output_type": "execute_result"
    }
   ],
   "source": [
    "df.head()"
   ]
  },
  {
   "cell_type": "code",
   "execution_count": 81,
   "id": "19f62cc6",
   "metadata": {
    "execution": {
     "iopub.execute_input": "2023-07-31T15:41:12.919481Z",
     "iopub.status.busy": "2023-07-31T15:41:12.919193Z",
     "iopub.status.idle": "2023-07-31T15:41:13.491063Z",
     "shell.execute_reply": "2023-07-31T15:41:13.489966Z"
    },
    "papermill": {
     "duration": 0.613504,
     "end_time": "2023-07-31T15:41:13.493258",
     "exception": false,
     "start_time": "2023-07-31T15:41:12.879754",
     "status": "completed"
    },
    "tags": []
   },
   "outputs": [
    {
     "data": {
      "text/plain": [
       "<Axes: xlabel='price', ylabel='Density'>"
      ]
     },
     "execution_count": 81,
     "metadata": {},
     "output_type": "execute_result"
    },
    {
     "data": {
      "image/png": "[encoded data removed]",
      "text/plain": [
       "<Figure size 640x480 with 1 Axes>"
      ]
     },
     "metadata": {},
     "output_type": "display_data"
    }
   ],
   "source": [
    "sns.kdeplot(df.price, fill = True)"
   ]
  },
  {
   "cell_type": "code",
   "execution_count": 82,
   "id": "472e1a30",
   "metadata": {
    "execution": {
     "iopub.execute_input": "2023-07-31T15:41:13.574871Z",
     "iopub.status.busy": "2023-07-31T15:41:13.573411Z",
     "iopub.status.idle": "2023-07-31T15:41:16.043776Z",
     "shell.execute_reply": "2023-07-31T15:41:16.042811Z"
    },
    "papermill": {
     "duration": 2.513062,
     "end_time": "2023-07-31T15:41:16.046204",
     "exception": false,
     "start_time": "2023-07-31T15:41:13.533142",
     "status": "completed"
    },
    "tags": []
   },
   "outputs": [
    {
     "name": "stderr",
     "output_type": "stream",
     "text": [
      "/opt/conda/lib/python3.10/site-packages/seaborn/axisgrid.py:118: UserWarning: The figure layout has changed to tight\n",
      "  self._figure.tight_layout(*args, **kwargs)\n"
     ]
    },
    {
     "data": {
      "image/png": "[encoded data removed]",
      "text/plain": [
       "<Figure size 560.75x500 with 1 Axes>"
      ]
     },
     "metadata": {},
     "output_type": "display_data"
    }
   ],
   "source": [
    "sns.catplot(x = \"cut\", y = \"price\", hue = \"color\", kind = \"point\", data = df);"
   ]
  },
  {
   "cell_type": "code",
   "execution_count": 83,
   "id": "563225eb",
   "metadata": {
    "execution": {
     "iopub.execute_input": "2023-07-31T15:41:16.131091Z",
     "iopub.status.busy": "2023-07-31T15:41:16.130683Z",
     "iopub.status.idle": "2023-07-31T15:41:16.134980Z",
     "shell.execute_reply": "2023-07-31T15:41:16.134118Z"
    },
    "papermill": {
     "duration": 0.049676,
     "end_time": "2023-07-31T15:41:16.137047",
     "exception": false,
     "start_time": "2023-07-31T15:41:16.087371",
     "status": "completed"
    },
    "tags": []
   },
   "outputs": [],
   "source": [
    "# boxplot"
   ]
  },
  {
   "cell_type": "code",
   "execution_count": 84,
   "id": "0435a354",
   "metadata": {
    "execution": {
     "iopub.execute_input": "2023-07-31T15:41:16.218806Z",
     "iopub.status.busy": "2023-07-31T15:41:16.217760Z",
     "iopub.status.idle": "2023-07-31T15:41:16.756853Z",
     "shell.execute_reply": "2023-07-31T15:41:16.755894Z"
    },
    "papermill": {
     "duration": 0.582815,
     "end_time": "2023-07-31T15:41:16.759426",
     "exception": false,
     "start_time": "2023-07-31T15:41:16.176611",
     "status": "completed"
    },
    "tags": []
   },
   "outputs": [
    {
     "data": {
      "text/html": [
       "<div>\n",
       "<style scoped>\n",
       "    .dataframe tbody tr th:only-of-type {\n",
       "        vertical-align: middle;\n",
       "    }\n",
       "\n",
       "    .dataframe tbody tr th {\n",
       "        vertical-align: top;\n",
       "    }\n",
       "\n",
       "    .dataframe thead th {\n",
       "        text-align: right;\n",
       "    }\n",
       "</style>\n",
       "<table border=\"1\" class=\"dataframe\">\n",
       "  <thead>\n",
       "    <tr style=\"text-align: right;\">\n",
       "      <th></th>\n",
       "      <th>total_bill</th>\n",
       "      <th>tip</th>\n",
       "      <th>sex</th>\n",
       "      <th>smoker</th>\n",
       "      <th>day</th>\n",
       "      <th>time</th>\n",
       "      <th>size</th>\n",
       "    </tr>\n",
       "  </thead>\n",
       "  <tbody>\n",
       "    <tr>\n",
       "      <th>0</th>\n",
       "      <td>16.99</td>\n",
       "      <td>1.01</td>\n",
       "      <td>Female</td>\n",
       "      <td>No</td>\n",
       "      <td>Sun</td>\n",
       "      <td>Dinner</td>\n",
       "      <td>2</td>\n",
       "    </tr>\n",
       "    <tr>\n",
       "      <th>1</th>\n",
       "      <td>10.34</td>\n",
       "      <td>1.66</td>\n",
       "      <td>Male</td>\n",
       "      <td>No</td>\n",
       "      <td>Sun</td>\n",
       "      <td>Dinner</td>\n",
       "      <td>3</td>\n",
       "    </tr>\n",
       "    <tr>\n",
       "      <th>2</th>\n",
       "      <td>21.01</td>\n",
       "      <td>3.50</td>\n",
       "      <td>Male</td>\n",
       "      <td>No</td>\n",
       "      <td>Sun</td>\n",
       "      <td>Dinner</td>\n",
       "      <td>3</td>\n",
       "    </tr>\n",
       "    <tr>\n",
       "      <th>3</th>\n",
       "      <td>23.68</td>\n",
       "      <td>3.31</td>\n",
       "      <td>Male</td>\n",
       "      <td>No</td>\n",
       "      <td>Sun</td>\n",
       "      <td>Dinner</td>\n",
       "      <td>2</td>\n",
       "    </tr>\n",
       "    <tr>\n",
       "      <th>4</th>\n",
       "      <td>24.59</td>\n",
       "      <td>3.61</td>\n",
       "      <td>Female</td>\n",
       "      <td>No</td>\n",
       "      <td>Sun</td>\n",
       "      <td>Dinner</td>\n",
       "      <td>4</td>\n",
       "    </tr>\n",
       "  </tbody>\n",
       "</table>\n",
       "</div>"
      ],
      "text/plain": [
       "   total_bill   tip     sex smoker  day    time  size\n",
       "0       16.99  1.01  Female     No  Sun  Dinner     2\n",
       "1       10.34  1.66    Male     No  Sun  Dinner     3\n",
       "2       21.01  3.50    Male     No  Sun  Dinner     3\n",
       "3       23.68  3.31    Male     No  Sun  Dinner     2\n",
       "4       24.59  3.61  Female     No  Sun  Dinner     4"
      ]
     },
     "execution_count": 84,
     "metadata": {},
     "output_type": "execute_result"
    }
   ],
   "source": [
    "import seaborn as sns\n",
    "tips = sns.load_dataset(\"tips\")\n",
    "df = tips.copy()\n",
    "df.head()"
   ]
  },
  {
   "cell_type": "code",
   "execution_count": 85,
   "id": "ac0224fd",
   "metadata": {
    "execution": {
     "iopub.execute_input": "2023-07-31T15:41:16.848673Z",
     "iopub.status.busy": "2023-07-31T15:41:16.847788Z",
     "iopub.status.idle": "2023-07-31T15:41:16.870704Z",
     "shell.execute_reply": "2023-07-31T15:41:16.869523Z"
    },
    "papermill": {
     "duration": 0.068701,
     "end_time": "2023-07-31T15:41:16.872904",
     "exception": false,
     "start_time": "2023-07-31T15:41:16.804203",
     "status": "completed"
    },
    "tags": []
   },
   "outputs": [
    {
     "data": {
      "text/html": [
       "<div>\n",
       "<style scoped>\n",
       "    .dataframe tbody tr th:only-of-type {\n",
       "        vertical-align: middle;\n",
       "    }\n",
       "\n",
       "    .dataframe tbody tr th {\n",
       "        vertical-align: top;\n",
       "    }\n",
       "\n",
       "    .dataframe thead th {\n",
       "        text-align: right;\n",
       "    }\n",
       "</style>\n",
       "<table border=\"1\" class=\"dataframe\">\n",
       "  <thead>\n",
       "    <tr style=\"text-align: right;\">\n",
       "      <th></th>\n",
       "      <th>count</th>\n",
       "      <th>mean</th>\n",
       "      <th>std</th>\n",
       "      <th>min</th>\n",
       "      <th>25%</th>\n",
       "      <th>50%</th>\n",
       "      <th>75%</th>\n",
       "      <th>max</th>\n",
       "    </tr>\n",
       "  </thead>\n",
       "  <tbody>\n",
       "    <tr>\n",
       "      <th>total_bill</th>\n",
       "      <td>244.0</td>\n",
       "      <td>19.785943</td>\n",
       "      <td>8.902412</td>\n",
       "      <td>3.07</td>\n",
       "      <td>13.3475</td>\n",
       "      <td>17.795</td>\n",
       "      <td>24.1275</td>\n",
       "      <td>50.81</td>\n",
       "    </tr>\n",
       "    <tr>\n",
       "      <th>tip</th>\n",
       "      <td>244.0</td>\n",
       "      <td>2.998279</td>\n",
       "      <td>1.383638</td>\n",
       "      <td>1.00</td>\n",
       "      <td>2.0000</td>\n",
       "      <td>2.900</td>\n",
       "      <td>3.5625</td>\n",
       "      <td>10.00</td>\n",
       "    </tr>\n",
       "    <tr>\n",
       "      <th>size</th>\n",
       "      <td>244.0</td>\n",
       "      <td>2.569672</td>\n",
       "      <td>0.951100</td>\n",
       "      <td>1.00</td>\n",
       "      <td>2.0000</td>\n",
       "      <td>2.000</td>\n",
       "      <td>3.0000</td>\n",
       "      <td>6.00</td>\n",
       "    </tr>\n",
       "  </tbody>\n",
       "</table>\n",
       "</div>"
      ],
      "text/plain": [
       "            count       mean       std   min      25%     50%      75%    max\n",
       "total_bill  244.0  19.785943  8.902412  3.07  13.3475  17.795  24.1275  50.81\n",
       "tip         244.0   2.998279  1.383638  1.00   2.0000   2.900   3.5625  10.00\n",
       "size        244.0   2.569672  0.951100  1.00   2.0000   2.000   3.0000   6.00"
      ]
     },
     "execution_count": 85,
     "metadata": {},
     "output_type": "execute_result"
    }
   ],
   "source": [
    "df.describe().T"
   ]
  },
  {
   "cell_type": "code",
   "execution_count": 86,
   "id": "002221d0",
   "metadata": {
    "execution": {
     "iopub.execute_input": "2023-07-31T15:41:16.957661Z",
     "iopub.status.busy": "2023-07-31T15:41:16.956827Z",
     "iopub.status.idle": "2023-07-31T15:41:16.965091Z",
     "shell.execute_reply": "2023-07-31T15:41:16.964112Z"
    },
    "papermill": {
     "duration": 0.051995,
     "end_time": "2023-07-31T15:41:16.966986",
     "exception": false,
     "start_time": "2023-07-31T15:41:16.914991",
     "status": "completed"
    },
    "tags": []
   },
   "outputs": [
    {
     "data": {
      "text/plain": [
       "Male      157\n",
       "Female     87\n",
       "Name: sex, dtype: int64"
      ]
     },
     "execution_count": 86,
     "metadata": {},
     "output_type": "execute_result"
    }
   ],
   "source": [
    "df[\"sex\"].value_counts()"
   ]
  },
  {
   "cell_type": "code",
   "execution_count": 87,
   "id": "772a34d1",
   "metadata": {
    "execution": {
     "iopub.execute_input": "2023-07-31T15:41:17.050121Z",
     "iopub.status.busy": "2023-07-31T15:41:17.049253Z",
     "iopub.status.idle": "2023-07-31T15:41:17.057568Z",
     "shell.execute_reply": "2023-07-31T15:41:17.056587Z"
    },
    "papermill": {
     "duration": 0.05225,
     "end_time": "2023-07-31T15:41:17.059531",
     "exception": false,
     "start_time": "2023-07-31T15:41:17.007281",
     "status": "completed"
    },
    "tags": []
   },
   "outputs": [
    {
     "data": {
      "text/plain": [
       "No     151\n",
       "Yes     93\n",
       "Name: smoker, dtype: int64"
      ]
     },
     "execution_count": 87,
     "metadata": {},
     "output_type": "execute_result"
    }
   ],
   "source": [
    "df[\"smoker\"].value_counts()"
   ]
  },
  {
   "cell_type": "code",
   "execution_count": 88,
   "id": "e7970589",
   "metadata": {
    "execution": {
     "iopub.execute_input": "2023-07-31T15:41:17.145109Z",
     "iopub.status.busy": "2023-07-31T15:41:17.144238Z",
     "iopub.status.idle": "2023-07-31T15:41:17.152346Z",
     "shell.execute_reply": "2023-07-31T15:41:17.151422Z"
    },
    "papermill": {
     "duration": 0.052811,
     "end_time": "2023-07-31T15:41:17.154317",
     "exception": false,
     "start_time": "2023-07-31T15:41:17.101506",
     "status": "completed"
    },
    "tags": []
   },
   "outputs": [
    {
     "data": {
      "text/plain": [
       "Sat     87\n",
       "Sun     76\n",
       "Thur    62\n",
       "Fri     19\n",
       "Name: day, dtype: int64"
      ]
     },
     "execution_count": 88,
     "metadata": {},
     "output_type": "execute_result"
    }
   ],
   "source": [
    "df[\"day\"].value_counts()"
   ]
  },
  {
   "cell_type": "code",
   "execution_count": 89,
   "id": "c2239af9",
   "metadata": {
    "execution": {
     "iopub.execute_input": "2023-07-31T15:41:17.238573Z",
     "iopub.status.busy": "2023-07-31T15:41:17.237741Z",
     "iopub.status.idle": "2023-07-31T15:41:17.246038Z",
     "shell.execute_reply": "2023-07-31T15:41:17.245079Z"
    },
    "papermill": {
     "duration": 0.05277,
     "end_time": "2023-07-31T15:41:17.248004",
     "exception": false,
     "start_time": "2023-07-31T15:41:17.195234",
     "status": "completed"
    },
    "tags": []
   },
   "outputs": [
    {
     "data": {
      "text/plain": [
       "Dinner    176\n",
       "Lunch      68\n",
       "Name: time, dtype: int64"
      ]
     },
     "execution_count": 89,
     "metadata": {},
     "output_type": "execute_result"
    }
   ],
   "source": [
    "df[\"time\"].value_counts()"
   ]
  },
  {
   "cell_type": "code",
   "execution_count": 90,
   "id": "3263c20e",
   "metadata": {
    "execution": {
     "iopub.execute_input": "2023-07-31T15:41:17.331782Z",
     "iopub.status.busy": "2023-07-31T15:41:17.330952Z",
     "iopub.status.idle": "2023-07-31T15:41:17.529025Z",
     "shell.execute_reply": "2023-07-31T15:41:17.528100Z"
    },
    "papermill": {
     "duration": 0.24246,
     "end_time": "2023-07-31T15:41:17.531321",
     "exception": false,
     "start_time": "2023-07-31T15:41:17.288861",
     "status": "completed"
    },
    "tags": []
   },
   "outputs": [
    {
     "data": {
      "text/plain": [
       "<Axes: xlabel='total_bill'>"
      ]
     },
     "execution_count": 90,
     "metadata": {},
     "output_type": "execute_result"
    },
    {
     "data": {
      "image/png": "[encoded data removed]",
      "text/plain": [
       "<Figure size 640x480 with 1 Axes>"
      ]
     },
     "metadata": {},
     "output_type": "display_data"
    }
   ],
   "source": [
    "sns.boxplot(x = df[\"total_bill\"])"
   ]
  },
  {
   "cell_type": "code",
   "execution_count": 91,
   "id": "439fefc1",
   "metadata": {
    "execution": {
     "iopub.execute_input": "2023-07-31T15:41:17.616496Z",
     "iopub.status.busy": "2023-07-31T15:41:17.615796Z",
     "iopub.status.idle": "2023-07-31T15:41:17.638771Z",
     "shell.execute_reply": "2023-07-31T15:41:17.637831Z"
    },
    "papermill": {
     "duration": 0.067817,
     "end_time": "2023-07-31T15:41:17.641012",
     "exception": false,
     "start_time": "2023-07-31T15:41:17.573195",
     "status": "completed"
    },
    "tags": []
   },
   "outputs": [
    {
     "data": {
      "text/html": [
       "<div>\n",
       "<style scoped>\n",
       "    .dataframe tbody tr th:only-of-type {\n",
       "        vertical-align: middle;\n",
       "    }\n",
       "\n",
       "    .dataframe tbody tr th {\n",
       "        vertical-align: top;\n",
       "    }\n",
       "\n",
       "    .dataframe thead th {\n",
       "        text-align: right;\n",
       "    }\n",
       "</style>\n",
       "<table border=\"1\" class=\"dataframe\">\n",
       "  <thead>\n",
       "    <tr style=\"text-align: right;\">\n",
       "      <th></th>\n",
       "      <th>count</th>\n",
       "      <th>mean</th>\n",
       "      <th>std</th>\n",
       "      <th>min</th>\n",
       "      <th>25%</th>\n",
       "      <th>50%</th>\n",
       "      <th>75%</th>\n",
       "      <th>max</th>\n",
       "    </tr>\n",
       "  </thead>\n",
       "  <tbody>\n",
       "    <tr>\n",
       "      <th>total_bill</th>\n",
       "      <td>244.0</td>\n",
       "      <td>19.785943</td>\n",
       "      <td>8.902412</td>\n",
       "      <td>3.07</td>\n",
       "      <td>13.3475</td>\n",
       "      <td>17.795</td>\n",
       "      <td>24.1275</td>\n",
       "      <td>50.81</td>\n",
       "    </tr>\n",
       "    <tr>\n",
       "      <th>tip</th>\n",
       "      <td>244.0</td>\n",
       "      <td>2.998279</td>\n",
       "      <td>1.383638</td>\n",
       "      <td>1.00</td>\n",
       "      <td>2.0000</td>\n",
       "      <td>2.900</td>\n",
       "      <td>3.5625</td>\n",
       "      <td>10.00</td>\n",
       "    </tr>\n",
       "    <tr>\n",
       "      <th>size</th>\n",
       "      <td>244.0</td>\n",
       "      <td>2.569672</td>\n",
       "      <td>0.951100</td>\n",
       "      <td>1.00</td>\n",
       "      <td>2.0000</td>\n",
       "      <td>2.000</td>\n",
       "      <td>3.0000</td>\n",
       "      <td>6.00</td>\n",
       "    </tr>\n",
       "  </tbody>\n",
       "</table>\n",
       "</div>"
      ],
      "text/plain": [
       "            count       mean       std   min      25%     50%      75%    max\n",
       "total_bill  244.0  19.785943  8.902412  3.07  13.3475  17.795  24.1275  50.81\n",
       "tip         244.0   2.998279  1.383638  1.00   2.0000   2.900   3.5625  10.00\n",
       "size        244.0   2.569672  0.951100  1.00   2.0000   2.000   3.0000   6.00"
      ]
     },
     "execution_count": 91,
     "metadata": {},
     "output_type": "execute_result"
    }
   ],
   "source": [
    "df.describe().T"
   ]
  },
  {
   "cell_type": "code",
   "execution_count": 92,
   "id": "0ab7ef24",
   "metadata": {
    "execution": {
     "iopub.execute_input": "2023-07-31T15:41:17.726586Z",
     "iopub.status.busy": "2023-07-31T15:41:17.725978Z",
     "iopub.status.idle": "2023-07-31T15:41:17.979981Z",
     "shell.execute_reply": "2023-07-31T15:41:17.979045Z"
    },
    "papermill": {
     "duration": 0.299125,
     "end_time": "2023-07-31T15:41:17.982275",
     "exception": false,
     "start_time": "2023-07-31T15:41:17.683150",
     "status": "completed"
    },
    "tags": []
   },
   "outputs": [
    {
     "data": {
      "text/plain": [
       "<Axes: xlabel='day', ylabel='total_bill'>"
      ]
     },
     "execution_count": 92,
     "metadata": {},
     "output_type": "execute_result"
    },
    {
     "data": {
      "image/png": "[encoded data removed]",
      "text/plain": [
       "<Figure size 640x480 with 1 Axes>"
      ]
     },
     "metadata": {},
     "output_type": "display_data"
    }
   ],
   "source": [
    "sns.boxplot(x = \"day\", y = \"total_bill\", data = df)"
   ]
  },
  {
   "cell_type": "code",
   "execution_count": 93,
   "id": "8527f11c",
   "metadata": {
    "execution": {
     "iopub.execute_input": "2023-07-31T15:41:18.068168Z",
     "iopub.status.busy": "2023-07-31T15:41:18.067829Z",
     "iopub.status.idle": "2023-07-31T15:41:18.077132Z",
     "shell.execute_reply": "2023-07-31T15:41:18.076064Z"
    },
    "papermill": {
     "duration": 0.054851,
     "end_time": "2023-07-31T15:41:18.079298",
     "exception": false,
     "start_time": "2023-07-31T15:41:18.024447",
     "status": "completed"
    },
    "tags": []
   },
   "outputs": [],
   "source": [
    "?sns.boxplot"
   ]
  },
  {
   "cell_type": "code",
   "execution_count": 94,
   "id": "04660248",
   "metadata": {
    "execution": {
     "iopub.execute_input": "2023-07-31T15:41:18.167560Z",
     "iopub.status.busy": "2023-07-31T15:41:18.167229Z",
     "iopub.status.idle": "2023-07-31T15:41:18.392175Z",
     "shell.execute_reply": "2023-07-31T15:41:18.391240Z"
    },
    "papermill": {
     "duration": 0.270836,
     "end_time": "2023-07-31T15:41:18.394398",
     "exception": false,
     "start_time": "2023-07-31T15:41:18.123562",
     "status": "completed"
    },
    "tags": []
   },
   "outputs": [
    {
     "data": {
      "text/plain": [
       "<Axes: xlabel='time', ylabel='total_bill'>"
      ]
     },
     "execution_count": 94,
     "metadata": {},
     "output_type": "execute_result"
    },
    {
     "data": {
      "image/png": "[encoded data removed]",
      "text/plain": [
       "<Figure size 640x480 with 1 Axes>"
      ]
     },
     "metadata": {},
     "output_type": "display_data"
    }
   ],
   "source": [
    "sns.boxplot(x = \"time\", y = \"total_bill\", data = df)"
   ]
  },
  {
   "cell_type": "code",
   "execution_count": 95,
   "id": "a3d3102b",
   "metadata": {
    "execution": {
     "iopub.execute_input": "2023-07-31T15:41:18.481475Z",
     "iopub.status.busy": "2023-07-31T15:41:18.480538Z",
     "iopub.status.idle": "2023-07-31T15:41:18.919898Z",
     "shell.execute_reply": "2023-07-31T15:41:18.919018Z"
    },
    "papermill": {
     "duration": 0.485231,
     "end_time": "2023-07-31T15:41:18.922236",
     "exception": false,
     "start_time": "2023-07-31T15:41:18.437005",
     "status": "completed"
    },
    "tags": []
   },
   "outputs": [
    {
     "data": {
      "text/plain": [
       "<Axes: xlabel='size', ylabel='total_bill'>"
      ]
     },
     "execution_count": 95,
     "metadata": {},
     "output_type": "execute_result"
    },
    {
     "data": {
      "image/png": "[encoded data removed]",
      "text/plain": [
       "<Figure size 640x480 with 1 Axes>"
      ]
     },
     "metadata": {},
     "output_type": "display_data"
    }
   ],
   "source": [
    "sns.boxplot(x = \"size\", y = \"total_bill\", data = df)"
   ]
  },
  {
   "cell_type": "code",
   "execution_count": 96,
   "id": "2fd45155",
   "metadata": {
    "execution": {
     "iopub.execute_input": "2023-07-31T15:41:19.054583Z",
     "iopub.status.busy": "2023-07-31T15:41:19.054224Z",
     "iopub.status.idle": "2023-07-31T15:41:19.636975Z",
     "shell.execute_reply": "2023-07-31T15:41:19.635979Z"
    },
    "papermill": {
     "duration": 0.673708,
     "end_time": "2023-07-31T15:41:19.639131",
     "exception": false,
     "start_time": "2023-07-31T15:41:18.965423",
     "status": "completed"
    },
    "tags": []
   },
   "outputs": [
    {
     "data": {
      "text/plain": [
       "<Axes: xlabel='day', ylabel='total_bill'>"
      ]
     },
     "execution_count": 96,
     "metadata": {},
     "output_type": "execute_result"
    },
    {
     "data": {
      "image/png": "[encoded data removed]",
      "text/plain": [
       "<Figure size 640x480 with 1 Axes>"
      ]
     },
     "metadata": {},
     "output_type": "display_data"
    }
   ],
   "source": [
    "sns.boxplot(x = \"day\", y = \"total_bill\", hue = \"sex\", data = df)"
   ]
  },
  {
   "cell_type": "code",
   "execution_count": 97,
   "id": "3cebdf06",
   "metadata": {
    "execution": {
     "iopub.execute_input": "2023-07-31T15:41:19.727489Z",
     "iopub.status.busy": "2023-07-31T15:41:19.726888Z",
     "iopub.status.idle": "2023-07-31T15:41:19.731778Z",
     "shell.execute_reply": "2023-07-31T15:41:19.730804Z"
    },
    "papermill": {
     "duration": 0.050922,
     "end_time": "2023-07-31T15:41:19.733797",
     "exception": false,
     "start_time": "2023-07-31T15:41:19.682875",
     "status": "completed"
    },
    "tags": []
   },
   "outputs": [],
   "source": [
    "# violin plot"
   ]
  },
  {
   "cell_type": "code",
   "execution_count": 98,
   "id": "33dc4477",
   "metadata": {
    "execution": {
     "iopub.execute_input": "2023-07-31T15:41:19.822862Z",
     "iopub.status.busy": "2023-07-31T15:41:19.822082Z",
     "iopub.status.idle": "2023-07-31T15:41:20.135847Z",
     "shell.execute_reply": "2023-07-31T15:41:20.134948Z"
    },
    "papermill": {
     "duration": 0.360834,
     "end_time": "2023-07-31T15:41:20.138123",
     "exception": false,
     "start_time": "2023-07-31T15:41:19.777289",
     "status": "completed"
    },
    "tags": []
   },
   "outputs": [
    {
     "name": "stderr",
     "output_type": "stream",
     "text": [
      "/opt/conda/lib/python3.10/site-packages/seaborn/axisgrid.py:118: UserWarning: The figure layout has changed to tight\n",
      "  self._figure.tight_layout(*args, **kwargs)\n"
     ]
    },
    {
     "data": {
      "text/plain": [
       "<seaborn.axisgrid.FacetGrid at 0x7d40d44399f0>"
      ]
     },
     "execution_count": 98,
     "metadata": {},
     "output_type": "execute_result"
    },
    {
     "data": {
      "image/png": "[encoded data removed]",
      "text/plain": [
       "<Figure size 500x500 with 1 Axes>"
      ]
     },
     "metadata": {},
     "output_type": "display_data"
    }
   ],
   "source": [
    "sns.catplot(y = \"total_bill\", kind = \"violin\", data =df)"
   ]
  },
  {
   "cell_type": "code",
   "execution_count": 99,
   "id": "518617af",
   "metadata": {
    "execution": {
     "iopub.execute_input": "2023-07-31T15:41:20.229325Z",
     "iopub.status.busy": "2023-07-31T15:41:20.228529Z",
     "iopub.status.idle": "2023-07-31T15:41:20.625818Z",
     "shell.execute_reply": "2023-07-31T15:41:20.624941Z"
    },
    "papermill": {
     "duration": 0.444514,
     "end_time": "2023-07-31T15:41:20.627747",
     "exception": false,
     "start_time": "2023-07-31T15:41:20.183233",
     "status": "completed"
    },
    "tags": []
   },
   "outputs": [
    {
     "name": "stderr",
     "output_type": "stream",
     "text": [
      "/opt/conda/lib/python3.10/site-packages/seaborn/axisgrid.py:118: UserWarning: The figure layout has changed to tight\n",
      "  self._figure.tight_layout(*args, **kwargs)\n"
     ]
    },
    {
     "data": {
      "text/plain": [
       "<seaborn.axisgrid.FacetGrid at 0x7d40d1b21b10>"
      ]
     },
     "execution_count": 99,
     "metadata": {},
     "output_type": "execute_result"
    },
    {
     "data": {
      "image/png": "[encoded data removed]",
      "text/plain": [
       "<Figure size 500x500 with 1 Axes>"
      ]
     },
     "metadata": {},
     "output_type": "display_data"
    }
   ],
   "source": [
    "sns.catplot(x = \"day\", y = \"total_bill\", kind = \"violin\", data =df)"
   ]
  },
  {
   "cell_type": "code",
   "execution_count": 100,
   "id": "23ed60bf",
   "metadata": {
    "execution": {
     "iopub.execute_input": "2023-07-31T15:41:20.720119Z",
     "iopub.status.busy": "2023-07-31T15:41:20.719266Z",
     "iopub.status.idle": "2023-07-31T15:41:21.421976Z",
     "shell.execute_reply": "2023-07-31T15:41:21.421017Z"
    },
    "papermill": {
     "duration": 0.751032,
     "end_time": "2023-07-31T15:41:21.424148",
     "exception": false,
     "start_time": "2023-07-31T15:41:20.673116",
     "status": "completed"
    },
    "tags": []
   },
   "outputs": [
    {
     "name": "stderr",
     "output_type": "stream",
     "text": [
      "/opt/conda/lib/python3.10/site-packages/seaborn/axisgrid.py:118: UserWarning: The figure layout has changed to tight\n",
      "  self._figure.tight_layout(*args, **kwargs)\n"
     ]
    },
    {
     "data": {
      "text/plain": [
       "<seaborn.axisgrid.FacetGrid at 0x7d40d44c8dc0>"
      ]
     },
     "execution_count": 100,
     "metadata": {},
     "output_type": "execute_result"
    },
    {
     "data": {
      "image/png": "[encoded data removed]",
      "text/plain": [
       "<Figure size 600.25x500 with 1 Axes>"
      ]
     },
     "metadata": {},
     "output_type": "display_data"
    }
   ],
   "source": [
    "sns.catplot(x = \"day\", y = \"total_bill\", hue = \"sex\", kind = \"violin\", data =df)"
   ]
  },
  {
   "cell_type": "code",
   "execution_count": 101,
   "id": "36a7ef5f",
   "metadata": {
    "execution": {
     "iopub.execute_input": "2023-07-31T15:41:21.519012Z",
     "iopub.status.busy": "2023-07-31T15:41:21.518199Z",
     "iopub.status.idle": "2023-07-31T15:41:21.522826Z",
     "shell.execute_reply": "2023-07-31T15:41:21.521892Z"
    },
    "papermill": {
     "duration": 0.054013,
     "end_time": "2023-07-31T15:41:21.524739",
     "exception": false,
     "start_time": "2023-07-31T15:41:21.470726",
     "status": "completed"
    },
    "tags": []
   },
   "outputs": [],
   "source": [
    "# correlation graphs"
   ]
  },
  {
   "cell_type": "code",
   "execution_count": null,
   "id": "c6060202",
   "metadata": {
    "papermill": {
     "duration": 0.045741,
     "end_time": "2023-07-31T15:41:21.616636",
     "exception": false,
     "start_time": "2023-07-31T15:41:21.570895",
     "status": "completed"
    },
    "tags": []
   },
   "outputs": [],
   "source": []
  },
  {
   "cell_type": "code",
   "execution_count": 102,
   "id": "b283c184",
   "metadata": {
    "execution": {
     "iopub.execute_input": "2023-07-31T15:41:21.711138Z",
     "iopub.status.busy": "2023-07-31T15:41:21.710741Z",
     "iopub.status.idle": "2023-07-31T15:41:21.714954Z",
     "shell.execute_reply": "2023-07-31T15:41:21.714085Z"
    },
    "papermill": {
     "duration": 0.053846,
     "end_time": "2023-07-31T15:41:21.716935",
     "exception": false,
     "start_time": "2023-07-31T15:41:21.663089",
     "status": "completed"
    },
    "tags": []
   },
   "outputs": [],
   "source": [
    "# scatterplot"
   ]
  }
 ],
 "metadata": {
  "kernelspec": {
   "display_name": "Python 3",
   "language": "python",
   "name": "python3"
  },
  "language_info": {
   "codemirror_mode": {
    "name": "ipython",
    "version": 3
   },
   "file_extension": ".py",
   "mimetype": "text/x-python",
   "name": "python",
   "nbconvert_exporter": "python",
   "pygments_lexer": "ipython3",
   "version": "3.10.12"
  },
  "papermill": {
   "default_parameters": {},
   "duration": 38.646801,
   "end_time": "2023-07-31T15:41:22.584818",
   "environment_variables": {},
   "exception": null,
   "input_path": "__notebook__.ipynb",
   "output_path": "__notebook__.ipynb",
   "parameters": {},
   "start_time": "2023-07-31T15:40:43.938017",
   "version": "2.4.0"
  }
 },
 "nbformat": 4,
 "nbformat_minor": 5
}
